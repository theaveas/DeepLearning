{
  "nbformat": 4,
  "nbformat_minor": 0,
  "metadata": {
    "colab": {
      "name": "chp02_dlwithpy.ipynb",
      "provenance": [],
      "collapsed_sections": [],
      "authorship_tag": "ABX9TyNFMN4RGdavcvNFiBhpQBVV",
      "include_colab_link": true
    },
    "kernelspec": {
      "name": "python3",
      "display_name": "Python 3"
    },
    "language_info": {
      "name": "python"
    }
  },
  "cells": [
    {
      "cell_type": "markdown",
      "metadata": {
        "id": "view-in-github",
        "colab_type": "text"
      },
      "source": [
        "<a href=\"https://colab.research.google.com/github/theaveas/DeepLearning/blob/main/DLwithPython/chp02_dlwithpy.ipynb\" target=\"_parent\"><img src=\"https://colab.research.google.com/assets/colab-badge.svg\" alt=\"Open In Colab\"/></a>"
      ]
    },
    {
      "cell_type": "markdown",
      "source": [
        "# The Mathematical building blocks of Neural Network\n",
        "This notebook is a summary / self-notes for Chapter 2 [Deep Learning With Python - by Francois Chollet, Second Edition](https://www.amazon.com/Learning-Python-Second-Fran%C3%A7ois-Chollet/dp/1617296864/ref=sr_1_3?crid=G0ITEJNSAY1K&keywords=deep+learning+with+python+2nd+edition&qid=1644115977&s=books&sprefix=deep+learning+with+pyt%2Cstripbooks%2C518&sr=1-3).\\\n",
        "This notebook code concept and diagrams are borrowed from the book and reproduced by me"
      ],
      "metadata": {
        "id": "MmFVLPRs73wk"
      }
    },
    {
      "cell_type": "markdown",
      "source": [
        "## A first look at a neural network\n",
        "#### Loading the mnist dataset in [Keras](https://keras.io/)"
      ],
      "metadata": {
        "id": "LRuM7n5x9KL5"
      }
    },
    {
      "cell_type": "code",
      "source": [
        "# import libraries\n",
        "from tensorflow.keras.datasets import mnist\n",
        "\n",
        "# load the dataset\n",
        "(X_train, y_train), (X_test, y_test) = mnist.load_data()"
      ],
      "metadata": {
        "id": "BawyQ0K47zf3"
      },
      "execution_count": null,
      "outputs": []
    },
    {
      "cell_type": "markdown",
      "source": [
        "#### Train set, and Test set"
      ],
      "metadata": {
        "id": "t6kM9dYk_KYU"
      }
    },
    {
      "cell_type": "code",
      "execution_count": null,
      "metadata": {
        "colab": {
          "base_uri": "https://localhost:8080/"
        },
        "id": "mCTFrvBJ7qm1",
        "outputId": "725a0119-9428-4c24-a8b9-5eda393cad9d"
      },
      "outputs": [
        {
          "output_type": "stream",
          "name": "stdout",
          "text": [
            "(60000, 784)\n",
            "60000\n"
          ]
        }
      ],
      "source": [
        "# inspect training set \"shape\"\n",
        "print(X_train.shape)\n",
        "\n",
        "# length of training set\n",
        "print(len(X_train))"
      ]
    },
    {
      "cell_type": "code",
      "source": [
        "# inspect test set \"shape\"\n",
        "print(y_test.shape)\n",
        "\n",
        "# length of test set\n",
        "print(len(y_test))"
      ],
      "metadata": {
        "colab": {
          "base_uri": "https://localhost:8080/"
        },
        "id": "Q_CcF2X8-bZi",
        "outputId": "06be3e37-2e99-4b77-a445-22e577c3d8e6"
      },
      "execution_count": null,
      "outputs": [
        {
          "output_type": "stream",
          "name": "stdout",
          "text": [
            "(10000,)\n",
            "10000\n"
          ]
        }
      ]
    },
    {
      "cell_type": "markdown",
      "source": [
        "#### Network architecture"
      ],
      "metadata": {
        "id": "KlVIqLzL_YSj"
      }
    },
    {
      "cell_type": "code",
      "source": [
        "# import libraries\n",
        "from tensorflow import keras\n",
        "from tensorflow.keras import layers"
      ],
      "metadata": {
        "id": "0r1dWH7m-jyg"
      },
      "execution_count": null,
      "outputs": []
    },
    {
      "cell_type": "markdown",
      "source": [
        "#### Sequential model\n",
        "The core component of neural network is **Layers**. \\\n",
        "Normaly a NN architecture contains one **Input Layer**, two or more **Hiddden Layers** and one **Output Layer**.\\\n",
        "To construct this architecture we can use `Keras` API [Sequential](https://keras.io/guides/sequential_model/)"
      ],
      "metadata": {
        "id": "cy41hr-cTyEZ"
      }
    },
    {
      "cell_type": "code",
      "source": [
        "# building network layers\n",
        "nn = keras.Sequential([\n",
        "                       layers.Dense(512, activation='relu'),\n",
        "                       layers.Dense(10, activation='softmax')\n",
        "])"
      ],
      "metadata": {
        "id": "REJKD0IF_mYY"
      },
      "execution_count": null,
      "outputs": []
    },
    {
      "cell_type": "markdown",
      "source": [
        "#### Compile\n",
        "To training our neural net model we need to configure our model by chossing an `optimizer`, `loss function`, `matrics`."
      ],
      "metadata": {
        "id": "Y_qtsUHx_9Jd"
      }
    },
    {
      "cell_type": "code",
      "source": [
        "nn.compile(\n",
        "    optimizer='rmsprop',\n",
        "    loss='sparse_categorical_crossentropy',\n",
        "    metrics=['accuracy']\n",
        ")"
      ],
      "metadata": {
        "id": "cVvYU77U_7kj"
      },
      "execution_count": null,
      "outputs": []
    },
    {
      "cell_type": "markdown",
      "source": [
        "#### Preparing the image data"
      ],
      "metadata": {
        "id": "PGxGdF9QAT1I"
      }
    },
    {
      "cell_type": "code",
      "source": [
        "X_train = X_train.reshape((60000, 28*28)) \n",
        "X_train = X_train.astype('float32') / 255\n",
        "\n",
        "X_test = X_test.reshape((10000, 28*28))\n",
        "X_test = X_test.astype('float32') / 255"
      ],
      "metadata": {
        "id": "qXTO1pxnAQE8"
      },
      "execution_count": null,
      "outputs": []
    },
    {
      "cell_type": "markdown",
      "source": [
        "#### Fitting the model"
      ],
      "metadata": {
        "id": "HQqqpLNqAS-w"
      }
    },
    {
      "cell_type": "code",
      "source": [
        "nn.fit(X_train, y_train, batch_size=128, epochs=5)"
      ],
      "metadata": {
        "colab": {
          "base_uri": "https://localhost:8080/"
        },
        "id": "ZFfSIdHuBV87",
        "outputId": "7379a512-8a7e-4825-bf2b-3e1fb8051bba"
      },
      "execution_count": null,
      "outputs": [
        {
          "output_type": "stream",
          "name": "stdout",
          "text": [
            "Epoch 1/5\n",
            "469/469 [==============================] - 6s 11ms/step - loss: 2.3083 - accuracy: 0.1052\n",
            "Epoch 2/5\n",
            "469/469 [==============================] - 5s 11ms/step - loss: 2.3078 - accuracy: 0.1049\n",
            "Epoch 3/5\n",
            "469/469 [==============================] - 5s 11ms/step - loss: 2.3076 - accuracy: 0.1053\n",
            "Epoch 4/5\n",
            "469/469 [==============================] - 5s 11ms/step - loss: 2.3072 - accuracy: 0.1056\n",
            "Epoch 5/5\n",
            "469/469 [==============================] - 5s 11ms/step - loss: 2.3073 - accuracy: 0.1068\n"
          ]
        },
        {
          "output_type": "execute_result",
          "data": {
            "text/plain": [
              "<keras.callbacks.History at 0x7f51286be190>"
            ]
          },
          "metadata": {},
          "execution_count": 80
        }
      ]
    },
    {
      "cell_type": "markdown",
      "source": [
        "#### Evaluating the model on new data"
      ],
      "metadata": {
        "id": "kXlC39sOBn3F"
      }
    },
    {
      "cell_type": "code",
      "source": [
        "loss, accuracy = nn.evaluate(X_test, y_test)\n",
        "print(f'Test accuracy: {accuracy}')"
      ],
      "metadata": {
        "colab": {
          "base_uri": "https://localhost:8080/"
        },
        "id": "VdhuqX3wBexO",
        "outputId": "8324fe40-9a25-4d02-f212-bcb1fb7d9322"
      },
      "execution_count": null,
      "outputs": [
        {
          "output_type": "stream",
          "name": "stdout",
          "text": [
            "313/313 [==============================] - 1s 3ms/step - loss: 36.4386 - accuracy: 0.8512\n",
            "Test accuracy: 0.8511999845504761\n"
          ]
        }
      ]
    },
    {
      "cell_type": "markdown",
      "source": [
        "#### Using the model to make predictions"
      ],
      "metadata": {
        "id": "6V_FsByyBg5f"
      }
    },
    {
      "cell_type": "code",
      "source": [
        "# predict the first ten digits of test set\n",
        "test_digits = X_test[0:10]\n",
        "predictions = nn.predict(test_digits)\n",
        "print(f'Probabilitiy distribution: \\n{predictions[1]}')\n",
        "\n",
        "print(f'Highest distribution: {predictions[1].argmax()}')"
      ],
      "metadata": {
        "colab": {
          "base_uri": "https://localhost:8080/"
        },
        "id": "1c1NPkF8CLIX",
        "outputId": "daf97792-a1fb-4b20-9b4f-146a7d755f41"
      },
      "execution_count": null,
      "outputs": [
        {
          "output_type": "stream",
          "name": "stdout",
          "text": [
            "Probabilitiy distribution: \n",
            "[2.5063467e-03 1.3439555e-04 9.5684767e-01 1.6817063e-02 7.3816324e-08\n",
            " 8.7514184e-03 1.0703423e-02 2.8342479e-08 4.2394488e-03 8.7363944e-08]\n",
            "Highest distribution: 2\n"
          ]
        }
      ]
    },
    {
      "cell_type": "code",
      "source": [
        "# displaying the digit\n",
        "# import library\n",
        "from matplotlib import pyplot as plt\n",
        "\n",
        "# reloading the mnist dataset in Keras\n",
        "(X_train, y_train), (X_test, y_test) = mnist.load_data()\n",
        "\n",
        "digit = X_test[1]\n",
        "plt.imshow(digit, cmap=plt.cm.binary)\n",
        "plt.show()\n",
        "\n",
        "print('image label:', y_test[1])"
      ],
      "metadata": {
        "colab": {
          "base_uri": "https://localhost:8080/",
          "height": 282
        },
        "id": "nCKGebPyCwy6",
        "outputId": "17b17df2-d61f-47df-8eae-a3c83cdc57d6"
      },
      "execution_count": null,
      "outputs": [
        {
          "output_type": "display_data",
          "data": {
            "image/png": "[encoded data removed]",
            "text/plain": [
              "<Figure size 432x288 with 1 Axes>"
            ]
          },
          "metadata": {
            "needs_background": "light"
          }
        },
        {
          "output_type": "stream",
          "name": "stdout",
          "text": [
            "image label: 2\n"
          ]
        }
      ]
    },
    {
      "cell_type": "markdown",
      "source": [
        "## Data representation for neural network"
      ],
      "metadata": {
        "id": "CNt4oFwdNRLM"
      }
    },
    {
      "cell_type": "code",
      "source": [
        "# import library\n",
        "import numpy as np"
      ],
      "metadata": {
        "id": "dnDoAjlTB_ij"
      },
      "execution_count": null,
      "outputs": []
    },
    {
      "cell_type": "markdown",
      "source": [
        "#### Scalars (rank-0 tensor)\n",
        "A tensor that contains only one number."
      ],
      "metadata": {
        "id": "8FUcoirkN0ur"
      }
    },
    {
      "cell_type": "code",
      "source": [
        "x = np.array(8)\n",
        "print(x.ndim)"
      ],
      "metadata": {
        "colab": {
          "base_uri": "https://localhost:8080/"
        },
        "id": "j8vYcCabOP56",
        "outputId": "5362d0f4-3860-4806-bd72-d7587c56cfd5"
      },
      "execution_count": null,
      "outputs": [
        {
          "output_type": "stream",
          "name": "stdout",
          "text": [
            "0\n"
          ]
        }
      ]
    },
    {
      "cell_type": "markdown",
      "source": [
        "#### Vectors (rank-1 tensors)\n"
      ],
      "metadata": {
        "id": "QXxHIsxJOXAj"
      }
    },
    {
      "cell_type": "code",
      "source": [
        "x = np.array((8, 26))\n",
        "print(x.ndim)"
      ],
      "metadata": {
        "colab": {
          "base_uri": "https://localhost:8080/"
        },
        "id": "hiPQ0zxNOUZV",
        "outputId": "fc5dd5cf-bc47-4568-8497-e4e3d5f87cd7"
      },
      "execution_count": null,
      "outputs": [
        {
          "output_type": "stream",
          "name": "stdout",
          "text": [
            "1\n"
          ]
        }
      ]
    },
    {
      "cell_type": "markdown",
      "source": [
        "#### Matrices (rank-3 tensor)\n",
        "An array of an array.\\\n",
        "In some case, We also call as `rows` and `coluumns`. In neural networks **Matrices data** could be represent as **(sample, features)**"
      ],
      "metadata": {
        "id": "lee8721YPDe6"
      }
    },
    {
      "cell_type": "code",
      "source": [
        "x = np.array([[5, 78, 2, 34, 0],\n",
        "              [6, 79, 3, 35, 1],\n",
        "              [7, 80, 4, 36, 2]])\n",
        "print(x.ndim)"
      ],
      "metadata": {
        "colab": {
          "base_uri": "https://localhost:8080/"
        },
        "id": "FSmXB37gO7xy",
        "outputId": "63e87dd4-c2d6-4951-ae2d-c353f07aab6d"
      },
      "execution_count": null,
      "outputs": [
        {
          "output_type": "stream",
          "name": "stdout",
          "text": [
            "2\n"
          ]
        }
      ]
    },
    {
      "cell_type": "markdown",
      "source": [
        "#### High dimensionn tensor (Higher rank tensors)\n",
        "In neural network, A 3 dimension tensor could be represent as **Timeseries data** or **Sequence data** with the shape of **(samples, timesteps, features)**. A 4dimensional tensor could be represent as an **Image**, and we already seen in the previous training example-- **(sameple, widht, height, channels)**"
      ],
      "metadata": {
        "id": "YrZIYRDtPyXn"
      }
    },
    {
      "cell_type": "code",
      "source": [
        "x = np.array([[[5, 78, 2, 34, 0],\n",
        "               [6, 79, 3, 35, 1],\n",
        "               [7, 80, 4, 36, 2]],\n",
        "              [[5, 78, 2, 34, 0],\n",
        "               [6, 79, 3, 35, 1],\n",
        "               [7, 80, 4, 36, 2]],\n",
        "              [[5, 78, 2, 34, 0],\n",
        "               [6, 79, 3, 35, 1],\n",
        "               [7, 80, 4, 36, 2]]])\n",
        "print(x.ndim)"
      ],
      "metadata": {
        "colab": {
          "base_uri": "https://localhost:8080/"
        },
        "id": "kqdyomH6PwYi",
        "outputId": "ff4df7c0-af54-465b-a16e-b1b204d79d86"
      },
      "execution_count": null,
      "outputs": [
        {
          "output_type": "stream",
          "name": "stdout",
          "text": [
            "3\n"
          ]
        }
      ]
    },
    {
      "cell_type": "markdown",
      "source": [
        "#### Key attributes\n",
        "A tensor is defined by three key attribute: **number of axes**, **shape** and **data type**."
      ],
      "metadata": {
        "id": "3Qs5jOGfRpuQ"
      }
    },
    {
      "cell_type": "code",
      "source": [
        "print(f'number of axes: {x.ndim},\\n\\\n",
        "shape: {x.shape},\\n\\\n",
        "data type: {x.dtype}')"
      ],
      "metadata": {
        "id": "GOITFAIyRktQ",
        "colab": {
          "base_uri": "https://localhost:8080/"
        },
        "outputId": "479024fe-7bad-4e63-f80e-c9f10becfbfb"
      },
      "execution_count": null,
      "outputs": [
        {
          "output_type": "stream",
          "name": "stdout",
          "text": [
            "number of axes: 3,\n",
            "shape: (3, 3, 5),\n",
            "data type: int64\n"
          ]
        }
      ]
    },
    {
      "cell_type": "markdown",
      "source": [
        "## Manipulating tensors in Numpy\n",
        "In neural network, due to a huge dataset, using pure python to loop through each dataset to do a calculation need a lot of computation power and take a lot of time.\\\n",
        "By using **Numpy** Python built-in library we can use **basic linear algebra** easily without using for loop, This process call `Vectorization`."
      ],
      "metadata": {
        "id": "u-6WDLwbbcaN"
      }
    },
    {
      "cell_type": "code",
      "source": [
        "# load the dataset\n",
        "(X_train, y_train), (X_test, y_test) = mnist.load_data()"
      ],
      "metadata": {
        "id": "iHXP6wnzfu1M"
      },
      "execution_count": null,
      "outputs": []
    },
    {
      "cell_type": "markdown",
      "source": [
        "#### Slicing"
      ],
      "metadata": {
        "id": "64cnkAfhfziW"
      }
    },
    {
      "cell_type": "code",
      "source": [
        "my_slice = X_train[10:100]\n",
        "print(my_slice.shape)"
      ],
      "metadata": {
        "colab": {
          "base_uri": "https://localhost:8080/"
        },
        "id": "o9wyE5CxbEz1",
        "outputId": "6a5c5aee-10ec-49bf-bd74-d3f34b94ef4d"
      },
      "execution_count": null,
      "outputs": [
        {
          "output_type": "execute_result",
          "data": {
            "text/plain": [
              "(90, 28, 28)"
            ]
          },
          "metadata": {},
          "execution_count": 85
        }
      ]
    },
    {
      "cell_type": "markdown",
      "source": [
        "#### The notation of batch"
      ],
      "metadata": {
        "id": "oOUnwUXvf70Z"
      }
    },
    {
      "cell_type": "code",
      "source": [
        "# batch \n",
        "batch1 = X_train[:128]\n",
        "batch1.shape"
      ],
      "metadata": {
        "colab": {
          "base_uri": "https://localhost:8080/"
        },
        "id": "kw8vQ8SbfpCh",
        "outputId": "3394f63b-3d11-49e1-86b1-da75fbc3df69"
      },
      "execution_count": null,
      "outputs": [
        {
          "output_type": "execute_result",
          "data": {
            "text/plain": [
              "(128, 28, 28)"
            ]
          },
          "metadata": {},
          "execution_count": 88
        }
      ]
    },
    {
      "cell_type": "code",
      "source": [
        "# next batch\n",
        "batch2 = X_train[128:128*2]\n",
        "batch2.shape"
      ],
      "metadata": {
        "colab": {
          "base_uri": "https://localhost:8080/"
        },
        "id": "hlUYP0TagBdf",
        "outputId": "cc125b40-c18b-46d7-d25d-b13de8d7126b"
      },
      "execution_count": null,
      "outputs": [
        {
          "output_type": "execute_result",
          "data": {
            "text/plain": [
              "(128, 28, 28)"
            ]
          },
          "metadata": {},
          "execution_count": 90
        }
      ]
    },
    {
      "cell_type": "code",
      "source": [
        "# the nth batch\n",
        "n = 3\n",
        "batch_size = 128\n",
        "\n",
        "batchn = X_train[n*batch_size:(n+1)*batch_size]"
      ],
      "metadata": {
        "id": "rpQQgfAVgKbW"
      },
      "execution_count": null,
      "outputs": []
    },
    {
      "cell_type": "markdown",
      "source": [
        "## The engine of neural network\n",
        "---"
      ],
      "metadata": {
        "id": "Z8sSVdhAgXHv"
      }
    },
    {
      "cell_type": "markdown",
      "source": [
        "## Reimplementing neural network from scatch in Tensorflow"
      ],
      "metadata": {
        "id": "Df5isbIpgiZ3"
      }
    },
    {
      "cell_type": "code",
      "source": [
        "# import libraries\n",
        "import tensorflow as tf"
      ],
      "metadata": {
        "id": "rM79c0v5gNbB"
      },
      "execution_count": null,
      "outputs": []
    },
    {
      "cell_type": "code",
      "source": [
        "class NaiveDense:\n",
        "    def __init__(self, input_size, output_size, activation):\n",
        "        self.activation = activation\n",
        "\n",
        "        w_shape = (input_size, output_size)\n",
        "        w_initial_value = tf.random.uniform(w_shape, minval=0, maxval=1e-1)\n",
        "        self.W = tf.Variable(w_initial_value)\n",
        "\n",
        "        b_shape = (output_size,)\n",
        "        b_initial_value = tf.zeros(b_shape)\n",
        "        self.b = tf.Variable(b_initial_value)\n",
        "\n",
        "    def __call__(self, inputs):\n",
        "        return self.activation(tf.matmul(inputs, self.W) + self.b)\n",
        "\n",
        "    @property\n",
        "    def weights(self):\n",
        "        return [self.W, self.b]"
      ],
      "metadata": {
        "id": "tAAKWAtygrAa"
      },
      "execution_count": null,
      "outputs": []
    },
    {
      "cell_type": "code",
      "source": [
        "class NaiveSequential:\n",
        "    def __init__(self, layers):\n",
        "        self.layers = layers\n",
        "\n",
        "    def __call__(self, inputs):\n",
        "        x = inputs\n",
        "        for layer in self.layers:\n",
        "           x = layer(x)\n",
        "        return x\n",
        "\n",
        "    @property\n",
        "    def weights(self):\n",
        "       weights = []\n",
        "       for layer in self.layers:\n",
        "           weights += layer.weights\n",
        "       return weights\n"
      ],
      "metadata": {
        "id": "qM7LGES9iUPV"
      },
      "execution_count": null,
      "outputs": []
    },
    {
      "cell_type": "code",
      "source": [
        "model = NaiveSequential([\n",
        "    NaiveDense(input_size=28 * 28, output_size=512, activation=tf.nn.relu),\n",
        "    NaiveDense(input_size=512, output_size=10, activation=tf.nn.softmax)\n",
        "])\n",
        "assert len(model.weights) == 4"
      ],
      "metadata": {
        "id": "ZrFY6QARipmD"
      },
      "execution_count": null,
      "outputs": []
    },
    {
      "cell_type": "code",
      "source": [
        "import math\n",
        "\n",
        "class BatchGenerator:\n",
        "    def __init__(self, images, labels, batch_size=128):\n",
        "        assert len(images) == len(labels)\n",
        "        self.index = 0\n",
        "        self.images = images\n",
        "        self.labels = labels\n",
        "        self.batch_size = batch_size\n",
        "        self.num_batches = math.ceil(len(images) / batch_size)\n",
        "\n",
        "    def next(self):\n",
        "        images = self.images[self.index : self.index + self.batch_size]\n",
        "        labels = self.labels[self.index : self.index + self.batch_size]\n",
        "        self.index += self.batch_size\n",
        "        return images, labels"
      ],
      "metadata": {
        "id": "czC4Br1ZiqJU"
      },
      "execution_count": null,
      "outputs": []
    },
    {
      "cell_type": "code",
      "source": [
        "def one_training_step(model, images_batch, labels_batch):\n",
        "    with tf.GradientTape() as tape:\n",
        "        predictions = model(images_batch)\n",
        "        per_sample_losses = tf.keras.losses.sparse_categorical_crossentropy(\n",
        "            labels_batch, predictions)\n",
        "        average_loss = tf.reduce_mean(per_sample_losses)\n",
        "    gradients = tape.gradient(average_loss, model.weights)\n",
        "    update_weights(gradients, model.weights)\n",
        "    return average_loss"
      ],
      "metadata": {
        "id": "QjFl4oqSi7CL"
      },
      "execution_count": null,
      "outputs": []
    },
    {
      "cell_type": "code",
      "source": [
        "learning_rate = 1e-3\n",
        "\n",
        "def update_weights(gradients, weights):\n",
        "    for g, w in zip(gradients, weights):\n",
        "        w.assign_sub(g * learning_rate)"
      ],
      "metadata": {
        "id": "6jtBllOki-VA"
      },
      "execution_count": null,
      "outputs": []
    },
    {
      "cell_type": "code",
      "source": [
        "def fit(model, images, labels, epochs, batch_size=128):\n",
        "    for epoch_counter in range(epochs):\n",
        "        print(f\"Epoch {epoch_counter}\")\n",
        "        batch_generator = BatchGenerator(images, labels)\n",
        "        for batch_counter in range(batch_generator.num_batches):\n",
        "            images_batch, labels_batch = batch_generator.next()\n",
        "            loss = one_training_step(model, images_batch, labels_batch)\n",
        "            if batch_counter % 100 == 0:\n",
        "                print(f\"loss at batch {batch_counter}: {loss:.2f}\")"
      ],
      "metadata": {
        "id": "CBoqQI7jjBp9"
      },
      "execution_count": null,
      "outputs": []
    },
    {
      "cell_type": "code",
      "source": [
        "from tensorflow.keras.datasets import mnist\n",
        "(X_train, y_train), (X_test, y_test) = mnist.load_data()\n",
        "\n",
        "X_train = X_train.reshape((60000, 28*28)) \n",
        "X_train = X_train.astype('float32') / 255\n",
        "\n",
        "X_test = X_test.reshape((10000, 28*28))\n",
        "X_test = X_test.astype('float32') / 255\n",
        "\n",
        "fit(model, X_train, y_train, epochs=10, batch_size=128)"
      ],
      "metadata": {
        "colab": {
          "base_uri": "https://localhost:8080/"
        },
        "id": "TmfpIiB1jHVx",
        "outputId": "4128bcfc-969d-437c-8d3a-1aee02cf528a"
      },
      "execution_count": null,
      "outputs": [
        {
          "output_type": "stream",
          "name": "stdout",
          "text": [
            "Epoch 0\n",
            "loss at batch 0: 5.11\n",
            "loss at batch 100: 2.25\n",
            "loss at batch 200: 2.19\n",
            "loss at batch 300: 2.07\n",
            "loss at batch 400: 2.22\n",
            "Epoch 1\n",
            "loss at batch 0: 1.87\n",
            "loss at batch 100: 1.88\n",
            "loss at batch 200: 1.81\n",
            "loss at batch 300: 1.70\n",
            "loss at batch 400: 1.83\n",
            "Epoch 2\n",
            "loss at batch 0: 1.55\n",
            "loss at batch 100: 1.58\n",
            "loss at batch 200: 1.48\n",
            "loss at batch 300: 1.40\n",
            "loss at batch 400: 1.51\n",
            "Epoch 3\n",
            "loss at batch 0: 1.29\n",
            "loss at batch 100: 1.34\n",
            "loss at batch 200: 1.22\n",
            "loss at batch 300: 1.19\n",
            "loss at batch 400: 1.28\n",
            "Epoch 4\n",
            "loss at batch 0: 1.10\n",
            "loss at batch 100: 1.16\n",
            "loss at batch 200: 1.03\n",
            "loss at batch 300: 1.04\n",
            "loss at batch 400: 1.11\n",
            "Epoch 5\n",
            "loss at batch 0: 0.96\n",
            "loss at batch 100: 1.02\n",
            "loss at batch 200: 0.90\n",
            "loss at batch 300: 0.92\n",
            "loss at batch 400: 1.00\n",
            "Epoch 6\n",
            "loss at batch 0: 0.85\n",
            "loss at batch 100: 0.91\n",
            "loss at batch 200: 0.80\n",
            "loss at batch 300: 0.83\n",
            "loss at batch 400: 0.91\n",
            "Epoch 7\n",
            "loss at batch 0: 0.77\n",
            "loss at batch 100: 0.83\n",
            "loss at batch 200: 0.72\n",
            "loss at batch 300: 0.76\n",
            "loss at batch 400: 0.84\n",
            "Epoch 8\n",
            "loss at batch 0: 0.71\n",
            "loss at batch 100: 0.76\n",
            "loss at batch 200: 0.66\n",
            "loss at batch 300: 0.71\n",
            "loss at batch 400: 0.79\n",
            "Epoch 9\n",
            "loss at batch 0: 0.66\n",
            "loss at batch 100: 0.71\n",
            "loss at batch 200: 0.61\n",
            "loss at batch 300: 0.67\n",
            "loss at batch 400: 0.75\n"
          ]
        }
      ]
    },
    {
      "cell_type": "code",
      "source": [
        ""
      ],
      "metadata": {
        "id": "C0hkTiaVjJ3K"
      },
      "execution_count": null,
      "outputs": []
    }
  ]
}