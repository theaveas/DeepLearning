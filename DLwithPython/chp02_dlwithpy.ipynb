{
  "nbformat": 4,
  "nbformat_minor": 0,
  "metadata": {
    "colab": {
      "name": "chp02_dlwithpy.ipynb",
      "provenance": [],
      "authorship_tag": "ABX9TyME2dF2+hl7eRq2S0d/8+pL",
      "include_colab_link": true
    },
    "kernelspec": {
      "name": "python3",
      "display_name": "Python 3"
    },
    "language_info": {
      "name": "python"
    }
  },
  "cells": [
    {
      "cell_type": "markdown",
      "metadata": {
        "id": "view-in-github",
        "colab_type": "text"
      },
      "source": [
        "<a href=\"https://colab.research.google.com/github/theaveas/DeepLearning/blob/main/DLwithPython/chp02_dlwithpy.ipynb\" target=\"_parent\"><img src=\"https://colab.research.google.com/assets/colab-badge.svg\" alt=\"Open In Colab\"/></a>"
      ]
    },
    {
      "cell_type": "markdown",
      "source": [
        "# The Mathematical building blocks of Neural Network\n",
        "This notebook is a summary / self-notes for Chapter 2 [Deep Learning With Python - by Francois Chollet, Second Edition](https://www.amazon.com/Learning-Python-Second-Fran%C3%A7ois-Chollet/dp/1617296864/ref=sr_1_3?crid=G0ITEJNSAY1K&keywords=deep+learning+with+python+2nd+edition&qid=1644115977&s=books&sprefix=deep+learning+with+pyt%2Cstripbooks%2C518&sr=1-3).\\\n",
        "This notebook code concept and diagrams are borrowed from the book and reproduced by me"
      ],
      "metadata": {
        "id": "MmFVLPRs73wk"
      }
    },
    {
      "cell_type": "markdown",
      "source": [
        "## A first look at a neural network\n",
        "#### Loading the mnist dataset in [Keras](https://keras.io/)"
      ],
      "metadata": {
        "id": "LRuM7n5x9KL5"
      }
    },
    {
      "cell_type": "code",
      "source": [
        "# import libraries\n",
        "from tensorflow.keras.datasets import mnist\n",
        "\n",
        "# load the dataset\n",
        "(X_train, y_train), (X_test, y_test) = mnist.load_data()"
      ],
      "metadata": {
        "id": "BawyQ0K47zf3"
      },
      "execution_count": 19,
      "outputs": []
    },
    {
      "cell_type": "markdown",
      "source": [
        "#### Train set, and Test set"
      ],
      "metadata": {
        "id": "t6kM9dYk_KYU"
      }
    },
    {
      "cell_type": "code",
      "execution_count": 6,
      "metadata": {
        "colab": {
          "base_uri": "https://localhost:8080/"
        },
        "id": "mCTFrvBJ7qm1",
        "outputId": "9a46ce31-12d9-46ad-99c5-dc22f4289d4f"
      },
      "outputs": [
        {
          "output_type": "stream",
          "name": "stdout",
          "text": [
            "(60000, 28, 28)\n",
            "60000\n"
          ]
        }
      ],
      "source": [
        "# inspect training set \"shape\"\n",
        "print(X_train.shape)\n",
        "\n",
        "# length of training set\n",
        "print(len(X_train))"
      ]
    },
    {
      "cell_type": "code",
      "source": [
        "# inspect test set \"shape\"\n",
        "print(y_test.shape)\n",
        "\n",
        "# length of test set\n",
        "print(len(y_test))"
      ],
      "metadata": {
        "colab": {
          "base_uri": "https://localhost:8080/"
        },
        "id": "Q_CcF2X8-bZi",
        "outputId": "06be3e37-2e99-4b77-a445-22e577c3d8e6"
      },
      "execution_count": 8,
      "outputs": [
        {
          "output_type": "stream",
          "name": "stdout",
          "text": [
            "(10000,)\n",
            "10000\n"
          ]
        }
      ]
    },
    {
      "cell_type": "markdown",
      "source": [
        "#### Network architecture"
      ],
      "metadata": {
        "id": "KlVIqLzL_YSj"
      }
    },
    {
      "cell_type": "code",
      "source": [
        "# import libraries\n",
        "from tensorflow import keras\n",
        "from tensorflow.keras import layers"
      ],
      "metadata": {
        "id": "0r1dWH7m-jyg"
      },
      "execution_count": 9,
      "outputs": []
    },
    {
      "cell_type": "code",
      "source": [
        "# building network layers\n",
        "nn = keras.Sequential([\n",
        "                       layers.Dense(512, activation='relu'),\n",
        "                       layers.Dense(10, activation='softmax')\n",
        "])"
      ],
      "metadata": {
        "id": "REJKD0IF_mYY"
      },
      "execution_count": 10,
      "outputs": []
    },
    {
      "cell_type": "markdown",
      "source": [
        "#### Compile"
      ],
      "metadata": {
        "id": "Y_qtsUHx_9Jd"
      }
    },
    {
      "cell_type": "code",
      "source": [
        "nn.compile(\n",
        "    optimizer='rmsprop',\n",
        "    loss='sparse_categorical_crossentropy',\n",
        "    metrics=['accuracy']\n",
        ")"
      ],
      "metadata": {
        "id": "cVvYU77U_7kj"
      },
      "execution_count": 11,
      "outputs": []
    },
    {
      "cell_type": "markdown",
      "source": [
        "#### Preparing the image data"
      ],
      "metadata": {
        "id": "PGxGdF9QAT1I"
      }
    },
    {
      "cell_type": "code",
      "source": [
        "X_train = X_train.reshape((60000, 28*28)) \n",
        "X_train = X_train.astype('float32') / 255\n",
        "\n",
        "X_test = X_test.reshape((10000, 28*28))\n",
        "X_test = X_test.astype('float32') / 255"
      ],
      "metadata": {
        "id": "qXTO1pxnAQE8"
      },
      "execution_count": 38,
      "outputs": []
    },
    {
      "cell_type": "markdown",
      "source": [
        "#### Fitting the model"
      ],
      "metadata": {
        "id": "HQqqpLNqAS-w"
      }
    },
    {
      "cell_type": "code",
      "source": [
        "nn.fit(X_train, y_train, batch_size=128, epochs=5)"
      ],
      "metadata": {
        "colab": {
          "base_uri": "https://localhost:8080/"
        },
        "id": "ZFfSIdHuBV87",
        "outputId": "ed9c259e-f990-48fb-ca1f-f2dbc8a0788b"
      },
      "execution_count": 17,
      "outputs": [
        {
          "output_type": "stream",
          "name": "stdout",
          "text": [
            "Epoch 1/5\n",
            "469/469 [==============================] - 6s 10ms/step - loss: 0.2560 - accuracy: 0.9268\n",
            "Epoch 2/5\n",
            "469/469 [==============================] - 5s 10ms/step - loss: 0.1032 - accuracy: 0.9698\n",
            "Epoch 3/5\n",
            "469/469 [==============================] - 5s 10ms/step - loss: 0.0686 - accuracy: 0.9793\n",
            "Epoch 4/5\n",
            "469/469 [==============================] - 5s 10ms/step - loss: 0.0492 - accuracy: 0.9851\n",
            "Epoch 5/5\n",
            "469/469 [==============================] - 5s 10ms/step - loss: 0.0370 - accuracy: 0.9889\n"
          ]
        },
        {
          "output_type": "execute_result",
          "data": {
            "text/plain": [
              "<keras.callbacks.History at 0x7f512cbcc590>"
            ]
          },
          "metadata": {},
          "execution_count": 17
        }
      ]
    },
    {
      "cell_type": "markdown",
      "source": [
        "#### Using the model to make predictions"
      ],
      "metadata": {
        "id": "6V_FsByyBg5f"
      }
    },
    {
      "cell_type": "code",
      "source": [
        "# predict the first ten digits of test set\n",
        "test_digits = X_test[0:10]\n",
        "predictions = nn.predict(test_digits)\n",
        "print(f'Probabilitiy distribution: \\n{predictions[1]}')\n",
        "\n",
        "print(f'Highest distribution: {predictions[1].argmax()}')"
      ],
      "metadata": {
        "colab": {
          "base_uri": "https://localhost:8080/"
        },
        "id": "1c1NPkF8CLIX",
        "outputId": "0b467a6b-5eed-4f72-a94f-7c9bd3539ed7"
      },
      "execution_count": 49,
      "outputs": [
        {
          "output_type": "stream",
          "name": "stdout",
          "text": [
            "Probabilitiy distribution: \n",
            "[2.2031511e-10 2.8716170e-07 9.9999964e-01 6.6101130e-08 7.1280955e-19\n",
            " 3.1333898e-09 1.0767824e-09 2.1487113e-17 6.2452448e-09 4.1418579e-18]\n",
            "Highest distribution: 2\n"
          ]
        }
      ]
    },
    {
      "cell_type": "code",
      "source": [
        ""
      ],
      "metadata": {
        "colab": {
          "base_uri": "https://localhost:8080/"
        },
        "id": "dbeb6Y5xCdfP",
        "outputId": "b4c6dfe2-5027-4431-9955-58d3722cee80"
      },
      "execution_count": 34,
      "outputs": [
        {
          "output_type": "stream",
          "name": "stdout",
          "text": [
            "2\n",
            "1.1817301e-10\n"
          ]
        }
      ]
    },
    {
      "cell_type": "code",
      "source": [
        "# displaying the digit\n",
        "# import library\n",
        "from matplotlib import pyplot as plt\n",
        "\n",
        "# reloading the mnist dataset in Keras\n",
        "(X_train, y_train), (X_test, y_test) = mnist.load_data()\n",
        "\n",
        "digit = X_test[1]\n",
        "plt.imshow(digit, cmap=plt.cm.binary)\n",
        "plt.show()\n",
        "\n",
        "print('image label:', y_test[1])"
      ],
      "metadata": {
        "colab": {
          "base_uri": "https://localhost:8080/",
          "height": 282
        },
        "id": "nCKGebPyCwy6",
        "outputId": "45a99f32-badd-4504-b74c-d570d68c1bb8"
      },
      "execution_count": 35,
      "outputs": [
        {
          "output_type": "display_data",
          "data": {
            "image/png": "[encoded data removed]",
            "text/plain": [
              "<Figure size 432x288 with 1 Axes>"
            ]
          },
          "metadata": {
            "needs_background": "light"
          }
        },
        {
          "output_type": "stream",
          "name": "stdout",
          "text": [
            "image label: 2\n"
          ]
        }
      ]
    },
    {
      "cell_type": "markdown",
      "source": [
        "#### Evaluating the model on new data"
      ],
      "metadata": {
        "id": "kXlC39sOBn3F"
      }
    },
    {
      "cell_type": "code",
      "source": [
        "loss, accuracy = nn.evaluate(X_test, y_test)\n",
        "print(f'Test accuracy: {accuracy}')"
      ],
      "metadata": {
        "colab": {
          "base_uri": "https://localhost:8080/"
        },
        "id": "VdhuqX3wBexO",
        "outputId": "86e417e7-3f8c-400c-9396-a4278b19e50e"
      },
      "execution_count": 18,
      "outputs": [
        {
          "output_type": "stream",
          "name": "stdout",
          "text": [
            "313/313 [==============================] - 1s 2ms/step - loss: 0.0689 - accuracy: 0.9804\n",
            "Test accuracy: 0.980400025844574\n"
          ]
        }
      ]
    },
    {
      "cell_type": "code",
      "source": [
        ""
      ],
      "metadata": {
        "id": "dnDoAjlTB_ij"
      },
      "execution_count": null,
      "outputs": []
    }
  ]
}