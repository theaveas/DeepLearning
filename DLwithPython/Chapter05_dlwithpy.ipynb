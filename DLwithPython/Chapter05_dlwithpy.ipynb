{
  "cells": [
    {
      "cell_type": "markdown",
      "metadata": {
        "id": "view-in-github",
        "colab_type": "text"
      },
      "source": [
        "<a href=\"https://colab.research.google.com/github/theaveas/DeepLearning/blob/main/DLwithPython/Chapter05_dlwithpy.ipynb\" target=\"_parent\"><img src=\"https://colab.research.google.com/assets/colab-badge.svg\" alt=\"Open In Colab\"/></a>"
      ]
    },
    {
      "cell_type": "markdown",
      "id": "0c3f37ee-9469-4604-9734-9f17b1d42393",
      "metadata": {
        "id": "0c3f37ee-9469-4604-9734-9f17b1d42393"
      },
      "source": [
        "# Fundamentals of ML\n",
        "- The concept of generalization and optimization, the fundamental issue in ML\n",
        "- Evaluation method, how to evaluate model performance?\n",
        "- Best practices to improve model fitting\n",
        "- Best practives to achieve better generalizaton\n",
        "\n",
        "**Overfitting** : In ML, the model that we build is not use to predict the data that we have seen. The main purpose of Machine Learning is to learn from the Data we fit into a model, and try to predict the result of and unseen data. While training A Model give a really impressive result (minimal loss) In real life this is a good result, but in ML is model is not *gereralization* It performs well only with the data we fit throught, not the unseen one. This model started to ***overfit***.\n",
        "\n",
        "**Underfitting:** occure at the beginning of the trainning process. the lower the loss on training data, the lower the loss on test data.\n",
        "\n",
        "**Optimization:** refers to the process of adjusting a model to get the best performance possible on the training data. (over done is lead to *overfit* model)\n",
        "\n",
        "**Generalization:** refers to how well the trained model performs on data it has never seen before (over done is lead to *underfit* model)\n",
        "\n",
        "**Ambiguous Features:** Could be a non objective boundaries(classifiaction problems), data that have a measurement of probabiliy(weather)\n",
        "\n",
        "**Rare Features and Spurious correlations:** While train on a dataset that have a rare feature, that is not mean all other data have this same rarely feature to(overfitting)."
      ]
    },
    {
      "cell_type": "markdown",
      "id": "cec80c59-305f-4d29-ae57-d194f465ca7c",
      "metadata": {
        "id": "cec80c59-305f-4d29-ae57-d194f465ca7c"
      },
      "source": [
        "### Training the smae model on MNIST data with noise channels or all-zero channels"
      ]
    },
    {
      "cell_type": "code",
      "execution_count": null,
      "id": "e271490c-89bd-4a2d-8ca5-fad04d5a38d9",
      "metadata": {
        "id": "e271490c-89bd-4a2d-8ca5-fad04d5a38d9"
      },
      "outputs": [],
      "source": [
        "import numpy as np\n",
        "import matplotlib.pyplot as plt\n",
        "from tensorflow import keras\n",
        "from tensorflow.keras.datasets import mnist\n",
        "\n",
        "from tensorflow.keras.layers import Dense"
      ]
    },
    {
      "cell_type": "code",
      "execution_count": null,
      "id": "46f5d871-8e95-46d2-94b5-ed3fc3c0d65f",
      "metadata": {
        "id": "46f5d871-8e95-46d2-94b5-ed3fc3c0d65f",
        "outputId": "4d00d7df-690e-46f8-f1fe-87066be2a289"
      },
      "outputs": [
        {
          "data": {
            "image/png": "[encoded data removed]",
            "text/plain": [
              "<Figure size 432x288 with 1 Axes>"
            ]
          },
          "metadata": {
            "needs_background": "light"
          },
          "output_type": "display_data"
        },
        {
          "data": {
            "image/png": "[encoded data removed]",
            "text/plain": [
              "<Figure size 432x288 with 1 Axes>"
            ]
          },
          "metadata": {
            "needs_background": "light"
          },
          "output_type": "display_data"
        },
        {
          "data": {
            "image/png": "[encoded data removed]",
            "text/plain": [
              "<Figure size 432x288 with 1 Axes>"
            ]
          },
          "metadata": {
            "needs_background": "light"
          },
          "output_type": "display_data"
        }
      ],
      "source": [
        "# load dataset\n",
        "(train_data, train_labels), (test_data, test_labels) = mnist.load_data()\n",
        "plt.imshow(train_data[0])\n",
        "plt.title(\"Train Data\")\n",
        "plt.show()\n",
        "train_data = train_data.reshape((60000, 28*28))\n",
        "trian_data = train_data.astype('float32') / 255\n",
        "\n",
        "# noise channels\n",
        "zeros_channels = np.array((np.zeros((len(train_data), 784))))\n",
        "zeros_channels = zeros_channels.reshape((60000, 28, 28))\n",
        "plt.imshow(zeros_channels[0])\n",
        "plt.title(\"Zeros Channels\")\n",
        "plt.show()\n",
        "\n",
        "# noise channels\n",
        "noise_channels = np.array((np.random.random((len(train_data), 784))))\n",
        "noise_channels = noise_channels.reshape((60000, 28, 28))\n",
        "plt.imshow(noise_channels[0])\n",
        "plt.title(\"Noise Channels\")\n",
        "plt.show()"
      ]
    },
    {
      "cell_type": "code",
      "execution_count": null,
      "id": "ecc91da5-c0b8-43f5-af3e-8c6280a19db1",
      "metadata": {
        "id": "ecc91da5-c0b8-43f5-af3e-8c6280a19db1"
      },
      "outputs": [],
      "source": [
        "# concatenate with trainning examples\n",
        "noise_channels = noise_channels.reshape((len(noise_channels), 28*28))\n",
        "zeros_channels = zeros_channels.reshape((len(zeros_channels), 28*28))\n",
        "\n",
        "# concat with noise channels\n",
        "train_data_with_nc = np.concatenate(\n",
        "    [train_data, noise_channels], axis=1\n",
        ")\n",
        "\n",
        "# concat with zeros channels\n",
        "train_data_with_zc = np.concatenate(\n",
        "    [train_data, zeros_channels], axis=1\n",
        ")"
      ]
    },
    {
      "cell_type": "code",
      "execution_count": null,
      "id": "53c18233-cfb4-4d73-a933-afbe56401516",
      "metadata": {
        "id": "53c18233-cfb4-4d73-a933-afbe56401516"
      },
      "outputs": [],
      "source": [
        "def build_model():\n",
        "    model = keras.Sequential([\n",
        "        Dense(512, activation='relu'),\n",
        "        Dense(10, activation='softmax'),\n",
        "    ])\n",
        "    \n",
        "    model.compile(\n",
        "        optimizer = 'rmsprop',\n",
        "        loss = 'sparse_categorical_crossentropy',\n",
        "        metrics = ['accuracy'],\n",
        "    )\n",
        "    \n",
        "    return model"
      ]
    },
    {
      "cell_type": "code",
      "execution_count": null,
      "id": "b0fb5b53-8048-4332-9fe4-5222a967f268",
      "metadata": {
        "tags": [],
        "id": "b0fb5b53-8048-4332-9fe4-5222a967f268",
        "outputId": "487c1254-e5d3-4421-9629-4e2005157f25"
      },
      "outputs": [
        {
          "name": "stdout",
          "output_type": "stream",
          "text": [
            "Epoch 1/15\n"
          ]
        },
        {
          "name": "stderr",
          "output_type": "stream",
          "text": [
            "2022-02-25 18:10:03.264160: I tensorflow/core/grappler/optimizers/custom_graph_optimizer_registry.cc:112] Plugin optimizer for device_type GPU is enabled.\n",
            "2022-02-25 18:10:05.510487: I tensorflow/core/grappler/optimizers/custom_graph_optimizer_registry.cc:112] Plugin optimizer for device_type GPU is enabled.\n"
          ]
        },
        {
          "name": "stdout",
          "output_type": "stream",
          "text": [
            "Epoch 2/15\n",
            "Epoch 3/15\n",
            "Epoch 4/15\n",
            "Epoch 5/15\n",
            "Epoch 6/15\n",
            "Epoch 7/15\n",
            "Epoch 8/15\n",
            "Epoch 9/15\n",
            "Epoch 10/15\n",
            "Epoch 11/15\n",
            "Epoch 12/15\n",
            "Epoch 13/15\n",
            "Epoch 14/15\n",
            "Epoch 15/15\n",
            "Epoch 1/15\n",
            "Epoch 2/15\n",
            "Epoch 3/15\n",
            "Epoch 4/15\n",
            "Epoch 5/15\n",
            "Epoch 6/15\n",
            "Epoch 7/15\n"
          ]
        }
      ],
      "source": [
        "# Train a noise model\n",
        "EPOCHS = 15\n",
        "BATCH_SIZE = 128\n",
        "\n",
        "model = build_model()\n",
        "history_noise = model.fit(\n",
        "    train_data_with_nc,\n",
        "    train_labels,\n",
        "    epochs = EPOCHS,\n",
        "    batch_size = BATCH_SIZE,\n",
        "    validation_split = 0.2,\n",
        "    verbose=10\n",
        ")\n",
        "\n",
        "history_zeros = model.fit(\n",
        "    train_data_with_zc,\n",
        "    train_labels,\n",
        "    epochs = EPOCHS,\n",
        "    batch_size = BATCH_SIZE,\n",
        "    validation_split = 0.2,\n",
        "    verbose=10\n",
        ")"
      ]
    },
    {
      "cell_type": "code",
      "execution_count": null,
      "id": "427532c1-9a04-4a34-93ed-1ceb0f048e8c",
      "metadata": {
        "id": "427532c1-9a04-4a34-93ed-1ceb0f048e8c"
      },
      "outputs": [],
      "source": [
        "hist_noise = history_noise.history\n",
        "hist_zeros = history_zeros.history\n",
        "\n",
        "# plot the result\n",
        "def val_result_plot():\n",
        "    val_acc_noise = hist_noise[\"val_accuracy\"]\n",
        "    val_acc_zeros = hist_zeros[\"val_accuracy\"]\n",
        "    epochs = range(1, 11)\n",
        "    \n",
        "    plt.plot(epochs, val_acc_noise, 'b', \n",
        "             label=\"Validation Accuraccy with Noise data\")\n",
        "    plt.plot(epochs, val_acc_zeros, 'r--', \n",
        "             label=\"Validation Accuraccy with Zeros data\")\n",
        "    plt.xlabel(\"Epochs\")\n",
        "    plt.ylabel(\"Validation Accuracy\")\n",
        "    plt.title(\"Effect of noise channels on validation accuracy\")\n",
        "    plt.legend()\n",
        "    plt.show\n",
        "    \n",
        "val_result_plot()"
      ]
    },
    {
      "cell_type": "code",
      "execution_count": null,
      "id": "3d09d707-4778-4ade-b348-8149d275a50d",
      "metadata": {
        "id": "3d09d707-4778-4ade-b348-8149d275a50d"
      },
      "outputs": [],
      "source": [
        ""
      ]
    }
  ],
  "metadata": {
    "kernelspec": {
      "display_name": "one4all",
      "language": "python",
      "name": "one4all"
    },
    "language_info": {
      "codemirror_mode": {
        "name": "ipython",
        "version": 3
      },
      "file_extension": ".py",
      "mimetype": "text/x-python",
      "name": "python",
      "nbconvert_exporter": "python",
      "pygments_lexer": "ipython3",
      "version": "3.8.12"
    },
    "colab": {
      "name": "Chapter05_dlwithpy.ipynb",
      "provenance": [],
      "include_colab_link": true
    }
  },
  "nbformat": 4,
  "nbformat_minor": 5
}