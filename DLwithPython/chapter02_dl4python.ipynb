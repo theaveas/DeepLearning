{
 "cells": [
  {
   "cell_type": "markdown",
   "id": "4d342f5e",
   "metadata": {},
   "source": [
    "# The mathematical building blocks of neural networks "
   ]
  },
  {
   "cell_type": "markdown",
   "id": "41af1b67",
   "metadata": {},
   "source": [
    "## A First Look at NN"
   ]
  },
  {
   "cell_type": "code",
   "execution_count": 24,
   "id": "3ad8037b",
   "metadata": {},
   "outputs": [],
   "source": [
    "# import libraries\n",
    "import numpy as np\n",
    "import matplotlib.pyplot as plt\n",
    "from tensorflow import keras\n",
    "from tensorflow.keras.datasets import mnist\n",
    "from tensorflow.keras import layers"
   ]
  },
  {
   "cell_type": "code",
   "execution_count": 28,
   "id": "dc7b05af",
   "metadata": {},
   "outputs": [],
   "source": [
    "# loading the mnist dataset in Keras\n",
    "(train_X, train_y), (test_X, test_y) = mnist.load_data()"
   ]
  },
  {
   "cell_type": "markdown",
   "id": "874903af",
   "metadata": {},
   "source": [
    "Transform it into `float32` array of shape `60000,28*28`,\n",
    "and `10000,28*28` with a values between 0 and 1"
   ]
  },
  {
   "cell_type": "code",
   "execution_count": null,
   "id": "1ba6958d",
   "metadata": {},
   "outputs": [],
   "source": [
    "# data preprocessing\n",
    "train_X = train_X.reshape((60000, 28*28))\n",
    "train_X = train_X.astype('float32') / 255\n",
    "\n",
    "test_X = test_X.reshape((10000, 28*28))\n",
    "test_X = test_X.astype('float32') / 255"
   ]
  },
  {
   "cell_type": "markdown",
   "id": "87dd259b",
   "metadata": {},
   "source": [
    "layers--Think a layers of Hidden neurons work as a filter"
   ]
  },
  {
   "cell_type": "code",
   "execution_count": 6,
   "id": "1137cd21",
   "metadata": {},
   "outputs": [],
   "source": [
    "# build network architecture\n",
    "nn = keras.Sequential([\n",
    "    layers.Dense(512, activation='relu'),\n",
    "    layers.Dense(10, activation='softmax')\n",
    "])"
   ]
  },
  {
   "cell_type": "markdown",
   "id": "0cb9ab40",
   "metadata": {},
   "source": [
    "- optimizer--The mechanism through which the model will update itself based on the training data it sees\n",
    "- loss function--How the model will be able to measure its performance on the training data, and thus how it will be able steer itself in the right direction\n",
    "- metrics--Monitor during training and testing"
   ]
  },
  {
   "cell_type": "code",
   "execution_count": 12,
   "id": "7ed210fd",
   "metadata": {},
   "outputs": [],
   "source": [
    "# compile step\n",
    "nn.compile(optimizer='rmsprop',\n",
    "           loss='sparse_categorical_crossentropy',\n",
    "           metrics=['accuracy'])"
   ]
  },
  {
   "cell_type": "markdown",
   "id": "b0b13237",
   "metadata": {},
   "source": [
    "To train a model in `Keras` is done via call to the model's `fit()` \n",
    "method"
   ]
  },
  {
   "cell_type": "code",
   "execution_count": 8,
   "id": "4da57ab2",
   "metadata": {},
   "outputs": [
    {
     "name": "stderr",
     "output_type": "stream",
     "text": [
      "2022-02-04 22:09:07.048209: W tensorflow/core/platform/profile_utils/cpu_utils.cc:128] Failed to get CPU frequency: 0 Hz\n"
     ]
    },
    {
     "name": "stdout",
     "output_type": "stream",
     "text": [
      "Epoch 1/5\n"
     ]
    },
    {
     "name": "stderr",
     "output_type": "stream",
     "text": [
      "2022-02-04 22:09:07.261204: I tensorflow/core/grappler/optimizers/custom_graph_optimizer_registry.cc:112] Plugin optimizer for device_type GPU is enabled.\n"
     ]
    },
    {
     "name": "stdout",
     "output_type": "stream",
     "text": [
      "469/469 [==============================] - 5s 6ms/step - loss: 0.2539 - accuracy: 0.9269\n",
      "Epoch 2/5\n",
      "469/469 [==============================] - 3s 6ms/step - loss: 0.1022 - accuracy: 0.9697\n",
      "Epoch 3/5\n",
      "469/469 [==============================] - 3s 6ms/step - loss: 0.0678 - accuracy: 0.9799\n",
      "Epoch 4/5\n",
      "469/469 [==============================] - 3s 6ms/step - loss: 0.0491 - accuracy: 0.9852\n",
      "Epoch 5/5\n",
      "469/469 [==============================] - 3s 6ms/step - loss: 0.0362 - accuracy: 0.9894\n"
     ]
    },
    {
     "data": {
      "text/plain": [
       "<keras.callbacks.History at 0x154197460>"
      ]
     },
     "execution_count": 8,
     "metadata": {},
     "output_type": "execute_result"
    }
   ],
   "source": [
    "# fitting the model\n",
    "nn.fit(train_X, train_y, epochs=5, batch_size=128)"
   ]
  },
  {
   "cell_type": "markdown",
   "id": "4b120b81",
   "metadata": {},
   "source": [
    "Using trained model to predic class probabilities for new digits-images\n",
    "that in the test set"
   ]
  },
  {
   "cell_type": "code",
   "execution_count": 9,
   "id": "6b0d1fc8",
   "metadata": {},
   "outputs": [
    {
     "name": "stdout",
     "output_type": "stream",
     "text": [
      "1\n",
      "6.0337065e-08\n",
      "1\n"
     ]
    },
    {
     "name": "stderr",
     "output_type": "stream",
     "text": [
      "2022-02-04 22:09:33.835631: I tensorflow/core/grappler/optimizers/custom_graph_optimizer_registry.cc:112] Plugin optimizer for device_type GPU is enabled.\n"
     ]
    }
   ],
   "source": [
    "# using the model to make prediction\n",
    "test_digits = test_X[0:10]\n",
    "predictions = nn.predict(test_digits)\n",
    "\n",
    "print(predictions[5].argmax())\n",
    "print(predictions[0][5])\n",
    "\n",
    "# ground truth\n",
    "print(test_y[5])"
   ]
  },
  {
   "cell_type": "markdown",
   "id": "2dea7d44",
   "metadata": {},
   "source": [
    "Checking how good is our model at classifying such never-before-seen digits? by calling model's `evaluate() ` method\n"
   ]
  },
  {
   "cell_type": "code",
   "execution_count": 11,
   "id": "709f52a1",
   "metadata": {},
   "outputs": [
    {
     "name": "stdout",
     "output_type": "stream",
     "text": [
      "313/313 [==============================] - 1s 4ms/step - loss: 0.0633 - accuracy: 0.9803\n",
      "Test accuracy: 0.9803000688552856\n"
     ]
    }
   ],
   "source": [
    "# evaluating the model on new data\n",
    "test_loss, test_acc = nn.evaluate(test_X, test_y)\n",
    "print(f'Test accuracy: {test_acc}')"
   ]
  },
  {
   "cell_type": "markdown",
   "id": "da8c5778",
   "metadata": {},
   "source": [
    "## Data representations for neural networks"
   ]
  },
  {
   "cell_type": "markdown",
   "id": "5543706b",
   "metadata": {},
   "source": [
    "A tensors are a generalization of matrices to an arbitrary number of dimensions"
   ]
  },
  {
   "cell_type": "code",
   "execution_count": 15,
   "id": "1de7ac8e",
   "metadata": {},
   "outputs": [
    {
     "data": {
      "text/plain": [
       "0"
      ]
     },
     "execution_count": 15,
     "metadata": {},
     "output_type": "execute_result"
    }
   ],
   "source": [
    "# scalars\n",
    "# a tensor that contains only one number\n",
    "x = np.array(26)\n",
    "x.ndim"
   ]
  },
  {
   "cell_type": "code",
   "execution_count": 17,
   "id": "1bf9720e",
   "metadata": {},
   "outputs": [
    {
     "data": {
      "text/plain": [
       "1"
      ]
     },
     "execution_count": 17,
     "metadata": {},
     "output_type": "execute_result"
    }
   ],
   "source": [
    "# vectors\n",
    "# an array of numbers\n",
    "x = np.array((8, 26))\n",
    "x.ndim"
   ]
  },
  {
   "cell_type": "code",
   "execution_count": 18,
   "id": "9faca0e3",
   "metadata": {},
   "outputs": [
    {
     "data": {
      "text/plain": [
       "2"
      ]
     },
     "execution_count": 18,
     "metadata": {},
     "output_type": "execute_result"
    }
   ],
   "source": [
    "# matrices\n",
    "# an array of vectors \n",
    "x = np.array([[5, 78, 2, 34, 0],\n",
    "              [6, 79, 3, 35, 1],\n",
    "              [7, 80, 4, 36, 2]])\n",
    "x.ndim"
   ]
  },
  {
   "cell_type": "code",
   "execution_count": 19,
   "id": "9d16bfd8",
   "metadata": {},
   "outputs": [
    {
     "data": {
      "text/plain": [
       "3"
      ]
     },
     "execution_count": 19,
     "metadata": {},
     "output_type": "execute_result"
    }
   ],
   "source": [
    "# higher dimension tensor\n",
    "x = np.array([[[5, 78, 2, 34, 0],\n",
    "               [6, 79, 3, 35, 1],\n",
    "               [7, 80, 4, 36, 2]],\n",
    "             [[5, 78, 2, 34, 0],\n",
    "               [6, 79, 3, 35, 1],\n",
    "               [7, 80, 4, 36, 2]],\n",
    "             [[5, 78, 2, 34, 0],\n",
    "               [6, 79, 3, 35, 1],\n",
    "               [7, 80, 4, 36, 2]]])\n",
    "x.ndim"
   ]
  },
  {
   "cell_type": "markdown",
   "id": "06994015",
   "metadata": {},
   "source": [
    "Key attributes:\n",
    "A tensor is defined by three key attributes: `number of axes`, `shape`, `data type`"
   ]
  },
  {
   "cell_type": "code",
   "execution_count": 23,
   "id": "0e89bc89",
   "metadata": {},
   "outputs": [
    {
     "name": "stdout",
     "output_type": "stream",
     "text": [
      "number of axes1: 3\n",
      "shape: (3, 3, 5)\n",
      "data types: int64\n"
     ]
    }
   ],
   "source": [
    "# key attr\n",
    "print('number of axes1:', x.ndim)\n",
    "print('shape:', x.shape)\n",
    "print('data types:', x.dtype)"
   ]
  },
  {
   "cell_type": "code",
   "execution_count": 33,
   "id": "2f20468d",
   "metadata": {},
   "outputs": [
    {
     "data": {
      "image/png": "[encoded data removed]",
      "text/plain": [
       "<Figure size 432x288 with 1 Axes>"
      ]
     },
     "metadata": {
      "needs_background": "light"
     },
     "output_type": "display_data"
    },
    {
     "name": "stdout",
     "output_type": "stream",
     "text": [
      "image label: 2\n"
     ]
    }
   ],
   "source": [
    "# displaying the digit\n",
    "# loading the mnist dataset in Keras\n",
    "(train_X, train_y), (test_X, test_y) = mnist.load_data()\n",
    "\n",
    "digit = train_X[5]\n",
    "plt.imshow(digit, cmap=plt.cm.binary)\n",
    "plt.show()\n",
    "\n",
    "print('image label:', train_y[5])"
   ]
  },
  {
   "cell_type": "markdown",
   "id": "5677c2a7",
   "metadata": {},
   "source": [
    "### Manipulating tensors in Numpy"
   ]
  },
  {
   "cell_type": "code",
   "execution_count": 34,
   "id": "fa6a4395",
   "metadata": {},
   "outputs": [
    {
     "data": {
      "text/plain": [
       "(90, 28, 28)"
      ]
     },
     "execution_count": 34,
     "metadata": {},
     "output_type": "execute_result"
    }
   ],
   "source": [
    "# slicing \n",
    "my_slice = train_X[10:100]\n",
    "my_slice.shape"
   ]
  },
  {
   "cell_type": "markdown",
   "id": "64f25330",
   "metadata": {},
   "source": [
    "### The notion of data batches"
   ]
  },
  {
   "cell_type": "code",
   "execution_count": 37,
   "id": "4c01137d",
   "metadata": {},
   "outputs": [
    {
     "data": {
      "text/plain": [
       "(128, 28, 28)"
      ]
     },
     "execution_count": 37,
     "metadata": {},
     "output_type": "execute_result"
    }
   ],
   "source": [
    "# batch \n",
    "batch1 = train_X[:128]\n",
    "batch1.shape"
   ]
  },
  {
   "cell_type": "code",
   "execution_count": 38,
   "id": "0abec8ac",
   "metadata": {},
   "outputs": [],
   "source": [
    "# next batch\n",
    "batch2 = train_X[128:128*2]"
   ]
  },
  {
   "cell_type": "code",
   "execution_count": 40,
   "id": "55e61574",
   "metadata": {},
   "outputs": [],
   "source": [
    "# the nth batch\n",
    "n = 3\n",
    "batch_size = 128\n",
    "\n",
    "batchn = train_X[n*batch_size:(n+1)*batch_size]"
   ]
  },
  {
   "cell_type": "markdown",
   "id": "c401d708",
   "metadata": {},
   "source": [
    "### Real-world example of data tensor\n",
    "- `vector data`--(**samples**, **features**)\n",
    "- `timeseries data or sequence data`--(**samples**, **timesteps**, **features**)\n",
    "- `Images`--(**samples**, **height**, **width**, **channels**)\n",
    "- `Videos`--(**samples**, **frames**, **height**, **width**, **channels**)"
   ]
  },
  {
   "cell_type": "markdown",
   "id": "47fefef5",
   "metadata": {},
   "source": [
    "### Geometric interpretation of tensor operation\n",
    "- `Translation`--Adding a vector to a point will move the point by a fixed amount in a fixed direction.\n",
    "- `Rotation`--A counterclockwise rotation of a 2D vector by an angle theta can be achieved via a dot product with 2 x 2 matrix **R** = `[[cos(theta),-sin(theta)],[sin(theta), cos[theta])`\n",
    "- `Scaling`--A vertical and horizontal scaling of the image can be achieved via a dot product with 2 x 2 matrix **S** = `[[h_factor, 0], [0, v_factor]]`\n",
    "- `Linear tranfrom` A dot product with an arbitrary matrix implements a linear transform.\n",
    "- `Affine transform` An affine transform is the combination of a linear transform and translation."
   ]
  },
  {
   "cell_type": "code",
   "execution_count": null,
   "id": "0328250c",
   "metadata": {},
   "outputs": [],
   "source": []
  }
 ],
 "metadata": {
  "kernelspec": {
   "display_name": "one4all",
   "language": "python",
   "name": "one4all"
  },
  "language_info": {
   "codemirror_mode": {
    "name": "ipython",
    "version": 3
   },
   "file_extension": ".py",
   "mimetype": "text/x-python",
   "name": "python",
   "nbconvert_exporter": "python",
   "pygments_lexer": "ipython3",
   "version": "3.8.12"
  }
 },
 "nbformat": 4,
 "nbformat_minor": 5
}
