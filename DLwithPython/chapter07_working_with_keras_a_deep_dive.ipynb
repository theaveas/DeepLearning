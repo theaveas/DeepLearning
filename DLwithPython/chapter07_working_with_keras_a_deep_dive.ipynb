{
 "cells": [
  {
   "cell_type": "markdown",
   "id": "55ea2cb6",
   "metadata": {},
   "source": [
    "# Working with Keras a Deep Dive \n",
    "- Creating Keras models with the `Sequential` class, the `Function API`, and `Model Subclassing`\n",
    "- Using built-in **Keras** `Training` and `Evaluation Loops`\n",
    "- Using **Keras** `callbacks` to customize training\n",
    "- Using **TensorBoard** to `Monitor training` and `Evaluation Metrics`\n",
    "- Writing `Training` and `Evaluation Loops` from sratch"
   ]
  },
  {
   "cell_type": "code",
   "execution_count": 26,
   "id": "9d238f0f-1404-4dfa-95bf-cd824bc7b125",
   "metadata": {},
   "outputs": [],
   "source": [
    "import numpy as np\n",
    "\n",
    "from tensorflow import keras"
   ]
  },
  {
   "cell_type": "markdown",
   "id": "d5d8ccc9-7c48-46f0-be06-75efd9941ead",
   "metadata": {},
   "source": [
    "## 3 different ways to build Keras model"
   ]
  },
  {
   "cell_type": "markdown",
   "id": "7c38b5d7",
   "metadata": {},
   "source": [
    "#### The Sequential Model\n",
    "It's the most user-friendly API; it's just a Python list. Pros: Ideal for inexperienced users. Cons: constrained to simple layer stacks\n",
    "\n",
    "The Sequential class"
   ]
  },
  {
   "cell_type": "code",
   "execution_count": 2,
   "id": "78d16fd3",
   "metadata": {},
   "outputs": [
    {
     "name": "stdout",
     "output_type": "stream",
     "text": [
      "Metal device set to: Apple M1 Pro\n"
     ]
    },
    {
     "name": "stderr",
     "output_type": "stream",
     "text": [
      "2022-03-21 22:56:07.613518: I tensorflow/core/common_runtime/pluggable_device/pluggable_device_factory.cc:305] Could not identify NUMA node of platform GPU ID 0, defaulting to 0. Your kernel may not have been built with NUMA support.\n",
      "2022-03-21 22:56:07.614014: I tensorflow/core/common_runtime/pluggable_device/pluggable_device_factory.cc:271] Created TensorFlow device (/job:localhost/replica:0/task:0/device:GPU:0 with 0 MB memory) -> physical PluggableDevice (device: 0, name: METAL, pci bus id: <undefined>)\n"
     ]
    }
   ],
   "source": [
    "model = keras.Sequential([\n",
    "    keras.layers.Dense(64, activation='relu'),\n",
    "    keras.layers.Dense(64, activation='relu'),\n",
    "    keras.layers.Dense(32, activation='relu'),\n",
    "])"
   ]
  },
  {
   "cell_type": "markdown",
   "id": "66cfd218",
   "metadata": {},
   "source": [
    "Incrementally building a Sequential model"
   ]
  },
  {
   "cell_type": "code",
   "execution_count": 3,
   "id": "4e5051d9",
   "metadata": {},
   "outputs": [],
   "source": [
    "model.add(keras.layers.Dense(10, activation='softmax'))"
   ]
  },
  {
   "cell_type": "markdown",
   "id": "c29ebeec",
   "metadata": {},
   "source": [
    "Build a model"
   ]
  },
  {
   "cell_type": "code",
   "execution_count": 4,
   "id": "8dfe0738",
   "metadata": {},
   "outputs": [],
   "source": [
    "model.build(input_shape=(None, 3))"
   ]
  },
  {
   "cell_type": "markdown",
   "id": "d123354d",
   "metadata": {},
   "source": [
    "Checking a model weights"
   ]
  },
  {
   "cell_type": "code",
   "execution_count": 5,
   "id": "50798562",
   "metadata": {},
   "outputs": [
    {
     "data": {
      "text/plain": [
       "[<tf.Variable 'dense/kernel:0' shape=(3, 64) dtype=float32, numpy=\n",
       " array([[ 0.27183855,  0.17330763,  0.01112556,  0.2683748 ,  0.22721225,\n",
       "          0.03010982, -0.03242248, -0.06754811, -0.07674886,  0.2358855 ,\n",
       "          0.19749796, -0.16703354,  0.27355605, -0.07441002,  0.05687818,\n",
       "         -0.08073817,  0.00412124, -0.24933016, -0.03261206,  0.28775   ,\n",
       "         -0.17331432,  0.09671351, -0.19806853, -0.02006662,  0.12556976,\n",
       "          0.2764969 , -0.21953611,  0.2516665 ,  0.01063269, -0.1568693 ,\n",
       "          0.03032714, -0.01586881,  0.03502452,  0.11786652, -0.26522866,\n",
       "          0.19840914, -0.18462738, -0.03719249, -0.03143367,  0.21938276,\n",
       "          0.13540858, -0.12857784,  0.00113928,  0.25125682,  0.18222633,\n",
       "         -0.07037717, -0.14721522, -0.01732507, -0.11818559,  0.01164085,\n",
       "          0.24812746,  0.02095795,  0.0963906 , -0.23441562, -0.13455468,\n",
       "         -0.27810273, -0.29565233, -0.02478674, -0.26881185,  0.1465235 ,\n",
       "          0.10194826,  0.13959166,  0.08099696,  0.12230426],\n",
       "        [ 0.05165434,  0.26545757,  0.02073914, -0.17996769,  0.2642377 ,\n",
       "          0.13252479,  0.20101923,  0.04003438,  0.10222375, -0.12905872,\n",
       "          0.19230253,  0.29715824,  0.19575757,  0.2777447 , -0.12844014,\n",
       "          0.09243396, -0.14276606,  0.16924608, -0.28248888, -0.1423108 ,\n",
       "          0.16593814, -0.20088653, -0.286521  ,  0.28220224,  0.2550562 ,\n",
       "          0.11687508,  0.20193869,  0.15332726, -0.1534497 ,  0.18767905,\n",
       "          0.10764295, -0.03964269,  0.0472163 , -0.2636107 , -0.14439791,\n",
       "         -0.16854952,  0.16666675, -0.10783401, -0.22239393,  0.29017162,\n",
       "         -0.14183804, -0.02531201,  0.21641123,  0.06233439,  0.12423491,\n",
       "          0.28858644,  0.0184944 ,  0.29794848, -0.25966948,  0.17948288,\n",
       "         -0.1222342 ,  0.00773749, -0.23694624,  0.24290675,  0.04576701,\n",
       "         -0.06569672,  0.22406197, -0.16843352,  0.256562  , -0.05489986,\n",
       "         -0.15322466,  0.05272019, -0.13456333, -0.06605317],\n",
       "        [-0.01746714,  0.04875582,  0.26959896, -0.10610448, -0.01771086,\n",
       "          0.2827503 ,  0.08564395, -0.01019233,  0.22897816, -0.15974112,\n",
       "          0.0185397 ,  0.29498672, -0.13743906, -0.00182301, -0.03377059,\n",
       "          0.05331343,  0.20462078, -0.15468273,  0.08663455, -0.17902839,\n",
       "         -0.15081505, -0.07947904, -0.00830784, -0.05437367,  0.01718503,\n",
       "          0.276195  , -0.1992297 ,  0.2754135 , -0.1822583 ,  0.10961848,\n",
       "          0.18192917,  0.07184345, -0.07601206,  0.21283472,  0.0671061 ,\n",
       "         -0.2709791 , -0.26186746,  0.21147656,  0.10774973, -0.27075365,\n",
       "          0.23178482, -0.21801984, -0.13529284,  0.20523071,  0.04746822,\n",
       "         -0.01716191, -0.29882944, -0.09668861, -0.13145429, -0.19715492,\n",
       "          0.14239407, -0.21324855,  0.21337712,  0.13615367, -0.07953954,\n",
       "         -0.09790245,  0.09760484, -0.28655738,  0.0665693 , -0.23268944,\n",
       "          0.24947143,  0.17445281,  0.10569814,  0.05018741]],\n",
       "       dtype=float32)>,\n",
       " <tf.Variable 'dense/bias:0' shape=(64,) dtype=float32, numpy=\n",
       " array([0., 0., 0., 0., 0., 0., 0., 0., 0., 0., 0., 0., 0., 0., 0., 0., 0.,\n",
       "        0., 0., 0., 0., 0., 0., 0., 0., 0., 0., 0., 0., 0., 0., 0., 0., 0.,\n",
       "        0., 0., 0., 0., 0., 0., 0., 0., 0., 0., 0., 0., 0., 0., 0., 0., 0.,\n",
       "        0., 0., 0., 0., 0., 0., 0., 0., 0., 0., 0., 0., 0.], dtype=float32)>,\n",
       " <tf.Variable 'dense_1/kernel:0' shape=(64, 64) dtype=float32, numpy=\n",
       " array([[ 0.19667242,  0.12538628,  0.00804923, ...,  0.10099314,\n",
       "          0.05860047,  0.08848588],\n",
       "        [ 0.03737138,  0.19205587,  0.01500455, ...,  0.03814252,\n",
       "         -0.09735519, -0.04778878],\n",
       "        [-0.01263729,  0.03527434,  0.1950521 , ...,  0.12621482,\n",
       "          0.07647152,  0.03631009],\n",
       "        ...,\n",
       "        [-0.03702588, -0.21591623,  0.15163188, ..., -0.14358781,\n",
       "         -0.07713829,  0.10313721],\n",
       "        [-0.20344433, -0.1744114 , -0.04350559, ..., -0.18518355,\n",
       "          0.17041428,  0.1919222 ],\n",
       "        [ 0.0782304 , -0.1457135 ,  0.05614732, ..., -0.05489829,\n",
       "          0.17917813,  0.12134399]], dtype=float32)>,\n",
       " <tf.Variable 'dense_1/bias:0' shape=(64,) dtype=float32, numpy=\n",
       " array([0., 0., 0., 0., 0., 0., 0., 0., 0., 0., 0., 0., 0., 0., 0., 0., 0.,\n",
       "        0., 0., 0., 0., 0., 0., 0., 0., 0., 0., 0., 0., 0., 0., 0., 0., 0.,\n",
       "        0., 0., 0., 0., 0., 0., 0., 0., 0., 0., 0., 0., 0., 0., 0., 0., 0.,\n",
       "        0., 0., 0., 0., 0., 0., 0., 0., 0., 0., 0., 0., 0.], dtype=float32)>,\n",
       " <tf.Variable 'dense_2/kernel:0' shape=(64, 32) dtype=float32, numpy=\n",
       " array([[ 0.22709775,  0.14478362,  0.00929445, ..., -0.13105083,\n",
       "          0.02533573, -0.01325703],\n",
       "        [ 0.02925998,  0.09846735, -0.22157574, ...,  0.11661685,\n",
       "          0.06766599,  0.1021747 ],\n",
       "        [ 0.04315275,  0.22176701,  0.01732576, ...,  0.15678972,\n",
       "          0.08992642, -0.03311807],\n",
       "        ...,\n",
       "        [ 0.04865789,  0.13512713,  0.2393663 , ..., -0.08413148,\n",
       "          0.19979352, -0.1008597 ],\n",
       "        [-0.10146111,  0.03874731, -0.10876   , ..., -0.15973479,\n",
       "          0.03223896,  0.17764282],\n",
       "        [-0.15415269, -0.0580883 ,  0.07248217, ..., -0.17160869,\n",
       "         -0.01073706,  0.20717174]], dtype=float32)>,\n",
       " <tf.Variable 'dense_2/bias:0' shape=(32,) dtype=float32, numpy=\n",
       " array([0., 0., 0., 0., 0., 0., 0., 0., 0., 0., 0., 0., 0., 0., 0., 0., 0.,\n",
       "        0., 0., 0., 0., 0., 0., 0., 0., 0., 0., 0., 0., 0., 0., 0.],\n",
       "       dtype=float32)>,\n",
       " <tf.Variable 'dense_3/kernel:0' shape=(32, 10) dtype=float32, numpy=\n",
       " array([[ 0.34333953,  0.21889225,  0.01405188,  0.33896467,  0.28697523,\n",
       "          0.03802952, -0.04095048, -0.08531511, -0.0969359 ,  0.29792985],\n",
       "        [ 0.24944529, -0.21096791,  0.34550872, -0.09398189,  0.07183868,\n",
       "         -0.10197452,  0.00520524, -0.3149108 , -0.04118991,  0.36343613],\n",
       "        [-0.21890073,  0.12215182, -0.25016594, -0.02534467,  0.15859804,\n",
       "          0.3492231 , -0.2772801 ,  0.31786165,  0.01342937, -0.19813022],\n",
       "        [ 0.03830403, -0.02004275,  0.04423693,  0.14886865, -0.33499104,\n",
       "          0.25059614, -0.23318943, -0.04697514, -0.03970158,  0.27708647],\n",
       "        [ 0.17102471, -0.16239733,  0.00143895,  0.31734422,  0.23015681,\n",
       "         -0.08888829, -0.18593684, -0.02188206, -0.14927162,  0.01470268],\n",
       "        [ 0.31339177,  0.02647045,  0.12174395, -0.29607332, -0.16994624,\n",
       "         -0.35125133, -0.37341696, -0.03130633, -0.3395167 ,  0.18506321],\n",
       "        [ 0.12876347,  0.17630807,  0.10230136,  0.15447363,  0.06524083,\n",
       "          0.3352802 ,  0.0261941 , -0.2273041 ,  0.33373943,  0.16738239],\n",
       "        [ 0.2538928 ,  0.05056453,  0.12911138, -0.1630047 ,  0.2428833 ,\n",
       "          0.37531897,  0.24724719,  0.3507991 , -0.1622234 ,  0.1167466 ],\n",
       "        [-0.18031743,  0.21376243, -0.35679117, -0.17974243,  0.20958439,\n",
       "         -0.25372517, -0.36188385,  0.3564292 ,  0.322143  ,  0.14761642],\n",
       "        [ 0.2550541 ,  0.19365653, -0.19381116,  0.23704377,  0.13595596,\n",
       "         -0.05006981,  0.05963549, -0.33294752, -0.18237852, -0.21288265],\n",
       "        [ 0.21050462, -0.1361973 , -0.2808896 ,  0.3664947 , -0.17914532,\n",
       "         -0.03196976,  0.27333328,  0.07873005,  0.15691212,  0.36449257],\n",
       "        [ 0.02335891,  0.3763171 , -0.32796964,  0.22669175, -0.15438513,\n",
       "          0.00977266, -0.29926956,  0.30679783,  0.057805  , -0.08297673],\n",
       "        [ 0.2829964 , -0.21273613,  0.3240448 , -0.06934002, -0.19352694,\n",
       "          0.06658703, -0.16995715, -0.08342695, -0.02206147,  0.06157994],\n",
       "        [ 0.34051087, -0.13401285, -0.0223693 ,  0.35712132,  0.10817066,\n",
       "         -0.0128732 ,  0.28920564, -0.20175739,  0.02341616,  0.37257627],\n",
       "        [-0.17358927, -0.0023025 , -0.04265317,  0.06733632,  0.25844166,\n",
       "         -0.1953685 ,  0.10942179, -0.22611775, -0.19048353, -0.10038421],\n",
       "        [-0.01049304, -0.06867543,  0.02170515,  0.34884176, -0.25163257,\n",
       "          0.34785476, -0.2301972 ,  0.13845113,  0.22978148,  0.09074023],\n",
       "        [-0.09600529,  0.26881608,  0.08475685, -0.342254  , -0.33074576,\n",
       "          0.26710066,  0.13609084, -0.34196925,  0.29275057, -0.275365  ],\n",
       "        [-0.17087856,  0.25921205,  0.05995366, -0.02167597, -0.37742972,\n",
       "         -0.12212035, -0.16603035, -0.24901205,  0.17984757, -0.26933873],\n",
       "        [ 0.26950112,  0.17196581, -0.10046062, -0.12365347,  0.12327757,\n",
       "         -0.3619298 ,  0.08407882, -0.2938931 ,  0.3150892 ,  0.22033867],\n",
       "        [ 0.13349965,  0.06338808, -0.03087008,  0.34149423,  0.06574112,\n",
       "         -0.25483465, -0.10093263,  0.20276377,  0.20634177, -0.05088851],\n",
       "        [ 0.32528415, -0.18361154, -0.13340205,  0.3167511 , -0.00976175,\n",
       "         -0.18829386, -0.10346988, -0.33549738,  0.29207364, -0.13912211],\n",
       "        [-0.2758883 , -0.1644129 ,  0.36244014, -0.21421453, -0.30276328,\n",
       "         -0.28666285, -0.18333976, -0.16580975,  0.03947768,  0.3296468 ],\n",
       "        [-0.35702112,  0.31152633,  0.3639607 ,  0.01203316, -0.12054831,\n",
       "         -0.18619023,  0.359511  ,  0.14231864, -0.2812196 , -0.26055977],\n",
       "        [ 0.21838114,  0.07078066, -0.13109127,  0.06394157, -0.28916997,\n",
       "          0.277445  ,  0.24843559, -0.29747307,  0.16729781, -0.06172755],\n",
       "        [ 0.37093648,  0.0456984 ,  0.2983556 ,  0.21966633, -0.34372053,\n",
       "         -0.29520696,  0.23784462,  0.25517026,  0.20430121,  0.13306978],\n",
       "        [ 0.25511113, -0.07834813,  0.3713793 , -0.01510188, -0.30775386,\n",
       "         -0.00518146,  0.19900241, -0.26258552, -0.00392175,  0.15695938],\n",
       "        [ 0.19526967, -0.02182007, -0.1317764 ,  0.09910864, -0.13672726,\n",
       "          0.10020605, -0.0986414 ,  0.04449746,  0.13236907,  0.19085243],\n",
       "        [-0.16524771, -0.07552892,  0.05919805,  0.04436067,  0.2303302 ,\n",
       "         -0.03264228, -0.07023069,  0.35022214,  0.10617185,  0.10518581],\n",
       "        [-0.06759828, -0.13851033, -0.15582353, -0.0241285 ,  0.24131784,\n",
       "          0.2914538 , -0.25597775, -0.31377906,  0.03463593,  0.14768574],\n",
       "        [ 0.2580134 ,  0.21524653, -0.00921917, -0.08421671,  0.29050508,\n",
       "          0.32414022,  0.20833614,  0.3268598 , -0.3428783 ,  0.20743123],\n",
       "        [ 0.12758604,  0.07580611,  0.24023202, -0.32333705,  0.28756675,\n",
       "          0.12574473,  0.03086415,  0.23719075,  0.30223772, -0.06710654],\n",
       "        [-0.37624753, -0.10341346, -0.23566557,  0.24022254, -0.33286956,\n",
       "         -0.15153095, -0.23937348, -0.3483722 , -0.15922514, -0.02402866]],\n",
       "       dtype=float32)>,\n",
       " <tf.Variable 'dense_3/bias:0' shape=(10,) dtype=float32, numpy=array([0., 0., 0., 0., 0., 0., 0., 0., 0., 0.], dtype=float32)>]"
      ]
     },
     "execution_count": 5,
     "metadata": {},
     "output_type": "execute_result"
    }
   ],
   "source": [
    "model.weights"
   ]
  },
  {
   "cell_type": "markdown",
   "id": "88615553",
   "metadata": {},
   "source": [
    "Summary a model"
   ]
  },
  {
   "cell_type": "code",
   "execution_count": 6,
   "id": "b181ace0",
   "metadata": {},
   "outputs": [
    {
     "name": "stdout",
     "output_type": "stream",
     "text": [
      "Model: \"sequential\"\n",
      "_________________________________________________________________\n",
      " Layer (type)                Output Shape              Param #   \n",
      "=================================================================\n",
      " dense (Dense)               (None, 64)                256       \n",
      "                                                                 \n",
      " dense_1 (Dense)             (None, 64)                4160      \n",
      "                                                                 \n",
      " dense_2 (Dense)             (None, 32)                2080      \n",
      "                                                                 \n",
      " dense_3 (Dense)             (None, 10)                330       \n",
      "                                                                 \n",
      "=================================================================\n",
      "Total params: 6,826\n",
      "Trainable params: 6,826\n",
      "Non-trainable params: 0\n",
      "_________________________________________________________________\n"
     ]
    }
   ],
   "source": [
    "model.summary()"
   ]
  },
  {
   "cell_type": "markdown",
   "id": "858d1056",
   "metadata": {},
   "source": [
    "Naming Each layers"
   ]
  },
  {
   "cell_type": "code",
   "execution_count": 7,
   "id": "d6f5994a",
   "metadata": {},
   "outputs": [
    {
     "name": "stdout",
     "output_type": "stream",
     "text": [
      "Model: \"test_model\"\n",
      "_________________________________________________________________\n",
      " Layer (type)                Output Shape              Param #   \n",
      "=================================================================\n",
      " first_layer (Dense)         (None, None, 64)          256       \n",
      "                                                                 \n",
      " last_layer (Dense)          (None, None, 64)          4160      \n",
      "                                                                 \n",
      "=================================================================\n",
      "Total params: 4,416\n",
      "Trainable params: 4,416\n",
      "Non-trainable params: 0\n",
      "_________________________________________________________________\n"
     ]
    }
   ],
   "source": [
    "model = keras.Sequential(name='test_model')\n",
    "model.add(keras.layers.Dense(64, activation='relu', input_shape=(None, 3), name='first_layer'))\n",
    "model.add(keras.layers.Dense(64, activation='softmax', name='last_layer'))\n",
    "\n",
    "# summary\n",
    "model.summary()"
   ]
  },
  {
   "cell_type": "markdown",
   "id": "71a97961",
   "metadata": {},
   "source": [
    "#### The Functional API"
   ]
  },
  {
   "cell_type": "markdown",
   "id": "c3c4db02",
   "metadata": {},
   "source": [
    "Common ways to build a Model.\n",
    "\\\n",
    "Simple Functional model with two Dense layers\n",
    "\n"
   ]
  },
  {
   "cell_type": "code",
   "execution_count": 12,
   "id": "f19568db-5be0-4994-b0bf-9bcbd980d35b",
   "metadata": {},
   "outputs": [],
   "source": [
    "inputs = keras.Input(shape=(3,), name='inputs')\n",
    "features = keras.layers.Dense(units=64, activation='relu')(inputs)\n",
    "outputs = keras.layers.Dense(units=10, activation='sigmoid')(features)\n",
    "\n",
    "model = keras.Model(inputs, outputs)"
   ]
  },
  {
   "cell_type": "code",
   "execution_count": 13,
   "id": "04248b0c-5425-42bf-a73a-542d12881372",
   "metadata": {},
   "outputs": [
    {
     "name": "stdout",
     "output_type": "stream",
     "text": [
      "Model: \"model_3\"\n",
      "_________________________________________________________________\n",
      " Layer (type)                Output Shape              Param #   \n",
      "=================================================================\n",
      " inputs (InputLayer)         [(None, 3)]               0         \n",
      "                                                                 \n",
      " dense_10 (Dense)            (None, 64)                256       \n",
      "                                                                 \n",
      " dense_11 (Dense)            (None, 10)                650       \n",
      "                                                                 \n",
      "=================================================================\n",
      "Total params: 906\n",
      "Trainable params: 906\n",
      "Non-trainable params: 0\n",
      "_________________________________________________________________\n"
     ]
    }
   ],
   "source": [
    "model.summary()"
   ]
  },
  {
   "cell_type": "markdown",
   "id": "e9e97910-c938-414b-bc3d-0c1d840a805c",
   "metadata": {},
   "source": [
    "Multi-inputs, Multi-outputs Model\n",
    "\\\n",
    "Building a system to rank customer support ticket by priority and route them to the appropriate department"
   ]
  },
  {
   "cell_type": "code",
   "execution_count": 29,
   "id": "9bc0995b-3095-4e39-8962-c77571941615",
   "metadata": {},
   "outputs": [],
   "source": [
    "vocab_size = 10000\n",
    "num_tags = 100\n",
    "num_departments = 4"
   ]
  },
  {
   "cell_type": "code",
   "execution_count": 23,
   "id": "c112c9fe-b77c-47fc-ac47-a94d48000995",
   "metadata": {},
   "outputs": [],
   "source": [
    "# inputs \n",
    "\n",
    "# title of the ticket\n",
    "title = keras.Input(shape=(vocab_size,), name='title')\n",
    "\n",
    "# text body of the ticket\n",
    "text_body = keras.Input(shape=(vocab_size,), name='text_body')\n",
    "\n",
    "# tags added by the user\n",
    "tags = keras.Input(shape=(num_tags, ), name='tags')\n",
    "\n",
    "# features\n",
    "features = keras.layers.Concatenate()([title, text_body, tags])\n",
    "features = keras.layers.Dense(units=64, activation='relu')(features)\n",
    "\n",
    "# outputs\n",
    "priority = keras.layers.Dense(units=1, activation='sigmoid', name='priority')(features)\n",
    "department = keras.layers.Dense(units=num_departement, activation='softmax', name='department')(features)\n",
    "\n",
    "# create the model by specifying its inputs and outputs\n",
    "model = keras.Model(inputs= [title, text_body, tags], outputs= [priority, department])"
   ]
  },
  {
   "cell_type": "code",
   "execution_count": 25,
   "id": "5859a047-16be-4404-a1ee-272021b89bb6",
   "metadata": {},
   "outputs": [
    {
     "name": "stdout",
     "output_type": "stream",
     "text": [
      "Model: \"model_4\"\n",
      "__________________________________________________________________________________________________\n",
      " Layer (type)                   Output Shape         Param #     Connected to                     \n",
      "==================================================================================================\n",
      " title (InputLayer)             [(None, 10000)]      0           []                               \n",
      "                                                                                                  \n",
      " text_body (InputLayer)         [(None, 10000)]      0           []                               \n",
      "                                                                                                  \n",
      " tags (InputLayer)              [(None, 100)]        0           []                               \n",
      "                                                                                                  \n",
      " concatenate_1 (Concatenate)    (None, 20100)        0           ['title[0][0]',                  \n",
      "                                                                  'text_body[0][0]',              \n",
      "                                                                  'tags[0][0]']                   \n",
      "                                                                                                  \n",
      " dense_13 (Dense)               (None, 64)           1286464     ['concatenate_1[0][0]']          \n",
      "                                                                                                  \n",
      " priority (Dense)               (None, 1)            65          ['dense_13[0][0]']               \n",
      "                                                                                                  \n",
      " department (Dense)             (None, 4)            260         ['dense_13[0][0]']               \n",
      "                                                                                                  \n",
      "==================================================================================================\n",
      "Total params: 1,286,789\n",
      "Trainable params: 1,286,789\n",
      "Non-trainable params: 0\n",
      "__________________________________________________________________________________________________\n"
     ]
    }
   ],
   "source": [
    "model.summary()"
   ]
  },
  {
   "cell_type": "markdown",
   "id": "8fe0aa46-ea30-4121-b0b7-679d07032e15",
   "metadata": {},
   "source": [
    "Training a Multi-input, Multi-output Model"
   ]
  },
  {
   "cell_type": "code",
   "execution_count": 30,
   "id": "d9b67e77-c233-4794-8e6e-995bc4129388",
   "metadata": {},
   "outputs": [],
   "source": [
    "num_samples = 1280\n",
    "\n",
    "# dummies dataset\n",
    "title_data = np.random.randint(0, 2, size=(num_samples, vocab_size))\n",
    "text_body_data = np.random.randint(0, 2, size=(num_samples, vocab_size))\n",
    "tags_data = np.random.randint(0, 2, size=(num_samples, num_tags))\n",
    "\n",
    "priority_data = np.random.random(size=(num_samples, 1))\n",
    "department_data = np.random.randint(0, 2, size=(num_samples, num_departments))"
   ]
  },
  {
   "cell_type": "code",
   "execution_count": 31,
   "id": "738e99ee-b109-461f-8634-0cce225e1452",
   "metadata": {},
   "outputs": [
    {
     "name": "stderr",
     "output_type": "stream",
     "text": [
      "2022-03-21 23:20:34.587438: W tensorflow/core/platform/profile_utils/cpu_utils.cc:128] Failed to get CPU frequency: 0 Hz\n",
      "2022-03-21 23:20:34.901106: I tensorflow/core/grappler/optimizers/custom_graph_optimizer_registry.cc:112] Plugin optimizer for device_type GPU is enabled.\n"
     ]
    },
    {
     "name": "stdout",
     "output_type": "stream",
     "text": [
      "40/40 [==============================] - 3s 12ms/step - loss: 362.8061 - priority_loss: 0.3235 - department_loss: 362.4826 - priority_mean_absolute_error: 0.4873 - department_accuracy: 0.2320\n"
     ]
    },
    {
     "data": {
      "text/plain": [
       "<keras.callbacks.History at 0x17352b370>"
      ]
     },
     "execution_count": 31,
     "metadata": {},
     "output_type": "execute_result"
    }
   ],
   "source": [
    "# train model\n",
    "model.compile(\n",
    "    optimizer = keras.optimizers.Adam(learning_rate=1e-2),\n",
    "    loss = ['mean_squared_error', 'categorical_crossentropy'],\n",
    "    metrics = [['mean_absolute_error'], ['accuracy']]\n",
    ")\n",
    "\n",
    "model.fit(\n",
    "    [title_data, text_body_data, tags_data],\n",
    "    [priority_data, department_data],\n",
    "    epochs = 1)"
   ]
  },
  {
   "cell_type": "code",
   "execution_count": 32,
   "id": "18cfea09-1367-4787-bc58-a37db66e90fa",
   "metadata": {},
   "outputs": [
    {
     "name": "stdout",
     "output_type": "stream",
     "text": [
      "11/40 [=======>......................] - ETA: 0s - loss: 844.9823 - priority_loss: 0.3444 - department_loss: 844.6378 - priority_mean_absolute_error: 0.5117 - department_accuracy: 0.5398"
     ]
    },
    {
     "name": "stderr",
     "output_type": "stream",
     "text": [
      "2022-03-21 23:21:49.318105: I tensorflow/core/grappler/optimizers/custom_graph_optimizer_registry.cc:112] Plugin optimizer for device_type GPU is enabled.\n"
     ]
    },
    {
     "name": "stdout",
     "output_type": "stream",
     "text": [
      "40/40 [==============================] - 1s 9ms/step - loss: 844.0298 - priority_loss: 0.3277 - department_loss: 843.7021 - priority_mean_absolute_error: 0.4923 - department_accuracy: 0.5641\n"
     ]
    },
    {
     "data": {
      "text/plain": [
       "[844.02978515625,\n",
       " 0.32774293422698975,\n",
       " 843.7020874023438,\n",
       " 0.4923197329044342,\n",
       " 0.5640625357627869]"
      ]
     },
     "execution_count": 32,
     "metadata": {},
     "output_type": "execute_result"
    }
   ],
   "source": [
    "# predict\n",
    "\n",
    "model.evaluate([title_data, text_body_data, tags_data], [priority_data, department_data])"
   ]
  },
  {
   "cell_type": "markdown",
   "id": "f604cd8e-4df4-465d-b5c4-960d0ee991f2",
   "metadata": {},
   "source": [
    "Retrieving the inputs or outputs of a layers in a Functional model"
   ]
  },
  {
   "cell_type": "code",
   "execution_count": 37,
   "id": "1b0a593c-4ef4-40ec-95cd-eda60a68f621",
   "metadata": {},
   "outputs": [
    {
     "data": {
      "text/plain": [
       "[<keras.engine.input_layer.InputLayer at 0x17bcf58e0>,\n",
       " <keras.engine.input_layer.InputLayer at 0x17bcf5b80>,\n",
       " <keras.engine.input_layer.InputLayer at 0x17bcf5130>,\n",
       " <keras.layers.merge.Concatenate at 0x17bcf5730>,\n",
       " <keras.layers.core.dense.Dense at 0x17bdbc100>,\n",
       " <keras.layers.core.dense.Dense at 0x17353f850>,\n",
       " <keras.layers.core.dense.Dense at 0x17bdba160>]"
      ]
     },
     "execution_count": 37,
     "metadata": {},
     "output_type": "execute_result"
    }
   ],
   "source": [
    "model.layers"
   ]
  },
  {
   "cell_type": "code",
   "execution_count": 42,
   "id": "d6fc85d7-9d6c-44ee-8dca-0ece5c68526e",
   "metadata": {},
   "outputs": [
    {
     "data": {
      "text/plain": [
       "[<KerasTensor: shape=(None, 10000) dtype=float32 (created by layer 'title')>,\n",
       " <KerasTensor: shape=(None, 10000) dtype=float32 (created by layer 'text_body')>,\n",
       " <KerasTensor: shape=(None, 100) dtype=float32 (created by layer 'tags')>]"
      ]
     },
     "execution_count": 42,
     "metadata": {},
     "output_type": "execute_result"
    }
   ],
   "source": [
    "# retrive input \n",
    "model.layers[3].input"
   ]
  },
  {
   "cell_type": "code",
   "execution_count": 48,
   "id": "4d659e17-6a76-4ba6-ba16-b3aa34541641",
   "metadata": {},
   "outputs": [],
   "source": [
    "# build a new model using exist inputs\n",
    "inputs = model.layers[3].input\n",
    "features = model.layers[4].output\n",
    "\n",
    "difficulty = keras.layers.Dense(units=3, activation='softmax', name='difficulty')(features)\n",
    "\n",
    "new_model = keras.Model(inputs = inputs, outputs = [priority, department, difficulty])"
   ]
  },
  {
   "cell_type": "code",
   "execution_count": 50,
   "id": "f2fbb05c-353a-47db-b818-0eb222ecc620",
   "metadata": {},
   "outputs": [
    {
     "name": "stdout",
     "output_type": "stream",
     "text": [
      "Model: \"model_6\"\n",
      "__________________________________________________________________________________________________\n",
      " Layer (type)                   Output Shape         Param #     Connected to                     \n",
      "==================================================================================================\n",
      " title (InputLayer)             [(None, 10000)]      0           []                               \n",
      "                                                                                                  \n",
      " text_body (InputLayer)         [(None, 10000)]      0           []                               \n",
      "                                                                                                  \n",
      " tags (InputLayer)              [(None, 100)]        0           []                               \n",
      "                                                                                                  \n",
      " concatenate_1 (Concatenate)    (None, 20100)        0           ['title[0][0]',                  \n",
      "                                                                  'text_body[0][0]',              \n",
      "                                                                  'tags[0][0]']                   \n",
      "                                                                                                  \n",
      " dense_13 (Dense)               (None, 64)           1286464     ['concatenate_1[0][0]']          \n",
      "                                                                                                  \n",
      " priority (Dense)               (None, 1)            65          ['dense_13[0][0]']               \n",
      "                                                                                                  \n",
      " department (Dense)             (None, 4)            260         ['dense_13[0][0]']               \n",
      "                                                                                                  \n",
      " difficulty (Dense)             (None, 3)            195         ['dense_13[0][0]']               \n",
      "                                                                                                  \n",
      "==================================================================================================\n",
      "Total params: 1,286,984\n",
      "Trainable params: 1,286,984\n",
      "Non-trainable params: 0\n",
      "__________________________________________________________________________________________________\n"
     ]
    }
   ],
   "source": [
    "new_model.summary()"
   ]
  },
  {
   "cell_type": "code",
   "execution_count": null,
   "id": "b8c322ee-1a99-4a25-9a44-1107dd5938d5",
   "metadata": {},
   "outputs": [],
   "source": []
  }
 ],
 "metadata": {
  "interpreter": {
   "hash": "af938e745b869fc0bb119cb255e80df8e6694c91036d995a3efb80f9282657b8"
  },
  "kernelspec": {
   "display_name": "one4all",
   "language": "python",
   "name": "one4all"
  },
  "language_info": {
   "codemirror_mode": {
    "name": "ipython",
    "version": 3
   },
   "file_extension": ".py",
   "mimetype": "text/x-python",
   "name": "python",
   "nbconvert_exporter": "python",
   "pygments_lexer": "ipython3",
   "version": "3.8.12"
  }
 },
 "nbformat": 4,
 "nbformat_minor": 5
}
