{
 "cells": [
  {
   "cell_type": "markdown",
   "id": "55ea2cb6",
   "metadata": {},
   "source": [
    "# Working with Keras a Deep Dive \n",
    "- Creating Keras models with the `Sequential` class, the `Function API`, and `Model Subclassing`\n",
    "- Using built-in **Keras** `Training` and `Evaluation Loops`\n",
    "- Using **Keras** `callbacks` to customize training\n",
    "- Using **TensorBoard** to `Monitor training` and `Evaluation Metrics`\n",
    "- Writing `Training` and `Evaluation Loops` from sratch"
   ]
  },
  {
   "cell_type": "code",
   "execution_count": 1,
   "id": "9d238f0f-1404-4dfa-95bf-cd824bc7b125",
   "metadata": {},
   "outputs": [],
   "source": [
    "import numpy as np\n",
    "\n",
    "from tensorflow import keras"
   ]
  },
  {
   "cell_type": "markdown",
   "id": "d5d8ccc9-7c48-46f0-be06-75efd9941ead",
   "metadata": {},
   "source": [
    "## 3 different ways to build Keras model"
   ]
  },
  {
   "cell_type": "markdown",
   "id": "7c38b5d7",
   "metadata": {},
   "source": [
    "#### The Sequential Model\n",
    "It's the most user-friendly API; it's just a Python list. Pros: Ideal for inexperienced users. Cons: constrained to simple layer stacks\n",
    "\n",
    "The Sequential class"
   ]
  },
  {
   "cell_type": "code",
   "execution_count": 2,
   "id": "78d16fd3",
   "metadata": {},
   "outputs": [
    {
     "name": "stdout",
     "output_type": "stream",
     "text": [
      "Metal device set to: Apple M1 Pro\n"
     ]
    },
    {
     "name": "stderr",
     "output_type": "stream",
     "text": [
      "2022-03-22 19:32:08.194205: I tensorflow/core/common_runtime/pluggable_device/pluggable_device_factory.cc:305] Could not identify NUMA node of platform GPU ID 0, defaulting to 0. Your kernel may not have been built with NUMA support.\n",
      "2022-03-22 19:32:08.194567: I tensorflow/core/common_runtime/pluggable_device/pluggable_device_factory.cc:271] Created TensorFlow device (/job:localhost/replica:0/task:0/device:GPU:0 with 0 MB memory) -> physical PluggableDevice (device: 0, name: METAL, pci bus id: <undefined>)\n"
     ]
    }
   ],
   "source": [
    "model = keras.Sequential([\n",
    "    keras.layers.Dense(64, activation='relu'),\n",
    "    keras.layers.Dense(64, activation='relu'),\n",
    "    keras.layers.Dense(32, activation='relu'),\n",
    "])"
   ]
  },
  {
   "cell_type": "markdown",
   "id": "66cfd218",
   "metadata": {},
   "source": [
    "Incrementally building a Sequential model"
   ]
  },
  {
   "cell_type": "code",
   "execution_count": 3,
   "id": "4e5051d9",
   "metadata": {},
   "outputs": [],
   "source": [
    "model.add(keras.layers.Dense(10, activation='softmax'))"
   ]
  },
  {
   "cell_type": "markdown",
   "id": "c29ebeec",
   "metadata": {},
   "source": [
    "Build a model"
   ]
  },
  {
   "cell_type": "code",
   "execution_count": 4,
   "id": "8dfe0738",
   "metadata": {},
   "outputs": [],
   "source": [
    "model.build(input_shape=(None, 3))"
   ]
  },
  {
   "cell_type": "markdown",
   "id": "d123354d",
   "metadata": {},
   "source": [
    "Checking a model weights"
   ]
  },
  {
   "cell_type": "code",
   "execution_count": 5,
   "id": "50798562",
   "metadata": {},
   "outputs": [
    {
     "data": {
      "text/plain": [
       "[<tf.Variable 'dense/kernel:0' shape=(3, 64) dtype=float32, numpy=\n",
       " array([[ 1.25467777e-05, -1.20943949e-01, -1.53224885e-01,\n",
       "         -8.68571550e-02, -2.70546883e-01,  2.32463598e-01,\n",
       "         -1.17774010e-02, -1.55422240e-01,  1.75913930e-01,\n",
       "         -1.48749545e-01, -1.92857236e-01,  4.96582389e-02,\n",
       "          2.62617826e-01, -2.12030932e-01, -4.90057766e-02,\n",
       "          2.77251422e-01, -2.07304090e-01,  7.02629387e-02,\n",
       "         -2.47921050e-01, -1.81252211e-01, -4.16259468e-02,\n",
       "          1.98020071e-01, -2.68627912e-01, -7.23579228e-02,\n",
       "         -2.56985307e-01,  1.61339074e-01,  1.27872527e-02,\n",
       "         -8.86335522e-02,  1.85892224e-01,  6.56902790e-02,\n",
       "         -1.59544766e-01, -1.51976869e-01,  2.46656239e-01,\n",
       "         -2.89082438e-01,  2.63829231e-01,  2.53752351e-01,\n",
       "         -1.26475513e-01,  2.46111333e-01, -2.90879339e-01,\n",
       "          1.89787298e-01,  1.33743256e-01,  1.66108102e-01,\n",
       "          2.44359970e-02, -1.22500747e-01, -2.04461336e-01,\n",
       "          4.82690930e-02,  1.86969787e-01, -1.63155094e-01,\n",
       "         -2.08721057e-01, -5.14401346e-02, -2.15568990e-01,\n",
       "         -2.17748135e-01,  1.22167051e-01,  2.93354452e-01,\n",
       "          1.04533672e-01, -2.82850862e-03,  1.83087051e-01,\n",
       "          7.65433908e-02, -1.83464423e-01,  8.05057883e-02,\n",
       "         -1.40189499e-01, -2.56147325e-01, -5.23834229e-02,\n",
       "         -1.08752251e-01],\n",
       "        [ 1.68894917e-01, -1.19604483e-01, -2.77842015e-01,\n",
       "          1.91288233e-01,  1.80112958e-01, -8.97714794e-02,\n",
       "          7.43171871e-02,  1.78879559e-01, -2.48219490e-01,\n",
       "         -1.49840727e-01,  1.17870748e-01, -1.90737069e-01,\n",
       "         -4.67436314e-02,  2.81482458e-01,  3.78446877e-02,\n",
       "         -1.37740999e-01,  1.75786376e-01,  1.72731489e-01,\n",
       "          9.64832008e-02,  1.90989971e-02,  1.27421588e-01,\n",
       "          1.30673021e-01,  1.15753859e-01, -4.97652590e-02,\n",
       "         -1.15272969e-01,  2.10058093e-01, -6.37007654e-02,\n",
       "         -1.78784966e-01, -2.10460722e-01, -2.42572054e-01,\n",
       "         -5.02876639e-02,  8.88800025e-02,  1.55306786e-01,\n",
       "          2.59564877e-01,  5.80516160e-02, -1.33494541e-01,\n",
       "          1.55130655e-01, -2.01331243e-01,  9.04893875e-02,\n",
       "         -2.62216866e-01,  1.83067441e-01, -1.72395080e-01,\n",
       "         -2.77689546e-01, -2.07145214e-02,  2.86661983e-02,\n",
       "          2.55653203e-01, -2.65052021e-02,  2.40538061e-01,\n",
       "          1.73357129e-02, -3.96214426e-02, -1.28612652e-01,\n",
       "         -1.03285253e-01, -3.93720865e-02,  2.35715091e-01,\n",
       "         -2.90021390e-01,  1.89053059e-01, -3.21231782e-02,\n",
       "         -2.05761492e-01, -1.44897997e-01, -2.88010240e-01,\n",
       "          1.21548265e-01,  2.63834178e-01, -1.37903377e-01,\n",
       "          4.20773029e-02],\n",
       "        [-1.12175852e-01, -2.45310664e-01, -5.38835824e-02,\n",
       "          1.55822933e-01,  4.33686674e-02,  6.78300858e-02,\n",
       "          2.03861713e-01, -7.74129629e-02,  2.63399065e-01,\n",
       "         -1.97912067e-01,  2.78954804e-02,  9.22730565e-02,\n",
       "          7.91594684e-02,  2.90642440e-01, -1.75511539e-01,\n",
       "         -2.79767245e-01,  4.07696962e-02,  1.87247545e-01,\n",
       "          1.35470331e-02, -2.95490295e-01,  2.48761594e-01,\n",
       "         -1.67214975e-01, -5.64879775e-02, -1.81534886e-02,\n",
       "          1.99342281e-01, -2.90745974e-01, -2.64091581e-01,\n",
       "         -3.60403061e-02, -2.72606194e-01, -7.85619318e-02,\n",
       "          2.65550554e-01,  5.49407899e-02,  6.45723343e-02,\n",
       "         -4.84595895e-02, -5.01751900e-03,  9.32589173e-03,\n",
       "          2.70602226e-01,  2.45234370e-01, -1.61137313e-01,\n",
       "         -3.71607244e-02, -1.80515558e-01,  9.34494436e-02,\n",
       "         -7.83915669e-02, -6.30508661e-02,  2.70294070e-01,\n",
       "         -3.95724177e-02,  1.80946559e-01,  1.88871354e-01,\n",
       "          2.94512749e-01,  1.29878789e-01, -1.98482841e-01,\n",
       "         -2.75816023e-01,  1.23565674e-01,  2.17490494e-01,\n",
       "          9.77080166e-02, -2.44492024e-01, -9.09340829e-02,\n",
       "         -1.34325877e-01, -1.80202991e-01, -2.08540320e-01,\n",
       "         -2.10384235e-01,  2.93843389e-01, -1.83829367e-02,\n",
       "         -1.86482206e-01]], dtype=float32)>,\n",
       " <tf.Variable 'dense/bias:0' shape=(64,) dtype=float32, numpy=\n",
       " array([0., 0., 0., 0., 0., 0., 0., 0., 0., 0., 0., 0., 0., 0., 0., 0., 0.,\n",
       "        0., 0., 0., 0., 0., 0., 0., 0., 0., 0., 0., 0., 0., 0., 0., 0., 0.,\n",
       "        0., 0., 0., 0., 0., 0., 0., 0., 0., 0., 0., 0., 0., 0., 0., 0., 0.,\n",
       "        0., 0., 0., 0., 0., 0., 0., 0., 0., 0., 0., 0., 0.], dtype=float32)>,\n",
       " <tf.Variable 'dense_1/kernel:0' shape=(64, 64) dtype=float32, numpy=\n",
       " array([[ 9.08970833e-06, -8.75017196e-02, -1.10856637e-01, ...,\n",
       "         -1.85319975e-01, -3.78988683e-02, -7.86811411e-02],\n",
       "        [ 1.22193739e-01, -8.65326226e-02, -2.01015860e-01, ...,\n",
       "          1.90881327e-01, -9.97716859e-02,  3.04424912e-02],\n",
       "        [-8.11580867e-02, -1.77479744e-01, -3.89842093e-02, ...,\n",
       "          2.12592676e-01, -1.32998824e-02, -1.34917974e-01],\n",
       "        ...,\n",
       "        [-1.19983777e-01, -1.08133465e-01, -1.47370979e-01, ...,\n",
       "         -1.15739912e-01,  2.14914873e-01, -6.13653958e-02],\n",
       "        [-1.87747359e-01, -1.21977307e-01, -1.28846049e-01, ...,\n",
       "          1.34940743e-02, -3.64735723e-04, -6.61859065e-02],\n",
       "        [ 2.03194335e-01, -7.90140778e-02, -5.04009426e-03, ...,\n",
       "         -2.16090769e-01,  2.09318697e-02, -1.81587443e-01]], dtype=float32)>,\n",
       " <tf.Variable 'dense_1/bias:0' shape=(64,) dtype=float32, numpy=\n",
       " array([0., 0., 0., 0., 0., 0., 0., 0., 0., 0., 0., 0., 0., 0., 0., 0., 0.,\n",
       "        0., 0., 0., 0., 0., 0., 0., 0., 0., 0., 0., 0., 0., 0., 0., 0., 0.,\n",
       "        0., 0., 0., 0., 0., 0., 0., 0., 0., 0., 0., 0., 0., 0., 0., 0., 0.,\n",
       "        0., 0., 0., 0., 0., 0., 0., 0., 0., 0., 0., 0., 0.], dtype=float32)>,\n",
       " <tf.Variable 'dense_2/kernel:0' shape=(64, 32) dtype=float32, numpy=\n",
       " array([[ 1.04904175e-05, -1.01038277e-01, -1.28006220e-01, ...,\n",
       "          5.48785925e-02, -1.33285940e-01, -1.26963615e-01],\n",
       "        [ 2.06060112e-01, -2.41503537e-01,  2.20406651e-01, ...,\n",
       "         -2.13989079e-01, -4.37618494e-02, -9.08531547e-02],\n",
       "        [ 1.41097188e-01, -9.99192595e-02, -2.32113123e-01, ...,\n",
       "         -2.02648103e-01, -4.20110226e-02,  7.42515922e-02],\n",
       "        ...,\n",
       "        [ 2.45189428e-01, -1.37803197e-01, -8.40236545e-02, ...,\n",
       "          1.81472421e-01, -6.10299706e-02, -1.67017341e-01],\n",
       "        [-1.61628962e-01,  6.86041117e-02, -7.93519616e-02, ...,\n",
       "          2.12800384e-01,  1.07716382e-01, -3.89832258e-02],\n",
       "        [-2.05989480e-01, -4.35201526e-02, -1.02497935e-01, ...,\n",
       "          1.42340302e-01, -1.04183972e-01, -9.27844048e-02]], dtype=float32)>,\n",
       " <tf.Variable 'dense_2/bias:0' shape=(32,) dtype=float32, numpy=\n",
       " array([0., 0., 0., 0., 0., 0., 0., 0., 0., 0., 0., 0., 0., 0., 0., 0., 0.,\n",
       "        0., 0., 0., 0., 0., 0., 0., 0., 0., 0., 0., 0., 0., 0., 0.],\n",
       "       dtype=float32)>,\n",
       " <tf.Variable 'dense_3/kernel:0' shape=(32, 10) dtype=float32, numpy=\n",
       " array([[ 1.58548355e-05, -1.52755514e-01, -1.93527207e-01,\n",
       "         -1.09702945e-01, -3.41708094e-01,  2.93607920e-01,\n",
       "         -1.48751736e-02, -1.96302533e-01,  2.22184092e-01,\n",
       "         -1.87874734e-01],\n",
       "        [-2.43583962e-01,  6.27197027e-02,  3.31693500e-01,\n",
       "         -2.67800868e-01, -6.18956089e-02,  3.50176066e-01,\n",
       "         -2.61830747e-01,  8.87440145e-02, -3.13131034e-01,\n",
       "         -2.28926510e-01],\n",
       "        [-5.25746942e-02,  2.50104755e-01, -3.39284390e-01,\n",
       "         -9.13900435e-02, -3.24579448e-01,  2.03775674e-01,\n",
       "          1.61506236e-02, -1.11946613e-01,  2.34786958e-01,\n",
       "          8.29686224e-02],\n",
       "        [-2.01509401e-01, -1.91950947e-01,  3.11533600e-01,\n",
       "         -3.65119010e-01,  3.33223552e-01,  3.20496112e-01,\n",
       "         -1.59742028e-01,  3.10845286e-01, -3.67388546e-01,\n",
       "          2.39706546e-01],\n",
       "        [ 1.68921381e-01,  2.09799021e-01,  3.08633149e-02,\n",
       "         -1.54721797e-01, -2.58240223e-01,  6.09652102e-02,\n",
       "          2.36147970e-01, -2.06069335e-01, -2.63620377e-01,\n",
       "         -6.49703145e-02],\n",
       "        [-2.72269517e-01, -2.75021851e-01,  1.54300362e-01,\n",
       "          3.70514661e-01,  1.32028908e-01, -3.57246399e-03,\n",
       "          2.31243938e-01,  9.66763794e-02, -2.31720567e-01,\n",
       "          1.01681024e-01],\n",
       "        [-1.77063152e-01, -3.23521078e-01, -6.61616921e-02,\n",
       "         -1.37357056e-01,  2.13318914e-01, -1.51063725e-01,\n",
       "         -3.50922048e-01,  2.41602272e-01,  2.27487594e-01,\n",
       "         -1.13383830e-01],\n",
       "        [ 9.38646495e-02,  2.25929767e-01, -3.13508004e-01,\n",
       "         -1.89252928e-01,  1.48873955e-01, -2.40906134e-01,\n",
       "         -5.90384603e-02,  3.55520040e-01,  4.77988422e-02,\n",
       "         -1.73970640e-01],\n",
       "        [ 2.22022980e-01,  2.18164593e-01,  1.21860921e-01,\n",
       "          2.41225362e-02,  1.60936922e-01,  1.65043622e-01,\n",
       "          1.46200269e-01, -6.28548861e-02, -1.45592913e-01,\n",
       "          2.65309125e-01],\n",
       "        [-8.04558098e-02, -2.25810274e-01, -2.65817642e-01,\n",
       "         -3.06375146e-01, -6.35147095e-02,  1.12257868e-01,\n",
       "          1.96156710e-01,  3.27837497e-01,  7.33207762e-02,\n",
       "         -1.68607250e-01],\n",
       "        [ 1.95934266e-01, -2.54286855e-01,  1.14290535e-01,\n",
       "         -3.31187040e-01,  2.31219202e-01, -2.17739701e-01,\n",
       "         -3.50729465e-01, -2.61629820e-02,  3.62061858e-02,\n",
       "          3.22896928e-01],\n",
       "        [-3.34767997e-02,  3.03806156e-01,  2.18954682e-02,\n",
       "         -5.00429571e-02, -1.62441298e-01, -1.30452096e-01,\n",
       "         -4.97280061e-02,  2.97714561e-01, -3.66304934e-01,\n",
       "          2.38779157e-01],\n",
       "        [-4.05724645e-02, -2.59882390e-01, -1.83010131e-01,\n",
       "         -3.63764793e-01,  1.53518766e-01,  3.33229750e-01,\n",
       "         -1.74175739e-01,  5.31447530e-02, -1.41681165e-01,\n",
       "         -3.09834063e-01],\n",
       "        [-6.80564344e-02,  1.96808606e-01,  5.47758341e-02,\n",
       "          8.56712461e-02,  2.57482916e-01, -9.77746844e-02,\n",
       "          3.32680255e-01, -2.49968335e-01,  3.52327526e-02,\n",
       "          1.16543382e-01],\n",
       "        [ 9.99805629e-02,  3.67089361e-01, -2.21675858e-01,\n",
       "         -3.53353679e-01,  5.14932573e-02,  2.36498743e-01,\n",
       "          1.71102583e-02, -3.73212308e-01,  3.14192683e-01,\n",
       "         -2.11197078e-01],\n",
       "        [-7.13458359e-02, -2.29283571e-02,  2.51774758e-01,\n",
       "         -3.67220104e-01, -3.33554864e-01, -4.55198884e-02,\n",
       "         -3.44309062e-01, -9.92258787e-02,  3.35397631e-01,\n",
       "          6.93917274e-02],\n",
       "        [ 8.15566480e-02, -6.12058043e-02, -6.33725524e-03,\n",
       "          1.17788613e-02,  3.41778010e-01,  3.09737712e-01,\n",
       "         -2.03520820e-01, -4.69350219e-02, -2.27996081e-01,\n",
       "          1.18029177e-01],\n",
       "        [-9.90106761e-02, -7.96349645e-02,  3.41388851e-01,\n",
       "         -4.99810576e-02,  2.28540450e-01,  2.38549680e-01,\n",
       "          3.71977657e-01,  1.64040476e-01, -2.50689268e-01,\n",
       "         -3.48363191e-01],\n",
       "        [ 1.56066805e-01,  2.74696440e-01,  1.23407871e-01,\n",
       "         -3.08800101e-01, -1.14852220e-01, -1.69657245e-01,\n",
       "         -2.27601290e-01, -2.63392121e-01, -2.65721023e-01,\n",
       "          3.71132225e-01],\n",
       "        [-2.32181549e-02, -2.35532120e-01,  2.76052505e-01,\n",
       "         -5.63066900e-02, -2.56766081e-01,  1.05848908e-03,\n",
       "          5.97636998e-02, -6.07863963e-02, -5.52996695e-02,\n",
       "         -1.54944360e-02],\n",
       "        [ 3.59164208e-01, -5.29347956e-02, -2.14234725e-01,\n",
       "         -8.83108377e-02, -1.09006107e-01, -1.34255886e-01,\n",
       "          1.35865301e-01,  3.07273567e-02, -2.74101436e-01,\n",
       "          4.23029959e-02],\n",
       "        [-2.07845926e-01, -2.72755682e-01,  5.24776578e-02,\n",
       "          2.69247919e-01,  1.82192177e-01, -2.12906808e-01,\n",
       "         -8.63516331e-03,  1.79357201e-01,  7.91874528e-02,\n",
       "          1.48479730e-01],\n",
       "        [ 3.40347886e-02, -2.03563809e-01,  1.12679005e-02,\n",
       "          1.40257984e-01, -1.07474923e-02,  3.20291519e-03,\n",
       "          3.74997407e-01, -1.04956478e-01, -1.82567120e-01,\n",
       "         -2.47522652e-01],\n",
       "        [-4.71895039e-02, -6.72902763e-02, -2.01415226e-01,\n",
       "         -1.45903528e-01,  3.35455090e-01,  2.12159246e-01,\n",
       "          2.40528017e-01,  1.23854071e-01,  3.34199280e-01,\n",
       "          3.32923532e-02],\n",
       "        [ 3.97446752e-03, -2.08659649e-01,  1.95483774e-01,\n",
       "          2.55418986e-01,  2.07138270e-01,  2.36818999e-01,\n",
       "         -1.32094026e-02, -1.49946034e-01, -2.35622495e-01,\n",
       "          2.46473521e-01],\n",
       "        [-1.70605153e-01,  4.95523214e-04,  1.47091478e-01,\n",
       "          6.65082633e-02,  1.44847482e-01,  2.49750704e-01,\n",
       "          1.06710643e-01,  1.94663197e-01,  3.37813050e-01,\n",
       "         -3.53520811e-02],\n",
       "        [-4.68506813e-02,  1.52009279e-01, -2.68673956e-01,\n",
       "          1.33318812e-01,  2.09226102e-01, -1.29592404e-01,\n",
       "          3.09265107e-01, -1.50333792e-01,  2.38118380e-01,\n",
       "          5.71832955e-02],\n",
       "        [ 1.13858551e-01, -2.34053984e-01, -3.22547853e-02,\n",
       "          1.39678687e-01,  3.43796998e-01, -1.85991362e-01,\n",
       "          2.81860560e-01, -2.28852704e-01,  1.42080814e-01,\n",
       "         -2.90234149e-01],\n",
       "        [-2.59836972e-01, -2.07459241e-01,  6.59272075e-02,\n",
       "         -1.52806520e-01,  3.94001603e-02,  1.11343473e-01,\n",
       "         -2.22317562e-01,  2.06849903e-01, -1.67051792e-01,\n",
       "         -1.50845915e-01],\n",
       "        [ 1.29008919e-01, -2.50254869e-02, -1.32368803e-01,\n",
       "          2.53504485e-01, -1.57895967e-01, -4.29106355e-02,\n",
       "         -1.56305268e-01,  2.13418454e-01,  1.36320204e-01,\n",
       "          6.28139675e-02],\n",
       "        [-1.35060236e-01, -2.60581136e-01, -3.75977010e-01,\n",
       "         -5.98400235e-02,  1.64761096e-01,  9.81793702e-02,\n",
       "         -6.22160733e-02, -7.19103217e-02,  1.45683199e-01,\n",
       "          1.98753446e-01],\n",
       "        [ 2.35953838e-01,  3.76663059e-01,  2.33644933e-01,\n",
       "         -6.02036715e-04,  1.03798240e-01,  7.10918307e-02,\n",
       "         -2.88765639e-01,  1.93439156e-01, -2.60225445e-01,\n",
       "         -7.16120601e-02]], dtype=float32)>,\n",
       " <tf.Variable 'dense_3/bias:0' shape=(10,) dtype=float32, numpy=array([0., 0., 0., 0., 0., 0., 0., 0., 0., 0.], dtype=float32)>]"
      ]
     },
     "execution_count": 5,
     "metadata": {},
     "output_type": "execute_result"
    }
   ],
   "source": [
    "model.weights"
   ]
  },
  {
   "cell_type": "markdown",
   "id": "88615553",
   "metadata": {},
   "source": [
    "Summary a model"
   ]
  },
  {
   "cell_type": "code",
   "execution_count": 6,
   "id": "b181ace0",
   "metadata": {},
   "outputs": [
    {
     "name": "stdout",
     "output_type": "stream",
     "text": [
      "Model: \"sequential\"\n",
      "_________________________________________________________________\n",
      " Layer (type)                Output Shape              Param #   \n",
      "=================================================================\n",
      " dense (Dense)               (None, 64)                256       \n",
      "                                                                 \n",
      " dense_1 (Dense)             (None, 64)                4160      \n",
      "                                                                 \n",
      " dense_2 (Dense)             (None, 32)                2080      \n",
      "                                                                 \n",
      " dense_3 (Dense)             (None, 10)                330       \n",
      "                                                                 \n",
      "=================================================================\n",
      "Total params: 6,826\n",
      "Trainable params: 6,826\n",
      "Non-trainable params: 0\n",
      "_________________________________________________________________\n"
     ]
    }
   ],
   "source": [
    "model.summary()"
   ]
  },
  {
   "cell_type": "markdown",
   "id": "858d1056",
   "metadata": {},
   "source": [
    "Naming Each layers"
   ]
  },
  {
   "cell_type": "code",
   "execution_count": 7,
   "id": "d6f5994a",
   "metadata": {},
   "outputs": [
    {
     "name": "stdout",
     "output_type": "stream",
     "text": [
      "Model: \"test_model\"\n",
      "_________________________________________________________________\n",
      " Layer (type)                Output Shape              Param #   \n",
      "=================================================================\n",
      " first_layer (Dense)         (None, None, 64)          256       \n",
      "                                                                 \n",
      " last_layer (Dense)          (None, None, 64)          4160      \n",
      "                                                                 \n",
      "=================================================================\n",
      "Total params: 4,416\n",
      "Trainable params: 4,416\n",
      "Non-trainable params: 0\n",
      "_________________________________________________________________\n"
     ]
    }
   ],
   "source": [
    "model = keras.Sequential(name='test_model')\n",
    "model.add(keras.layers.Dense(64, activation='relu', input_shape=(None, 3), name='first_layer'))\n",
    "model.add(keras.layers.Dense(64, activation='softmax', name='last_layer'))\n",
    "\n",
    "# summary\n",
    "model.summary()"
   ]
  },
  {
   "cell_type": "markdown",
   "id": "71a97961",
   "metadata": {},
   "source": [
    "#### The Functional API"
   ]
  },
  {
   "cell_type": "markdown",
   "id": "c3c4db02",
   "metadata": {},
   "source": [
    "Common ways to build a Model.\n",
    "\\\n",
    "Simple Functional model with two Dense layers\n",
    "\n"
   ]
  },
  {
   "cell_type": "code",
   "execution_count": 8,
   "id": "f19568db-5be0-4994-b0bf-9bcbd980d35b",
   "metadata": {},
   "outputs": [],
   "source": [
    "inputs = keras.Input(shape=(3,), name='inputs')\n",
    "features = keras.layers.Dense(units=64, activation='relu')(inputs)\n",
    "outputs = keras.layers.Dense(units=10, activation='sigmoid')(features)\n",
    "\n",
    "model = keras.Model(inputs, outputs)"
   ]
  },
  {
   "cell_type": "code",
   "execution_count": 9,
   "id": "04248b0c-5425-42bf-a73a-542d12881372",
   "metadata": {},
   "outputs": [
    {
     "name": "stdout",
     "output_type": "stream",
     "text": [
      "Model: \"model\"\n",
      "_________________________________________________________________\n",
      " Layer (type)                Output Shape              Param #   \n",
      "=================================================================\n",
      " inputs (InputLayer)         [(None, 3)]               0         \n",
      "                                                                 \n",
      " dense_4 (Dense)             (None, 64)                256       \n",
      "                                                                 \n",
      " dense_5 (Dense)             (None, 10)                650       \n",
      "                                                                 \n",
      "=================================================================\n",
      "Total params: 906\n",
      "Trainable params: 906\n",
      "Non-trainable params: 0\n",
      "_________________________________________________________________\n"
     ]
    }
   ],
   "source": [
    "model.summary()"
   ]
  },
  {
   "cell_type": "markdown",
   "id": "e9e97910-c938-414b-bc3d-0c1d840a805c",
   "metadata": {},
   "source": [
    "Multi-inputs, Multi-outputs Model\n",
    "\\\n",
    "Building a system to rank customer support ticket by priority and route them to the appropriate department"
   ]
  },
  {
   "cell_type": "code",
   "execution_count": 10,
   "id": "9bc0995b-3095-4e39-8962-c77571941615",
   "metadata": {},
   "outputs": [],
   "source": [
    "vocab_size = 10000\n",
    "num_tags = 100\n",
    "num_departments = 4"
   ]
  },
  {
   "cell_type": "code",
   "execution_count": 38,
   "id": "c112c9fe-b77c-47fc-ac47-a94d48000995",
   "metadata": {},
   "outputs": [],
   "source": [
    "# inputs \n",
    "\n",
    "# title of the ticket\n",
    "title = keras.Input(shape=(vocab_size,), name='title')\n",
    "\n",
    "# text body of the ticket\n",
    "text_body = keras.Input(shape=(vocab_size,), name='text_body')\n",
    "\n",
    "# tags added by the user\n",
    "tags = keras.Input(shape=(num_tags, ), name='tags')\n",
    "\n",
    "# features\n",
    "features = keras.layers.Concatenate()([title, text_body, tags])\n",
    "features = keras.layers.Dense(units=64, activation='relu')(features)\n",
    "\n",
    "# outputs\n",
    "priority = keras.layers.Dense(units=1, activation='sigmoid', name='priority')(features)\n",
    "department = keras.layers.Dense(units=num_departments, activation='softmax', name='department')(features)\n",
    "\n",
    "# create the model by specifying its inputs and outputs\n",
    "model = keras.Model(inputs= [title, text_body, tags], outputs= [priority, department])"
   ]
  },
  {
   "cell_type": "code",
   "execution_count": 14,
   "id": "5859a047-16be-4404-a1ee-272021b89bb6",
   "metadata": {},
   "outputs": [
    {
     "name": "stdout",
     "output_type": "stream",
     "text": [
      "Model: \"model_1\"\n",
      "__________________________________________________________________________________________________\n",
      " Layer (type)                   Output Shape         Param #     Connected to                     \n",
      "==================================================================================================\n",
      " title (InputLayer)             [(None, 10000)]      0           []                               \n",
      "                                                                                                  \n",
      " text_body (InputLayer)         [(None, 10000)]      0           []                               \n",
      "                                                                                                  \n",
      " tags (InputLayer)              [(None, 100)]        0           []                               \n",
      "                                                                                                  \n",
      " concatenate_2 (Concatenate)    (None, 20100)        0           ['title[0][0]',                  \n",
      "                                                                  'text_body[0][0]',              \n",
      "                                                                  'tags[0][0]']                   \n",
      "                                                                                                  \n",
      " dense_8 (Dense)                (None, 64)           1286464     ['concatenate_2[0][0]']          \n",
      "                                                                                                  \n",
      " priority (Dense)               (None, 1)            65          ['dense_8[0][0]']                \n",
      "                                                                                                  \n",
      " department (Dense)             (None, 4)            260         ['dense_8[0][0]']                \n",
      "                                                                                                  \n",
      "==================================================================================================\n",
      "Total params: 1,286,789\n",
      "Trainable params: 1,286,789\n",
      "Non-trainable params: 0\n",
      "__________________________________________________________________________________________________\n"
     ]
    }
   ],
   "source": [
    "model.summary()"
   ]
  },
  {
   "cell_type": "markdown",
   "id": "8fe0aa46-ea30-4121-b0b7-679d07032e15",
   "metadata": {},
   "source": [
    "Training a Multi-input, Multi-output Model"
   ]
  },
  {
   "cell_type": "code",
   "execution_count": 15,
   "id": "d9b67e77-c233-4794-8e6e-995bc4129388",
   "metadata": {},
   "outputs": [],
   "source": [
    "num_samples = 1280\n",
    "\n",
    "# dummies dataset\n",
    "title_data = np.random.randint(0, 2, size=(num_samples, vocab_size))\n",
    "text_body_data = np.random.randint(0, 2, size=(num_samples, vocab_size))\n",
    "tags_data = np.random.randint(0, 2, size=(num_samples, num_tags))\n",
    "\n",
    "priority_data = np.random.random(size=(num_samples, 1))\n",
    "department_data = np.random.randint(0, 2, size=(num_samples, num_departments))"
   ]
  },
  {
   "cell_type": "code",
   "execution_count": 16,
   "id": "738e99ee-b109-461f-8634-0cce225e1452",
   "metadata": {},
   "outputs": [
    {
     "name": "stderr",
     "output_type": "stream",
     "text": [
      "2022-03-22 19:34:40.483487: W tensorflow/core/platform/profile_utils/cpu_utils.cc:128] Failed to get CPU frequency: 0 Hz\n",
      "2022-03-22 19:34:40.804034: I tensorflow/core/grappler/optimizers/custom_graph_optimizer_registry.cc:112] Plugin optimizer for device_type GPU is enabled.\n"
     ]
    },
    {
     "name": "stdout",
     "output_type": "stream",
     "text": [
      "40/40 [==============================] - 2s 11ms/step - loss: 281.1333 - priority_loss: 0.3256 - department_loss: 280.8076 - priority_mean_absolute_error: 0.4914 - department_accuracy: 0.2508\n"
     ]
    },
    {
     "data": {
      "text/plain": [
       "<keras.callbacks.History at 0x16000e3a0>"
      ]
     },
     "execution_count": 16,
     "metadata": {},
     "output_type": "execute_result"
    }
   ],
   "source": [
    "# train model\n",
    "model.compile(\n",
    "    optimizer = keras.optimizers.Adam(learning_rate=1e-2),\n",
    "    loss = ['mean_squared_error', 'categorical_crossentropy'],\n",
    "    metrics = [['mean_absolute_error'], ['accuracy']]\n",
    ")\n",
    "\n",
    "model.fit(\n",
    "    [title_data, text_body_data, tags_data],\n",
    "    [priority_data, department_data],\n",
    "    epochs = 1)"
   ]
  },
  {
   "cell_type": "code",
   "execution_count": 17,
   "id": "18cfea09-1367-4787-bc58-a37db66e90fa",
   "metadata": {},
   "outputs": [
    {
     "name": "stdout",
     "output_type": "stream",
     "text": [
      "13/40 [========>.....................] - ETA: 0s - loss: 599.3840 - priority_loss: 0.3391 - department_loss: 599.0449 - priority_mean_absolute_error: 0.5012 - department_accuracy: 0.1202"
     ]
    },
    {
     "name": "stderr",
     "output_type": "stream",
     "text": [
      "2022-03-22 19:34:42.614768: I tensorflow/core/grappler/optimizers/custom_graph_optimizer_registry.cc:112] Plugin optimizer for device_type GPU is enabled.\n"
     ]
    },
    {
     "name": "stdout",
     "output_type": "stream",
     "text": [
      "40/40 [==============================] - 1s 9ms/step - loss: 585.4515 - priority_loss: 0.3281 - department_loss: 585.1232 - priority_mean_absolute_error: 0.4936 - department_accuracy: 0.1211\n"
     ]
    },
    {
     "data": {
      "text/plain": [
       "[585.4515380859375,\n",
       " 0.3281307816505432,\n",
       " 585.1232299804688,\n",
       " 0.4935564696788788,\n",
       " 0.12109375]"
      ]
     },
     "execution_count": 17,
     "metadata": {},
     "output_type": "execute_result"
    }
   ],
   "source": [
    "# predict\n",
    "\n",
    "model.evaluate([title_data, text_body_data, tags_data], [priority_data, department_data])"
   ]
  },
  {
   "cell_type": "markdown",
   "id": "f604cd8e-4df4-465d-b5c4-960d0ee991f2",
   "metadata": {},
   "source": [
    "Retrieving the inputs or outputs of a layers in a Functional model"
   ]
  },
  {
   "cell_type": "code",
   "execution_count": 36,
   "id": "1b0a593c-4ef4-40ec-95cd-eda60a68f621",
   "metadata": {},
   "outputs": [
    {
     "data": {
      "text/plain": [
       "[<keras.layers.merge.Concatenate at 0x162405c10>,\n",
       " <keras.layers.core.dense.Dense at 0x1624a6f70>,\n",
       " <keras.layers.core.dense.Dense at 0x16cb16370>,\n",
       " <keras.layers.core.dense.Dense at 0x16cb16550>]"
      ]
     },
     "execution_count": 36,
     "metadata": {},
     "output_type": "execute_result"
    }
   ],
   "source": [
    "model.layers"
   ]
  },
  {
   "cell_type": "code",
   "execution_count": 39,
   "id": "d6fc85d7-9d6c-44ee-8dca-0ece5c68526e",
   "metadata": {},
   "outputs": [
    {
     "data": {
      "text/plain": [
       "[<KerasTensor: shape=(None, 10000) dtype=float32 (created by layer 'title')>,\n",
       " <KerasTensor: shape=(None, 10000) dtype=float32 (created by layer 'text_body')>,\n",
       " <KerasTensor: shape=(None, 100) dtype=float32 (created by layer 'tags')>]"
      ]
     },
     "execution_count": 39,
     "metadata": {},
     "output_type": "execute_result"
    }
   ],
   "source": [
    "# retrive input \n",
    "model.layers[3].input"
   ]
  },
  {
   "cell_type": "code",
   "execution_count": 20,
   "id": "4d659e17-6a76-4ba6-ba16-b3aa34541641",
   "metadata": {},
   "outputs": [],
   "source": [
    "# build a new model using exist inputs\n",
    "inputs = model.layers[3].input\n",
    "features = model.layers[4].output\n",
    "\n",
    "difficulty = keras.layers.Dense(units=3, activation='softmax', name='difficulty')(features)\n",
    "\n",
    "new_model = keras.Model(inputs = inputs, outputs = [priority, department, difficulty])"
   ]
  },
  {
   "cell_type": "code",
   "execution_count": 43,
   "id": "1cf3a60a-fb2f-4537-83f9-2b19d5f4df71",
   "metadata": {},
   "outputs": [
    {
     "data": {
      "image/png": "[encoded data removed]",
      "text/plain": [
       "<IPython.core.display.Image object>"
      ]
     },
     "execution_count": 43,
     "metadata": {},
     "output_type": "execute_result"
    }
   ],
   "source": [
    "keras.utils.plot_model(model, 'tickets_classifier.png')"
   ]
  },
  {
   "cell_type": "code",
   "execution_count": 44,
   "id": "f2fbb05c-353a-47db-b818-0eb222ecc620",
   "metadata": {},
   "outputs": [
    {
     "name": "stdout",
     "output_type": "stream",
     "text": [
      "Model: \"model_2\"\n",
      "__________________________________________________________________________________________________\n",
      " Layer (type)                   Output Shape         Param #     Connected to                     \n",
      "==================================================================================================\n",
      " title (InputLayer)             [(None, 10000)]      0           []                               \n",
      "                                                                                                  \n",
      " text_body (InputLayer)         [(None, 10000)]      0           []                               \n",
      "                                                                                                  \n",
      " tags (InputLayer)              [(None, 100)]        0           []                               \n",
      "                                                                                                  \n",
      " concatenate_2 (Concatenate)    (None, 20100)        0           ['title[0][0]',                  \n",
      "                                                                  'text_body[0][0]',              \n",
      "                                                                  'tags[0][0]']                   \n",
      "                                                                                                  \n",
      " dense_8 (Dense)                (None, 64)           1286464     ['concatenate_2[0][0]']          \n",
      "                                                                                                  \n",
      " priority (Dense)               (None, 1)            65          ['dense_8[0][0]']                \n",
      "                                                                                                  \n",
      " department (Dense)             (None, 4)            260         ['dense_8[0][0]']                \n",
      "                                                                                                  \n",
      " difficulty (Dense)             (None, 3)            195         ['dense_8[0][0]']                \n",
      "                                                                                                  \n",
      "==================================================================================================\n",
      "Total params: 1,286,984\n",
      "Trainable params: 1,286,984\n",
      "Non-trainable params: 0\n",
      "__________________________________________________________________________________________________\n"
     ]
    }
   ],
   "source": [
    "new_model.summary()"
   ]
  },
  {
   "cell_type": "markdown",
   "id": "bc0f1ba6-8644-4c1d-bce1-5fbb7fb886e5",
   "metadata": {},
   "source": [
    "Subclassing the Model class"
   ]
  },
  {
   "cell_type": "code",
   "execution_count": 45,
   "id": "68d20471-10f8-4a50-9e37-52a360e2b857",
   "metadata": {},
   "outputs": [],
   "source": [
    "class CustomTicketModel(keras.Model):\n",
    "    def __init__(self, num_departments):\n",
    "        super().__init__()\n",
    "        self.concat_layer = keras.layers.Concatenate()\n",
    "        self.mixing_layer = keras.layers.Dense(units=64, activation='relu')\n",
    "        self.priority_layer = keras.layers.Dense(units=1, activation='sigmoid')\n",
    "        self.department_classifier = keras.layers.Dense(units=num_departments, activation='softmax')\n",
    "        \n",
    "    def call(self, inputs):\n",
    "        title = inputs['title']\n",
    "        text_body = inputs['text_body']\n",
    "        tags = inputs['tags']\n",
    "        \n",
    "        features = self.concat_layer([title, text_body, tags])\n",
    "        features = self.mixing_layer(features)\n",
    "        \n",
    "        priority = self.priority_layer(features)\n",
    "        department = self.department_classifier(features)\n",
    "        \n",
    "        return priority, department"
   ]
  },
  {
   "cell_type": "code",
   "execution_count": 46,
   "id": "2065d3fb-9b13-4a5b-aaa8-6739be75ca8e",
   "metadata": {},
   "outputs": [],
   "source": [
    "model = CustomTicketModel(num_departments)\n",
    "\n",
    "priority, department = model({'title' : title_data, 'text_body': text_body_data, 'tags': tags_data})"
   ]
  },
  {
   "cell_type": "code",
   "execution_count": 47,
   "id": "98036d96-aa95-4566-ad08-8988a6c6839f",
   "metadata": {},
   "outputs": [
    {
     "name": "stdout",
     "output_type": "stream",
     "text": [
      " 1/40 [..............................] - ETA: 18s - loss: 4.2929 - output_1_loss: 0.1116 - output_2_loss: 4.1813 - output_1_mean_absolute_error: 0.2610 - output_2_accuracy: 0.4062"
     ]
    },
    {
     "name": "stderr",
     "output_type": "stream",
     "text": [
      "2022-03-22 19:54:03.023016: I tensorflow/core/grappler/optimizers/custom_graph_optimizer_registry.cc:112] Plugin optimizer for device_type GPU is enabled.\n"
     ]
    },
    {
     "name": "stdout",
     "output_type": "stream",
     "text": [
      "40/40 [==============================] - 1s 13ms/step - loss: 28.8591 - output_1_loss: 0.3172 - output_2_loss: 28.5418 - output_1_mean_absolute_error: 0.4820 - output_2_accuracy: 0.2953\n"
     ]
    },
    {
     "data": {
      "text/plain": [
       "<keras.callbacks.History at 0x2deb2ce20>"
      ]
     },
     "execution_count": 47,
     "metadata": {},
     "output_type": "execute_result"
    }
   ],
   "source": [
    "# compile and train are the same as Functional and Sequential Models\n",
    "model.compile(\n",
    "    optimizer = 'rmsprop',\n",
    "    loss = ['mean_squared_error', 'categorical_crossentropy'],\n",
    "    metrics = [['mean_absolute_error'], ['accuracy']],\n",
    ")\n",
    "\n",
    "model.fit(\n",
    "    {'title': title_data, 'text_body': text_body_data, 'tags': tags_data},\n",
    "    [priority_data, department_data],\n",
    "    epochs=1\n",
    ")"
   ]
  },
  {
   "cell_type": "code",
   "execution_count": 48,
   "id": "8450f3d5-f2eb-4577-be18-cbc9ec7789dc",
   "metadata": {},
   "outputs": [
    {
     "name": "stdout",
     "output_type": "stream",
     "text": [
      "13/40 [========>.....................] - ETA: 0s - loss: 31.3204 - output_1_loss: 0.3391 - output_2_loss: 30.9813 - output_1_mean_absolute_error: 0.5012 - output_2_accuracy: 0.2452"
     ]
    },
    {
     "name": "stderr",
     "output_type": "stream",
     "text": [
      "2022-03-22 19:54:03.910078: I tensorflow/core/grappler/optimizers/custom_graph_optimizer_registry.cc:112] Plugin optimizer for device_type GPU is enabled.\n"
     ]
    },
    {
     "name": "stdout",
     "output_type": "stream",
     "text": [
      "40/40 [==============================] - 1s 9ms/step - loss: 30.0347 - output_1_loss: 0.3281 - output_2_loss: 29.7065 - output_1_mean_absolute_error: 0.4936 - output_2_accuracy: 0.2508\n"
     ]
    },
    {
     "name": "stderr",
     "output_type": "stream",
     "text": [
      "2022-03-22 19:54:04.489501: I tensorflow/core/grappler/optimizers/custom_graph_optimizer_registry.cc:112] Plugin optimizer for device_type GPU is enabled.\n"
     ]
    }
   ],
   "source": [
    "model.evaluate(\n",
    "    {'title': title_data, 'text_body': text_body_data, 'tags': tags_data},\n",
    "    [priority_data, department_data],\n",
    ")\n",
    "\n",
    "priority_pred, department_pred = model.predict( {'title': title_data, 'text_body': text_body_data, 'tags': tags_data},)"
   ]
  },
  {
   "cell_type": "code",
   "execution_count": 35,
   "id": "dedb4bb4-2099-4d2a-b468-6a2468f74524",
   "metadata": {},
   "outputs": [
    {
     "data": {
      "text/plain": [
       "array([[0.],\n",
       "       [0.],\n",
       "       [0.],\n",
       "       ...,\n",
       "       [0.],\n",
       "       [0.],\n",
       "       [0.]], dtype=float32)"
      ]
     },
     "execution_count": 35,
     "metadata": {},
     "output_type": "execute_result"
    }
   ],
   "source": [
    "priority_pred"
   ]
  },
  {
   "cell_type": "markdown",
   "id": "b2c088e1-beee-4554-af36-fe9158b44290",
   "metadata": {},
   "source": [
    "## Built-in trraining and evaluation loops\n",
    "\n",
    "**Early Stopping**: Stop the training when the metrics is no longer improving.\n",
    "**Model checkpoointing** Saving the current state of the model at different points during the training"
   ]
  },
  {
   "cell_type": "code",
   "execution_count": 50,
   "id": "3b564bba-f2d3-4e5a-8fb0-5b6c7c725ede",
   "metadata": {},
   "outputs": [],
   "source": [
    "# custom callback function\n",
    "callbacks_list = [\n",
    "    keras.callbacks.EarlyStopping(monitor='val_accuracy', patience=2,),\n",
    "    keras.callbacks.ModelCheckpoint(filepath='checkpoint_path.keras', monitor='val_loss', save_best_only=True)\n",
    "]"
   ]
  },
  {
   "cell_type": "code",
   "execution_count": 54,
   "id": "570ba745-a1fe-4c44-8546-79a683530f78",
   "metadata": {},
   "outputs": [],
   "source": [
    "# training mnist dataset\n",
    "from tensorflow.keras.datasets import mnist"
   ]
  },
  {
   "cell_type": "code",
   "execution_count": 109,
   "id": "2754d538-ecce-4bf3-868b-43a6572b98ff",
   "metadata": {},
   "outputs": [],
   "source": [
    "# preapare dataset\n",
    "(x_train, y_train), (x_test, y_test) = mnist.load_data()\n",
    "\n",
    "# scale dataset\n",
    "x_train = x_train.reshape((60000, 28 * 28)).astype('float32') / 255\n",
    "x_test = x_test.reshape((10000, 28 * 28)).astype('float32') / 255\n",
    "\n",
    "# train and validation dataset split\n",
    "x_train, x_val = x_train[10000:], x_train[:10000]\n",
    "y_train, y_val = y_train[10000:], y_train[:10000]"
   ]
  },
  {
   "cell_type": "code",
   "execution_count": 110,
   "id": "17aba2ef-0c5b-4b4e-9a2c-d23c9848ceb1",
   "metadata": {},
   "outputs": [],
   "source": [
    "# build a model\n",
    "# functional model (fully connected neural networks)\n",
    "\n",
    "def mnist_model():\n",
    "    inputs = keras.Input(shape=(28 * 28,))\n",
    "    features = keras.layers.Dense(units=64, activation='relu')(inputs)\n",
    "    features = keras.layers.Dense(units=64, activation='relu')(features)\n",
    "    outputs = keras.layers.Dense(units=10, activation='softmax')(features)\n",
    "    \n",
    "    model = keras.Model(inputs, outputs)\n",
    "    return model"
   ]
  },
  {
   "cell_type": "code",
   "execution_count": 111,
   "id": "da9ee425-6f25-4a58-9b84-c382d78e6cfc",
   "metadata": {},
   "outputs": [
    {
     "name": "stdout",
     "output_type": "stream",
     "text": [
      "Model: \"model_23\"\n",
      "_________________________________________________________________\n",
      " Layer (type)                Output Shape              Param #   \n",
      "=================================================================\n",
      " input_20 (InputLayer)       [(None, 784)]             0         \n",
      "                                                                 \n",
      " dense_79 (Dense)            (None, 64)                50240     \n",
      "                                                                 \n",
      " dense_80 (Dense)            (None, 64)                4160      \n",
      "                                                                 \n",
      " dense_81 (Dense)            (None, 10)                650       \n",
      "                                                                 \n",
      "=================================================================\n",
      "Total params: 55,050\n",
      "Trainable params: 55,050\n",
      "Non-trainable params: 0\n",
      "_________________________________________________________________\n"
     ]
    }
   ],
   "source": [
    "m = mnist_model()\n",
    "m.summary()"
   ]
  },
  {
   "cell_type": "code",
   "execution_count": 112,
   "id": "1751647f-a65b-4084-ac47-87e32ff79e62",
   "metadata": {},
   "outputs": [
    {
     "name": "stdout",
     "output_type": "stream",
     "text": [
      "Epoch 1/20\n",
      " 1/98 [..............................] - ETA: 29s - loss: 2.3506 - accuracy: 0.0820"
     ]
    },
    {
     "name": "stderr",
     "output_type": "stream",
     "text": [
      "2022-03-22 20:50:43.704937: I tensorflow/core/grappler/optimizers/custom_graph_optimizer_registry.cc:112] Plugin optimizer for device_type GPU is enabled.\n"
     ]
    },
    {
     "name": "stdout",
     "output_type": "stream",
     "text": [
      "98/98 [==============================] - 1s 9ms/step - loss: 0.6365 - accuracy: 0.8362 - val_loss: 0.3161 - val_accuracy: 0.9092\n",
      "Epoch 2/20\n",
      " 1/98 [..............................] - ETA: 0s - loss: 0.2735 - accuracy: 0.9258"
     ]
    },
    {
     "name": "stderr",
     "output_type": "stream",
     "text": [
      "2022-03-22 20:50:44.607943: I tensorflow/core/grappler/optimizers/custom_graph_optimizer_registry.cc:112] Plugin optimizer for device_type GPU is enabled.\n"
     ]
    },
    {
     "name": "stdout",
     "output_type": "stream",
     "text": [
      "98/98 [==============================] - 1s 7ms/step - loss: 0.2716 - accuracy: 0.9212 - val_loss: 0.2503 - val_accuracy: 0.9278\n",
      "Epoch 3/20\n",
      "98/98 [==============================] - 1s 7ms/step - loss: 0.2129 - accuracy: 0.9387 - val_loss: 0.2033 - val_accuracy: 0.9381\n",
      "Epoch 4/20\n",
      "98/98 [==============================] - 1s 8ms/step - loss: 0.1798 - accuracy: 0.9473 - val_loss: 0.1708 - val_accuracy: 0.9498\n",
      "Epoch 5/20\n",
      "98/98 [==============================] - 1s 9ms/step - loss: 0.1568 - accuracy: 0.9545 - val_loss: 0.1543 - val_accuracy: 0.9530\n",
      "Epoch 6/20\n",
      "98/98 [==============================] - 1s 8ms/step - loss: 0.1379 - accuracy: 0.9590 - val_loss: 0.1416 - val_accuracy: 0.9578\n",
      "Epoch 7/20\n",
      "98/98 [==============================] - 1s 8ms/step - loss: 0.1221 - accuracy: 0.9637 - val_loss: 0.1387 - val_accuracy: 0.9581\n",
      "Epoch 8/20\n",
      "98/98 [==============================] - 1s 8ms/step - loss: 0.1099 - accuracy: 0.9680 - val_loss: 0.1276 - val_accuracy: 0.9621\n",
      "Epoch 9/20\n",
      "98/98 [==============================] - 1s 7ms/step - loss: 0.0992 - accuracy: 0.9709 - val_loss: 0.1277 - val_accuracy: 0.9601\n",
      "Epoch 10/20\n",
      "98/98 [==============================] - 1s 8ms/step - loss: 0.0901 - accuracy: 0.9735 - val_loss: 0.1093 - val_accuracy: 0.9670\n",
      "Epoch 11/20\n",
      "98/98 [==============================] - 1s 8ms/step - loss: 0.0830 - accuracy: 0.9748 - val_loss: 0.1134 - val_accuracy: 0.9646\n",
      "Epoch 12/20\n",
      "98/98 [==============================] - 1s 8ms/step - loss: 0.0753 - accuracy: 0.9773 - val_loss: 0.1092 - val_accuracy: 0.9663\n"
     ]
    },
    {
     "data": {
      "text/plain": [
       "<keras.callbacks.History at 0x367e87a60>"
      ]
     },
     "execution_count": 112,
     "metadata": {},
     "output_type": "execute_result"
    }
   ],
   "source": [
    "# compile and train\n",
    "m.compile(\n",
    "    optimizer='rmsprop',\n",
    "    loss='sparse_categorical_crossentropy',\n",
    "    metrics= ['accuracy']\n",
    ")\n",
    "\n",
    "m.fit(x_train, y_train, callbacks=callbacks_list, epochs=20, batch_size=512, validation_data=(x_val, y_val))"
   ]
  },
  {
   "cell_type": "code",
   "execution_count": 114,
   "id": "d73b36a9-64a1-4588-9926-3d9e9d72b39b",
   "metadata": {},
   "outputs": [],
   "source": [
    "load_model = keras.models.load_model('checkpoint_path.keras')"
   ]
  },
  {
   "cell_type": "code",
   "execution_count": 116,
   "id": "4fff02b8-936b-4c27-ae84-88a071a2b5e9",
   "metadata": {},
   "outputs": [
    {
     "name": "stdout",
     "output_type": "stream",
     "text": [
      " 23/313 [=>............................] - ETA: 1s - loss: 0.0933 - accuracy: 0.9660"
     ]
    },
    {
     "name": "stderr",
     "output_type": "stream",
     "text": [
      "2022-03-22 20:52:19.137094: I tensorflow/core/grappler/optimizers/custom_graph_optimizer_registry.cc:112] Plugin optimizer for device_type GPU is enabled.\n"
     ]
    },
    {
     "name": "stdout",
     "output_type": "stream",
     "text": [
      "313/313 [==============================] - 2s 5ms/step - loss: 0.1095 - accuracy: 0.9664\n"
     ]
    },
    {
     "data": {
      "text/plain": [
       "[0.10946598649024963, 0.9664000272750854]"
      ]
     },
     "execution_count": 116,
     "metadata": {},
     "output_type": "execute_result"
    }
   ],
   "source": [
    "load_model.evaluate(x_test, y_test)"
   ]
  },
  {
   "cell_type": "code",
   "execution_count": 123,
   "id": "ca325504-c192-4992-b93e-7164c9eb587b",
   "metadata": {},
   "outputs": [],
   "source": [
    "prediction = x_test[0:10]\n",
    "test_pred = load_model.predict(prediction)"
   ]
  },
  {
   "cell_type": "code",
   "execution_count": 133,
   "id": "99bd8aae-9f2c-430d-9e51-7bf52bb42cb6",
   "metadata": {},
   "outputs": [
    {
     "name": "stdout",
     "output_type": "stream",
     "text": [
      "7 7\n",
      "2 2\n",
      "1 1\n",
      "0 0\n",
      "4 4\n",
      "1 1\n",
      "4 4\n",
      "9 9\n",
      "6 5\n",
      "9 9\n"
     ]
    }
   ],
   "source": [
    "for i in range(len(test_pred)):\n",
    "    print(np.argmax(test_pred[i]), y_test[i])"
   ]
  },
  {
   "cell_type": "code",
   "execution_count": 141,
   "id": "332d30ed-6a75-40ac-95f7-9ff5fc443ae6",
   "metadata": {},
   "outputs": [
    {
     "data": {
      "text/plain": [
       "<matplotlib.image.AxesImage at 0x367de4190>"
      ]
     },
     "execution_count": 141,
     "metadata": {},
     "output_type": "execute_result"
    },
    {
     "data": {
      "image/png": "[encoded data removed]",
      "text/plain": [
       "<Figure size 432x288 with 1 Axes>"
      ]
     },
     "metadata": {
      "needs_background": "light"
     },
     "output_type": "display_data"
    }
   ],
   "source": [
    "t = x_test[8].reshape(28, 28)\n",
    "\n",
    "import matplotlib.pyplot as plt\n",
    "plt.imshow(t, cmap='gray')"
   ]
  },
  {
   "cell_type": "markdown",
   "id": "ca384709-2b6c-496f-97cc-0508e98154dd",
   "metadata": {},
   "source": [
    "Tensorboard\n",
    "- Visually monitor metrics during training \n",
    "- Visualize your model architecture\n",
    "- Visualize histograms of activations and gradients\n",
    "- Explore embeddings in 3D"
   ]
  },
  {
   "cell_type": "code",
   "execution_count": 142,
   "id": "d6bd1832-2320-420a-a7df-8138a21974d0",
   "metadata": {},
   "outputs": [],
   "source": [
    "tensorboard = keras.callbacks.TensorBoard(\n",
    "    log_dir = 'full_path_to_your_log_dir',\n",
    ")"
   ]
  },
  {
   "cell_type": "code",
   "execution_count": 154,
   "id": "7d08b234-3bbf-48c8-b760-9dae5303ef83",
   "metadata": {},
   "outputs": [
    {
     "name": "stdout",
     "output_type": "stream",
     "text": [
      "Epoch 1/5\n",
      "98/98 [==============================] - 1s 9ms/step - loss: 0.0168 - accuracy: 0.9957 - val_loss: 0.1293 - val_accuracy: 0.9644\n",
      "Epoch 2/5\n",
      "98/98 [==============================] - 1s 8ms/step - loss: 0.0158 - accuracy: 0.9959 - val_loss: 0.1085 - val_accuracy: 0.9736\n",
      "Epoch 3/5\n",
      "98/98 [==============================] - 1s 7ms/step - loss: 0.0144 - accuracy: 0.9966 - val_loss: 0.1061 - val_accuracy: 0.9747\n",
      "Epoch 4/5\n",
      "98/98 [==============================] - 1s 8ms/step - loss: 0.0134 - accuracy: 0.9967 - val_loss: 0.1074 - val_accuracy: 0.9737\n",
      "Epoch 5/5\n",
      "98/98 [==============================] - 1s 7ms/step - loss: 0.0127 - accuracy: 0.9967 - val_loss: 0.1129 - val_accuracy: 0.9736\n"
     ]
    },
    {
     "data": {
      "text/plain": [
       "<keras.callbacks.History at 0x368c196a0>"
      ]
     },
     "execution_count": 154,
     "metadata": {},
     "output_type": "execute_result"
    }
   ],
   "source": [
    "m.fit(x_train, y_train, callbacks=[tensorboard], epochs=5, batch_size=512, validation_data=(x_val, y_val))"
   ]
  },
  {
   "cell_type": "code",
   "execution_count": 146,
   "id": "8494922e-83b4-4fbb-983b-9f2924858761",
   "metadata": {},
   "outputs": [
    {
     "name": "stdout",
     "output_type": "stream",
     "text": [
      "Requirement already satisfied: tensorboard in /Users/theaveasso/miniforge3/envs/one4all/lib/python3.8/site-packages (2.8.0)\n",
      "Requirement already satisfied: numpy>=1.12.0 in /Users/theaveasso/miniforge3/envs/one4all/lib/python3.8/site-packages (from tensorboard) (1.21.5)\n",
      "Requirement already satisfied: requests<3,>=2.21.0 in /Users/theaveasso/miniforge3/envs/one4all/lib/python3.8/site-packages (from tensorboard) (2.27.1)\n",
      "Requirement already satisfied: setuptools>=41.0.0 in /Users/theaveasso/miniforge3/envs/one4all/lib/python3.8/site-packages (from tensorboard) (60.7.1)\n",
      "Requirement already satisfied: tensorboard-data-server<0.7.0,>=0.6.0 in /Users/theaveasso/miniforge3/envs/one4all/lib/python3.8/site-packages (from tensorboard) (0.6.1)\n",
      "Requirement already satisfied: absl-py>=0.4 in /Users/theaveasso/miniforge3/envs/one4all/lib/python3.8/site-packages (from tensorboard) (1.0.0)\n",
      "Requirement already satisfied: protobuf>=3.6.0 in /Users/theaveasso/miniforge3/envs/one4all/lib/python3.8/site-packages (from tensorboard) (3.19.4)\n",
      "Requirement already satisfied: grpcio>=1.24.3 in /Users/theaveasso/miniforge3/envs/one4all/lib/python3.8/site-packages (from tensorboard) (1.43.0)\n",
      "Requirement already satisfied: markdown>=2.6.8 in /Users/theaveasso/miniforge3/envs/one4all/lib/python3.8/site-packages (from tensorboard) (3.3.6)\n",
      "Requirement already satisfied: werkzeug>=0.11.15 in /Users/theaveasso/miniforge3/envs/one4all/lib/python3.8/site-packages (from tensorboard) (2.0.2)\n",
      "Requirement already satisfied: google-auth<3,>=1.6.3 in /Users/theaveasso/miniforge3/envs/one4all/lib/python3.8/site-packages (from tensorboard) (2.6.0)\n",
      "Requirement already satisfied: wheel>=0.26 in /Users/theaveasso/miniforge3/envs/one4all/lib/python3.8/site-packages (from tensorboard) (0.37.1)\n",
      "Requirement already satisfied: tensorboard-plugin-wit>=1.6.0 in /Users/theaveasso/miniforge3/envs/one4all/lib/python3.8/site-packages (from tensorboard) (1.8.1)\n",
      "Requirement already satisfied: google-auth-oauthlib<0.5,>=0.4.1 in /Users/theaveasso/miniforge3/envs/one4all/lib/python3.8/site-packages (from tensorboard) (0.4.6)\n",
      "Requirement already satisfied: six in /Users/theaveasso/miniforge3/envs/one4all/lib/python3.8/site-packages (from absl-py>=0.4->tensorboard) (1.15.0)\n",
      "Requirement already satisfied: rsa<5,>=3.1.4 in /Users/theaveasso/miniforge3/envs/one4all/lib/python3.8/site-packages (from google-auth<3,>=1.6.3->tensorboard) (4.8)\n",
      "Requirement already satisfied: cachetools<6.0,>=2.0.0 in /Users/theaveasso/miniforge3/envs/one4all/lib/python3.8/site-packages (from google-auth<3,>=1.6.3->tensorboard) (5.0.0)\n",
      "Requirement already satisfied: pyasn1-modules>=0.2.1 in /Users/theaveasso/miniforge3/envs/one4all/lib/python3.8/site-packages (from google-auth<3,>=1.6.3->tensorboard) (0.2.8)\n",
      "Requirement already satisfied: requests-oauthlib>=0.7.0 in /Users/theaveasso/miniforge3/envs/one4all/lib/python3.8/site-packages (from google-auth-oauthlib<0.5,>=0.4.1->tensorboard) (1.3.1)\n",
      "Requirement already satisfied: importlib-metadata>=4.4 in /Users/theaveasso/miniforge3/envs/one4all/lib/python3.8/site-packages (from markdown>=2.6.8->tensorboard) (4.10.1)\n",
      "Requirement already satisfied: idna<4,>=2.5 in /Users/theaveasso/miniforge3/envs/one4all/lib/python3.8/site-packages (from requests<3,>=2.21.0->tensorboard) (3.3)\n",
      "Requirement already satisfied: urllib3<1.27,>=1.21.1 in /Users/theaveasso/miniforge3/envs/one4all/lib/python3.8/site-packages (from requests<3,>=2.21.0->tensorboard) (1.26.8)\n",
      "Requirement already satisfied: charset-normalizer~=2.0.0 in /Users/theaveasso/miniforge3/envs/one4all/lib/python3.8/site-packages (from requests<3,>=2.21.0->tensorboard) (2.0.11)\n",
      "Requirement already satisfied: certifi>=2017.4.17 in /Users/theaveasso/miniforge3/envs/one4all/lib/python3.8/site-packages (from requests<3,>=2.21.0->tensorboard) (2021.10.8)\n",
      "Requirement already satisfied: zipp>=0.5 in /Users/theaveasso/miniforge3/envs/one4all/lib/python3.8/site-packages (from importlib-metadata>=4.4->markdown>=2.6.8->tensorboard) (3.7.0)\n",
      "Requirement already satisfied: pyasn1<0.5.0,>=0.4.6 in /Users/theaveasso/miniforge3/envs/one4all/lib/python3.8/site-packages (from pyasn1-modules>=0.2.1->google-auth<3,>=1.6.3->tensorboard) (0.4.8)\n",
      "Requirement already satisfied: oauthlib>=3.0.0 in /Users/theaveasso/miniforge3/envs/one4all/lib/python3.8/site-packages (from requests-oauthlib>=0.7.0->google-auth-oauthlib<0.5,>=0.4.1->tensorboard) (3.2.0)\n"
     ]
    }
   ],
   "source": [
    "!pip install tensorboard"
   ]
  },
  {
   "cell_type": "code",
   "execution_count": 153,
   "id": "e4454db6-fa0c-4084-af84-c8066309fe35",
   "metadata": {},
   "outputs": [
    {
     "data": {
      "text/html": [
       "\n",
       "      <iframe id=\"tensorboard-frame-2879c088eda8b5bd\" width=\"100%\" height=\"800\" frameborder=\"0\">\n",
       "      </iframe>\n",
       "      <script>\n",
       "        (function() {\n",
       "          const frame = document.getElementById(\"tensorboard-frame-2879c088eda8b5bd\");\n",
       "          const url = new URL(\"/\", window.location);\n",
       "          const port = 6006;\n",
       "          if (port) {\n",
       "            url.port = port;\n",
       "          }\n",
       "          frame.src = url;\n",
       "        })();\n",
       "      </script>\n",
       "    "
      ],
      "text/plain": [
       "<IPython.core.display.HTML object>"
      ]
     },
     "metadata": {},
     "output_type": "display_data"
    }
   ],
   "source": [
    "%load_ext tensorboard\n",
    "%tensorboard --logdir /full_path_to_your_log_dir"
   ]
  },
  {
   "cell_type": "code",
   "execution_count": null,
   "id": "0b3ca4de-8c94-4227-9ac1-79e0d529948c",
   "metadata": {},
   "outputs": [],
   "source": []
  }
 ],
 "metadata": {
  "interpreter": {
   "hash": "af938e745b869fc0bb119cb255e80df8e6694c91036d995a3efb80f9282657b8"
  },
  "kernelspec": {
   "display_name": "one4all",
   "language": "python",
   "name": "one4all"
  },
  "language_info": {
   "codemirror_mode": {
    "name": "ipython",
    "version": 3
   },
   "file_extension": ".py",
   "mimetype": "text/x-python",
   "name": "python",
   "nbconvert_exporter": "python",
   "pygments_lexer": "ipython3",
   "version": "3.8.12"
  }
 },
 "nbformat": 4,
 "nbformat_minor": 5
}
