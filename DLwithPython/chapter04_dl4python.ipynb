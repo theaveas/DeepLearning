{
<<<<<<< HEAD
 "cells": [
  {
   "cell_type": "markdown",
   "id": "b833c034-e4fc-4e17-be06-dd43dd147f65",
   "metadata": {},
   "source": [
    "# Getting started with neural networks:\n",
    "## Classification and regression\n",
    "\n",
    "### Glossary\n",
    "**Sample** or **input** -- A training example that we fit into the network\\\n",
    "**Prediction** or **output** -- A result that we get from the networks\\\n",
    "**Target** -- The objection that we try to predict.\\\n",
    "**Classes** -- \\\n",
    "**Label** --\\\n",
    "**Binary classification**\\\n",
    "**Multiclass classification**\\\n",
    "**Scalar regression**\\\n",
    "**Mini batch**"
   ]
  },
  {
   "cell_type": "markdown",
   "id": "1b12dc69-de3a-4ef7-8910-a0ac60a19023",
   "metadata": {},
   "source": [
    "### Binary classification\n",
    "#### Dataset"
   ]
  },
  {
   "cell_type": "code",
   "execution_count": 1,
   "id": "44387538-a694-409a-b154-966f453a9e49",
   "metadata": {},
   "outputs": [
    {
     "data": {
      "text/plain": [
       "['__builtins__',\n",
       " '__cached__',\n",
       " '__doc__',\n",
       " '__file__',\n",
       " '__loader__',\n",
       " '__name__',\n",
       " '__package__',\n",
       " '__path__',\n",
       " '__spec__',\n",
       " '_sys',\n",
       " 'boston_housing',\n",
       " 'cifar10',\n",
       " 'cifar100',\n",
       " 'fashion_mnist',\n",
       " 'imdb',\n",
       " 'mnist',\n",
       " 'reuters']"
      ]
     },
     "execution_count": 1,
     "metadata": {},
     "output_type": "execute_result"
    }
   ],
   "source": [
    "# all tensorflow keras buildin datasets\n",
    "import tensorflow \n",
    "dir(tensorflow.keras.datasets)"
   ]
  },
  {
   "cell_type": "code",
   "execution_count": 2,
   "id": "c2f6ab2e-ab39-4b49-affd-d8ae8de0762f",
   "metadata": {},
   "outputs": [],
   "source": [
    "# load dataset\n",
    "from tensorflow.keras.datasets import imdb\n",
    "(X_train, y_train), (X_test, y_test) = imdb.load_data(num_words=10000)"
   ]
  },
  {
   "cell_type": "markdown",
   "id": "0d5dc6fc-c8d1-4b1a-886b-d6fec4c7c75b",
   "metadata": {},
   "source": [
    "*num_word=10000* only keep the top 10000 most frequently appear in training samples"
   ]
  },
  {
   "cell_type": "code",
   "execution_count": 3,
   "id": "99a16653-3099-43c0-afef-72cb7c418749",
   "metadata": {},
   "outputs": [],
   "source": [
    "# decoding review back to text\n",
    "word_idx = imdb.get_word_index()\n",
    "reverse_word_idx = dict(\n",
    "    [(value, key) for (key, value) in word_idx.items()])\n",
    "decoded_review = ''.join(\n",
    "    [reverse_word_idx.get(i - 3, '?') for i in X_train[0]])"
   ]
  },
  {
   "cell_type": "markdown",
   "id": "b0245804-b50a-417b-8385-5af177ac3d84",
   "metadata": {},
   "source": [
    "#### Preparing the data"
   ]
  },
  {
   "cell_type": "code",
   "execution_count": 4,
   "id": "12069064-978f-4747-b890-9ce03915f89e",
   "metadata": {},
   "outputs": [
    {
     "data": {
      "text/plain": [
       "array([list([1, 14, 22, 16, 43, 530, 973, 1622, 1385, 65, 458, 4468, 66, 3941, 4, 173, 36, 256, 5, 25, 100, 43, 838, 112, 50, 670, 2, 9, 35, 480, 284, 5, 150, 4, 172, 112, 167, 2, 336, 385, 39, 4, 172, 4536, 1111, 17, 546, 38, 13, 447, 4, 192, 50, 16, 6, 147, 2025, 19, 14, 22, 4, 1920, 4613, 469, 4, 22, 71, 87, 12, 16, 43, 530, 38, 76, 15, 13, 1247, 4, 22, 17, 515, 17, 12, 16, 626, 18, 2, 5, 62, 386, 12, 8, 316, 8, 106, 5, 4, 2223, 5244, 16, 480, 66, 3785, 33, 4, 130, 12, 16, 38, 619, 5, 25, 124, 51, 36, 135, 48, 25, 1415, 33, 6, 22, 12, 215, 28, 77, 52, 5, 14, 407, 16, 82, 2, 8, 4, 107, 117, 5952, 15, 256, 4, 2, 7, 3766, 5, 723, 36, 71, 43, 530, 476, 26, 400, 317, 46, 7, 4, 2, 1029, 13, 104, 88, 4, 381, 15, 297, 98, 32, 2071, 56, 26, 141, 6, 194, 7486, 18, 4, 226, 22, 21, 134, 476, 26, 480, 5, 144, 30, 5535, 18, 51, 36, 28, 224, 92, 25, 104, 4, 226, 65, 16, 38, 1334, 88, 12, 16, 283, 5, 16, 4472, 113, 103, 32, 15, 16, 5345, 19, 178, 32]),\n",
       "       list([1, 194, 1153, 194, 8255, 78, 228, 5, 6, 1463, 4369, 5012, 134, 26, 4, 715, 8, 118, 1634, 14, 394, 20, 13, 119, 954, 189, 102, 5, 207, 110, 3103, 21, 14, 69, 188, 8, 30, 23, 7, 4, 249, 126, 93, 4, 114, 9, 2300, 1523, 5, 647, 4, 116, 9, 35, 8163, 4, 229, 9, 340, 1322, 4, 118, 9, 4, 130, 4901, 19, 4, 1002, 5, 89, 29, 952, 46, 37, 4, 455, 9, 45, 43, 38, 1543, 1905, 398, 4, 1649, 26, 6853, 5, 163, 11, 3215, 2, 4, 1153, 9, 194, 775, 7, 8255, 2, 349, 2637, 148, 605, 2, 8003, 15, 123, 125, 68, 2, 6853, 15, 349, 165, 4362, 98, 5, 4, 228, 9, 43, 2, 1157, 15, 299, 120, 5, 120, 174, 11, 220, 175, 136, 50, 9, 4373, 228, 8255, 5, 2, 656, 245, 2350, 5, 4, 9837, 131, 152, 491, 18, 2, 32, 7464, 1212, 14, 9, 6, 371, 78, 22, 625, 64, 1382, 9, 8, 168, 145, 23, 4, 1690, 15, 16, 4, 1355, 5, 28, 6, 52, 154, 462, 33, 89, 78, 285, 16, 145, 95])],\n",
       "      dtype=object)"
      ]
     },
     "execution_count": 4,
     "metadata": {},
     "output_type": "execute_result"
    }
   ],
   "source": [
    "# we can't fit a list to neural network because of the length different\n",
    "# so we have to convert a list to a tensor\n",
    "X_train[:2]"
   ]
  },
  {
   "cell_type": "markdown",
   "id": "841fe955-de13-47b9-8c54-496bf31ab0f3",
   "metadata": {},
   "source": [
    "Encoding the int sequences via multi-hot encoding. **Multi hot encoding** is one of such popular encoding technique in order to successfully convert categorical variables into numerical variables.\n"
   ]
  },
  {
   "cell_type": "code",
   "execution_count": 5,
   "id": "aae98908-344e-4e6e-9d28-9db0eb5b9fdd",
   "metadata": {},
   "outputs": [
    {
     "name": "stdout",
     "output_type": "stream",
     "text": [
      "(25000, 10000)\n",
      "(25000,)\n"
     ]
    }
   ],
   "source": [
    "import numpy as np\n",
    "def vec_seq(sequences, dimension=10000):\n",
    "    # creates an all-zero matrices\n",
    "    results = np.zeros((len(sequences), dimension))\n",
    "    for i, sequence in enumerate(sequences):\n",
    "        for j in sequence:\n",
    "            results[i,j] = 1\n",
    "            \n",
    "    return results\n",
    "\n",
    "# vectorize sequences (train data)\n",
    "X_train_vec = vec_seq(X_train)\n",
    "X_test_vec = vec_seq(X_test)\n",
    "\n",
    "# vectorize sequences (labels data)\n",
    "y_train_vec = np.asarray(y_train).astype('float32')\n",
    "y_test_vec = np.asarray(y_test).astype('float32')\n",
    "\n",
    "print(X_train_vec.shape)\n",
    "print(y_test_vec.shape)"
   ]
  },
  {
   "cell_type": "markdown",
   "id": "6758ba38-f06c-4df0-9695-1afc85b851b1",
   "metadata": {},
   "source": [
    "### Build model\n",
    "**Dense layers** or **Fully connected layers** -- A plain layer stack of nuerons (units)\n",
    "- How many layers to use\n",
    "- How many units to choose for each layers\n"
   ]
  },
  {
   "cell_type": "markdown",
   "id": "4e886ff8-b9a1-4f57-83a3-16271654aeae",
   "metadata": {},
   "source": [
    "#### Model definition"
   ]
  },
  {
   "cell_type": "code",
   "execution_count": 6,
   "id": "37ac5f0a-0613-4f1a-8d05-fb7c2888f455",
   "metadata": {},
   "outputs": [
    {
     "name": "stdout",
     "output_type": "stream",
     "text": [
      "Metal device set to: Apple M1 Pro\n"
     ]
    },
    {
     "name": "stderr",
     "output_type": "stream",
     "text": [
      "2022-02-15 11:42:59.188456: I tensorflow/core/common_runtime/pluggable_device/pluggable_device_factory.cc:305] Could not identify NUMA node of platform GPU ID 0, defaulting to 0. Your kernel may not have been built with NUMA support.\n",
      "2022-02-15 11:42:59.188605: I tensorflow/core/common_runtime/pluggable_device/pluggable_device_factory.cc:271] Created TensorFlow device (/job:localhost/replica:0/task:0/device:GPU:0 with 0 MB memory) -> physical PluggableDevice (device: 0, name: METAL, pci bus id: <undefined>)\n"
     ]
    }
   ],
   "source": [
    "# import library\n",
    "from tensorflow import keras\n",
    "from tensorflow.keras.layers import Dense\n",
    "\n",
    "model = keras.Sequential([\n",
    "    Dense(16, activation='relu'),\n",
    "    Dense(16, activation='relu'),\n",
    "    Dense(1, activation='sigmoid'),\n",
    "])"
   ]
  },
  {
   "cell_type": "markdown",
   "id": "3f64f9ef-4074-4548-a8c2-f1fb21c195c6",
   "metadata": {},
   "source": [
    "*16* mean this particular layers have 16 units stack on top of each other `(input_dimension, 16)` \\\n",
    "*activation='relu'* mean we use relu as the activation function : `relu(dot(Inputs, W) + b)`"
   ]
  },
  {
   "cell_type": "markdown",
   "id": "a8afe5c8-e000-467c-b9fe-6ec63d1a0157",
   "metadata": {},
   "source": [
    "#### Compile model\n",
    "In compil, we need to choose an **optimizer**(what algorithms we use to optimize our model), **loss function**(fucntion that we use to calculate the loss, different between the predictions and the ground-truth, **metrics**(what are the metrice we use for measure how good our model is) for our neural network."
   ]
  },
  {
   "cell_type": "code",
   "execution_count": 7,
   "id": "096f71c6-e776-46f3-bb70-db7351ff158e",
   "metadata": {},
   "outputs": [],
   "source": [
    "model.compile(\n",
    "    optimizer = 'rmsprop',\n",
    "    loss='binary_crossentropy',\n",
    "    metrics=['accuracy']\n",
    ")"
   ]
  },
  {
   "cell_type": "markdown",
   "id": "1c58f5a7-f5e6-4674-9f55-22edfd15c33a",
   "metadata": {},
   "source": [
    "#### Validating\n",
    "Split the datasets to Training set and Dev set to prevent **overfitting**(not generalize)"
   ]
  },
  {
   "cell_type": "code",
   "execution_count": 8,
   "id": "6f58b977-1e47-42e2-b6e5-a8218003b4d7",
   "metadata": {},
   "outputs": [],
   "source": [
    "# setting aside a dev set (validation set)\n",
    "X_dev = X_train_vec[:10000]\n",
    "partial_X_train = X_train_vec[10000:]\n",
    "\n",
    "y_dev = y_train_vec[:10000]\n",
    "partial_y_train = y_train_vec[10000:]"
   ]
  },
  {
   "cell_type": "markdown",
   "id": "2d963b5e-0c30-47c0-947f-254dc1c56f9b",
   "metadata": {},
   "source": [
    "#### Training the model\n",
    "In order to train the model we use `keras.Sequential()` method `fit()`\\\n",
    "*epochs=20* means we train the model for 20 iterations over all samples in training example in mini-batches of *512*"
   ]
  },
  {
   "cell_type": "code",
   "execution_count": 9,
   "id": "7b163fd6-9245-4fa6-9ed2-ebdaa060128f",
   "metadata": {},
   "outputs": [
    {
     "name": "stderr",
     "output_type": "stream",
     "text": [
      "2022-02-15 11:43:00.113264: W tensorflow/core/platform/profile_utils/cpu_utils.cc:128] Failed to get CPU frequency: 0 Hz\n"
     ]
    },
    {
     "name": "stdout",
     "output_type": "stream",
     "text": [
      "Epoch 1/20\n"
     ]
    },
    {
     "name": "stderr",
     "output_type": "stream",
     "text": [
      "2022-02-15 11:43:00.432681: I tensorflow/core/grappler/optimizers/custom_graph_optimizer_registry.cc:112] Plugin optimizer for device_type GPU is enabled.\n"
     ]
    },
    {
     "name": "stdout",
     "output_type": "stream",
     "text": [
      "30/30 [==============================] - 2s 55ms/step - loss: 0.5588 - accuracy: 0.7581 - val_loss: 0.4383 - val_accuracy: 0.8690\n"
     ]
    },
    {
     "name": "stderr",
     "output_type": "stream",
     "text": [
      "2022-02-15 11:43:02.063670: I tensorflow/core/grappler/optimizers/custom_graph_optimizer_registry.cc:112] Plugin optimizer for device_type GPU is enabled.\n"
     ]
    },
    {
     "name": "stdout",
     "output_type": "stream",
     "text": [
      "Epoch 2/20\n",
      "30/30 [==============================] - 0s 16ms/step - loss: 0.3551 - accuracy: 0.8962 - val_loss: 0.3406 - val_accuracy: 0.8787\n",
      "Epoch 3/20\n",
      "30/30 [==============================] - 0s 16ms/step - loss: 0.2561 - accuracy: 0.9207 - val_loss: 0.2954 - val_accuracy: 0.8871\n",
      "Epoch 4/20\n",
      "30/30 [==============================] - 0s 15ms/step - loss: 0.1998 - accuracy: 0.9365 - val_loss: 0.2767 - val_accuracy: 0.8920\n",
      "Epoch 5/20\n",
      "30/30 [==============================] - 0s 16ms/step - loss: 0.1630 - accuracy: 0.9484 - val_loss: 0.2798 - val_accuracy: 0.8886\n",
      "Epoch 6/20\n",
      "30/30 [==============================] - 0s 15ms/step - loss: 0.1337 - accuracy: 0.9593 - val_loss: 0.2817 - val_accuracy: 0.8896\n",
      "Epoch 7/20\n",
      "30/30 [==============================] - 0s 15ms/step - loss: 0.1124 - accuracy: 0.9673 - val_loss: 0.2942 - val_accuracy: 0.8884\n",
      "Epoch 8/20\n",
      "30/30 [==============================] - 0s 15ms/step - loss: 0.0917 - accuracy: 0.9737 - val_loss: 0.3152 - val_accuracy: 0.8855\n",
      "Epoch 9/20\n",
      "30/30 [==============================] - 0s 14ms/step - loss: 0.0784 - accuracy: 0.9793 - val_loss: 0.3406 - val_accuracy: 0.8767\n",
      "Epoch 10/20\n",
      "30/30 [==============================] - 0s 15ms/step - loss: 0.0649 - accuracy: 0.9834 - val_loss: 0.3533 - val_accuracy: 0.8810\n",
      "Epoch 11/20\n",
      "30/30 [==============================] - 0s 15ms/step - loss: 0.0535 - accuracy: 0.9870 - val_loss: 0.3785 - val_accuracy: 0.8758\n",
      "Epoch 12/20\n",
      "30/30 [==============================] - 0s 15ms/step - loss: 0.0424 - accuracy: 0.9913 - val_loss: 0.4017 - val_accuracy: 0.8782\n",
      "Epoch 13/20\n",
      "30/30 [==============================] - 0s 15ms/step - loss: 0.0358 - accuracy: 0.9931 - val_loss: 0.4332 - val_accuracy: 0.8769\n",
      "Epoch 14/20\n",
      "30/30 [==============================] - 0s 15ms/step - loss: 0.0291 - accuracy: 0.9944 - val_loss: 0.4575 - val_accuracy: 0.8728\n",
      "Epoch 15/20\n",
      "30/30 [==============================] - 0s 14ms/step - loss: 0.0239 - accuracy: 0.9961 - val_loss: 0.4864 - val_accuracy: 0.8729\n",
      "Epoch 16/20\n",
      "30/30 [==============================] - 0s 15ms/step - loss: 0.0178 - accuracy: 0.9979 - val_loss: 0.5263 - val_accuracy: 0.8717\n",
      "Epoch 17/20\n",
      "30/30 [==============================] - 0s 16ms/step - loss: 0.0142 - accuracy: 0.9988 - val_loss: 0.5650 - val_accuracy: 0.8705\n",
      "Epoch 18/20\n",
      "30/30 [==============================] - 0s 15ms/step - loss: 0.0107 - accuracy: 0.9992 - val_loss: 0.6038 - val_accuracy: 0.8644\n",
      "Epoch 19/20\n",
      "30/30 [==============================] - 0s 15ms/step - loss: 0.0080 - accuracy: 0.9995 - val_loss: 0.6327 - val_accuracy: 0.8634\n",
      "Epoch 20/20\n",
      "30/30 [==============================] - 0s 15ms/step - loss: 0.0056 - accuracy: 0.9997 - val_loss: 0.6674 - val_accuracy: 0.8672\n"
     ]
    }
   ],
   "source": [
    "history = model.fit(\n",
    "    partial_X_train,\n",
    "    partial_y_train,\n",
    "    epochs=20,\n",
    "    batch_size=512,\n",
    "    validation_data=(X_dev, y_dev)\n",
    ")"
   ]
  },
  {
   "cell_type": "code",
   "execution_count": 10,
   "id": "f85a00da-80b0-4f23-b7d4-aa288828c786",
   "metadata": {},
   "outputs": [
    {
     "name": "stdout",
     "output_type": "stream",
     "text": [
      "dict_keys(['loss', 'accuracy', 'val_loss', 'val_accuracy'])\n"
     ]
    }
   ],
   "source": [
    "history_dict = history.history\n",
    "print(history_dict.keys())"
   ]
  },
  {
   "cell_type": "markdown",
   "id": "1e8fca2a-9fb0-4ca8-a873-dc36eda1d51a",
   "metadata": {},
   "source": [
    "#### Plotting the result"
   ]
  },
  {
   "cell_type": "code",
   "execution_count": 11,
   "id": "9b4d0c6a-9c7f-4284-b3e0-be4ec3e28bdf",
   "metadata": {},
   "outputs": [],
   "source": [
    "# import library\n",
    "import matplotlib.pyplot as plt"
   ]
  },
  {
   "cell_type": "code",
   "execution_count": 12,
   "id": "d7ddd0cc-efe8-491e-8a9a-926ec7281f17",
   "metadata": {},
   "outputs": [
    {
     "name": "stdout",
     "output_type": "stream",
     "text": [
      "0.11273303888738155 0.41842398792505264\n"
     ]
    },
    {
     "data": {
      "image/png": "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\n",
      "text/plain": [
       "<Figure size 432x288 with 1 Axes>"
      ]
     },
     "metadata": {
      "needs_background": "light"
     },
     "output_type": "display_data"
    },
    {
     "name": "stdout",
     "output_type": "stream",
     "text": [
      "0.9640000104904175 0.8775200337171555\n"
     ]
    },
    {
     "data": {
      "image/png": "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\n",
      "text/plain": [
       "<Figure size 432x288 with 1 Axes>"
      ]
     },
     "metadata": {
      "needs_background": "light"
     },
     "output_type": "display_data"
    }
   ],
   "source": [
    "# training and validation loss\n",
    "def loss_plot():\n",
    "    loss_vals = history_dict['loss']\n",
    "    dev_loss_vals = history_dict['val_loss']\n",
    "    epochs = range(1, len(loss_vals)+1)\n",
    "    print(np.mean(loss_vals), np.mean(dev_loss_vals))\n",
    "    # plot\n",
    "    plt.plot(epochs, loss_vals, 'bo', label='Training Loss')\n",
    "    plt.plot(epochs, dev_loss_vals, 'r', label='Validaion Loss')\n",
    "    plt.title(\"Training and Validation Loss\")\n",
    "    plt.xlabel(\"Epochs\")\n",
    "    plt.ylabel(\"Loss\")\n",
    "    plt.legend()\n",
    "    plt.show()\n",
    "\n",
    "def acc_plot():\n",
    "    acc_vals = history_dict['accuracy']\n",
    "    dev_acc_vals = history_dict['val_accuracy']\n",
    "    epochs = range(1, len(acc_vals)+1)\n",
    "    print(np.mean(acc_vals), np.mean(dev_acc_vals))\n",
    "\n",
    "    # plot\n",
    "    plt.plot(epochs, acc_vals, 'bo', label='Training Accuracy')\n",
    "    plt.plot(epochs, dev_acc_vals, 'r', label='Validaion Accuracy')\n",
    "    plt.title(\"Training and Validation Accuracy\")\n",
    "    plt.xlabel(\"Epochs\")\n",
    "    plt.ylabel(\"Accuracy\")\n",
    "    plt.legend()\n",
    "    plt.show()\n",
    "    \n",
    "loss_plot()\n",
    "acc_plot()"
   ]
  },
  {
   "cell_type": "markdown",
   "id": "c61c324b-9568-4405-81a6-06105a8e9a8c",
   "metadata": {},
   "source": [
    "#### Full process"
   ]
  },
  {
   "cell_type": "code",
   "execution_count": 13,
   "id": "ef0c2518-da2f-4e5a-95a3-4ead817ce183",
   "metadata": {},
   "outputs": [
    {
     "name": "stdout",
     "output_type": "stream",
     "text": [
      "Epoch 1/10\n"
     ]
    },
    {
     "name": "stderr",
     "output_type": "stream",
     "text": [
      "2022-02-15 11:43:12.235540: I tensorflow/core/grappler/optimizers/custom_graph_optimizer_registry.cc:112] Plugin optimizer for device_type GPU is enabled.\n"
     ]
    },
    {
     "name": "stdout",
     "output_type": "stream",
     "text": [
      "30/30 [==============================] - 1s 30ms/step - loss: 0.1564 - accuracy: 0.7756 - val_loss: 0.1028 - val_accuracy: 0.8690\n",
      "Epoch 2/10\n",
      " 1/30 [>.............................] - ETA: 0s - loss: 0.0780 - accuracy: 0.9160"
     ]
    },
    {
     "name": "stderr",
     "output_type": "stream",
     "text": [
      "2022-02-15 11:43:13.143430: I tensorflow/core/grappler/optimizers/custom_graph_optimizer_registry.cc:112] Plugin optimizer for device_type GPU is enabled.\n"
     ]
    },
    {
     "name": "stdout",
     "output_type": "stream",
     "text": [
      "30/30 [==============================] - 0s 15ms/step - loss: 0.0747 - accuracy: 0.9086 - val_loss: 0.0925 - val_accuracy: 0.8742\n",
      "Epoch 3/10\n",
      "30/30 [==============================] - 0s 14ms/step - loss: 0.0541 - accuracy: 0.9296 - val_loss: 0.0949 - val_accuracy: 0.8712\n",
      "Epoch 4/10\n",
      "30/30 [==============================] - 0s 14ms/step - loss: 0.0408 - accuracy: 0.9500 - val_loss: 0.0870 - val_accuracy: 0.8845\n",
      "Epoch 5/10\n",
      "30/30 [==============================] - 0s 15ms/step - loss: 0.0307 - accuracy: 0.9623 - val_loss: 0.0932 - val_accuracy: 0.8787\n",
      "Epoch 6/10\n",
      "30/30 [==============================] - 0s 14ms/step - loss: 0.0270 - accuracy: 0.9680 - val_loss: 0.0963 - val_accuracy: 0.8773\n",
      "Epoch 7/10\n",
      "30/30 [==============================] - 0s 14ms/step - loss: 0.0203 - accuracy: 0.9760 - val_loss: 0.1013 - val_accuracy: 0.8735\n",
      "Epoch 8/10\n",
      "30/30 [==============================] - 0s 15ms/step - loss: 0.0180 - accuracy: 0.9784 - val_loss: 0.1086 - val_accuracy: 0.8676\n",
      "Epoch 9/10\n",
      "30/30 [==============================] - 0s 15ms/step - loss: 0.0164 - accuracy: 0.9811 - val_loss: 0.1205 - val_accuracy: 0.8569\n",
      "Epoch 10/10\n",
      "30/30 [==============================] - 0s 15ms/step - loss: 0.0153 - accuracy: 0.9821 - val_loss: 0.1071 - val_accuracy: 0.8712\n"
     ]
    },
    {
     "data": {
      "text/plain": [
       "<keras.callbacks.History at 0x14f2d2a30>"
      ]
     },
     "execution_count": 13,
     "metadata": {},
     "output_type": "execute_result"
    }
   ],
   "source": [
    "# create model\n",
    "model = keras.Sequential([\n",
    "    Dense(64, activation='tanh'),\n",
    "    Dense(32, activation='tanh'),\n",
    "    Dense(16, activation='relu'),\n",
    "    Dense(1, activation='sigmoid')\n",
    "])\n",
    "# compile\n",
    "model.compile(\n",
    "    optimizer='rmsprop',\n",
    "    loss='mse',\n",
    "    metrics=['accuracy']\n",
    ")\n",
    "# fit and train\n",
    "model.fit(\n",
    "    partial_X_train,\n",
    "    partial_y_train,\n",
    "    epochs=10,\n",
    "    batch_size=512,\n",
    "    validation_data=(X_dev, y_dev)\n",
    ")"
   ]
  },
  {
   "cell_type": "code",
   "execution_count": 14,
   "id": "a08703df-d2fd-40f8-b565-94b369871049",
   "metadata": {},
   "outputs": [
    {
     "name": "stdout",
     "output_type": "stream",
     "text": [
      "dict_keys(['loss', 'accuracy', 'val_loss', 'val_accuracy'])\n",
      "0.11273303888738155 0.41842398792505264\n"
     ]
    },
    {
     "data": {
      "image/png": "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\n",
      "text/plain": [
       "<Figure size 432x288 with 1 Axes>"
      ]
     },
     "metadata": {
      "needs_background": "light"
     },
     "output_type": "display_data"
    },
    {
     "name": "stdout",
     "output_type": "stream",
     "text": [
      "0.9640000104904175 0.8775200337171555\n"
     ]
    },
    {
     "data": {
      "image/png": "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\n",
      "text/plain": [
       "<Figure size 432x288 with 1 Axes>"
      ]
     },
     "metadata": {
      "needs_background": "light"
     },
     "output_type": "display_data"
    }
   ],
   "source": [
    "history_dict = history.history\n",
    "print(history_dict.keys())\n",
    "\n",
    "loss_plot()\n",
    "acc_plot()"
   ]
  },
  {
   "cell_type": "markdown",
   "id": "773a9b27-8355-4a5f-929d-b38fd5494044",
   "metadata": {},
   "source": [
    "### Multiclasss classification\n",
    "#### The reuters datasets\n",
    "A set of short newswires and their topics, published by Reuters in 1986."
   ]
  },
  {
   "cell_type": "code",
   "execution_count": 15,
   "id": "458155ac-c39a-49db-b0bb-354516d058df",
   "metadata": {},
   "outputs": [],
   "source": [
    "# import dataset\n",
    "from tensorflow.keras.datasets import reuters\n",
    "\n",
    "# load dataset\n",
    "(train_data, train_labels), (test_data, test_labels) = reuters.load_data(num_words=10000)"
   ]
  },
  {
   "cell_type": "code",
   "execution_count": 16,
   "id": "8c879b50-23ba-401f-84ff-3e7103e23e17",
   "metadata": {},
   "outputs": [
    {
     "name": "stdout",
     "output_type": "stream",
     "text": [
      "Train size: 8982\n",
      "Train shape: (8982,)\n"
     ]
    }
   ],
   "source": [
    "print(f'Train size: {len(train_data)}')\n",
    "print(f'Train shape: {train_data.shape}')"
   ]
  },
  {
   "cell_type": "code",
   "execution_count": 17,
   "id": "760a24a7-82cf-4139-b663-f0b20a63a517",
   "metadata": {},
   "outputs": [
    {
     "name": "stdout",
     "output_type": "stream",
     "text": [
      "[1, 2, 2, 8, 43, 10, 447, 5, 25, 207, 270, 5, 3095, 111, 16, 369, 186, 90, 67, 7, 89, 5, 19, 102, 6, 19, 124, 15, 90, 67, 84, 22, 482, 26, 7, 48, 4, 49, 8, 864, 39, 209, 154, 6, 151, 6, 83, 11, 15, 22, 155, 11, 15, 7, 48, 9, 4579, 1005, 504, 6, 258, 6, 272, 11, 15, 22, 134, 44, 11, 15, 16, 8, 197, 1245, 90, 67, 52, 29, 209, 30, 32, 132, 6, 109, 15, 17, 12]\n"
     ]
    }
   ],
   "source": [
    "print(train_data[0])"
   ]
  },
  {
   "cell_type": "code",
   "execution_count": 18,
   "id": "56143667-f208-44a3-bf2a-90c5fa70d02c",
   "metadata": {},
   "outputs": [],
   "source": [
    "# decode back to text \n",
    "word_index = reuters.get_word_index()\n",
    "reverse_word_index = dict(\n",
    "    [(value, key) for (key, value) in word_index.items()]\n",
    ")\n",
    "\n",
    "decoded_newswire = ' '.join(\n",
    "    [reverse_word_index.get(i - 3, '?') for i in X_train[0]]\n",
    ")"
   ]
  },
  {
   "cell_type": "code",
   "execution_count": 19,
   "id": "fb606933-e83c-4209-b18d-8abc361698e4",
   "metadata": {},
   "outputs": [
    {
     "data": {
      "text/plain": [
       "'? vs from it as must exporters ability whole oil support slash trade 920 the officials he policy of its other as slightly against which continued ? and billion following 28 of dlr the into against stg ? results sold net the into becomes view reuter 38 s for result the west which it to 25 atlantic 1 vs from the differentials slack services the from inc prices 3 it as must s market dlrs for versus the from reuter completed reuter 3 it l 000 ? of were budget 3 said terms said government of the ensure besides it following trade 292 will the japan 3 it s special of its 30 but he total 1986 its stood will to from 3 analysts at they this of vs days it tonnes ? said the if over pulp dlrs policy the ? in aires of bills he inc as must them cts development crude loss in the ? rubber for february sales the held dlrs who quarter 2 duties lt cts international to any forthcoming 000 the further from on 12 them cts following of there be 005 000 but he at since after its february the further oil it s stable sales 3 it sugar of it stepped dollar group 2 dlrs it 542 1 oper 2'"
      ]
     },
     "execution_count": 19,
     "metadata": {},
     "output_type": "execute_result"
    }
   ],
   "source": [
    "decoded_newswire"
   ]
  },
  {
   "cell_type": "code",
   "execution_count": 20,
   "id": "f1d7881f-d447-4aac-b7ed-19a742beef72",
   "metadata": {},
   "outputs": [],
   "source": [
    "# prepare the data (vectorize the data)\n",
    "X_train = vec_seq(train_data)\n",
    "X_test = vec_seq(test_data)"
   ]
  },
  {
   "cell_type": "code",
   "execution_count": 21,
   "id": "a2555b0e-9c1c-4167-89eb-0be75e00c252",
   "metadata": {},
   "outputs": [],
   "source": [
    "# encoding labels to one hot encoder\n",
    "def to_one_hot(labels, dimension=46):\n",
    "    results = np.zeros((len(labels), dimension))\n",
    "    \n",
    "    for i, label in enumerate(labels):\n",
    "        results[i, label] = 1\n",
    "        \n",
    "    return results\n",
    "\n",
    "y_train = to_one_hot(train_labels)\n",
    "y_test = to_one_hot(test_labels)"
   ]
  },
  {
   "cell_type": "code",
   "execution_count": 22,
   "id": "caaef609-a438-4974-8a70-6a4aa3f1eaf2",
   "metadata": {},
   "outputs": [
    {
     "name": "stdout",
     "output_type": "stream",
     "text": [
      "[0.0, 0.0, 0.0, 1.0, 0.0, 0.0, 0.0, 0.0, 0.0, 0.0, 0.0, 0.0, 0.0, 0.0, 0.0, 0.0, 0.0, 0.0, 0.0, 0.0, 0.0, 0.0, 0.0, 0.0, 0.0, 0.0, 0.0, 0.0, 0.0, 0.0, 0.0, 0.0, 0.0, 0.0, 0.0, 0.0, 0.0, 0.0, 0.0, 0.0, 0.0, 0.0, 0.0, 0.0, 0.0, 0.0]\n",
      "Class of each sample: 46\n"
     ]
    }
   ],
   "source": [
    "# using keras built-in function\n",
    "from tensorflow.keras.utils import to_categorical\n",
    "y_train = to_categorical(train_labels)\n",
    "y_test = to_categorical(test_labels)\n",
    "\n",
    "print([i for i in y_train[0]])\n",
    "print(f'Class of each sample: {len(y_train[0])}')"
   ]
  },
  {
   "cell_type": "markdown",
   "id": "d60f9c2e-f34b-43d3-b661-cd66cfd21ff6",
   "metadata": {},
   "source": [
    "#### Build model"
   ]
  },
  {
   "cell_type": "code",
   "execution_count": 23,
   "id": "c5a5b94c-a2a9-469d-8494-b1254125edfd",
   "metadata": {},
   "outputs": [],
   "source": [
    "model = keras.Sequential([\n",
    "    Dense(128, activation='relu'),\n",
    "    Dense(64, activation='relu'),\n",
    "    Dense(46, activation='softmax'),\n",
    "])"
   ]
  },
  {
   "cell_type": "markdown",
   "id": "030652d3-7d85-4690-acf2-9a35bf147af5",
   "metadata": {},
   "source": [
    "Similar of the previous model activation, a plain network is counstruct by using `Dense` layer. The different is we use `softmax` activation function in the last layer.\\ The reason we use 46 units is because of each of the training example have different 46 class.\n",
    "**Softmax** activation function return a probabilities distribution of each class as an output.\n"
   ]
  },
  {
   "cell_type": "markdown",
   "id": "975aa68b-fa41-40cd-a524-8aa5d29fc6ed",
   "metadata": {},
   "source": [
    "#### Compile and Train"
   ]
  },
  {
   "cell_type": "code",
   "execution_count": 24,
   "id": "e00725bc-0ecc-4c5e-83d8-1189c95b0549",
   "metadata": {},
   "outputs": [],
   "source": [
    "# compile the model\n",
    "model.compile(\n",
    "    optimizer=\"rmsprop\",\n",
    "     loss=\"categorical_crossentropy\",\n",
    "     metrics=[\"accuracy\"])"
   ]
  },
  {
   "cell_type": "code",
   "execution_count": 25,
   "id": "b91da7d4-1a8b-4680-8a59-edd1454d3d27",
   "metadata": {},
   "outputs": [],
   "source": [
    "# split train and dev set\n",
    "# validation set\n",
    "val_train = X_train[:1000]\n",
    "val_labels = y_train[:1000]\n",
    "\n",
    "# train set\n",
    "partial_X_train = X_train[1000:]\n",
    "partial_y_train = y_train[1000:]"
   ]
  },
  {
   "cell_type": "code",
   "execution_count": 26,
   "id": "f8d36c15-ff5c-46d7-b6a5-428d246d42c5",
   "metadata": {},
   "outputs": [
    {
     "name": "stdout",
     "output_type": "stream",
     "text": [
      "Epoch 1/20\n",
      " 1/16 [>.............................] - ETA: 6s - loss: 3.8505 - accuracy: 0.0078"
     ]
    },
    {
     "name": "stderr",
     "output_type": "stream",
     "text": [
      "2022-02-15 11:43:18.638968: I tensorflow/core/grappler/optimizers/custom_graph_optimizer_registry.cc:112] Plugin optimizer for device_type GPU is enabled.\n"
     ]
    },
    {
     "name": "stdout",
     "output_type": "stream",
     "text": [
      "16/16 [==============================] - 1s 24ms/step - loss: 2.3988 - accuracy: 0.5646 - val_loss: 1.4983 - val_accuracy: 0.6860\n",
      "Epoch 2/20\n",
      "10/16 [=================>............] - ETA: 0s - loss: 1.2580 - accuracy: 0.7328"
     ]
    },
    {
     "name": "stderr",
     "output_type": "stream",
     "text": [
      "2022-02-15 11:43:19.110356: I tensorflow/core/grappler/optimizers/custom_graph_optimizer_registry.cc:112] Plugin optimizer for device_type GPU is enabled.\n"
     ]
    },
    {
     "name": "stdout",
     "output_type": "stream",
     "text": [
      "16/16 [==============================] - 0s 14ms/step - loss: 1.2067 - accuracy: 0.7432 - val_loss: 1.1666 - val_accuracy: 0.7560\n",
      "Epoch 3/20\n",
      "16/16 [==============================] - 0s 14ms/step - loss: 0.8515 - accuracy: 0.8211 - val_loss: 1.0147 - val_accuracy: 0.7960\n",
      "Epoch 4/20\n",
      "16/16 [==============================] - 0s 14ms/step - loss: 0.6342 - accuracy: 0.8697 - val_loss: 0.9524 - val_accuracy: 0.7900\n",
      "Epoch 5/20\n",
      "16/16 [==============================] - 0s 15ms/step - loss: 0.4780 - accuracy: 0.8996 - val_loss: 0.9055 - val_accuracy: 0.8190\n",
      "Epoch 6/20\n",
      "16/16 [==============================] - 0s 15ms/step - loss: 0.3630 - accuracy: 0.9266 - val_loss: 0.8922 - val_accuracy: 0.8090\n",
      "Epoch 7/20\n",
      "16/16 [==============================] - 0s 15ms/step - loss: 0.2845 - accuracy: 0.9375 - val_loss: 0.9049 - val_accuracy: 0.8170\n",
      "Epoch 8/20\n",
      "16/16 [==============================] - 0s 14ms/step - loss: 0.2311 - accuracy: 0.9458 - val_loss: 0.9633 - val_accuracy: 0.8020\n",
      "Epoch 9/20\n",
      "16/16 [==============================] - 0s 15ms/step - loss: 0.2006 - accuracy: 0.9496 - val_loss: 0.9442 - val_accuracy: 0.8070\n",
      "Epoch 10/20\n",
      "16/16 [==============================] - 0s 15ms/step - loss: 0.1750 - accuracy: 0.9520 - val_loss: 0.9069 - val_accuracy: 0.8130\n",
      "Epoch 11/20\n",
      "16/16 [==============================] - 0s 15ms/step - loss: 0.1594 - accuracy: 0.9554 - val_loss: 0.9691 - val_accuracy: 0.8030\n",
      "Epoch 12/20\n",
      "16/16 [==============================] - 0s 15ms/step - loss: 0.1420 - accuracy: 0.9557 - val_loss: 0.9673 - val_accuracy: 0.8160\n",
      "Epoch 13/20\n",
      "16/16 [==============================] - 0s 14ms/step - loss: 0.1345 - accuracy: 0.9569 - val_loss: 0.9947 - val_accuracy: 0.8170\n",
      "Epoch 14/20\n",
      "16/16 [==============================] - 0s 15ms/step - loss: 0.1304 - accuracy: 0.9557 - val_loss: 0.9682 - val_accuracy: 0.8230\n",
      "Epoch 15/20\n",
      "16/16 [==============================] - 0s 15ms/step - loss: 0.1259 - accuracy: 0.9565 - val_loss: 1.0437 - val_accuracy: 0.8080\n",
      "Epoch 16/20\n",
      "16/16 [==============================] - 0s 15ms/step - loss: 0.1175 - accuracy: 0.9572 - val_loss: 1.0737 - val_accuracy: 0.8020\n",
      "Epoch 17/20\n",
      "16/16 [==============================] - 0s 15ms/step - loss: 0.1171 - accuracy: 0.9570 - val_loss: 1.0467 - val_accuracy: 0.8080\n",
      "Epoch 18/20\n",
      "16/16 [==============================] - 0s 14ms/step - loss: 0.1123 - accuracy: 0.9572 - val_loss: 1.1042 - val_accuracy: 0.8010\n",
      "Epoch 19/20\n",
      "16/16 [==============================] - 0s 15ms/step - loss: 0.1090 - accuracy: 0.9575 - val_loss: 1.1280 - val_accuracy: 0.7970\n",
      "Epoch 20/20\n",
      "16/16 [==============================] - 0s 15ms/step - loss: 0.1085 - accuracy: 0.9577 - val_loss: 1.0907 - val_accuracy: 0.8140\n"
     ]
    }
   ],
   "source": [
    "# train model\n",
    "history = model.fit(\n",
    "            partial_X_train,\n",
    "            partial_y_train,\n",
    "            epochs= 20,\n",
    "            batch_size=512,\n",
    "            validation_data=(val_train, val_labels)\n",
    ")"
   ]
  },
  {
   "cell_type": "code",
   "execution_count": 27,
   "id": "94cc5757-b821-4675-af61-08961aae113d",
   "metadata": {},
   "outputs": [
    {
     "name": "stdout",
     "output_type": "stream",
     "text": [
      "dict_keys(['loss', 'accuracy', 'val_loss', 'val_accuracy'])\n",
      "0.40399202294647696 1.026764026284218\n"
     ]
    },
    {
     "data": {
      "image/png": "iVBORw0KGgoAAAANSUhEUgAAAYIAAAEWCAYAAABrDZDcAAAAOXRFWHRTb2Z0d2FyZQBNYXRwbG90bGliIHZlcnNpb24zLjUuMSwgaHR0cHM6Ly9tYXRwbG90bGliLm9yZy/YYfK9AAAACXBIWXMAAAsTAAALEwEAmpwYAAAsFklEQVR4nO3dd5xU1f3/8deHBUGkSBOUsoCiqHQWUBFFMUTRCBhLyBpFYoHEEpMoRohiDCnGJMYSDWqChV8QoxILfi0RAsYKiAiCYGEBRQVUiohSPr8/zh12WLaye2dmd97Px2Mec+e2+czd2fOZc+6555q7IyIi2atWugMQEZH0UiIQEclySgQiIllOiUBEJMspEYiIZDklAhGRLKdEIFXKzJ42s/Oret10MrMVZnZSDPudZWYXRtP5ZvZsedbdi/dpZ2abzSxnb2MtZd9uZodU9X4ltZQIhKiQSDx2mtlXSa/zK7Ivdz/F3e+r6nUzkZldY2azi5nf3My+MbMu5d2Xu09x98FVFNduicvdV7p7A3ffURX7l5pHiUCICokG7t4AWAl8J2nelMR6ZlY7fVFmpAeBY8ysQ5H53wPecvdFaYhJpMKUCKREZjbQzFab2Vgz+xj4h5k1MbMnzWytmX0eTbdJ2ia5uWOkmb1oZjdH635gZqfs5bodzGy2mW0ys+fN7A4ze7CEuMsT441m9r9of8+aWfOk5T8wswIzW29m40o6Pu6+GngB+EGRRecB95cVR5GYR5rZi0mvv2VmS81sg5ndDljSsoPN7IUovnVmNsXM9o+WPQC0A56IanRXm1n7qAmndrTOQWb2uJl9ZmbvmtlFSfueYGbTzOz+6NgsNrO8ko5Bkc/QONpubXT8xptZrWjZIWb23+jzrDOzh6L5ZmZ/NrNPzWyjmb1VkZqUVA0lAilLK6ApkAtcTPjO/CN63Q74Cri9lO37Ae8AzYGbgHvNzPZi3f8HvAY0AyawZ+GbrDwxfh+4ADgA2Af4OYCZHQHcGe3/oOj9ii28I/clx2JmhwE9ongreqwS+2gOPAqMJxyL94D+yasAv43iOxxoSzgmuPsP2L1Wd1MxbzEVWB1tfybwGzM7MWn56dE6+wOPlyfmyG1AY6AjcDwhIV4QLbsReBZoQjiet0XzBwPHAYdG254NrC/n+0lVcXc99Nj1AFYAJ0XTA4FvgHqlrN8D+Dzp9Szgwmh6JPBu0rL6gAOtKrIuoRDdDtRPWv4g8GA5P1NxMY5Pev0j4P+i6euAqUnL9ouOwUkl7Ls+sBE4Jno9Efj3Xh6rF6Pp84BXktYzQsF9YQn7HQa8UdzfMHrdPjqWtQlJYwfQMGn5b4HJ0fQE4PmkZUcAX5VybB04BMiJjtMRScsuAWZF0/cDk4A2RbY/EVgGHAXUSvf3P1sfqhFIWda6+9bECzOrb2Z/i6r+G4HZwP5Wco+UjxMT7r4lmmxQwXUPAj5LmgewqqSAyxnjx0nTW5JiOih53+7+JaX8Qo1iehg4L6q95BMKvb05VglFY/Dk12bW0symmtmH0X4fJNQcyiNxLDclzSsAWie9Lnps6lnZ54eaA3WifRW336sJCe21qLlpVPTZXiDUOO4APjWzSWbWqJyfRaqIEoGUpejwtD8DDgP6uXsjQrUektqwY7AGaGpm9ZPmtS1l/crEuCZ539F7Nitjm/sITRrfAhoCT1QyjqIxGLt/3t8Q/i5do/2eW2SfpQ0p/BHhWDZMmtcO+LCMmMqyDthGaAbbY7/u/rG7X+TuBxFqCn+1qNupu9/q7r0JtY9DgasqGYtUkBKBVFRDQlv3F2bWFLg+7jd09wJgLjDBzPYxs6OB78QU47+A08zsWDPbB/gVZf+fzAG+IDR9THX3byoZx1PAkWZ2RvRL/HJCE1lCQ2AzsMHMWrNnwfkJoZ1+D+6+CngJ+K2Z1TOzbsAPCbWKveaha+o0YKKZNTSzXOCnif2a2VlJJ8o/JySrnWbWx8z6mVkd4EtgK7CzMrFIxSkRSEXdAuxL+AX4CvB/KXrffOBoQjPNr4GHgK9LWPcW9jJGd18M/JhwsncNodBaXcY2TmgOyo2eKxWHu68DzgJ+R/i8nYD/Ja1yA9AL2EBIGo8W2cVvgfFm9oWZ/byYtxhBOG/wEfAYcL27P1+e2MpwGaEwfx94kXAM/x4t6wO8amabCSegr3D394FGwN2E41xA+Lx/qIJYpAIsOmEjUq1E3Q+XunvsNRKRmk41AqkWoiaEg82slpmdDAwFpqc5LJEaQVeKSnXRitAE0ozQVDPG3d9Ib0giNUNsTUNm1pbQXtqScGJokrv/pcg6A4F/Ax9Esx5191/FEpCIiBQrzhrBduBn7j4/6qo2z8yec/e3i6w3x91PizEOEREpRWyJwN3XEHpd4O6bzGwJ4eKSoomgQpo3b+7t27evfIAiIllk3rx569y9RXHLUnKOwMzaAz2BV4tZfLSZvUnoyvbzqPteidq3b8/cuXOrPkgRkRrMzApKWhZ7IjCzBsAjwE/cfWORxfOBXHffbGZDCL1AOhWzj4sJA57Rrl27eAMWEckysXYfja4WfASY4u5FL3rB3Te6++ZoegZQx5KGA05ab5K757l7XosWxdZsRERkL8WWCKLxUe4Flrj7n0pYp1VimGEz6xvFoyFoRURSKM6mof6EcdrfMrMF0bxrCQNR4e53EcZCH2Nm2wljsnzPdamzSMbbtm0bq1evZuvWrWWvLClVr1492rRpQ506dcq9TZy9hl6kjFEW3f12yn/TCxHJEKtXr6Zhw4a0b9+eku8zJKnm7qxfv57Vq1fToUPRO6iWLCuGmJgyBdq3h1q1wvOUKWVtISKl2bp1K82aNVMSyDBmRrNmzSpcU6vxQ0xMmQIXXwxboluaFBSE1wD5+emLS6S6UxLITHvzd6nxNYJx4wqTQMKWLWG+iIhkQSJYubJi80Uk861fv54ePXrQo0cPWrVqRevWrXe9/uabb0rddu7cuVx++eVlvscxxxxTJbHOmjWL007L7FF0anwiKOn6M12XJpI6VX2erlmzZixYsIAFCxYwevRorrzyyl2v99lnH7Zv317itnl5edx6661lvsdLL71UuSCrkRqfCCZOhPr1d59Xv36YLyLxS5ynKygA98LzdFXdaWPkyJGMHj2afv36cfXVV/Paa69x9NFH07NnT4455hjeeecdYPdf6BMmTGDUqFEMHDiQjh077pYgGjRosGv9gQMHcuaZZ9K5c2fy8/NJ9HKfMWMGnTt3pnfv3lx++eVl/vL/7LPPGDZsGN26deOoo45i4cKFAPz3v//dVaPp2bMnmzZtYs2aNRx33HH06NGDLl26MGfOnKo9YElq/MnixAnhceNCc1C7diEJ6ESxSGqUdp6uqv8PV69ezUsvvUROTg4bN25kzpw51K5dm+eff55rr72WRx55ZI9tli5dysyZM9m0aROHHXYYY8aM2aMP/htvvMHixYs56KCD6N+/P//73//Iy8vjkksuYfbs2XTo0IERI0aUGd/1119Pz549mT59Oi+88ALnnXceCxYs4Oabb+aOO+6gf//+bN68mXr16jFp0iS+/e1vM27cOHbs2MGWogexCtX4RADhy6aCXyQ9Unme7qyzziInJweADRs2cP7557N8+XLMjG3bthW7zamnnkrdunWpW7cuBxxwAJ988glt2rTZbZ2+ffvumtejRw9WrFhBgwYN6Nix467++iNGjGDSpEmlxvfiiy/uSkYnnngi69evZ+PGjfTv35+f/vSn5Ofnc8YZZ9CmTRv69OnDqFGj2LZtG8OGDaNHjx6VOTSlqvFNQyKSXqk8T7fffvvtmv7lL3/JCSecwKJFi3jiiSdK7Ftft27dXdM5OTnFnl8ozzqVcc0113DPPffw1Vdf0b9/f5YuXcpxxx3H7Nmzad26NSNHjuT++++v0vdMpkQgIrFK13m6DRs20Lp1awAmT55c5fs/7LDDeP/991mxYgUADz30UJnbDBgwgCnRyZFZs2bRvHlzGjVqxHvvvUfXrl0ZO3Ysffr0YenSpRQUFNCyZUsuuugiLrzwQubPn1/lnyFBiUBEYpWfD5MmQW4umIXnSZPib669+uqr+cUvfkHPnj2r/Bc8wL777stf//pXTj75ZHr37k3Dhg1p3LhxqdtMmDCBefPm0a1bN6655hruu+8+AG655Ra6dOlCt27dqFOnDqeccgqzZs2ie/fu9OzZk4ceeogrrriiyj9DQmz3LI5LXl6e68Y0Ium1ZMkSDj/88HSHkXabN2+mQYMGuDs//vGP6dSpE1deeWW6wyr272Nm89w9r7j1VSMQEdlLd999Nz169ODII49kw4YNXHLJJekOaa9kRa8hEZE4XHnllRlRA6gs1QhERLKcEoGISJZTIhARyXJKBCIiWU6JQESqnRNOOIFnnnlmt3m33HILY8aMKXGbgQMHkuh6PmTIEL744os91pkwYQI333xzqe991113VclVvitWrKBLly6V3k9VUK8hEal2RowYwdSpU/n2t7+9a97UqVO56aabyrX9jBkz9vq9R48evdfbZirVCESk2jnzzDN56qmndt2EZsWKFXz00UcMGDCAMWPGkJeXx5FHHsn1119f7Pbt27dn3bp1AEycOJFDDz2UY489dtdQ1RCuEejTpw/du3fnu9/97q7RP5NrDQsWLOCoo46iW7duDB8+nM8//xwItY+xY8fSt29fDj300DKHkN66dSsXXHABXbt2pWfPnsycOROAxYsX07dvX3r06EG3bt1Yvnw5X375Jaeeeirdu3enS5cu5RraoiyqEYhI5fzkJ7BgQdXus0cPuOWWEhc3bdqUvn378vTTTzN06FCmTp3K2WefjZkxceJEmjZtyo4dOxg0aBALFy6kW7duxe5n3rx5TJ06lQULFrB9+3Z69epF7969ATjjjDO46KKLABg/fjz33nsvl1122W7bn3feedx2220cf/zxXHfdddxwww3cEsW9fft2XnvtNWbMmMENN9zA888/X+LnueOOOzAz3nrrLZYuXcrgwYNZtmwZd911F1dccQX5+fl888037NixgxkzZnDQQQfx1FNPAWFMpcpSjUBEqqVE8xCEZqHE/QCmTZtGr1696NmzJ4sXL+btt98ucR9z5sxh+PDh1K9fn0aNGnH66afvWrZo0SIGDBhA165dmTJlCosXL95t2w0bNvDFF19w/PHHA3D++ecze/bsXcvPOOMMAHr37r1rYLqSvPjii5x77rkAdO7cmdzcXJYtW8bRRx/Nb37zG37/+99TUFDAvvvuS9euXXnuuecYO3Ysc+bMKXN8o/JQjUBEKqeUX+5xGjp0KFdeeSXz589ny5Yt9O7dmw8++ICbb76Z119/nSZNmjBy5MgSh58uy8iRI5k+fTrdu3dn8uTJzJo1q0LbJ4aursyw1d///vfp168fTz31FEOGDOFvf/sbJ554IvPnz2fGjBmMHz+eQYMGcd111+3V/hNUIxCRaqlBgwaccMIJjBo1aldtYOPGjey33340btyYTz75hKeffrrUfRx33HFMnz6dr776ik2bNvHEE0/sWrZp0yYOPPBAtm3btmvo6GSNGzemSZMmu9r/H3jggV21g4pKHp562bJlrFy5ctcw1x07duTyyy9n6NChLFy4kI8++oj69etz7rnnctVVV1XJ8NSqEYhItTVixAiGDx++q4koMWxz586dadu2Lf379y91+169enHOOefQvXt3DjjgAPr06bNr2Y033ki/fv1o0aIF/fr1Y9OmTXtsf9999zF69Gi2bNlCx44d+cc//rFXn+NHP/oRY8aMoWvXrtSuXZvJkydTt25dpk2bxgMPPECdOnVo1aoV1157La+//jpXXXUVtWrVok6dOtx555179Z7JNAy1iFSYhqHObBqGWkREKkSJQEQkyykRiMheqW7Nytlib/4uSgQiUmH16tVj/fr1SgYZxt1Zv3499erVq9B26jUkIhXWpk0bVq9ezdq1a9MdihRRr1492rRpU6FtlAhEpMLq1KlDhw4d0h2GVBE1DYmIZDklAhGRLBdbIjCztmY208zeNrPFZnZFMeuYmd1qZu+a2UIz6xVXPCIiUrw4zxFsB37m7vPNrCEwz8yec/fkoQBPATpFj37AndGziIikSGw1Andf4+7zo+lNwBKgdZHVhgL3e/AKsL+ZHRhXTCIisqeUnCMws/ZAT+DVIotaA6uSXq9mz2SBmV1sZnPNbK66q4mIVK3YE4GZNQAeAX7i7hv3Zh/uPsnd89w9r0WLFlUboIhIlos1EZhZHUISmOLujxazyodA26TXbaJ5IiKSInH2GjLgXmCJu/+phNUeB86Leg8dBWxw9zVxxSQiInuKs9dQf+AHwFtmtiCady3QDsDd7wJmAEOAd4EtwAUxxiMiIsWILRG4+4uAlbGOAz+OKwYRESmbriwWEclySgQiIllOiUBEJMspEYiIZDklAhGRLKdEICKS5ZQIRESynBKBiEiWUyIQEclySgQiIllOiUBEJMspEYiIZDklAhGRLKdEICKS5ZQIRESynBKBiEiWUyIQEclySgQiIllOiUBEJMspEYiIZDklAhGRLKdEICKS5ZQIRESynBKBiEiWUyIQEclySgQiIllOiUBEJMspEYiIZDklAhGRLKdEICKS5ZQIRESynBKBiEiWUyIQEclySgQiIlkutkRgZn83s0/NbFEJywea2QYzWxA9rosrFhERKVntGPc9GbgduL+Udea4+2kxxrC7nTuhlipBIiLJYisV3X028Flc+6+w556DI4+EtWvTHYmISEZJ98/jo83sTTN72syOLGklM7vYzOaa2dy1e1uQt2kDy5fDDTfsbawiIjVSOhPBfCDX3bsDtwHTS1rR3Se5e56757Vo0WLv3u3ww+GSS+Cuu2Dp0r3bh4hIDZS2RODuG919czQ9A6hjZs1jfdMJE2C//eCqq2J9GxGR6iRticDMWpmZRdN9o1jWx/qmLVrAtdfCk0/CCy/E+lYiItVFnN1H/wm8DBxmZqvN7IdmNtrMRkernAksMrM3gVuB77m7xxXPLldcAbm58LOfwY4dsb+diEimi637qLuPKGP57YTupalVrx787ncwYgQ88ACMHJnyEEREMkm6ew2lxznnQL9+oZnoyy/THY2ISFplZyIwgz/9CdasgZtvTnc0IiJplZ2JAOCYY+DMM+Gmm+Cjj9IdjYhI2mRvIoBwrmD7dhg/Pt2RiIikTXYngoMPhssug8mTYcGCdEcjIpIW2Z0IAMaNgyZN4Oc/hxT0XhURyTRKBE2awPXXw3/+AzNmpDsaEZGUK1ciMLP9zKxWNH2omZ1uZnXiDS2FRo+GTp1CrWDbtnRHIyKSUuWtEcwG6plZa+BZ4AeE+w3UDPvsA3/4QxiM7u670x2NiEhKlTcRmLtvAc4A/uruZwElDhtdLZ1+Ohx/fGgm2rAh3dGIiKRMuROBmR0N5ANPRfNy4gkpTczgj3+Edevgt79NdzQiIilT3kTwE+AXwGPuvtjMOgIzY4sqXXr3hh/8AP78Z1ixIt3RiIikRLkSgbv/191Pd/ffRyeN17n75THHlh4TJ0JODvziF+mOREQkJcrba+j/mVkjM9sPWAS8bWY18+4ubduGIaqnToVXX013NCIisStv09AR7r4RGAY8DXQg9Byqma6+Glq2hJ/+VBeZiUiNV95EUCe6bmAY8Li7bwNqbgnZsCHceCO89BL861/pjkZEJFblTQR/A1YA+wGzzSwX2BhXUBlh1Cjo0gXGjuWfk7+mfXuoVQvat4cpU9IdnIhI1SnvyeJb3b21uw/xoAA4IebY0isnJ3Qn/eADFl58OwUFoZWooAAuvljJQERqjvKeLG5sZn8ys7nR44+E2kHNNngws+qdzNhtN9KMdbtmb9kSxqoTEakJyts09HdgE3B29NgI/COuoDLJpVtvpiGbuI5f7TZ/5co0BSQiUsXKmwgOdvfr3f396HED0DHOwDLF5twjuYcLGcOddGLZrvnt2qUxKBGRKlTeRPCVmR2beGFm/YGv4gkps0ycCL/b91dspR43cTUA9euH+SIiNUHtcq43GrjfzBpHrz8Hzo8npMySnw/Qkjsv/QVXfzGOWxuNp+ntvyI/X7dyEJGaoVyJwN3fBLqbWaPo9UYz+wmwMMbYMkZ+PnD2VTDmfS67dyI8sgiGPRCuNxARqeYq9LPW3TdGVxgD/DSGeDJXnTrhXgW33gpPPglHHw3vv5/uqEREKq28TUPFsSqLorowCze7P/xwOPts6NMHHn4YTjwx3ZGJSKb46qswevGKFfDBB4WPlSvhwAPDKMd5eeG5Zct0RwtULhHU3CEmynLSSfDaazB0KAweDH/5C/zoRyFRiEjNtm0brFq1eyGfXOh//PHu69etG4YkaNsWli2DJ54oHMOsTZuQEJKTwwEHpPoTlZ4IzGwTxRf4BuwbS0TVxSGHwMsvhxMIl14Kb74Jt98ebnspIjXHypXw73/DU0/BkiWwejXs3Fm4PCcnFPIdOsCQIeG5Q4dQ+HfoAK1ahfFpEjZtgjfegHnzYO7c8Pzvfxcub9t298TQuze0aBHrRzSvZqNr5uXl+dy5c9MdRqEdO+CXvwx3NTv2WHjkkbRkdBGpIu6wcCFMnx4K6DfeCPM7dw6Fc6KATzzatIHalWlcATZu3DM5LCu8bol27UJCOPdcOOOMvXoLM5vn7nnFLatk9EJODvzmN9C1axiork+f8OXp0SPdkYnUHO6wZg3sv3+4kKeqbd8Oc+YUFv4FBaGp9+ij4aabQjPwoYdW/fsmNGoU7pl+/PGF8zZsKD05VCHVCKrS3LkwbBh8/jlMngxnnZXuiESql+3bQ2+8t98OzTBLloTppUvhyy/DOq1bh0K5U6fwSEx37Bja48tr82Z45plQ8D/5ZPi/rVsXvvWt8H982mkZczJ3F/e9PhdZWo1AiaCqffxxqLq9/HJoMpowYff2QRGBrVvhnXcKC/tEgb98OXzzTeF6bdqEXnqHHx4K/M8/D7+Kly8Pj/XrC9etVQtyc/dMEJ06heac2rXD/+cTT4TC//nn4euvoWnTUOgPGxY6f+xXM8fTVNNQKrVqBTNnwujR4eY2b70FDzwADRqkOzKR9Fm+PPwfLFgQCvwPPig84VqrVvg1f/jhoUBOFPydO4cmk9J89llhUli+vDBJvPJKaHdPqF07JJXEePIdOsCYMaHw79+/8m381ZxqBHFxD91Kf/YzOPLI8AukQ4d0RyWSOtu2hV/fd94Zfn3n5IQC/ogjCgv7xC/9evWq9r3dYe3a3WsPH3wQ3nvYsHDTqSzr7p2WpiEz+ztwGvCpu3cpZrkBfwGGAFuAke4+v6z9VptEkPDss3DOOeGf4OGH4YSafT8fEVatClfh33NPOMHbtm24m9OoUXDQQemOLmuVlgjibLyeDJxcyvJTgE7R42LgzhhjSZ/Bg8PFZy1ahAvRBg2Cu+6CTz9Nd2QiVWfnTnj66dC7pn17+PWvoWdPePzxcPJ3/HglgQwWWyJw99nAZ6WsMhS4P7r15SvA/mZ2YFzxpFWnTqHNcvx4+PDD0DZ54IEhMUyaFKqwInH5+utwMnbGDHj99XDCtap88gn87ndw8MHhYqpXXoGxY0Ph/9RT8J3vZH37e3UQ6zkCM2sPPFlC09CTwO/c/cXo9X+Ase6+R7uPmV1MqDXQrl273gUFBbHFHDv3cAL54YfhoYdC22VOThiv6OyzYfhwaNYs3VFKdbNjR7gCdtmywnbxxHRBwe5XwkL4jh1ySGGvmsT0IYdAkyalv5c7zJ4d2v4ffTScCzjhhNBBYtgwXV2fodLWfbSqEkGyaneOoDSJKxinTQuPd98NSWHQoJAUhg1TUqhJ1q8P3SZzckJPmZKeE9Nmu5/QdA/dH5ML+USh/+67u3e7bNiwsPvkoYeGR4cOofaZWD/xvGpV4dg3EL5zRZNDp06hR9yjj4amzaVLw8VdI0fCJZeEHj6S0TI1EfwNmOXu/4xevwMMdPc1pe2zRiWCZO6ha10iKbz/fqhSn3RSYVIo65daTfXll+HCn5kzQwHXunVob048t2wZhgnPRCtXwr/+Ff6mr75a8e2TE4P77oX9PvuEQjpR0CcX/C1blr9XzNat4fuW6F1TWpIA6NcvNG+efTbsm91DjlUnmZoITgUuJfQa6gfc6u59y9pnjU0Eydxh/vzQfDRtWuj2VqdOqCkMHhyq4d261ewL1datC10Pp08PPa+2bg0X+nz9dbj6NJlZKPiSk0PydOK5WbPUdBlctaqw8H/llTCvV69woWGLFqGZZseO8Jw8Xdaze+iBkyj027YNCSJOyUmioAAGDAgngaXaSVf30X8CA4HmwCfA9UAdAHe/K+o+ejuhZ9EW4IKymoUgSxJBMvcwxsi0afDYY+FXGoTawfHHh6RwwgnhWoXqnhgKCkLB/9hjYdyXnTvDYFvDhoXHgAHhM65dG066f/RReCSmk+cVdwK+Xr3QfzwxqmNeXjhuVVGbWL06FP4PPwwvvRTm9ewZfjWfdVY4mSqSRhpioiZZtQpmzQqPmTNDbQGgefPCxDBwYLhwJtMvmHGHRYtCwT99euEoj126hIJ/+PBQmO7N5/j669CenpwcCgpC89u8eWFALwhjy3Tvvvuwv0ccUb7k8OGHYbTZadPgf/8L87p3Lyz8O3WqeNwiMVEiqMkKCgqTwsyZoU0awlDYAwcWJobDDsuMxLBjRxiHafr08HjvvcJRHocPDwngkEPijWHnzvC+yaM6zp9fOCRBvXrFJ4fatUNCeeSR8Mv/xRdDMuvWLRT8Z50VjrNIBlIiyBbu4U5JiaQwc2b41QrhuoUBA0J7edOm4dGs2Z7PDRrsfcL4+uvQR/2zzwqfk6dXrQp92T/9NJzoHDQoFPynnx56pKTTzp2h2S05OcybF0aohHBStEOH0B/fPdRaEr/81WNGqgElgmzlHn75zpwZag0vvxzazhOFW3Fq1y45STRqFO6uVFJBv2VLyfs1C/sYNCj88j/llLIHFEu3nTvDSdJEYliyBI46KhT+RxyR7uhEKkSJQHaX+OW+fn1hYZ6YLm3eli3hl3GTJoW1isR0WfMaNYq/h4uIlEjDUKfZlCkwblxovm/XDiZODLc6Tpu6dUNTTEWbY7Zv13ABIjWQ/qtjNmVKGHgx0WpSUBBeQ5qTwd5QEhCpkap5x/PMN27cnk3nW7aE+SIimUCJIGaJ3pzlnS8ikmpKBDFr165i80VEUk2JIGYTJ0L9+rvPq18/zBcRyQRKBDHLzw/3nsnNDV3pc3PD62p3olhEaix1A0mB/HwV/CKSuVQjEBHJckoEIiJZTolARCTLKRGIiGQ5JQIRkSynRCAikuWUCEREspwSgYhIllMiEBHJckoEIiJZTolARCTLKRFUA1OmQPv2UKtWeJ4yJd0RiUhNokHnMlyNutWliGQk1QgynG51KSJxUyLIcLrVpYjETYkgw+lWlyISNyWCDKdbXYpI3JQIMpxudSkicVOvoWpAt7oUkTipRiAikuWUCEREspwSgYhIlos1EZjZyWb2jpm9a2bXFLN8pJmtNbMF0ePCOOMREZE9xXay2MxygDuAbwGrgdfN7HF3f7vIqg+5+6VxxSEiIqWLs0bQF3jX3d9392+AqcDQGN9PSqBB60SkNHEmgtbAqqTXq6N5RX3XzBaa2b/MrG1xOzKzi81srpnNXbt2bRyx1liJQesKCsC9cNA6JQMRSUj3yeIngPbu3g14DrivuJXcfZK757l7XosWLVIaYHWnQetEpCxxJoIPgeRf+G2iebu4+3p3/zp6eQ/QO8Z4spIGrRORssSZCF4HOplZBzPbB/ge8HjyCmZ2YNLL04ElMcaTlTRonYiUJbZE4O7bgUuBZwgF/DR3X2xmvzKz06PVLjezxWb2JnA5MDKueLKVBq0TkbKYu6c7hgrJy8vzuXPnpjuMamXKlHBOYOXKUBOYOFFjF4lkGzOb5+55xS3ToHNZQIPWiUhp0t1rSERE0kyJQEQkyykRSLno6mSRmkvnCKRMiauTExemJa5OBp17EKkJVCOQMunqZJGaTYlAyqSrk0VqNiUCKZOuThap2ZQIpEy6OlmkZlMikDLl58OkSZCbC2bhedIknSgWqSmUCKRc8vNhxQrYuTM8VzQJqPupSOZS91GJnbqfimQ21Qgkdup+KpLZlAgkdup+KpLZlAgkdlXR/VTnGETio0Qgsats99PEOYaCAnAvPMegZCBSNZQIJHaV7X6qcwwi8VIikJSoTPfTqjjHoKYlkZIpEUjGq+w5BjUtiZROiUAyXmXPMVRF05JqFFKTKRFIxqvsOYbKNi2pRiE1nRKBVAuVOcdQ2aYl1SikplMikBqvsk1LmVCjUCKROCkRSI1X2aaldNcoMiGRpHt7iZm7V6tH7969XSSVHnzQvX5991AMh0f9+mF+eZjtvm3iYVa+7XNzi98+Nzc18ad7+8Q+cnPDMcvNrdi2VbF9TQDM9RLK1bQX7BV9KBFIOlSmIKlsQZ7uRJLu7ZWIqiaRKRGIpFFlC6J0J5J0b5/tiagqEpm7EoFI2lXmF126E0m6t8/2RFTZ7ROUCESquXQmknRvn+6CNN2JqLLbJygRiGS5dLdRV+dElu5EpBqBEoGIeHYnIp0jUCIQkQxQnWtUCaUlAgvLq4+8vDyfO3duusMQEalWzGyeu+cVt0xXFouIZLlYE4GZnWxm75jZu2Z2TTHL65rZQ9HyV82sfZzxiIjInmJLBGaWA9wBnAIcAYwwsyOKrPZD4HN3PwT4M/D7uOIREZHixVkj6Au86+7vu/s3wFRgaJF1hgL3RdP/AgaZmcUYk4iIFBFnImgNrEp6vTqaV+w67r4d2AA0K7ojM7vYzOaa2dy1a9fGFK6ISHaqne4AysPdJwGTAMxsrZkVpDmkkjQH1qU7iFJkenyQ+TEqvspRfJVTmfhyS1oQZyL4EGib9LpNNK+4dVabWW2gMbC+tJ26e4uqDLIqmdnckrpnZYJMjw8yP0bFVzmKr3Liii/OpqHXgU5m1sHM9gG+BzxeZJ3HgfOj6TOBF7y6XdggIlLNxVYjcPftZnYp8AyQA/zd3Reb2a8IV7g9DtwLPGBm7wKfEZKFiIikUKznCNx9BjCjyLzrkqa3AmfFGUOKTUp3AGXI9Pgg82NUfJWj+Conlviq3RATIiJStTTEhIhIllMiEBHJckoEFWRmbc1sppm9bWaLzeyKYtYZaGYbzGxB9LiuuH3FGOMKM3sreu89hmq14NZojKeFZtYrhbEdlnRcFpjZRjP7SZF1Un78zOzvZvapmS1KmtfUzJ4zs+XRc5MStj0/Wme5mZ1f3DoxxfcHM1sa/Q0fM7P9S9i21O9DjPFNMLMPk/6OQ0rYttQxyWKM76Gk2FaY2YISto31+JVUpqT0+1fS+NR6lHADBzgQ6BVNNwSWAUcUWWcg8GQaY1wBNC9l+RDgacCAo4BX0xRnDvAxkJvu4wccB/QCFiXNuwm4Jpq+Bvh9Mds1Bd6PnptE001SFN9goHY0/fvi4ivP9yHG+CYAPy/Hd+A9oCOwD/Bm0f+nuOIrsvyPwHXpOH4llSmp/P6pRlBB7r7G3edH05uAJew5dEamGwrc78ErwP5mdmAa4hgEvOfuab9S3N1nE7owJ0seC+s+YFgxm34beM7dP3P3z4HngJNTEZ+7P+thaBaAVwgXbaZFCcevPMozJlmllRZfNL7Z2cA/q/p9y6OUMiVl3z8lgkqIhs3uCbxazOKjzexNM3vazI5MbWQ48KyZzTOzi4tZXp5xoFLhe5T8z5fO45fQ0t3XRNMfAy2LWSdTjuUoQi2vOGV9H+J0adR09fcSmjYy4fgNAD5x9+UlLE/Z8StSpqTs+6dEsJfMrAHwCPATd99YZPF8QnNHd+A2YHqKwzvW3XsRhgD/sZkdl+L3L1N0tfnpwMPFLE738duDh3p4Rva1NrNxwHZgSgmrpOv7cCdwMNADWENofslEIyi9NpCS41damRL390+JYC+YWR3CH2yKuz9adLm7b3T3zdH0DKCOmTVPVXzu/mH0/CnwGKH6naw840DF7RRgvrt/UnRBuo9fkk8STWbR86fFrJPWY2lmI4HTgPyosNhDOb4PsXD3T9x9h7vvBO4u4X3TffxqA2cAD5W0TiqOXwllSsq+f0oEFRS1J94LLHH3P5WwTqtoPcysL+E4lzqYXhXGt5+ZNUxME04oLiqy2uPAeRYcBWxIqoKmSom/wtJ5/IpIHgvrfODfxazzDDDYzJpETR+Do3mxM7OTgauB0919SwnrlOf7EFd8yeedhpfwvuUZkyxOJwFL3X11cQtTcfxKKVNS9/2L60x4TX0AxxKqaAuBBdFjCDAaGB2tcymwmNAD4hXgmBTG1zF63zejGMZF85PjM8Ld494D3gLyUnwM9yMU7I2T5qX1+BGS0hpgG6Gd9YeEe2P8B1gOPA80jdbNA+5J2nYU8G70uCCF8b1LaB9OfA/vitY9CJhR2vchRfE9EH2/FhIKtQOLxhe9HkLoKfNeKuOL5k9OfO+S1k3p8SulTEnZ909DTIiIZDk1DYmIZDklAhGRLKdEICKS5ZQIRESynBKBiEiWUyIQiZjZDtt9ZNQqGwnTzNonj3wpkklivVWlSDXzlbv3SHcQIqmmGoFIGaLx6G+KxqR/zcwOiea3N7MXokHV/mNm7aL5LS3cH+DN6HFMtKscM7s7GnP+WTPbN1r/8mgs+oVmNjVNH1OymBKBSKF9izQNnZO0bIO7dwVuB26J5t0G3Ofu3QgDvt0azb8V+K+HQfN6Ea5IBegE3OHuRwJfAN+N5l8D9Iz2MzqejyZSMl1ZLBIxs83u3qCY+SuAE939/WhwsI/dvZmZrSMMm7Atmr/G3Zub2Vqgjbt/nbSP9oRx4ztFr8cCddz912b2f8Bmwiir0z0acE8kVVQjECkfL2G6Ir5Omt5B4Tm6UwljP/UCXo9GxBRJGSUCkfI5J+n55Wj6JcJomQD5wJxo+j/AGAAzyzGzxiXt1MxqAW3dfSYwFmgM7FErEYmTfnmIFNrXdr+B+f+5e6ILaRMzW0j4VT8imncZ8A8zuwpYC1wQzb8CmGRmPyT88h9DGPmyODnAg1GyMOBWd/+iij6PSLnoHIFIGaJzBHnuvi7dsYjEQU1DIiJZTjUCEZEspxqBiEiWUyIQEclySgQiIllOiUBEJMspEYiIZLn/D9tz7ss8r82+AAAAAElFTkSuQmCC\n",
      "text/plain": [
       "<Figure size 432x288 with 1 Axes>"
      ]
     },
     "metadata": {
      "needs_background": "light"
     },
     "output_type": "display_data"
    },
    {
     "name": "stdout",
     "output_type": "stream",
     "text": [
      "0.9088198870420456 0.7992000371217728\n"
     ]
    },
    {
     "data": {
      "image/png": "iVBORw0KGgoAAAANSUhEUgAAAYgAAAEWCAYAAAB8LwAVAAAAOXRFWHRTb2Z0d2FyZQBNYXRwbG90bGliIHZlcnNpb24zLjUuMSwgaHR0cHM6Ly9tYXRwbG90bGliLm9yZy/YYfK9AAAACXBIWXMAAAsTAAALEwEAmpwYAAA5sUlEQVR4nO3deZgU1dXH8e+PQTYhyK6sg4qCyj6CikaUoMQNIYoSjFsUUdFX4xIVo8QlUUPiEo0KEUXEYNRoMIEQRYzGJTLsgqCAIIOIyCaIAsOc949bMzRDz0zP0tOznM/z9NO13Ko6XdNTp+veqlsyM5xzzrn8aqQ6AOeccxWTJwjnnHNxeYJwzjkXlycI55xzcXmCcM45F5cnCOecc3F5gnAJkzRN0kVlXTaVJK2U9KMkrPctSZdFw8Mk/TuRsiXYTltJ2ySllTRW5wriCaKKiw4eua8cSd/FjA8rzrrM7MdmNqGsy1ZEkm6R9Hac6U0l7ZR0VKLrMrNJZnZKGcW1V0Izs8/NrL6Z7S6L9TsXyxNEFRcdPOqbWX3gc+DMmGmTcstJqpm6KCuk54DjJLXPN/18YKGZfZSCmKoN/z5WDJ4gqilJfSVlSfqlpC+BpyU1kvQPSeslbYqGW8csE1ttcrGk/0oaE5X9TNKPS1i2vaS3JW2V9IakxyQ9V0DcicR4t6R3o/X9W1LTmPk/k7RK0gZJowraP2aWBbwJ/CzfrAuBZ4uKI1/MF0v6b8x4f0lLJG2R9CigmHmHSHoziu9rSZMkHRDNmwi0BV6LzgBvlpQuyXIPqJJaSpoiaaOkZZIuj1n3aEl/lfRstG8WScooaB9IeljSaknfSJot6YSYeWmSbpO0PFrXbEltonlHSno9imGdpNui6c9IuidmHX0lZcWMr4y+jwuAbyXVjM7kcrexWNKgfDFeLunjmPk9JN0k6eV85R6R9HBBn9XF5wmiejsQaAy0A4YTvg9PR+Ntge+ARwtZvjewFGgKPAA8JUklKPs88CHQBBjNvgflWInE+FPgEqA5UAu4EUDSEcDj0fpbRtuLe1CPTIiNRdLhQLco3uLuq9x1NAX+BtxO2BfLgT6xRYDfRvF1AtoQ9glm9jP2Pgt8IM4mJgNZ0fLnAL+RdHLM/LOiMgcAU4qIeVb0eRtHn/lFSXWieb8AhgKnAT8ALgW2S2oAvAH8K4rhUGBGIdvIbyhwOnCAmWUT9s8JQEPg18Bzkg4CkHQuYd9cGMVwFrCBcPY3ICax1iSc+T1bjDgcgJn5q5q8gJXAj6LhvsBOoE4h5bsBm2LG3wIui4YvBpbFzKsHGHBgccoSDq7ZQL2Y+c8BzyX4meLFeHvM+FXAv6LhO4DJMfP2j/bBjwpYdz3gG+C4aPxe4O8l3Ff/jYYvBD6IKSfCAf2yAtZ7NjA33t8wGk+P9mVNQjLZDTSImf9b4JloeDTwRsy8I4DvivH92QR0jYaXAgPjlBkaG2++ec8A98SM9wWy8n22S4uIYV7udoHpwP8VUG4acHk0fAawuLT/P9Xx5WcQ1dt6M/s+d0RSPUlPRlUw3wBvAweo4CtkvswdMLPt0WD9YpZtCWyMmQawuqCAE4zxy5jh7TExtYxdt5l9S/jFGVcU04vAhdHZzjCiX6El2Fe58sdgseOSWkiaLGlNtN7nCGcaicjdl1tjpq0CWsWM5983dVRAfb+kG6Pqmy2SNhN+xefG0obw6z6/gqYnaq+/vaQLJc2TtDmK4agEYoBw9ndBNHwBMLEUMVVbniCqt/xd+d4AHA70NrMfAD+MphdUbVQW1gKNJdWLmdamkPKliXFt7LqjbTYpYpkJwBCgP9AAeK2UceSPQez9eX9D+Lt0jtZ7Qb51Ftb98heEfdkgZlpbYE0RMe0jam+4mfDZG5nZAcCWmFhWA4fEWXQ1cHABq/2WcFaW68A4ZfI+n6R2wDhgJNAkiuGjBGIAeBXoonC12RnApALKuUJ4gnCxGhDq0jdLagzcmewNmtkqIBMYLamWpGOBM5MU40vAGZKOl1QLuIui/wfeATYDYwnVUztLGcc/gSMlDY5+uV/L3gfKBsA2YIukVsBN+ZZfRwEHYDNbDbwH/FZSHUldgJ8TzkKKqwGh6m89UFPSHYR6/lx/Bu6W1EFBF0lNgH8AB0m6TlJtSQ0k9Y6WmQecJqmxpAOB64qIYX9CwlgPIOkSwhlEbAw3SuoZxXBolFSIzoxfImrfMrPPS7APqj1PEC7WQ0Bd4GvgA0JDY3kYBhxLqO65B3gB2FFA2YcoYYxmtgi4mnDQWEuoU88qYhkjVCu1Y+9GzhLFYWZfA+cC9xE+bwfg3ZgivwZ6EH6t/5PQoB3rt8DtUZXLjXE2MZTQLvEF8Apwp5m9kUhs+UwnfKZPCNVU37N39c8fgL8C/ya00zwF1I2qt/oTkvyXwKfASdEyE4H5hLaGfxP+zgUys8XA74H3CYmxMzH7ysxeJLQLPQ9sJZw1NI5ZxYRoGa9eKiFFjTjOVRiSXgCWmFnSz2Bc1SWpLbCEcOHEN6mOpzLyMwiXcpKOVrj+v4akAcBAwq9B50pEUg3CpbiTPTmUnN+t6CqCAwlVKU0IVT5Xmtnc1IbkKitJ+xOqpFYBA1IcTqXmVUzOOefi8iom55xzcVWZKqamTZtaenp6qsNwzrlKZfbs2V+bWbN486pMgkhPTyczMzPVYTjnXKUiaVVB87yKyTnnXFyeIJxzzsXlCcI551xcniCcc87F5QnCOedcXJ4gnHOV1qRJkJ4ONWqE90nl3Kl3abef6uWLlOonFpXVq2fPnuZcZfPcc2bt2plJ4f2553z54ixbr54Z7HnVq1f8daRq+6lePheQaQUcV1N+YC+rlycIV9mk+gBR2Zdv127vZXNf7dpVju2nevlcniCcS5LS/AJN9QGisi8vxV9eqhzbT/XyuQpLEEltg5A0QNJSScsk3RJnfjtJMyQtkPSWpNYx83ZHz6KdJ2lKMuN01Vdp6nAnTYLhw2HVqvCvuWpVGE90HZ8X8Iyzgqb78ntr27Z40yva9lO9fEIKyhylfQFphAeKHwzUIjxJ6oh8ZV4ELoqGTwYmxszbVpzt+RmEK67qXsVQ2ZdP9d8v1VVslboNgvAIyekx47cCt+YrswhoEw0L+CZmnicIV6RUVvGU9hQ/1QeIyr587joqayN3RVjeLHUJ4hzgzzHjPwMezVfmeeD/ouHBgAFNovFswsPsPwDOLmAbw6MymW3bti3+nnGVWmn/wVNdh537GSrzASbVy5dWqrdfERSWIJL2wCBJ5wADzOyyaPxnQG8zGxlTpiXwKNAeeBv4CXCUmW2W1MrM1kg6GHgT6GdmywvaXkZGhnlvrtVLenqo98+vXTtYuTL5y+e2QWzfvmdavXowdiwMG1b08s5VBJJmm1lGvHnJbKReA7SJGW8dTctjZl+Y2WAz6w6MiqZtjt7XRO8rgLeA7kmM1VVCpW1kvPfecECPVa9emJ6IYcNCMmjXDqTw7snBVSXJTBCzgA6S2kuqBZwP7HU1kqSm0cPFIbRRjI+mN5JUO7cM0AdYnMRYXYqU5iqi0l7FURYH+GHDwtlGTk549+TgqpKkJQgzywZGAtOBj4G/mtkiSXdJOisq1hdYKukToAWQ+9utE5ApaT4wE7jPzDxBVDGlvUy0tGcA4Ad45wqTtDaI8uZtEJVPadsAICSTUaNCtVLbtiE5+EHeucQV1gbhCcKlTI0a4cwhPyn8onfOJV+qGqmdK1S53AnqnCsxTxAuZcqiDcE5lzyeIFyplOYqJL9M1LmKrWaqA3CVV/4bxXKvQoLED/LDhnlCcK6i8jMIV2KjRu19FzGE8VGjUhOPc65seYJwJVbaO5mdcxWbJwhXYn4VknNVmycIV2J+FZJzVZsnCFdifhWSc1WbX8XkSsWvQnKu6vIzCOecc3F5gnDOOReXJwjnnHNxeYJwzjkXlycI55xzcSU1QUgaIGmppGWSbokzv52kGZIWSHpLUuuYeRdJ+jR6XZTMOKuz0nS255yr2pKWICSlAY8BPwaOAIZKOiJfsTHAs2bWBbgL+G20bGPgTqA30Au4U1KjZMVaXZX2kZ/OuaotmWcQvYBlZrbCzHYCk4GB+cocAbwZDc+MmX8q8LqZbTSzTcDrwIAkxloteWd7zrnCJDNBtAJWx4xnRdNizQcGR8ODgAaSmiS4LJKGS8qUlLl+/foyC7y68M72nHOFSXUj9Y3AiZLmAicCa4DdiS5sZmPNLMPMMpo1a5asGKss72zPOVeYZCaINUCbmPHW0bQ8ZvaFmQ02s+7AqGja5kSWdaXnne055wqTzAQxC+ggqb2kWsD5wJTYApKaSsqN4VZgfDQ8HThFUqOocfqUaJorQ97ZnnOuMEnrrM/MsiWNJBzY04DxZrZI0l1ApplNAfoCv5VkwNvA1dGyGyXdTUgyAHeZ2cZkxVqdeWd7zrmCyMxSHUOZyMjIsMzMzFSH4ZxzlYqk2WaWEW9eqhupnXPOVVCeIJxzzsXlCcI551xcniCcc87F5QnCOedcXJ4gnHPOxeUJopLz7rqdc8mStBvlXPLldted2yNrbnfd4De/OedKz88gKjHvrts5l0yeICox767bOZdMniAqMe+u2zmXTJ4gKjHvrts5l0yeICox767bOZdMfhVTJefddTvnksXPIJxzzsXlCcI551xcSU0QkgZIWippmaRb4sxvK2mmpLmSFkg6LZqeLuk7SfOi1xPJjNM559y+ktYGISkNeAzoD2QBsyRNMbPFMcVuB/5qZo9LOgKYCqRH85abWbdkxeecc65wyTyD6AUsM7MVZrYTmAwMzFfGgB9Eww2BL5IYj3POuWJIZoJoBayOGc+KpsUaDVwgKYtw9nBNzLz2UdXTfySdEG8DkoZLypSUuX79+jIM3TnnXKobqYcCz5hZa+A0YKKkGsBaoK2ZdQd+ATwv6Qf5FzazsWaWYWYZzZo1K9fAnXOuqktmglgDtIkZbx1Ni/Vz4K8AZvY+UAdoamY7zGxDNH02sBw4LImxOuecyyeZCWIW0EFSe0m1gPOBKfnKfA70A5DUiZAg1ktqFjVyI+lgoAOwIomxOuecyydpVzGZWbakkcB0IA0Yb2aLJN0FZJrZFOAGYJyk6wkN1hebmUn6IXCXpF1ADjDCzDYmK1bnnHP7kpmlOoYykZGRYZmZmakOwznnKhVJs80sI968VDdSO+ecq6A8QTjnnIvLE4Rzzrm4PEE455yLyxOEc865uDxBOOeci8sTRIpNmgTp6VCjRnifNCnVETnnXOCPHE2hSZNg+HDYvj2Mr1oVxsEfI+oqsN27YdkymDcvvBYsgPbt4Re/gIMPTnV0rgz5jXIplJ4ekkJ+7drBypXlHY1zcXz3HXz0Ecydu3dC+PbbML9mTejYEZYuhZwcOO88uOUW6Nw5lVG7YijsRjk/g0ihzz8v3vSk2LgRbroJ9t8fzj4bfvjD8E/vqp+vv96TBHITwpIl4cAP8IMfQLdu8POfQ/fuYbhTJ6hdG9asgQcfhCeegOefh9NPh1tvhT59UvZxXOn5GUQKpfwMIisLTj01VBfUqAHffw+NG8MZZ8CgQXDKKVCvXnK2nZ0Ns2fDW2/B++9D165wzTXQtGlytleVLV0Kn30W/n4leX33HSxfHg7yudq0CQkg99W9e/jCSoXHsnEjPPYYPPwwbNgAxx8fEsWPf1z0si4lCjuD8ASRQvnbICAcj8eOLYc2iI8/Dslhyxb4+9/h6KNh+nR49VV47TXYvBnq1g1lzj47JI0mTUq+vezs8Kt05syQFN55B7ZtC/Patw8HuHr14PLLQ11227al/4xV2Y4d8PLL8Pjj8N//Fl2+dm2oUyf+q3btkBByzwq6dSvd3xpCFdRTT8GYMbB6NXTpEqqezj3Xz1DLWlZWeB1zTIkWLyxBYGZV4tWzZ0+rjJ57zqxdOzMpvD/3XDls9IMPzBo3NmvRwmzu3H3n79xp9sYbZiNHmrVubQZmaWlmJ51k9vDDZqtWFb2NXbvMZs0y+93vzE47zaxBg7AeMOvUyezKK81eeMHsyy9D+UWLzC66yKxmzfC6+GKzxYvL8lOXnZwcs+XLzV5+2ez2280GDjS76iqz118P+y6Zli0zu/lms6ZNw7485BCzBx4we/ddszlzwj5bscLsiy/MNm40++47s927kxtTYXbsMHvmmfA3B7ODDzZ7/PEQlyudDRvMbrrJrE6dsH9zckq0GkLv2nGPqyk/sJfVq7ImiHI3bZpZvXrhwLJsWdHlc3LCgX7UKLMjjthzkO/Rw+zuu80WLgxlsrPNMjPNxowxO/10sx/8YE/Zjh3NRowwmzzZbO3awre3cqXZtdea1a0bsuagQWYfflg2n70kvv8+HHjHjw9xnXDC3p8tLS18vrp1w/gBB5hdcIHZSy+Zbd1aNjHs2mX2yitmp566Z5tnn202fXpqD/7FsXt3+Ay9eoXPcOCBZvffb7ZlS6ojq3y+/dbsN78xa9gw/I9ceKHZZ5+VeHWeIFzw3HPh13m3bnt+uRfX0qXhF+uxx4YvJ5ilp4cva+5B87DDzIYPN/vLX8Iv2ZL46iuzX/0qHHDBrF+/8Au9hL+SErJxo9nMmWYPPhjOZrp0Cfsr93Ptv7/ZcceFs4Vx40Li3L49LPvtt2avvhrOfBo3DuVr1zY780yzp54Kn6e4srLMRo82a9UqrK9lS7M77zRbvbrsPnN5y8kxmzHDrH//8JkaNjS77bbwvUpFssvODmddy5Yl97tVFnbuNHviCbODDgr77swzzRYsKPVqC0sQ3gZRXTz4YKjb79s3tDM0bFj6da5dG9orpk6F5s3Duvv2hZYtS7/uXFu3wpNPwh/+ELaXkRHqsgcNCg3rJbF5c7g6Z8mS0BazZEm4dDP2yoCDDtq7gbZbNzjkkMS2mZ0d2gVefRVeeSVcllajRmiwPfvs8GrfPv6yOTkwY0a4Gujvfw/3HJxyClx5ZWgHqkr195mZcP/9oS3FDOrXDxcrxO73I48M7SRl4dtvYeHCvS/ZXbgwNNJDuEDimGPg2GPD+9FHQ4MGZbPt0sjJgZdegttvh08/DVeG3Xdf+D6VgZQ1UksaADxMeKLcn83svnzz2wITgAOiMreY2dRo3q2EZ1bvBq41s+mFbcsTRAHMwlUk998PgweHlvGy+ocrTzt2wMSJ4XMsWwaHHw433wwXXAC1au1bPicnNI7mTwRLlsC6dXvK1aoFHTqE6/Zjr9pp0aJs4jYLB6LcZLFwYZjetWtIFIMGhQbcjRvh6adDMly2LDQSX3opXHFFSExV2fLl4cKF3IP2/PnhhwFAWlq4lDY2aXTtWnQj+rp1+16y+8kn4e8B0KjRnnV27Rq+Xx98EK6oW7IklKlRIySo3IRxzDHhe1fSHyYl8frr4f939mw46ij4zW/CD4UyvCIsJQkieqb0J0B/IIvwjOqhZrY4psxYYK6ZPS7pCGCqmaVHw38BegEtgTeAw8xsd0Hb8wQRR3Z2OMCMHx/eH3ss/MNVZrt3h1+c990X/vFbtYIbbgjvsclg6dI9vwwhHBA6dQqvjh33vNLTy/dX+fLl4czglVfg3XfDAatt23BA27Ej/CocMQJ+8pPKmcjLQk5OuKot9pf+vHmFX4abnb13Qvjyyz1l09P3LtutW9jnBR1kN22CDz/ckzD+979w1glwwAHQu/eehNG7d/hulbXMzHCmPGNGuO79rrvCpY1J+P9NVYI4FhhtZqdG47cCmNlvY8o8Cawws/uj8r83s+Pyl5U0PVrX+wVtzxNEPtu3w/nnhyqgO+8Mr6p0HboZ/PvfIVG89VaYJoWDQceO+yaCpk0r3uf/6qvw9/nnP0O13BVX+B3IhVm/PpxdxCaO2Bv5ataEI47Y+3Ldrl1LfwDPyQlnH++/H5LGBx+Eu8tzt3v44WE77duH71/uq127cKl4cSxdGqqSXnopfGdvvz38YKhdu3SfoRClShCSzgT+aWY5xdzoOcAAM7ssGv8Z0NvMRsaUOQj4N9AI2B/4kZnNlvQo8IGZPReVewqYZmYvFbQ9TxAxNm2CM8+E996DRx+Fq65KdUTJtXBhSBgdOhT/H9JVbrldgaSlheqgJB5I97J1a/iV//77e6qlVq2CXbv2Lteixb6JIzaB5J4lrlkDv/51ONuvUyecFd9wQ7h7PclK29XGecBDkl4GxpvZkjKMbSjwjJn9PjqDmCjpqEQXljQcGA7QtjLfWLV6dejqonHj0q9rzRoYMCD8Epk8GYYMKf06Kzr/1V191a0bGpPLW4MGcNJJ4ZUrJydcSLFyZagiW7lyz2vWrFA1mj+BHHhgSBTz54fq06uuCmcNzZuX32cpRJEJwswukPQDooO5JAOeBv5iZlsLWXQN0CZmvHU0LdbPgQHRdt6XVAdomuCymNlYYCyEM4iiPkuF9N//wsknhy9O27Z7nx536xa+PIlWjSxdGu583rABpk2Dfv2SGLhzbi81aoS2sFat4vdBtXt3SCD5k8dnn8HQoSExVLDecBNug5DUBPgZcB3wMXAo8IiZ/bGA8jUJjdT9CAf3WcBPzWxRTJlpwAtm9oykTsAMoBVwBPA8exqpZwAdqlwj9Zo10LNnOI38+c/31K8uXbrnaosDDti3ge2II2C//fZe16xZcNppIZlMmxbW65xzRShVFZOks4BLCAnhWaCXmX0lqR6wGIibIMwsW9JIYDrhEtbxZrZI0l2EGzOmADcA4yRdDxhwcXTjxiJJf43Wnw1cXVhyqJR27AhXqnz7Lbz5Zjjo5/r221CvGnuJ3pNP7rkqp1atUN+amzAaNAgd3TVrFhpuO3Qo/8/jnKtyEmmkngA8ZWZvx5nXz8xmJCu44qh0ZxDDh8O4caFecvDgosvv3h1ukom9gmPu3HBlB4R6+H/9q2xvUnPOVXmlbaQeDayNWVldoIWZrawoyaHSGTs2JIfbbkssOUC4SiP3ks2hQ8M0s3C999Kl4Q7j+vWTF7NzrtpJ5JbAF4HYS1x3R9NcSbz/PowcGa40uuuu0q1LCl1C9O3rycE5V+YSSRA1zWxn7kg0HKdvA1ektWtDu0ObNuGpW5X9rmbnXJWWSIJYHzVUAyBpIPB18kKqonbuDA9L2bIl9MuTjNvznXOuDCXSBjECmBTd3SxgNXBhUqOqiq6/PvS988ILfmOXc65SSORGueXAMZLqR+Pbkh5VVTN+PPzpT3DTTdXjzmbnXJWQUDeWkk4HjgTqKLqr18xK2cJaTcyaFfry/9GPQle9zjlXSRTZBiHpCUJ/TNcQqpjOBdolOa6q4auvwmWsLVuGfpGq0sNenHNVXiKN1MeZ2YXAJjP7NXAscFhyw6oCdu0K1UkbNoS+/4t6wIlzzlUwifyk/T563y6pJbABOCh5IVURN90E//kPPPdc6A7DOecqmUQSxGuSDgB+B8wh9Jk0LplBVXoTJ8LDD8N114WnQDnnXCVUaIKQVAOYYWabgZcl/QOoY2ZbyiO4SmnOnNDPUt++8MADqY7GOedKrNA2iOgpco/FjO/w5FCIr78OD6Fv1izc75C/S27nnKtEEmmkniHpJ1JFe6BvBZOdDeedFx4+/7e/VZgnQjnnXEkl0gZxBfALIFvS94RLXc3Mkv+w1Mrk1lvDcx2efjr0rOqcc5VcIndSNyiPQCq1yZNhzBi4+mq4+OJUR+Occ2UikSfK/TDe9HgPEKqWvvwyPC70+OPhD39IdTTOOVdmEqliuilmuA7hOdGzgZOLWlDSAOBhwiNH/2xm9+Wb/yBwUjRaD2huZgdE83YDC6N5n5vZWVREf/xjeBTo+PHhUaDOOVdFJFLFdGbsuKQ2wENFLScpjXAFVH8gC5glaYqZLY5Z9/Ux5a8Buses4jsz61bUdlJq2zZ4/HE4+2x/DrRzrspJ5Cqm/LKATgmU6wUsM7MV0UOGJgMDCyk/FPhLCeJJnfHjYdOmcNe0c85VMYl01vdHSY9Er0eBdwh3VBelFeHZEbmyomnxttEOaA+8GTO5jqRMSR9IOruA5YZHZTLXr1+fQEhlKDsbHnyQ9R2OI33osdSoAenpMGlS+YbhnHPJkkgbRGbMcDbwFzN7t4zjOB94ycx2x0xrZ2ZrJB0MvClpYfRsijxmNhYYC5CRkWFlHFPh/vY3WLmSkbUeZFX0QNZVq8JN1OA9bDjnKr9EEsRLwPe5B29JaZLqmdn2IpZbA7SJGW8dTYvnfODq2AlmtiZ6XyHpLUL7xPJ9F00BM/jd71hRswMv7dyriYbt22HUKE8QzrnKL6E7qYG6MeN1gTcSWG4W0EFSe0m1CElgSv5CkjoCjYD3Y6Y1klQ7Gm4K9AEW5182Zd5+GzIzeSD7BnJI22f255+nICbnnCtjiZxB1Il9zKiZbZNUr6iFzCxb0khgOuEy1/FmtkjSXUCmmeUmi/OByWYWW0XUCXhSUg4hid0Xe/VTyv3ud9CsGTPrXLh3K0ukbdvyD8k558paIgniW0k9zGwOgKSewHeJrNzMpgJT8027I9/46DjLvQd0TmQb5W7xYvjnP+HXv+aOQ+oyfHioVspVrx7ce2/qwnPOubKSSIK4DnhR0heEfpgOJDyCtHr6/e+hbl246iqGNQ2TRo0K1Upt24bk4O0PzrmqIJEb5WZF7QSHR5OWmtmu5IZVQa1dG54Qd9ll0DRkh2HDPCE456qmRO6DuBrY38w+MrOPgPqSrkp+aBXQH/8YnjV9/fVFl3XOuUoukauYLo+eKAeAmW0CLk9aRBVVbrcagwfDoYemOhrnnEu6RBJEWuzDgqI+lqpfr3RPPQWbN8ONN6Y6EuecKxeJNFL/C3hB0pPR+BXAtOSFVAFF3Wpw/PFwzDGpjsY558pFIgnil8BwYEQ0voBwJVP18dJLoR+Nhx9OdSTOOVduiqxiMrMc4H/ASkIPrScDHyc3rAok6laDww6DM88surxzzlURBZ5BSDqM0AX3UOBr4AUAMzupoGWqpP/8B+bMgSefhBol6R3dOecqp8KqmJYQuvY+w8yWAUiqftd3/u530Lw5XHhhqiNxzrlyVdhP4sHAWmCmpHGS+hHupK4+Fi2CqVNh5EioUyfV0TjnXLkqMEGY2atmdj7QEZhJ6HKjuaTHJZ1STvGlVky3Gs45V90k0kj9rZk9Hz2bujUwl3BlU9WW263GpZdCkyapjsY558pdsVpdzWyTmY01s37JCqjCeOQR2L3bu9VwzlVbfllOPFu3whNPhG41Djkk1dE451xKeIKIx7vVcM655CYISQMkLZW0TNItceY/KGle9PpE0uaYeRdJ+jR6XZTMOPeS263GCSdA797ltlnnnKtoEulqo0SiTv0eA/oDWcAsSVNiHx1qZtfHlL8G6B4NNwbuBDIAA2ZHy25KVrx5XnwxPP3n0UeTvinnnKvIknkG0QtYZmYrzGwnMBkYWEj5ocBfouFTgdfNbGOUFF4HBiQx1sAMxoyBjh3h9NOTvjnnnKvIkpkgWgGrY8azomn7kNQOaA+8WZxlJQ2XlCkpc/369aWPeObM0K3GDTd4txrOuWqvohwFzwdeMrPdxVkouuQ2w8wymjVrVvooxoyBFi3gggtKvy7nnKvkkpkg1gBtYsZbR9PiOZ891UvFXbZsfPQRTJsG11zj3Wo45xzJTRCzgA6S2kuqRUgCU/IXktQRaAS8HzN5OnCKpEaSGgGnRNOS5/e/h3r1YMSIoss651w1kLSrmMwsW9JIwoE9DRhvZosk3QVkmllusjgfmGxmFrPsRkl3E5IMwF1mtjFZsfLFFzBpUkgO3q2Gc84BoJjjcqWWkZFhmZmZJVv4lltCt97LlkH79mUbmHPOVWCSZptZRrx5FaWROnVyu9U45xxPDs45FyNpVUyVxrffwtlnw9VXpzoS55yrUDxBHHggPPNMqqNwzrkKx6uYnHPOxeUJwjnnXFyeIJxzzsXlCcI551xcniCcc87F5QnCOedcXJ4gnHPOxeUJwjnnXFyeIJxzzsXlCcI551xcniCcc87F5QnCOedcXJ4gnHPOxZXUBCFpgKSlkpZJuqWAMkMkLZa0SNLzMdN3S5oXvfZ5VKlzzrnkSlp335LSgMeA/kAWMEvSFDNbHFOmA3Ar0MfMNklqHrOK78ysW7Lic845V7hknkH0ApaZ2Qoz2wlMBgbmK3M58JiZbQIws6+SGI9zzrliSGaCaAWsjhnPiqbFOgw4TNK7kj6QNCBmXh1JmdH0s+NtQNLwqEzm+vXryzR455yr7lL9RLmaQAegL9AaeFtSZzPbDLQzszWSDgbelLTQzJbHLmxmY4GxABkZGVaukTvnXBWXzDOINUCbmPHW0bRYWcAUM9tlZp8BnxASBma2JnpfAbwFdE9irM455/JJZoKYBXSQ1F5SLeB8IP/VSK8Szh6Q1JRQ5bRCUiNJtWOm9wEW45xzrtwkrYrJzLIljQSmA2nAeDNbJOkuINPMpkTzTpG0GNgN3GRmGyQdBzwpKYeQxO6LvfrJOedc8smsalTdZ2RkWGZmZqrDcM65SkXSbDPLiDfP76R2zjkXlycI55xzcXmCcM45F5cnCOecc3F5gnDOOReXJwjnnHNxeYJwzjkXlycI55xzcXmCcM45F1eqe3N1zpWDXbt2kZWVxffff5/qUFyK1KlTh9atW7PffvslvIwnCOeqgaysLBo0aEB6ejqSUh2OK2dmxoYNG8jKyqJ9+/YJL+dVTM5VA99//z1NmjTx5FBNSaJJkybFPoP0BOFcNeHJoXoryd/fE4Rzzrm4PEE45/YxaRKkp0ONGuF90qTSrW/Dhg1069aNbt26ceCBB9KqVau88Z07dxa6bGZmJtdee22R2zjuuONKF6TbhzdSO+f2MmkSDB8O27eH8VWrwjjAsGElW2eTJk2YN28eAKNHj6Z+/frceOONefOzs7OpWTP+4SgjI4OMjLiPK9jLe++9V7LgUmj37t2kpaWlOowCJfUMQtIASUslLZN0SwFlhkhaLGmRpOdjpl8k6dPodVEy43TO7TFq1J7kkGv79jC9LF188cWMGDGC3r17c/PNN/Phhx9y7LHH0r17d4477jiWLl0KwFtvvcUZZ5wBhORy6aWX0rdvXw4++GAeeeSRvPXVr18/r3zfvn0555xz6NixI8OGDSP3wWhTp06lY8eO9OzZk2uvvTZvvbFWrlzJCSecQI8ePejRo8deief++++nc+fOdO3alVtuCYe0ZcuW8aMf/YiuXbvSo0cPli9fvlfMACNHjuSZZ54BID09nV/+8pf06NGDF198kXHjxnH00UfTtWtXfvKTn7A92vnr1q1j0KBBdO3ala5du/Lee+9xxx138NBDD+Wtd9SoUTz88MOl/VMUKGlnEJLSgMeA/kAWMEvSlNhHh0rqANwK9DGzTZKaR9MbA3cCGYABs6NlNyUrXudc8PnnxZteGllZWbz33nukpaXxzTff8M4771CzZk3eeOMNbrvtNl5++eV9llmyZAkzZ85k69atHH744Vx55ZX7XNs/d+5cFi1aRMuWLenTpw/vvvsuGRkZXHHFFbz99tu0b9+eoUOHxo2pefPmvP7669SpU4dPP/2UoUOHkpmZybRp0/j73//O//73P+rVq8fGjRsBGDZsGLfccguDBg3i+++/Jycnh9WrVxf6uZs0acKcOXOAUP12+eWXA3D77bfz1FNPcc0113Dttddy4okn8sorr7B79262bdtGy5YtGTx4MNdddx05OTlMnjyZDz/8sNj7PVHJrGLqBSwzsxUAkiYDA4HYZ0tfDjyWe+A3s6+i6acCr5vZxmjZ14EBwF+SGK9zDmjbNlQrxZte1s4999y8KpYtW7Zw0UUX8emnnyKJXbt2xV3m9NNPp3bt2tSuXZvmzZuzbt06WrduvVeZXr165U3r1q0bK1eupH79+hx88MF59wEMHTqUsWPH7rP+Xbt2MXLkSObNm0daWhqffPIJAG+88QaXXHIJ9erVA6Bx48Zs3bqVNWvWMGjQICDcjJaI8847L2/4o48+4vbbb2fz5s1s27aNU089FYA333yTZ599FoC0tDQaNmxIw4YNadKkCXPnzmXdunV0796dJk2aJLTNkkhmFVMrIDaNZkXTYh0GHCbpXUkfSBpQjGWRNFxSpqTM9evXl2HozlVf994L0TEwT716YXpZ23///fOGf/WrX3HSSSfx0Ucf8dprrxV4zX7t2rXzhtPS0sjOzi5RmYI8+OCDtGjRgvnz55OZmVlkI3o8NWvWJCcnJ288/2eJ/dwXX3wxjz76KAsXLuTOO+8s8l6Fyy67jGeeeYann36aSy+9tNixFUeqr2KqCXQA+gJDgXGSDkh0YTMba2YZZpbRrFmz5EToXDUzbBiMHQvt2oEU3seOLXkDdaK2bNlCq1bhd2BufX1ZOvzww1mxYgUrV64E4IUXXigwjoMOOogaNWowceJEdu/eDUD//v15+umn89oINm7cSIMGDWjdujWvvvoqADt27GD79u20a9eOxYsXs2PHDjZv3syMGTMKjGvr1q0cdNBB7Nq1i0kxl4v169ePxx9/HAiN2Vu2bAFg0KBB/Otf/2LWrFl5ZxvJkswEsQZoEzPeOpoWKwuYYma7zOwz4BNCwkhkWedckgwbBitXQk5OeE92cgC4+eabufXWW+nevXuxfvEnqm7duvzpT39iwIAB9OzZkwYNGtCwYcN9yl111VVMmDCBrl27smTJkrxf+wMGDOCss84iIyODbt26MWbMGAAmTpzII488QpcuXTjuuOP48ssvadOmDUOGDOGoo45iyJAhdO/evcC47r77bnr37k2fPn3o2LFj3vSHH36YmTNn0rlzZ3r27MnixaF2vlatWpx00kkMGTIk6VdAKbd1v8xXLNUkHPD7EQ7us4CfmtmimDIDgKFmdpGkpsBcoBtRwzTQIyo6B+iZ2yYRT0ZGhmVmZibjozhX6X388cd06tQp1WGk3LZt26hfvz5mxtVXX02HDh24/vrrUx1WseTk5ORdAdWhQ4diLRvveyBptpnFvY44aWcQZpYNjASmAx8DfzWzRZLuknRWVGw6sEHSYmAmcJOZbYgSwd2EpDILuKuw5OCcc4kYN24c3bp148gjj2TLli1cccUVqQ6pWBYvXsyhhx5Kv379ip0cSiJpZxDlzc8gnCuYn0E4qEBnEM455yo3TxDOOefi8gThnHMuLk8Qzjnn4vIE4ZxLupNOOonp06fvNe2hhx7iyiuvLHCZvn37knvhyWmnncbmzZv3KTN69Oi8+xEK8sQTT+R1WeGKx7v7ds4l3dChQ5k8efJed/5OnjyZBx54IKHlp06dWuJtjxgxosTLpkph3Z+Xp9RH4JwrX9ddB9GzGcpMt24Q0w11fueccw633347O3fupFatWqxcuZIvvviCE044gSuvvJJZs2bx3Xffcc455/DrX/96n+XT09PJzMykadOm3HvvvUyYMIHmzZvTpk0bevbsCYR7HMaOHcvOnTs59NBDmThxIvXq1dvr+RPz5s1jxIgRbN++nUMOOYTx48fTqFEj+vbtS+/evZk5cyabN2/mqaee4oQTTtgrhm3btjFw4EA2bdrErl27uOeeexg4cCAAzz77LGPGjEESXbp0YeLEiaxbt44RI0awYsUKAB5//HFatmzJGWecwUcffQTAmDFj2LZtG6NHj6Zv375069aN//73vwwdOpTDDjuMe+65h507d9KkSRMmTZpEixYt2LZtG9dccw2ZmZlI4s4772TLli0sWLAgryvwcePGsXjxYh588MFS/Vm9isk5l3SNGzemV69eTJs2DQhnD0OGDEES9957L5mZmSxYsID//Oc/LFiwoMD1zJ49m8mTJzNv3jymTp3KrFmz8uYNHjyYWbNmMX/+fDp16sRTTz21z/IXXngh999/PwsWLKBz5857JaPs7Gw+/PBDHnroobhJqk6dOrzyyivMmTOHmTNncsMNN2BmLFq0iHvuuYc333yT+fPn5z2fIbe77vnz5zNnzhyOPPLIIvfTzp07yczM5IYbbuD444/ngw8+YO7cuZx//vl5Z1t33303DRs2ZOHChSxYsICTTz6ZIUOG8Nprr+X1gFtWHfn5GYRz1U0hv/STKbeaaeDAgUyePDnvAP7Xv/6VsWPHkp2dzdq1a1m8eDFdunSJu4533nmHQYMG5XW5fdZZZ+XNK6jb7Fxbtmxh8+bNnHjiiQBcdNFFnHvuuXnzBw8eDEDPnj3zOvSLZWbcdtttvP3229SoUYM1a9awbt063nzzTc4991yaNm0KhGQI8bvr3rSp8EfaxHYDnpWVxXnnncfatWvZuXNnXjflb7zxBpMnT84r16hRIwBOPvlk/vGPf9CpUyd27dpF586dC91WIqr9GURZP3vXORffwIEDmTFjBnPmzGH79u307NmTzz77jDFjxjBjxgwWLFjA6aefXmR31wUpbrfZ+eV2EV5Q9+CTJk1i/fr1zJ49m3nz5tGiRYtib6M43YBfc801jBw5koULF/Lkk08WqxvwSy65pFhxFaRaJ4jcZ++uWgVme56960nCubJXv359TjrpJC699NK8p7l988037L///jRs2JB169blVUEV5Ic//CGvvvoq3333HVu3buW1117Lm1dQt9m5GjZsSKNGjXjnnXeA0Atr7tlEIrZs2ULz5s3Zb7/9mDlzJquipyqdfPLJvPjii2zYsAEg70lz8brrbtGiBV999RUbNmxgx44d/OMf/yh0e7ndn0+YMCFvev/+/XnsscfyxnPPSnr37s3q1at5/vnnC3xaXnFV6wRRXs/edc4FQ4cOZf78+XkHsK5du9K9e3c6duzIT3/6U/r06VPo8j169OC8886ja9eu/PjHP+boo4/Om1dQt9mxJkyYwE033USXLl2YN28ed9xxR8KxDxs2jMzMTDp37syzzz6bt40jjzySUaNGceKJJ9K1a1d+8YtfAPG7695vv/2444476NWrF/379y8wTgiX8J577rn07Nkzr/oKwmNJN23axFFHHUXXrl2ZOXNm3rwhQ4bQp0+fvGqn0qrWnfXVqBHOHPKTQj/4zlUV3llf9XDGGWdw/fXX069fv7jzvbO+YijoGbvJePauc84ly+bNmznssMOoW7dugcmhJKr1VUz33hvaHGKrmZL17F3nnEuWAw44gE8++aTM11utzyBS9exd51KhqlQnu5Ipyd8/qQlC0gBJSyUtk3RLnPkXS1ovaV70uixm3u6Y6VOSFWMqnr3rXHmrU6cOGzZs8CRRTZkZGzZsoE6dOsVaLmlVTJLSgMeA/kAWMEvSFDNbnK/oC2Y2Ms4qvjOzbsmKz7nqpHXr1mRlZbF+/fpUh+JSpE6dOrRu3bpYyySzDaIXsMzMVgBImgwMBPInCOdcku233355d+I6l6hkVjG1AlbHjGdF0/L7iaQFkl6S1CZmeh1JmZI+kHR2vA1IGh6VyfRfRs45V7ZS3Uj9GpBuZl2A14EJMfPaRdfm/hR4SNIh+Rc2s7FmlmFmGc2aNSufiJ1zrppIZoJYA8SeEbSOpuUxsw1mtiMa/TPQM2bemuh9BfAW0D2JsTrnnMsnmW0Qs4AOktoTEsP5hLOBPJIOMrO10ehZwMfR9EbAdjPbIakp0Aco9Mkis2fP/lrSqjL+DGWpKfB1qoMohMdXOh5f6Xh8pVOa+NoVNCNpCcLMsiWNBKYDacB4M1sk6S4g08ymANdKOgvIBjYCF0eLdwKelJRDOMu5L87VT/m3V6HrmCRlFnQ7e0Xg8ZWOx1c6Hl/pJCu+pN5JbWZTgan5pt0RM3wrcGuc5d4DSt+ZuXPOuRJLdSO1c865CsoTRPkZm+oAiuDxlY7HVzoeX+kkJb4q0923c865suVnEM455+LyBOGccy4uTxBlRFIbSTMlLZa0SNL/xSnTV9KWmF5qE3/eYdnFuVLSwmj7+zyCT8EjUQ+8CyT1KMfYDo/ZN/MkfSPpunxlynUfShov6StJH8VMayzpdUmfRu9xn+8o6aKozKeSLirH+H4naUn093tF0gEFLFvodyGJ8Y2WtCbmb3haAcsW2ht0EuN7ISa2lZLmFbBseey/uMeVcvsOmpm/yuAFHAT0iIYbAJ8AR+Qr0xf4R4rjXAk0LWT+acA0QMAxwP9SFGca8CWhy5WU7UPgh0AP4KOYaQ8At0TDtwD3x1muMbAiem8UDTcqp/hOAWpGw/fHiy+R70IS4xsN3JjA3385cDBQC5if//8pWfHlm/974I4U7r+4x5Xy+g76GUQZMbO1ZjYnGt5KuCs8XueEFd1A4FkLPgAOkHRQCuLoByw3s5TeHW9mbxNu4ow1kD39hk0Azo6z6KnA62a20cw2EfoaG1Ae8ZnZv80sOxr9gNDNTUoUsP8SkdcbtJntBHJ7gy5ThcUnScAQ4C9lvd1EFXJcKZfvoCeIJJCUTug76n9xZh8rab6kaZKOLN/IADDg35JmSxoeZ36ivfAm2/kU/I+Z6n3YwvZ0EfMl0CJOmYqyHy8lnBHGU9R3IZlGRlVg4wuoHqkI++8EYJ2ZfVrA/HLdf/mOK+XyHfQEUcYk1QdeBq4zs2/yzZ5DqDLpCvwReLWcwwM43sx6AD8Grpb0wxTEUChJtQh9c70YZ3ZF2Id5LJzLV8hrxSWNInRjM6mAIqn6LjwOHAJ0A9YSqnEqoqEUfvZQbvuvsONKMr+DniDKkKT9CH/ESWb2t/zzzewbM9sWDU8F9lPojLDc2J5ecr8CXiGcyscqshfecvBjYI6Zrcs/oyLsQ2BdbrVb9P5VnDIp3Y+SLgbOAIZFB5B9JPBdSAozW2dmu80sBxhXwHZTvf9qAoOBFwoqU177r4DjSrl8Bz1BlJGovvIp4GMz+0MBZQ6MyiGpF2H/byjHGPeX1CB3mNCY+VG+YlOACxUcA2yJOZUtLwX+ckv1PoxMAXKvCLkI+HucMtOBUyQ1iqpQTommJZ2kAcDNwFlmtr2AMol8F5IVX2yb1qACtpvXG3R0Rnk+Yb+Xlx8BS8wsK97M8tp/hRxXyuc7mMwW+Or0Ao4nnOYtAOZFr9OAEcCIqMxIYBHhiowPgOPKOcaDo23Pj+IYFU2PjVGEZ4kvBxYCGeUc4/6EA37DmGkp24eERLUW2EWow/050ASYAXwKvAE0jspmAH+OWfZSYFn0uqQc41tGqHvO/R4+EZVtCUwt7LtQTvFNjL5bCwgHuoPyxxeNn0a4amd5ecYXTX8m9zsXUzYV+6+g40q5fAe9qw3nnHNxeRWTc865uDxBOOeci8sThHPOubg8QTjnnIvLE4Rzzrm4PEE4VwRJu7V3L7Nl1rOopPTYnkSdq0hqpjoA5yqB78ysW6qDcK68+RmEcyUUPQ/ggeiZAB9KOjSani7pzagzuhmS2kbTWyg8n2F+9DouWlWapHFRf///llQ3Kn9t9ByABZImp+hjumrME4RzRaubr4rpvJh5W8ysM/Ao8FA07Y/ABDPrQugo75Fo+iPAfyx0NNiDcAcuQAfgMTM7EtgM/CSafgvQPVrPiOR8NOcK5ndSO1cESdvMrH6c6SuBk81sRdSh2pdm1kTS14TuI3ZF09eaWVNJ64HWZrYjZh3phD77O0TjvwT2M7N7JP0L2EbosfZVizopdK68+BmEc6VjBQwXx46Y4d3saRs8ndAvVg9gVtTDqHPlxhOEc6VzXsz7+9Hwe4TeRwGGAe9EwzOAKwEkpUlqWNBKJdUA2pjZTOCXQENgn7MY55LJf5E4V7S62vvB9f8ys9xLXRtJWkA4CxgaTbsGeFrSTcB64JJo+v8BYyX9nHCmcCWhJ9F40oDnoiQi4BEz21xGn8e5hHgbhHMlFLVBZJjZ16mOxblk8Com55xzcfkZhHPOubj8DMI551xcniCcc87F5QnCOedcXJ4gnHPOxeUJwjnnXFz/D0M9dIL43IO9AAAAAElFTkSuQmCC\n",
      "text/plain": [
       "<Figure size 432x288 with 1 Axes>"
      ]
     },
     "metadata": {
      "needs_background": "light"
     },
     "output_type": "display_data"
    }
   ],
   "source": [
    "history_dict = history.history\n",
    "print(history_dict.keys())\n",
    "\n",
    "loss_plot()\n",
    "acc_plot()"
   ]
  },
  {
   "cell_type": "markdown",
   "id": "f9f46284-bf54-4e36-963a-e80cc93b24bd",
   "metadata": {},
   "source": [
    "#### Retrian the model"
   ]
  },
  {
   "cell_type": "code",
   "execution_count": 28,
   "id": "9600fb75-318e-4ddb-a076-8bca1f0160ca",
   "metadata": {},
   "outputs": [
    {
     "name": "stdout",
     "output_type": "stream",
     "text": [
      "Epoch 1/10\n"
     ]
    },
    {
     "name": "stderr",
     "output_type": "stream",
     "text": [
      "2022-02-15 11:43:24.216865: I tensorflow/core/grappler/optimizers/custom_graph_optimizer_registry.cc:112] Plugin optimizer for device_type GPU is enabled.\n"
     ]
    },
    {
     "name": "stdout",
     "output_type": "stream",
     "text": [
      "16/16 [==============================] - 1s 25ms/step - loss: 2.4809 - accuracy: 0.5306 - val_loss: 1.5493 - val_accuracy: 0.6790\n",
      "Epoch 2/10\n",
      " 5/16 [========>.....................] - ETA: 0s - loss: 1.3817 - accuracy: 0.7004"
     ]
    },
    {
     "name": "stderr",
     "output_type": "stream",
     "text": [
      "2022-02-15 11:43:24.765708: I tensorflow/core/grappler/optimizers/custom_graph_optimizer_registry.cc:112] Plugin optimizer for device_type GPU is enabled.\n"
     ]
    },
    {
     "name": "stdout",
     "output_type": "stream",
     "text": [
      "16/16 [==============================] - 0s 17ms/step - loss: 1.3039 - accuracy: 0.7199 - val_loss: 1.2418 - val_accuracy: 0.7360\n",
      "Epoch 3/10\n",
      "16/16 [==============================] - 0s 16ms/step - loss: 0.9753 - accuracy: 0.7863 - val_loss: 1.1178 - val_accuracy: 0.7570\n",
      "Epoch 4/10\n",
      "16/16 [==============================] - 0s 16ms/step - loss: 0.7404 - accuracy: 0.8351 - val_loss: 1.0833 - val_accuracy: 0.7530\n",
      "Epoch 5/10\n",
      "16/16 [==============================] - 0s 16ms/step - loss: 0.5790 - accuracy: 0.8726 - val_loss: 0.9687 - val_accuracy: 0.7930\n",
      "Epoch 6/10\n",
      "16/16 [==============================] - 0s 16ms/step - loss: 0.4278 - accuracy: 0.9090 - val_loss: 1.0146 - val_accuracy: 0.7890\n",
      "Epoch 7/10\n",
      "16/16 [==============================] - 0s 16ms/step - loss: 0.3487 - accuracy: 0.9247 - val_loss: 0.9423 - val_accuracy: 0.8070\n",
      "Epoch 8/10\n",
      "16/16 [==============================] - 0s 16ms/step - loss: 0.2674 - accuracy: 0.9409 - val_loss: 1.0132 - val_accuracy: 0.8050\n",
      "Epoch 9/10\n",
      "16/16 [==============================] - 0s 16ms/step - loss: 0.2338 - accuracy: 0.9466 - val_loss: 1.1059 - val_accuracy: 0.7950\n",
      "Epoch 10/10\n",
      "16/16 [==============================] - 0s 16ms/step - loss: 0.1904 - accuracy: 0.9508 - val_loss: 1.0072 - val_accuracy: 0.8100\n",
      "71/71 [==============================] - 1s 9ms/step - loss: 1.1264 - accuracy: 0.7867\n"
     ]
    }
   ],
   "source": [
    "model = keras.Sequential([\n",
    "    Dense(128, activation='relu'),\n",
    "    Dense(64, activation='relu'),\n",
    "    Dense(64, activation='relu'),\n",
    "    Dense(46, activation='softmax'),\n",
    "])\n",
    "\n",
    "model.compile(\n",
    "    optimizer=\"rmsprop\",\n",
    "     loss=\"categorical_crossentropy\",\n",
    "     metrics=[\"accuracy\"])\n",
    "\n",
    "# train model\n",
    "history = model.fit(\n",
    "            partial_X_train,\n",
    "            partial_y_train,\n",
    "            epochs= 10,\n",
    "            batch_size=512,\n",
    "            validation_data=(val_train, val_labels)\n",
    ")\n",
    "\n",
    "result = model.evaluate(X_test, y_test)"
   ]
  },
  {
   "cell_type": "code",
   "execution_count": 29,
   "id": "90d04dfe-3b85-4722-8fa9-05c246a400e2",
   "metadata": {},
   "outputs": [
    {
     "name": "stdout",
     "output_type": "stream",
     "text": [
      "dict_keys(['loss', 'accuracy', 'val_loss', 'val_accuracy'])\n",
      "0.7547584384679794 1.104403704404831\n"
     ]
    },
    {
     "data": {
      "image/png": "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\n",
      "text/plain": [
       "<Figure size 432x288 with 1 Axes>"
      ]
     },
     "metadata": {
      "needs_background": "light"
     },
     "output_type": "display_data"
    },
    {
     "name": "stdout",
     "output_type": "stream",
     "text": [
      "0.8416437447071076 0.772400039434433\n"
     ]
    },
    {
     "data": {
      "image/png": "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\n",
      "text/plain": [
       "<Figure size 432x288 with 1 Axes>"
      ]
     },
     "metadata": {
      "needs_background": "light"
     },
     "output_type": "display_data"
    }
   ],
   "source": [
    "history_dict = history.history\n",
    "print(history_dict.keys())\n",
    "\n",
    "loss_plot()\n",
    "acc_plot()"
   ]
  },
  {
   "cell_type": "markdown",
   "id": "ddcffbac-1275-4f0e-bbb6-754da1b1c194",
   "metadata": {},
   "source": [
    "#### Predicting the test data"
   ]
  },
  {
   "cell_type": "code",
   "execution_count": 30,
   "id": "b2ddf0a3-2552-4d77-800a-1fae6fe9f571",
   "metadata": {},
   "outputs": [
    {
     "name": "stderr",
     "output_type": "stream",
     "text": [
      "2022-02-15 11:43:28.106734: I tensorflow/core/grappler/optimizers/custom_graph_optimizer_registry.cc:112] Plugin optimizer for device_type GPU is enabled.\n"
     ]
    }
   ],
   "source": [
    "predictions = model.predict(X_test)\n",
    "def check_prediction(index):\n",
    "    print(f'Ground truth of sample {index} : {np.argmax(y_test[index])} ,\\\n",
    "    Prediction of sample {index} : {np.argmax(predictions[index])}')"
   ]
  },
  {
   "cell_type": "code",
   "execution_count": 31,
   "id": "b6450b4f-c034-469c-9dc8-4ffab72da8cb",
   "metadata": {},
   "outputs": [
    {
     "name": "stdout",
     "output_type": "stream",
     "text": [
      "Ground truth of sample 19 : 3 ,    Prediction of sample 19 : 3\n"
     ]
    }
   ],
   "source": [
    "check_prediction(19)"
   ]
  },
  {
   "cell_type": "markdown",
   "id": "85254de7-26ea-4ac2-900e-744bc0694105",
   "metadata": {},
   "source": [
    "#### Different way to handle the labels and the loss\n",
    "We also can use a sparse categorial as a labels"
   ]
  },
  {
   "cell_type": "code",
   "execution_count": 32,
   "id": "c6ba10af-8d4d-4d27-a525-25d76a08ad6b",
   "metadata": {},
   "outputs": [
    {
     "data": {
      "text/plain": [
       "'\\nmodel.compile(\\n    optimizer=\\'rmsprop\\',\\n    loss=\"sparse_categorical_crossentropy\",\\n    metrics=[\"accuracy\"]\\n)\\n'"
      ]
     },
     "execution_count": 32,
     "metadata": {},
     "output_type": "execute_result"
    }
   ],
   "source": [
    "sparse_y_train = np.array(y_train)\n",
    "sparse_y_test = np.array(y_test)\n",
    "\n",
    "\"\"\"\n",
    "model.compile(\n",
    "    optimizer='rmsprop',\n",
    "    loss=\"sparse_categorical_crossentropy\",\n",
    "    metrics=[\"accuracy\"]\n",
    ")\n",
    "\"\"\""
   ]
  },
  {
   "cell_type": "markdown",
   "id": "f48ef7db-396d-4dc7-a5de-ea0e5941f94d",
   "metadata": {},
   "source": [
    "#### The bottleneck architecture\n",
    "While try to compress the units so much it's may drop the performance dramatically. So we should avoid intermediate layers"
   ]
  },
  {
   "cell_type": "code",
   "execution_count": 33,
   "id": "f4ed4403-62b0-4dc4-907f-dc952a7aa996",
   "metadata": {},
   "outputs": [
    {
     "name": "stdout",
     "output_type": "stream",
     "text": [
      "Epoch 1/20\n"
     ]
    },
    {
     "name": "stderr",
     "output_type": "stream",
     "text": [
      "2022-02-15 11:43:28.997711: I tensorflow/core/grappler/optimizers/custom_graph_optimizer_registry.cc:112] Plugin optimizer for device_type GPU is enabled.\n"
     ]
    },
    {
     "name": "stdout",
     "output_type": "stream",
     "text": [
      "63/63 [==============================] - 2s 16ms/step - loss: 1.9043 - accuracy: 0.5953 - val_loss: 1.3493 - val_accuracy: 0.6940\n",
      "Epoch 2/20\n",
      " 5/63 [=>............................] - ETA: 0s - loss: 1.2475 - accuracy: 0.7047"
     ]
    },
    {
     "name": "stderr",
     "output_type": "stream",
     "text": [
      "2022-02-15 11:43:30.124402: I tensorflow/core/grappler/optimizers/custom_graph_optimizer_registry.cc:112] Plugin optimizer for device_type GPU is enabled.\n"
     ]
    },
    {
     "name": "stdout",
     "output_type": "stream",
     "text": [
      "63/63 [==============================] - 1s 13ms/step - loss: 1.0617 - accuracy: 0.7456 - val_loss: 1.0737 - val_accuracy: 0.7500\n",
      "Epoch 3/20\n",
      "63/63 [==============================] - 1s 14ms/step - loss: 0.7496 - accuracy: 0.8256 - val_loss: 1.0022 - val_accuracy: 0.7740\n",
      "Epoch 4/20\n",
      "63/63 [==============================] - 1s 14ms/step - loss: 0.5307 - accuracy: 0.8766 - val_loss: 0.9786 - val_accuracy: 0.7960\n",
      "Epoch 5/20\n",
      "63/63 [==============================] - 1s 14ms/step - loss: 0.3778 - accuracy: 0.9151 - val_loss: 1.0578 - val_accuracy: 0.7920\n",
      "Epoch 6/20\n",
      "63/63 [==============================] - 1s 14ms/step - loss: 0.2943 - accuracy: 0.9344 - val_loss: 1.1197 - val_accuracy: 0.7830\n",
      "Epoch 7/20\n",
      "63/63 [==============================] - 1s 14ms/step - loss: 0.2333 - accuracy: 0.9455 - val_loss: 1.1777 - val_accuracy: 0.7790\n",
      "Epoch 8/20\n",
      "63/63 [==============================] - 1s 14ms/step - loss: 0.2020 - accuracy: 0.9500 - val_loss: 1.1890 - val_accuracy: 0.7790\n",
      "Epoch 9/20\n",
      "63/63 [==============================] - 1s 14ms/step - loss: 0.1719 - accuracy: 0.9526 - val_loss: 1.3491 - val_accuracy: 0.7640\n",
      "Epoch 10/20\n",
      "63/63 [==============================] - 1s 14ms/step - loss: 0.1640 - accuracy: 0.9529 - val_loss: 1.1703 - val_accuracy: 0.7920\n",
      "Epoch 11/20\n",
      "63/63 [==============================] - 1s 14ms/step - loss: 0.1501 - accuracy: 0.9557 - val_loss: 1.2392 - val_accuracy: 0.7940\n",
      "Epoch 12/20\n",
      "63/63 [==============================] - 1s 14ms/step - loss: 0.1437 - accuracy: 0.9549 - val_loss: 1.2396 - val_accuracy: 0.8000\n",
      "Epoch 13/20\n",
      "63/63 [==============================] - 1s 14ms/step - loss: 0.1339 - accuracy: 0.9536 - val_loss: 1.2141 - val_accuracy: 0.7870\n",
      "Epoch 14/20\n",
      "63/63 [==============================] - 1s 14ms/step - loss: 0.1246 - accuracy: 0.9557 - val_loss: 1.3211 - val_accuracy: 0.7900\n",
      "Epoch 15/20\n",
      "63/63 [==============================] - 1s 14ms/step - loss: 0.1215 - accuracy: 0.9540 - val_loss: 1.3187 - val_accuracy: 0.7980\n",
      "Epoch 16/20\n",
      "63/63 [==============================] - 1s 14ms/step - loss: 0.1156 - accuracy: 0.9579 - val_loss: 1.4574 - val_accuracy: 0.7760\n",
      "Epoch 17/20\n",
      "63/63 [==============================] - 1s 14ms/step - loss: 0.1114 - accuracy: 0.9572 - val_loss: 1.4423 - val_accuracy: 0.7740\n",
      "Epoch 18/20\n",
      "63/63 [==============================] - 1s 14ms/step - loss: 0.1088 - accuracy: 0.9582 - val_loss: 1.5323 - val_accuracy: 0.7860\n",
      "Epoch 19/20\n",
      "63/63 [==============================] - 1s 14ms/step - loss: 0.1078 - accuracy: 0.9577 - val_loss: 1.5145 - val_accuracy: 0.7690\n",
      "Epoch 20/20\n",
      "63/63 [==============================] - 1s 14ms/step - loss: 0.1019 - accuracy: 0.9572 - val_loss: 1.6333 - val_accuracy: 0.7900\n"
     ]
    },
    {
     "data": {
      "text/plain": [
       "<keras.callbacks.History at 0x13cf7f4f0>"
      ]
     },
     "execution_count": 33,
     "metadata": {},
     "output_type": "execute_result"
    }
   ],
   "source": [
    "model = keras.Sequential([\n",
    " Dense(64, activation=\"relu\"),\n",
    " Dense(128, activation=\"relu\"),\n",
    " Dense(32, activation=\"relu\"),\n",
    " Dense(46, activation=\"softmax\")\n",
    "])\n",
    "\n",
    "model.compile(\n",
    "     optimizer=\"rmsprop\",\n",
    "     loss=\"categorical_crossentropy\",\n",
    "     metrics=[\"accuracy\"])\n",
    "\n",
    "model.fit(\n",
    "     partial_X_train,\n",
    "     partial_y_train,\n",
    "     epochs=20,\n",
    "     batch_size=128,\n",
    "     validation_data=(val_train, val_labels))"
   ]
  },
  {
   "cell_type": "code",
   "execution_count": 34,
   "id": "505309eb-4f4a-42da-8762-1d254073bb67",
   "metadata": {},
   "outputs": [
    {
     "name": "stdout",
     "output_type": "stream",
     "text": [
      "dict_keys(['loss', 'accuracy', 'val_loss', 'val_accuracy'])\n",
      "0.7547584384679794 1.104403704404831\n"
     ]
    },
    {
     "data": {
      "image/png": "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\n",
      "text/plain": [
       "<Figure size 432x288 with 1 Axes>"
      ]
     },
     "metadata": {
      "needs_background": "light"
     },
     "output_type": "display_data"
    },
    {
     "name": "stdout",
     "output_type": "stream",
     "text": [
      "0.8416437447071076 0.772400039434433\n"
     ]
    },
    {
     "data": {
      "image/png": "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\n",
      "text/plain": [
       "<Figure size 432x288 with 1 Axes>"
      ]
     },
     "metadata": {
      "needs_background": "light"
     },
     "output_type": "display_data"
    }
   ],
   "source": [
    "history_dict = history.history\n",
    "print(history_dict.keys())\n",
    "\n",
    "loss_plot()\n",
    "acc_plot()"
   ]
  },
  {
   "cell_type": "markdown",
   "id": "6e09ed04-b58a-4844-9c15-923b28a439fb",
   "metadata": {},
   "source": [
    "### The Boston housing price dataset\n",
    "Predict the median price of homes in given Boston suburb in the mid 1970."
   ]
  },
  {
   "cell_type": "code",
   "execution_count": 35,
   "id": "17c86606-5cec-43a0-ae22-eb0038fb11ac",
   "metadata": {},
   "outputs": [],
   "source": [
    "from keras.datasets import boston_housing\n",
    "(train_data, train_labels), (test_data, test_labels) = boston_housing.load_data()"
   ]
  },
  {
   "cell_type": "code",
   "execution_count": 36,
   "id": "54e65e2f-94fb-4da3-8ab0-b287691122c7",
   "metadata": {},
   "outputs": [
    {
     "name": "stdout",
     "output_type": "stream",
     "text": [
      "(404, 13)\n",
      "(102, 13)\n"
     ]
    }
   ],
   "source": [
    "# preview train shape\n",
    "print(train_data.shape)\n",
    "\n",
    "# preview test shape\n",
    "print(test_data.shape)"
   ]
  },
  {
   "cell_type": "code",
   "execution_count": 37,
   "id": "73b557cf-47f4-4fd9-9ead-d2dbb452496e",
   "metadata": {},
   "outputs": [
    {
     "name": "stdout",
     "output_type": "stream",
     "text": [
      "[15.2 42.3 50.  21.1 17.7]\n"
     ]
    }
   ],
   "source": [
    "# print train labels\n",
    "print(train_labels[:5])"
   ]
  },
  {
   "cell_type": "markdown",
   "id": "9f1c5ac0-3b34-4ab4-80cc-e833311dab9b",
   "metadata": {},
   "source": [
    "Boston house price range from 10,000 and 50,000\n",
    "#### Prepare data "
   ]
  },
  {
   "cell_type": "code",
   "execution_count": 38,
   "id": "ee8c1f94-2993-49d8-bae4-8cbccd283941",
   "metadata": {},
   "outputs": [],
   "source": [
    "# normalizing the data\n",
    "train_data_copy = train_data.copy()\n",
    "test_data_copy = test_data.copy()\n",
    "\n",
    "# norm train data\n",
    "mean = np.mean(train_data, axis=0)\n",
    "train_data_copy -= mean\n",
    "std = train_data_copy.std(axis=0)\n",
    "train_data_copy /= std\n",
    "\n",
    "# norm train data\n",
    "test_data_copy -= mean\n",
    "test_data_copy /= std"
   ]
  },
  {
   "cell_type": "markdown",
   "id": "b3cffb8b-ec22-4f16-ae63-40be02547db7",
   "metadata": {},
   "source": [
    "#### Build a model"
   ]
  },
  {
   "cell_type": "code",
   "execution_count": 39,
   "id": "7d1d15df-09fa-4258-b893-744821be5a10",
   "metadata": {},
   "outputs": [],
   "source": [
    "from keras import Sequential "
   ]
  },
  {
   "cell_type": "code",
   "execution_count": 40,
   "id": "530e3a31-8c0d-42f3-91cd-29f3f58511de",
   "metadata": {},
   "outputs": [],
   "source": [
    "# sequential model\n",
    "def build_model():\n",
    "        # build a sequential model\n",
    "    model = Sequential([\n",
    "        Dense(64, activation='relu'),\n",
    "        Dense(32, activation='relu'),\n",
    "        Dense(1)\n",
    "        ])\n",
    "    \n",
    "        # compile choose optimizer, loss function, metrics\n",
    "    model.compile(\n",
    "        optimizer=\"rmsprop\",\n",
    "        loss=\"mse\",\n",
    "        metrics=[\"mae\"]\n",
    "    )\n",
    "    return model"
   ]
  },
  {
   "cell_type": "markdown",
   "id": "6d0b77b7-f860-4035-8466-b45088b54e17",
   "metadata": {},
   "source": [
    "When try to predict a continuous value (Regression problem), the model ends with one single layer with no activation function.\\\n",
    "\n",
    "- *loss function* **MSE** : (mean square error) the square of different between the target (ground-truth) and the prediction.\n",
    "- *metric* **MAE** : (mean absolute error) it's the absolute value of the different between the target and the prediction."
   ]
  },
  {
   "cell_type": "code",
   "execution_count": 42,
   "id": "c2dbc798-c671-43e5-a077-9a8d1933e231",
   "metadata": {},
   "outputs": [
    {
     "name": "stdout",
     "output_type": "stream",
     "text": [
      "Processing fold #0\n"
     ]
    },
    {
     "name": "stderr",
     "output_type": "stream",
     "text": [
      "2022-02-15 11:44:44.728898: I tensorflow/core/grappler/optimizers/custom_graph_optimizer_registry.cc:112] Plugin optimizer for device_type GPU is enabled.\n",
      "2022-02-15 11:45:36.784258: I tensorflow/core/grappler/optimizers/custom_graph_optimizer_registry.cc:112] Plugin optimizer for device_type GPU is enabled.\n"
     ]
    },
    {
     "name": "stdout",
     "output_type": "stream",
     "text": [
      "Validation MSE: 13.571942329406738, Validation MAE: 2.3943347930908203\n",
      "-------------------------------\n",
      "Processing fold #1\n"
     ]
    },
    {
     "name": "stderr",
     "output_type": "stream",
     "text": [
      "2022-02-15 11:45:37.085649: I tensorflow/core/grappler/optimizers/custom_graph_optimizer_registry.cc:112] Plugin optimizer for device_type GPU is enabled.\n",
      "2022-02-15 11:46:27.464231: I tensorflow/core/grappler/optimizers/custom_graph_optimizer_registry.cc:112] Plugin optimizer for device_type GPU is enabled.\n"
     ]
    },
    {
     "name": "stdout",
     "output_type": "stream",
     "text": [
      "Validation MSE: 15.278533935546875, Validation MAE: 2.67110538482666\n",
      "-------------------------------\n",
      "Processing fold #2\n"
     ]
    },
    {
     "name": "stderr",
     "output_type": "stream",
     "text": [
      "2022-02-15 11:46:27.992628: I tensorflow/core/grappler/optimizers/custom_graph_optimizer_registry.cc:112] Plugin optimizer for device_type GPU is enabled.\n",
      "2022-02-15 11:47:17.636790: I tensorflow/core/grappler/optimizers/custom_graph_optimizer_registry.cc:112] Plugin optimizer for device_type GPU is enabled.\n"
     ]
    },
    {
     "name": "stdout",
     "output_type": "stream",
     "text": [
      "Validation MSE: 13.443778991699219, Validation MAE: 2.5260138511657715\n",
      "-------------------------------\n",
      "Processing fold #3\n"
     ]
    },
    {
     "name": "stderr",
     "output_type": "stream",
     "text": [
      "2022-02-15 11:47:17.936131: I tensorflow/core/grappler/optimizers/custom_graph_optimizer_registry.cc:112] Plugin optimizer for device_type GPU is enabled.\n"
     ]
    },
    {
     "name": "stdout",
     "output_type": "stream",
     "text": [
      "Validation MSE: 10.519596099853516, Validation MAE: 2.357546091079712\n",
      "-------------------------------\n",
      "2.487250030040741\n"
     ]
    },
    {
     "name": "stderr",
     "output_type": "stream",
     "text": [
      "2022-02-15 11:48:07.685178: I tensorflow/core/grappler/optimizers/custom_graph_optimizer_registry.cc:112] Plugin optimizer for device_type GPU is enabled.\n"
     ]
    }
   ],
   "source": [
    "# Validating your approach using K-fold validation\n",
    "K = 4\n",
    "EPOCHS = 500\n",
    "BATCH_SIZE = 16\n",
    "num_val_samples = len(train_data_copy) // K # how many validation sample\n",
    "\n",
    "all_scores = []\n",
    "for i in range(K):\n",
    "    print(f'Processing fold #{i}')\n",
    "    # set validation fold\n",
    "    val_train = train_data_copy[i * num_val_samples : (i+1) * num_val_samples]\n",
    "    val_labels = train_labels[i * num_val_samples : (i+1) * num_val_samples]\n",
    "    \n",
    "    # set trian fold\n",
    "    X_train = np.concatenate([\n",
    "        train_data_copy[: i*num_val_samples], \n",
    "        train_data_copy[(i+1) * num_val_samples : ]\n",
    "    ])\n",
    "    y_train = np.concatenate([\n",
    "        train_labels[: i*num_val_samples], \n",
    "        train_labels[(i+1) * num_val_samples : ]\n",
    "    ])\n",
    "    model = build_model()\n",
    "    history = model.fit(\n",
    "                X_train,\n",
    "                y_train,\n",
    "                epochs = EPOCHS,\n",
    "                batch_size = BATCH_SIZE,\n",
    "                verbose=0\n",
    "            )\n",
    "    \n",
    "    val_mse, val_mae = model.evaluate(val_train, val_labels, verbose=0)\n",
    "    print(f'Validation MSE: {val_mse}, Validation MAE: {val_mae}')\n",
    "    print(\"-------------------------------\")\n",
    "    all_scores.append(val_mae)\n",
    "\n",
    "print(np.mean(all_scores))"
   ]
  },
  {
   "cell_type": "code",
   "execution_count": 58,
   "id": "16f750e7-c73e-485a-9167-43c62ae25056",
   "metadata": {},
   "outputs": [
    {
     "data": {
      "image/png": "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\n",
      "text/plain": [
       "<Figure size 432x288 with 1 Axes>"
      ]
     },
     "metadata": {
      "needs_background": "light"
     },
     "output_type": "display_data"
    }
   ],
   "source": [
    "loss = hist_dict['loss']\n",
    "mae = hist_dict['mae']\n",
    "epochs = range(1, len(loss)+1)\n",
    "\n",
    "plt.plot(epochs, loss, 'b', label=\"Train Loss\")\n",
    "plt.plot(epochs, mae, 'r', label=\"MAE\")\n",
    "plt.title(\"Training Loss and MAE values\")\n",
    "plt.xlabel(\"Epochs\")\n",
    "plt.ylabel(\"Training\")\n",
    "plt.legend()\n",
    "plt.show()"
   ]
  },
  {
   "cell_type": "code",
   "execution_count": 62,
   "id": "ebd46580-70bd-408c-a770-ebfebeb12b6a",
   "metadata": {},
   "outputs": [
    {
     "name": "stdout",
     "output_type": "stream",
     "text": [
      "Processing fold #0\n"
     ]
    },
    {
     "name": "stderr",
     "output_type": "stream",
     "text": [
      "2022-02-15 12:14:43.616348: I tensorflow/core/grappler/optimizers/custom_graph_optimizer_registry.cc:112] Plugin optimizer for device_type GPU is enabled.\n",
      "2022-02-15 12:14:44.005537: I tensorflow/core/grappler/optimizers/custom_graph_optimizer_registry.cc:112] Plugin optimizer for device_type GPU is enabled.\n"
     ]
    },
    {
     "name": "stdout",
     "output_type": "stream",
     "text": [
      "-------------------------------\n",
      "Processing fold #1\n"
     ]
    },
    {
     "name": "stderr",
     "output_type": "stream",
     "text": [
      "2022-02-15 12:15:49.862684: I tensorflow/core/grappler/optimizers/custom_graph_optimizer_registry.cc:112] Plugin optimizer for device_type GPU is enabled.\n",
      "2022-02-15 12:15:50.250432: I tensorflow/core/grappler/optimizers/custom_graph_optimizer_registry.cc:112] Plugin optimizer for device_type GPU is enabled.\n"
     ]
    },
    {
     "name": "stdout",
     "output_type": "stream",
     "text": [
      "-------------------------------\n",
      "Processing fold #2\n"
     ]
    },
    {
     "name": "stderr",
     "output_type": "stream",
     "text": [
      "2022-02-15 12:16:55.740908: I tensorflow/core/grappler/optimizers/custom_graph_optimizer_registry.cc:112] Plugin optimizer for device_type GPU is enabled.\n",
      "2022-02-15 12:16:56.125757: I tensorflow/core/grappler/optimizers/custom_graph_optimizer_registry.cc:112] Plugin optimizer for device_type GPU is enabled.\n"
     ]
    },
    {
     "name": "stdout",
     "output_type": "stream",
     "text": [
      "-------------------------------\n",
      "Processing fold #3\n"
     ]
    },
    {
     "name": "stderr",
     "output_type": "stream",
     "text": [
      "2022-02-15 12:18:01.439828: I tensorflow/core/grappler/optimizers/custom_graph_optimizer_registry.cc:112] Plugin optimizer for device_type GPU is enabled.\n",
      "2022-02-15 12:18:01.844862: I tensorflow/core/grappler/optimizers/custom_graph_optimizer_registry.cc:112] Plugin optimizer for device_type GPU is enabled.\n"
     ]
    },
    {
     "name": "stdout",
     "output_type": "stream",
     "text": [
      "-------------------------------\n"
     ]
    }
   ],
   "source": [
    "all_mae_hist = []\n",
    "for i in range(K):\n",
    "    print(f'Processing fold #{i}')\n",
    "    # set validation fold\n",
    "    val_train = train_data_copy[i * num_val_samples : (i+1) * num_val_samples]\n",
    "    val_labels = train_labels[i * num_val_samples : (i+1) * num_val_samples]\n",
    "    \n",
    "    # set trian fold\n",
    "    X_train = np.concatenate([\n",
    "        train_data_copy[: i*num_val_samples], \n",
    "        train_data_copy[(i+1) * num_val_samples : ]\n",
    "    ])\n",
    "    y_train = np.concatenate([\n",
    "        train_labels[: i*num_val_samples], \n",
    "        train_labels[(i+1) * num_val_samples : ]\n",
    "    ])\n",
    "    model = build_model()\n",
    "    history = model.fit(\n",
    "                X_train,\n",
    "                y_train,\n",
    "                epochs = EPOCHS,\n",
    "                batch_size = BATCH_SIZE,\n",
    "                validation_data=(val_train, val_labels),\n",
    "                verbose=0\n",
    "            )\n",
    "    \n",
    "    mae_hist = history.history['val_mae']\n",
    "    all_mae_hist.append(mae_hist)\n",
    "    print(\"-------------------------------\")\n"
   ]
  },
  {
   "cell_type": "code",
   "execution_count": 78,
   "id": "a6ef3e52-767c-4f4d-8157-57c9849d4575",
   "metadata": {},
   "outputs": [],
   "source": [
    "average_mae_history = [\n",
    " np.mean([x[i] for x in all_mae_hist]) for i in range(EPOCHS)]"
   ]
  },
  {
   "cell_type": "code",
   "execution_count": 79,
   "id": "e6b5218b-9b38-4939-8280-2114d8f960d1",
   "metadata": {},
   "outputs": [
    {
     "data": {
      "image/png": "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\n",
      "text/plain": [
       "<Figure size 432x288 with 1 Axes>"
      ]
     },
     "metadata": {
      "needs_background": "light"
     },
     "output_type": "display_data"
    }
   ],
   "source": [
    "plt.plot(range(1, len(average_mae_history) + 1), average_mae_history)\n",
    "plt.xlabel(\"Epochs\")\n",
    "plt.ylabel(\"Validation MAE\")\n",
    "plt.show()"
   ]
  },
  {
   "cell_type": "code",
   "execution_count": 83,
   "id": "ac20ac69-02fe-431c-8f11-ce9f669cc009",
   "metadata": {},
   "outputs": [
    {
     "data": {
      "image/png": "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\n",
      "text/plain": [
       "<Figure size 432x288 with 1 Axes>"
      ]
     },
     "metadata": {
      "needs_background": "light"
     },
     "output_type": "display_data"
    }
   ],
   "source": [
    "truncated_mae_history = average_mae_history[20:]\n",
    "plt.plot(range(1, len(truncated_mae_history) + 1), truncated_mae_history,)\n",
    "plt.xlabel(\"Epochs\")\n",
    "plt.ylabel(\"Validation MAE\")\n",
    "plt.show()"
   ]
  },
  {
   "cell_type": "code",
   "execution_count": 85,
   "id": "7754d3b5-a1ee-4fa6-995b-f4de0b73e56c",
   "metadata": {},
   "outputs": [
    {
     "name": "stderr",
     "output_type": "stream",
     "text": [
      "2022-02-15 12:29:17.750050: I tensorflow/core/grappler/optimizers/custom_graph_optimizer_registry.cc:112] Plugin optimizer for device_type GPU is enabled.\n"
     ]
    },
    {
     "name": "stdout",
     "output_type": "stream",
     "text": [
      "4/4 [==============================] - 0s 36ms/step - loss: 20.2793 - mae: 2.8412\n"
     ]
    },
    {
     "name": "stderr",
     "output_type": "stream",
     "text": [
      "2022-02-15 12:29:36.341429: I tensorflow/core/grappler/optimizers/custom_graph_optimizer_registry.cc:112] Plugin optimizer for device_type GPU is enabled.\n"
     ]
    }
   ],
   "source": [
    "model = build_model()\n",
    "model.fit(\n",
    "    X_train, \n",
    "    y_train,\n",
    "    epochs=180, \n",
    "    batch_size=16, \n",
    "    verbose=0)\n",
    "test_mse_score, test_mae_score = model.evaluate(test_data_copy, test_labels)"
   ]
  },
  {
   "cell_type": "code",
   "execution_count": 86,
   "id": "03473df3-fc3f-4f0b-9a04-693176dd30b7",
   "metadata": {},
   "outputs": [
    {
     "name": "stderr",
     "output_type": "stream",
     "text": [
      "2022-02-15 12:30:16.922254: I tensorflow/core/grappler/optimizers/custom_graph_optimizer_registry.cc:112] Plugin optimizer for device_type GPU is enabled.\n"
     ]
=======
  "cells": [
    {
      "cell_type": "markdown",
      "metadata": {
        "id": "view-in-github",
        "colab_type": "text"
      },
      "source": [
        "<a href=\"https://colab.research.google.com/github/theaveas/DeepLearning/blob/main/DLwithPython/chapter04_dl4python.ipynb\" target=\"_parent\"><img src=\"https://colab.research.google.com/assets/colab-badge.svg\" alt=\"Open In Colab\"/></a>"
      ]
    },
    {
      "cell_type": "markdown",
      "id": "b833c034-e4fc-4e17-be06-dd43dd147f65",
      "metadata": {
        "id": "b833c034-e4fc-4e17-be06-dd43dd147f65"
      },
      "source": [
        "# Getting started with neural networks:\n",
        "## Classification and regression\n",
        "\n",
        "### Glossary\n",
        "**Sample** or **input** -- A training example that we fit into the network\\\n",
        "**Prediction** or **output** -- A result that we get from the networks\\\n",
        "**Target** -- The objection that we try to predict.\\\n",
        "**Classes** -- \\\n",
        "**Label** --\\\n",
        "**Binary classification**\\\n",
        "**Multiclass classification**\\\n",
        "**Scalar regression**\\\n",
        "**Mini batch**"
      ]
    },
    {
      "cell_type": "markdown",
      "id": "1b12dc69-de3a-4ef7-8910-a0ac60a19023",
      "metadata": {
        "id": "1b12dc69-de3a-4ef7-8910-a0ac60a19023"
      },
      "source": [
        "### Binary classification\n",
        "#### Dataset"
      ]
    },
    {
      "cell_type": "code",
      "execution_count": null,
      "id": "44387538-a694-409a-b154-966f453a9e49",
      "metadata": {
        "id": "44387538-a694-409a-b154-966f453a9e49",
        "outputId": "2c9f8daa-8159-4f01-d487-5fc52165678d"
      },
      "outputs": [
        {
          "data": {
            "text/plain": [
              "['__builtins__',\n",
              " '__cached__',\n",
              " '__doc__',\n",
              " '__file__',\n",
              " '__loader__',\n",
              " '__name__',\n",
              " '__package__',\n",
              " '__path__',\n",
              " '__spec__',\n",
              " '_sys',\n",
              " 'boston_housing',\n",
              " 'cifar10',\n",
              " 'cifar100',\n",
              " 'fashion_mnist',\n",
              " 'imdb',\n",
              " 'mnist',\n",
              " 'reuters']"
            ]
          },
          "execution_count": 1,
          "metadata": {},
          "output_type": "execute_result"
        }
      ],
      "source": [
        "# all tensorflow keras buildin datasets\n",
        "import tensorflow \n",
        "dir(tensorflow.keras.datasets)"
      ]
    },
    {
      "cell_type": "code",
      "execution_count": null,
      "id": "c2f6ab2e-ab39-4b49-affd-d8ae8de0762f",
      "metadata": {
        "id": "c2f6ab2e-ab39-4b49-affd-d8ae8de0762f"
      },
      "outputs": [],
      "source": [
        "# load dataset\n",
        "from tensorflow.keras.datasets import imdb\n",
        "(X_train, y_train), (X_test, y_test) = imdb.load_data(num_words=10000)"
      ]
    },
    {
      "cell_type": "markdown",
      "id": "0d5dc6fc-c8d1-4b1a-886b-d6fec4c7c75b",
      "metadata": {
        "id": "0d5dc6fc-c8d1-4b1a-886b-d6fec4c7c75b"
      },
      "source": [
        "*num_word=10000* only keep the top 10000 most frequently appear in training samples"
      ]
    },
    {
      "cell_type": "code",
      "execution_count": null,
      "id": "99a16653-3099-43c0-afef-72cb7c418749",
      "metadata": {
        "id": "99a16653-3099-43c0-afef-72cb7c418749"
      },
      "outputs": [],
      "source": [
        "# decoding review back to text\n",
        "word_idx = imdb.get_word_index()\n",
        "reverse_word_idx = dict(\n",
        "    [(value, key) for (key, value) in word_idx.items()])\n",
        "decoded_review = ''.join(\n",
        "    [reverse_word_idx.get(i - 3, '?') for i in X_train[0]])"
      ]
    },
    {
      "cell_type": "markdown",
      "id": "b0245804-b50a-417b-8385-5af177ac3d84",
      "metadata": {
        "id": "b0245804-b50a-417b-8385-5af177ac3d84"
      },
      "source": [
        "#### Preparing the data"
      ]
    },
    {
      "cell_type": "code",
      "execution_count": null,
      "id": "12069064-978f-4747-b890-9ce03915f89e",
      "metadata": {
        "id": "12069064-978f-4747-b890-9ce03915f89e",
        "outputId": "43555664-46ab-41b2-94b7-f3667291d137"
      },
      "outputs": [
        {
          "data": {
            "text/plain": [
              "array([list([1, 14, 22, 16, 43, 530, 973, 1622, 1385, 65, 458, 4468, 66, 3941, 4, 173, 36, 256, 5, 25, 100, 43, 838, 112, 50, 670, 2, 9, 35, 480, 284, 5, 150, 4, 172, 112, 167, 2, 336, 385, 39, 4, 172, 4536, 1111, 17, 546, 38, 13, 447, 4, 192, 50, 16, 6, 147, 2025, 19, 14, 22, 4, 1920, 4613, 469, 4, 22, 71, 87, 12, 16, 43, 530, 38, 76, 15, 13, 1247, 4, 22, 17, 515, 17, 12, 16, 626, 18, 2, 5, 62, 386, 12, 8, 316, 8, 106, 5, 4, 2223, 5244, 16, 480, 66, 3785, 33, 4, 130, 12, 16, 38, 619, 5, 25, 124, 51, 36, 135, 48, 25, 1415, 33, 6, 22, 12, 215, 28, 77, 52, 5, 14, 407, 16, 82, 2, 8, 4, 107, 117, 5952, 15, 256, 4, 2, 7, 3766, 5, 723, 36, 71, 43, 530, 476, 26, 400, 317, 46, 7, 4, 2, 1029, 13, 104, 88, 4, 381, 15, 297, 98, 32, 2071, 56, 26, 141, 6, 194, 7486, 18, 4, 226, 22, 21, 134, 476, 26, 480, 5, 144, 30, 5535, 18, 51, 36, 28, 224, 92, 25, 104, 4, 226, 65, 16, 38, 1334, 88, 12, 16, 283, 5, 16, 4472, 113, 103, 32, 15, 16, 5345, 19, 178, 32]),\n",
              "       list([1, 194, 1153, 194, 8255, 78, 228, 5, 6, 1463, 4369, 5012, 134, 26, 4, 715, 8, 118, 1634, 14, 394, 20, 13, 119, 954, 189, 102, 5, 207, 110, 3103, 21, 14, 69, 188, 8, 30, 23, 7, 4, 249, 126, 93, 4, 114, 9, 2300, 1523, 5, 647, 4, 116, 9, 35, 8163, 4, 229, 9, 340, 1322, 4, 118, 9, 4, 130, 4901, 19, 4, 1002, 5, 89, 29, 952, 46, 37, 4, 455, 9, 45, 43, 38, 1543, 1905, 398, 4, 1649, 26, 6853, 5, 163, 11, 3215, 2, 4, 1153, 9, 194, 775, 7, 8255, 2, 349, 2637, 148, 605, 2, 8003, 15, 123, 125, 68, 2, 6853, 15, 349, 165, 4362, 98, 5, 4, 228, 9, 43, 2, 1157, 15, 299, 120, 5, 120, 174, 11, 220, 175, 136, 50, 9, 4373, 228, 8255, 5, 2, 656, 245, 2350, 5, 4, 9837, 131, 152, 491, 18, 2, 32, 7464, 1212, 14, 9, 6, 371, 78, 22, 625, 64, 1382, 9, 8, 168, 145, 23, 4, 1690, 15, 16, 4, 1355, 5, 28, 6, 52, 154, 462, 33, 89, 78, 285, 16, 145, 95])],\n",
              "      dtype=object)"
            ]
          },
          "execution_count": 4,
          "metadata": {},
          "output_type": "execute_result"
        }
      ],
      "source": [
        "# we can't fit a list to neural network because of the length different\n",
        "# so we have to convert a list to a tensor\n",
        "X_train[:2]"
      ]
    },
    {
      "cell_type": "markdown",
      "id": "841fe955-de13-47b9-8c54-496bf31ab0f3",
      "metadata": {
        "id": "841fe955-de13-47b9-8c54-496bf31ab0f3"
      },
      "source": [
        "Encoding the int sequences via multi-hot encoding. **Multi hot encoding** is one of such popular encoding technique in order to successfully convert categorical variables into numerical variables.\n"
      ]
    },
    {
      "cell_type": "code",
      "execution_count": null,
      "id": "aae98908-344e-4e6e-9d28-9db0eb5b9fdd",
      "metadata": {
        "id": "aae98908-344e-4e6e-9d28-9db0eb5b9fdd",
        "outputId": "fab63e7d-69f0-4883-e496-c7768512800a"
      },
      "outputs": [
        {
          "name": "stdout",
          "output_type": "stream",
          "text": [
            "(25000, 10000)\n",
            "(25000,)\n"
          ]
        }
      ],
      "source": [
        "import numpy as np\n",
        "def vec_seq(sequences, dimension=10000):\n",
        "    # creates an all-zero matrices\n",
        "    results = np.zeros((len(sequences), dimension))\n",
        "    for i, sequence in enumerate(sequences):\n",
        "        for j in sequence:\n",
        "            results[i,j] = 1\n",
        "            \n",
        "    return results\n",
        "\n",
        "# vectorize sequences (train data)\n",
        "X_train_vec = vec_seq(X_train)\n",
        "X_test_vec = vec_seq(X_test)\n",
        "\n",
        "# vectorize sequences (labels data)\n",
        "y_train_vec = np.asarray(y_train).astype('float32')\n",
        "y_test_vec = np.asarray(y_test).astype('float32')\n",
        "\n",
        "print(X_train_vec.shape)\n",
        "print(y_test_vec.shape)"
      ]
    },
    {
      "cell_type": "markdown",
      "id": "6758ba38-f06c-4df0-9695-1afc85b851b1",
      "metadata": {
        "id": "6758ba38-f06c-4df0-9695-1afc85b851b1"
      },
      "source": [
        "### Build model\n",
        "**Dense layers** or **Fully connected layers** -- A plain layer stack of nuerons (units)\n",
        "- How many layers to use\n",
        "- How many units to choose for each layers\n"
      ]
    },
    {
      "cell_type": "markdown",
      "id": "4e886ff8-b9a1-4f57-83a3-16271654aeae",
      "metadata": {
        "id": "4e886ff8-b9a1-4f57-83a3-16271654aeae"
      },
      "source": [
        "#### Model definition"
      ]
    },
    {
      "cell_type": "code",
      "execution_count": null,
      "id": "37ac5f0a-0613-4f1a-8d05-fb7c2888f455",
      "metadata": {
        "id": "37ac5f0a-0613-4f1a-8d05-fb7c2888f455",
        "outputId": "2bddda48-8620-4233-dade-ae53ed97f3ee"
      },
      "outputs": [
        {
          "name": "stdout",
          "output_type": "stream",
          "text": [
            "Metal device set to: Apple M1 Pro\n"
          ]
        },
        {
          "name": "stderr",
          "output_type": "stream",
          "text": [
            "2022-02-15 11:42:59.188456: I tensorflow/core/common_runtime/pluggable_device/pluggable_device_factory.cc:305] Could not identify NUMA node of platform GPU ID 0, defaulting to 0. Your kernel may not have been built with NUMA support.\n",
            "2022-02-15 11:42:59.188605: I tensorflow/core/common_runtime/pluggable_device/pluggable_device_factory.cc:271] Created TensorFlow device (/job:localhost/replica:0/task:0/device:GPU:0 with 0 MB memory) -> physical PluggableDevice (device: 0, name: METAL, pci bus id: <undefined>)\n"
          ]
        }
      ],
      "source": [
        "# import library\n",
        "from tensorflow import keras\n",
        "from tensorflow.keras.layers import Dense\n",
        "\n",
        "model = keras.Sequential([\n",
        "    Dense(16, activation='relu'),\n",
        "    Dense(16, activation='relu'),\n",
        "    Dense(1, activation='sigmoid'),\n",
        "])"
      ]
    },
    {
      "cell_type": "markdown",
      "id": "3f64f9ef-4074-4548-a8c2-f1fb21c195c6",
      "metadata": {
        "id": "3f64f9ef-4074-4548-a8c2-f1fb21c195c6"
      },
      "source": [
        "*16* mean this particular layers have 16 units stack on top of each other `(input_dimension, 16)` \\\n",
        "*activation='relu'* mean we use relu as the activation function : `relu(dot(Inputs, W) + b)`"
      ]
    },
    {
      "cell_type": "markdown",
      "id": "a8afe5c8-e000-467c-b9fe-6ec63d1a0157",
      "metadata": {
        "id": "a8afe5c8-e000-467c-b9fe-6ec63d1a0157"
      },
      "source": [
        "#### Compile model\n",
        "In compil, we need to choose an **optimizer**(what algorithms we use to optimize our model), **loss function**(fucntion that we use to calculate the loss, different between the predictions and the ground-truth, **metrics**(what are the metrice we use for measure how good our model is) for our neural network."
      ]
    },
    {
      "cell_type": "code",
      "execution_count": null,
      "id": "096f71c6-e776-46f3-bb70-db7351ff158e",
      "metadata": {
        "id": "096f71c6-e776-46f3-bb70-db7351ff158e"
      },
      "outputs": [],
      "source": [
        "model.compile(\n",
        "    optimizer = 'rmsprop',\n",
        "    loss='binary_crossentropy',\n",
        "    metrics=['accuracy']\n",
        ")"
      ]
    },
    {
      "cell_type": "markdown",
      "id": "1c58f5a7-f5e6-4674-9f55-22edfd15c33a",
      "metadata": {
        "id": "1c58f5a7-f5e6-4674-9f55-22edfd15c33a"
      },
      "source": [
        "#### Validating\n",
        "Split the datasets to Training set and Dev set to prevent **overfitting**(not generalize)"
      ]
    },
    {
      "cell_type": "code",
      "execution_count": null,
      "id": "6f58b977-1e47-42e2-b6e5-a8218003b4d7",
      "metadata": {
        "id": "6f58b977-1e47-42e2-b6e5-a8218003b4d7"
      },
      "outputs": [],
      "source": [
        "# setting aside a dev set (validation set)\n",
        "X_dev = X_train_vec[:10000]\n",
        "partial_X_train = X_train_vec[10000:]\n",
        "\n",
        "y_dev = y_train_vec[:10000]\n",
        "partial_y_train = y_train_vec[10000:]"
      ]
    },
    {
      "cell_type": "markdown",
      "id": "2d963b5e-0c30-47c0-947f-254dc1c56f9b",
      "metadata": {
        "id": "2d963b5e-0c30-47c0-947f-254dc1c56f9b"
      },
      "source": [
        "#### Training the model\n",
        "In order to train the model we use `keras.Sequential()` method `fit()`\\\n",
        "*epochs=20* means we train the model for 20 iterations over all samples in training example in mini-batches of *512*"
      ]
    },
    {
      "cell_type": "code",
      "execution_count": null,
      "id": "7b163fd6-9245-4fa6-9ed2-ebdaa060128f",
      "metadata": {
        "id": "7b163fd6-9245-4fa6-9ed2-ebdaa060128f",
        "outputId": "be4d9638-af86-4221-d11d-429ad3629da0"
      },
      "outputs": [
        {
          "name": "stderr",
          "output_type": "stream",
          "text": [
            "2022-02-15 11:43:00.113264: W tensorflow/core/platform/profile_utils/cpu_utils.cc:128] Failed to get CPU frequency: 0 Hz\n"
          ]
        },
        {
          "name": "stdout",
          "output_type": "stream",
          "text": [
            "Epoch 1/20\n"
          ]
        },
        {
          "name": "stderr",
          "output_type": "stream",
          "text": [
            "2022-02-15 11:43:00.432681: I tensorflow/core/grappler/optimizers/custom_graph_optimizer_registry.cc:112] Plugin optimizer for device_type GPU is enabled.\n"
          ]
        },
        {
          "name": "stdout",
          "output_type": "stream",
          "text": [
            "30/30 [==============================] - 2s 55ms/step - loss: 0.5588 - accuracy: 0.7581 - val_loss: 0.4383 - val_accuracy: 0.8690\n"
          ]
        },
        {
          "name": "stderr",
          "output_type": "stream",
          "text": [
            "2022-02-15 11:43:02.063670: I tensorflow/core/grappler/optimizers/custom_graph_optimizer_registry.cc:112] Plugin optimizer for device_type GPU is enabled.\n"
          ]
        },
        {
          "name": "stdout",
          "output_type": "stream",
          "text": [
            "Epoch 2/20\n",
            "30/30 [==============================] - 0s 16ms/step - loss: 0.3551 - accuracy: 0.8962 - val_loss: 0.3406 - val_accuracy: 0.8787\n",
            "Epoch 3/20\n",
            "30/30 [==============================] - 0s 16ms/step - loss: 0.2561 - accuracy: 0.9207 - val_loss: 0.2954 - val_accuracy: 0.8871\n",
            "Epoch 4/20\n",
            "30/30 [==============================] - 0s 15ms/step - loss: 0.1998 - accuracy: 0.9365 - val_loss: 0.2767 - val_accuracy: 0.8920\n",
            "Epoch 5/20\n",
            "30/30 [==============================] - 0s 16ms/step - loss: 0.1630 - accuracy: 0.9484 - val_loss: 0.2798 - val_accuracy: 0.8886\n",
            "Epoch 6/20\n",
            "30/30 [==============================] - 0s 15ms/step - loss: 0.1337 - accuracy: 0.9593 - val_loss: 0.2817 - val_accuracy: 0.8896\n",
            "Epoch 7/20\n",
            "30/30 [==============================] - 0s 15ms/step - loss: 0.1124 - accuracy: 0.9673 - val_loss: 0.2942 - val_accuracy: 0.8884\n",
            "Epoch 8/20\n",
            "30/30 [==============================] - 0s 15ms/step - loss: 0.0917 - accuracy: 0.9737 - val_loss: 0.3152 - val_accuracy: 0.8855\n",
            "Epoch 9/20\n",
            "30/30 [==============================] - 0s 14ms/step - loss: 0.0784 - accuracy: 0.9793 - val_loss: 0.3406 - val_accuracy: 0.8767\n",
            "Epoch 10/20\n",
            "30/30 [==============================] - 0s 15ms/step - loss: 0.0649 - accuracy: 0.9834 - val_loss: 0.3533 - val_accuracy: 0.8810\n",
            "Epoch 11/20\n",
            "30/30 [==============================] - 0s 15ms/step - loss: 0.0535 - accuracy: 0.9870 - val_loss: 0.3785 - val_accuracy: 0.8758\n",
            "Epoch 12/20\n",
            "30/30 [==============================] - 0s 15ms/step - loss: 0.0424 - accuracy: 0.9913 - val_loss: 0.4017 - val_accuracy: 0.8782\n",
            "Epoch 13/20\n",
            "30/30 [==============================] - 0s 15ms/step - loss: 0.0358 - accuracy: 0.9931 - val_loss: 0.4332 - val_accuracy: 0.8769\n",
            "Epoch 14/20\n",
            "30/30 [==============================] - 0s 15ms/step - loss: 0.0291 - accuracy: 0.9944 - val_loss: 0.4575 - val_accuracy: 0.8728\n",
            "Epoch 15/20\n",
            "30/30 [==============================] - 0s 14ms/step - loss: 0.0239 - accuracy: 0.9961 - val_loss: 0.4864 - val_accuracy: 0.8729\n",
            "Epoch 16/20\n",
            "30/30 [==============================] - 0s 15ms/step - loss: 0.0178 - accuracy: 0.9979 - val_loss: 0.5263 - val_accuracy: 0.8717\n",
            "Epoch 17/20\n",
            "30/30 [==============================] - 0s 16ms/step - loss: 0.0142 - accuracy: 0.9988 - val_loss: 0.5650 - val_accuracy: 0.8705\n",
            "Epoch 18/20\n",
            "30/30 [==============================] - 0s 15ms/step - loss: 0.0107 - accuracy: 0.9992 - val_loss: 0.6038 - val_accuracy: 0.8644\n",
            "Epoch 19/20\n",
            "30/30 [==============================] - 0s 15ms/step - loss: 0.0080 - accuracy: 0.9995 - val_loss: 0.6327 - val_accuracy: 0.8634\n",
            "Epoch 20/20\n",
            "30/30 [==============================] - 0s 15ms/step - loss: 0.0056 - accuracy: 0.9997 - val_loss: 0.6674 - val_accuracy: 0.8672\n"
          ]
        }
      ],
      "source": [
        "history = model.fit(\n",
        "    partial_X_train,\n",
        "    partial_y_train,\n",
        "    epochs=20,\n",
        "    batch_size=512,\n",
        "    validation_data=(X_dev, y_dev)\n",
        ")"
      ]
    },
    {
      "cell_type": "code",
      "execution_count": null,
      "id": "f85a00da-80b0-4f23-b7d4-aa288828c786",
      "metadata": {
        "id": "f85a00da-80b0-4f23-b7d4-aa288828c786",
        "outputId": "5a31e874-7ef1-46e9-c672-9ab53c129daa"
      },
      "outputs": [
        {
          "name": "stdout",
          "output_type": "stream",
          "text": [
            "dict_keys(['loss', 'accuracy', 'val_loss', 'val_accuracy'])\n"
          ]
        }
      ],
      "source": [
        "history_dict = history.history\n",
        "print(history_dict.keys())"
      ]
    },
    {
      "cell_type": "markdown",
      "id": "1e8fca2a-9fb0-4ca8-a873-dc36eda1d51a",
      "metadata": {
        "id": "1e8fca2a-9fb0-4ca8-a873-dc36eda1d51a"
      },
      "source": [
        "#### Plotting the result"
      ]
    },
    {
      "cell_type": "code",
      "execution_count": null,
      "id": "9b4d0c6a-9c7f-4284-b3e0-be4ec3e28bdf",
      "metadata": {
        "id": "9b4d0c6a-9c7f-4284-b3e0-be4ec3e28bdf"
      },
      "outputs": [],
      "source": [
        "# import library\n",
        "import matplotlib.pyplot as plt"
      ]
    },
    {
      "cell_type": "code",
      "execution_count": null,
      "id": "d7ddd0cc-efe8-491e-8a9a-926ec7281f17",
      "metadata": {
        "id": "d7ddd0cc-efe8-491e-8a9a-926ec7281f17",
        "outputId": "e543dfd4-c17f-4040-a45d-0edd5029bd65"
      },
      "outputs": [
        {
          "name": "stdout",
          "output_type": "stream",
          "text": [
            "0.11273303888738155 0.41842398792505264\n"
          ]
        },
        {
          "data": {
            "image/png": "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\n",
            "text/plain": [
              "<Figure size 432x288 with 1 Axes>"
            ]
          },
          "metadata": {
            "needs_background": "light"
          },
          "output_type": "display_data"
        },
        {
          "name": "stdout",
          "output_type": "stream",
          "text": [
            "0.9640000104904175 0.8775200337171555\n"
          ]
        },
        {
          "data": {
            "image/png": "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\n",
            "text/plain": [
              "<Figure size 432x288 with 1 Axes>"
            ]
          },
          "metadata": {
            "needs_background": "light"
          },
          "output_type": "display_data"
        }
      ],
      "source": [
        "# training and validation loss\n",
        "def loss_plot():\n",
        "    loss_vals = history_dict['loss']\n",
        "    dev_loss_vals = history_dict['val_loss']\n",
        "    epochs = range(1, len(loss_vals)+1)\n",
        "    print(np.mean(loss_vals), np.mean(dev_loss_vals))\n",
        "    # plot\n",
        "    plt.plot(epochs, loss_vals, 'bo', label='Training Loss')\n",
        "    plt.plot(epochs, dev_loss_vals, 'r', label='Validaion Loss')\n",
        "    plt.title(\"Training and Validation Loss\")\n",
        "    plt.xlabel(\"Epochs\")\n",
        "    plt.ylabel(\"Loss\")\n",
        "    plt.legend()\n",
        "    plt.show()\n",
        "\n",
        "def acc_plot():\n",
        "    acc_vals = history_dict['accuracy']\n",
        "    dev_acc_vals = history_dict['val_accuracy']\n",
        "    epochs = range(1, len(acc_vals)+1)\n",
        "    print(np.mean(acc_vals), np.mean(dev_acc_vals))\n",
        "\n",
        "    # plot\n",
        "    plt.plot(epochs, acc_vals, 'bo', label='Training Accuracy')\n",
        "    plt.plot(epochs, dev_acc_vals, 'r', label='Validaion Accuracy')\n",
        "    plt.title(\"Training and Validation Accuracy\")\n",
        "    plt.xlabel(\"Epochs\")\n",
        "    plt.ylabel(\"Accuracy\")\n",
        "    plt.legend()\n",
        "    plt.show()\n",
        "    \n",
        "loss_plot()\n",
        "acc_plot()"
      ]
    },
    {
      "cell_type": "markdown",
      "id": "c61c324b-9568-4405-81a6-06105a8e9a8c",
      "metadata": {
        "id": "c61c324b-9568-4405-81a6-06105a8e9a8c"
      },
      "source": [
        "#### Full process"
      ]
    },
    {
      "cell_type": "code",
      "execution_count": null,
      "id": "ef0c2518-da2f-4e5a-95a3-4ead817ce183",
      "metadata": {
        "id": "ef0c2518-da2f-4e5a-95a3-4ead817ce183",
        "outputId": "4fe02821-5270-4c61-c9e5-ffa76a3364ca"
      },
      "outputs": [
        {
          "name": "stdout",
          "output_type": "stream",
          "text": [
            "Epoch 1/10\n"
          ]
        },
        {
          "name": "stderr",
          "output_type": "stream",
          "text": [
            "2022-02-15 11:43:12.235540: I tensorflow/core/grappler/optimizers/custom_graph_optimizer_registry.cc:112] Plugin optimizer for device_type GPU is enabled.\n"
          ]
        },
        {
          "name": "stdout",
          "output_type": "stream",
          "text": [
            "30/30 [==============================] - 1s 30ms/step - loss: 0.1564 - accuracy: 0.7756 - val_loss: 0.1028 - val_accuracy: 0.8690\n",
            "Epoch 2/10\n",
            " 1/30 [>.............................] - ETA: 0s - loss: 0.0780 - accuracy: 0.9160"
          ]
        },
        {
          "name": "stderr",
          "output_type": "stream",
          "text": [
            "2022-02-15 11:43:13.143430: I tensorflow/core/grappler/optimizers/custom_graph_optimizer_registry.cc:112] Plugin optimizer for device_type GPU is enabled.\n"
          ]
        },
        {
          "name": "stdout",
          "output_type": "stream",
          "text": [
            "30/30 [==============================] - 0s 15ms/step - loss: 0.0747 - accuracy: 0.9086 - val_loss: 0.0925 - val_accuracy: 0.8742\n",
            "Epoch 3/10\n",
            "30/30 [==============================] - 0s 14ms/step - loss: 0.0541 - accuracy: 0.9296 - val_loss: 0.0949 - val_accuracy: 0.8712\n",
            "Epoch 4/10\n",
            "30/30 [==============================] - 0s 14ms/step - loss: 0.0408 - accuracy: 0.9500 - val_loss: 0.0870 - val_accuracy: 0.8845\n",
            "Epoch 5/10\n",
            "30/30 [==============================] - 0s 15ms/step - loss: 0.0307 - accuracy: 0.9623 - val_loss: 0.0932 - val_accuracy: 0.8787\n",
            "Epoch 6/10\n",
            "30/30 [==============================] - 0s 14ms/step - loss: 0.0270 - accuracy: 0.9680 - val_loss: 0.0963 - val_accuracy: 0.8773\n",
            "Epoch 7/10\n",
            "30/30 [==============================] - 0s 14ms/step - loss: 0.0203 - accuracy: 0.9760 - val_loss: 0.1013 - val_accuracy: 0.8735\n",
            "Epoch 8/10\n",
            "30/30 [==============================] - 0s 15ms/step - loss: 0.0180 - accuracy: 0.9784 - val_loss: 0.1086 - val_accuracy: 0.8676\n",
            "Epoch 9/10\n",
            "30/30 [==============================] - 0s 15ms/step - loss: 0.0164 - accuracy: 0.9811 - val_loss: 0.1205 - val_accuracy: 0.8569\n",
            "Epoch 10/10\n",
            "30/30 [==============================] - 0s 15ms/step - loss: 0.0153 - accuracy: 0.9821 - val_loss: 0.1071 - val_accuracy: 0.8712\n"
          ]
        },
        {
          "data": {
            "text/plain": [
              "<keras.callbacks.History at 0x14f2d2a30>"
            ]
          },
          "execution_count": 13,
          "metadata": {},
          "output_type": "execute_result"
        }
      ],
      "source": [
        "# create model\n",
        "model = keras.Sequential([\n",
        "    Dense(64, activation='tanh'),\n",
        "    Dense(32, activation='tanh'),\n",
        "    Dense(16, activation='relu'),\n",
        "    Dense(1, activation='sigmoid')\n",
        "])\n",
        "# compile\n",
        "model.compile(\n",
        "    optimizer='rmsprop',\n",
        "    loss='mse',\n",
        "    metrics=['accuracy']\n",
        ")\n",
        "# fit and train\n",
        "model.fit(\n",
        "    partial_X_train,\n",
        "    partial_y_train,\n",
        "    epochs=10,\n",
        "    batch_size=512,\n",
        "    validation_data=(X_dev, y_dev)\n",
        ")"
      ]
    },
    {
      "cell_type": "code",
      "execution_count": null,
      "id": "a08703df-d2fd-40f8-b565-94b369871049",
      "metadata": {
        "id": "a08703df-d2fd-40f8-b565-94b369871049",
        "outputId": "4c1a5829-e453-4751-ab20-90223d64097c"
      },
      "outputs": [
        {
          "name": "stdout",
          "output_type": "stream",
          "text": [
            "dict_keys(['loss', 'accuracy', 'val_loss', 'val_accuracy'])\n",
            "0.11273303888738155 0.41842398792505264\n"
          ]
        },
        {
          "data": {
            "image/png": "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\n",
            "text/plain": [
              "<Figure size 432x288 with 1 Axes>"
            ]
          },
          "metadata": {
            "needs_background": "light"
          },
          "output_type": "display_data"
        },
        {
          "name": "stdout",
          "output_type": "stream",
          "text": [
            "0.9640000104904175 0.8775200337171555\n"
          ]
        },
        {
          "data": {
            "image/png": "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\n",
            "text/plain": [
              "<Figure size 432x288 with 1 Axes>"
            ]
          },
          "metadata": {
            "needs_background": "light"
          },
          "output_type": "display_data"
        }
      ],
      "source": [
        "history_dict = history.history\n",
        "print(history_dict.keys())\n",
        "\n",
        "loss_plot()\n",
        "acc_plot()"
      ]
    },
    {
      "cell_type": "markdown",
      "id": "773a9b27-8355-4a5f-929d-b38fd5494044",
      "metadata": {
        "id": "773a9b27-8355-4a5f-929d-b38fd5494044"
      },
      "source": [
        "### Multiclasss classification\n",
        "#### The reuters datasets\n",
        "A set of short newswires and their topics, published by Reuters in 1986."
      ]
    },
    {
      "cell_type": "code",
      "execution_count": null,
      "id": "458155ac-c39a-49db-b0bb-354516d058df",
      "metadata": {
        "id": "458155ac-c39a-49db-b0bb-354516d058df"
      },
      "outputs": [],
      "source": [
        "# import dataset\n",
        "from tensorflow.keras.datasets import reuters\n",
        "\n",
        "# load dataset\n",
        "(train_data, train_labels), (test_data, test_labels) = reuters.load_data(num_words=10000)"
      ]
    },
    {
      "cell_type": "code",
      "execution_count": null,
      "id": "8c879b50-23ba-401f-84ff-3e7103e23e17",
      "metadata": {
        "id": "8c879b50-23ba-401f-84ff-3e7103e23e17",
        "outputId": "45d225a1-596d-4bd1-bb1f-a07d93329b56"
      },
      "outputs": [
        {
          "name": "stdout",
          "output_type": "stream",
          "text": [
            "Train size: 8982\n",
            "Train shape: (8982,)\n"
          ]
        }
      ],
      "source": [
        "print(f'Train size: {len(train_data)}')\n",
        "print(f'Train shape: {train_data.shape}')"
      ]
    },
    {
      "cell_type": "code",
      "execution_count": null,
      "id": "760a24a7-82cf-4139-b663-f0b20a63a517",
      "metadata": {
        "id": "760a24a7-82cf-4139-b663-f0b20a63a517",
        "outputId": "a16d6ee8-ca1d-4f7e-bc27-7f3f87b98d4d"
      },
      "outputs": [
        {
          "name": "stdout",
          "output_type": "stream",
          "text": [
            "[1, 2, 2, 8, 43, 10, 447, 5, 25, 207, 270, 5, 3095, 111, 16, 369, 186, 90, 67, 7, 89, 5, 19, 102, 6, 19, 124, 15, 90, 67, 84, 22, 482, 26, 7, 48, 4, 49, 8, 864, 39, 209, 154, 6, 151, 6, 83, 11, 15, 22, 155, 11, 15, 7, 48, 9, 4579, 1005, 504, 6, 258, 6, 272, 11, 15, 22, 134, 44, 11, 15, 16, 8, 197, 1245, 90, 67, 52, 29, 209, 30, 32, 132, 6, 109, 15, 17, 12]\n"
          ]
        }
      ],
      "source": [
        "print(train_data[0])"
      ]
    },
    {
      "cell_type": "code",
      "execution_count": null,
      "id": "56143667-f208-44a3-bf2a-90c5fa70d02c",
      "metadata": {
        "id": "56143667-f208-44a3-bf2a-90c5fa70d02c"
      },
      "outputs": [],
      "source": [
        "# decode back to text \n",
        "word_index = reuters.get_word_index()\n",
        "reverse_word_index = dict(\n",
        "    [(value, key) for (key, value) in word_index.items()]\n",
        ")\n",
        "\n",
        "decoded_newswire = ' '.join(\n",
        "    [reverse_word_index.get(i - 3, '?') for i in X_train[0]]\n",
        ")"
      ]
    },
    {
      "cell_type": "code",
      "execution_count": null,
      "id": "fb606933-e83c-4209-b18d-8abc361698e4",
      "metadata": {
        "id": "fb606933-e83c-4209-b18d-8abc361698e4",
        "outputId": "6c5acfec-09fd-4e68-a67e-6ef918c4088d"
      },
      "outputs": [
        {
          "data": {
            "text/plain": [
              "'? vs from it as must exporters ability whole oil support slash trade 920 the officials he policy of its other as slightly against which continued ? and billion following 28 of dlr the into against stg ? results sold net the into becomes view reuter 38 s for result the west which it to 25 atlantic 1 vs from the differentials slack services the from inc prices 3 it as must s market dlrs for versus the from reuter completed reuter 3 it l 000 ? of were budget 3 said terms said government of the ensure besides it following trade 292 will the japan 3 it s special of its 30 but he total 1986 its stood will to from 3 analysts at they this of vs days it tonnes ? said the if over pulp dlrs policy the ? in aires of bills he inc as must them cts development crude loss in the ? rubber for february sales the held dlrs who quarter 2 duties lt cts international to any forthcoming 000 the further from on 12 them cts following of there be 005 000 but he at since after its february the further oil it s stable sales 3 it sugar of it stepped dollar group 2 dlrs it 542 1 oper 2'"
            ]
          },
          "execution_count": 19,
          "metadata": {},
          "output_type": "execute_result"
        }
      ],
      "source": [
        "decoded_newswire"
      ]
    },
    {
      "cell_type": "code",
      "execution_count": null,
      "id": "f1d7881f-d447-4aac-b7ed-19a742beef72",
      "metadata": {
        "id": "f1d7881f-d447-4aac-b7ed-19a742beef72"
      },
      "outputs": [],
      "source": [
        "# prepare the data (vectorize the data)\n",
        "X_train = vec_seq(train_data)\n",
        "X_test = vec_seq(test_data)"
      ]
    },
    {
      "cell_type": "code",
      "execution_count": null,
      "id": "a2555b0e-9c1c-4167-89eb-0be75e00c252",
      "metadata": {
        "id": "a2555b0e-9c1c-4167-89eb-0be75e00c252"
      },
      "outputs": [],
      "source": [
        "# encoding labels to one hot encoder\n",
        "def to_one_hot(labels, dimension=46):\n",
        "    results = np.zeros((len(labels), dimension))\n",
        "    \n",
        "    for i, label in enumerate(labels):\n",
        "        results[i, label] = 1\n",
        "        \n",
        "    return results\n",
        "\n",
        "y_train = to_one_hot(train_labels)\n",
        "y_test = to_one_hot(test_labels)"
      ]
    },
    {
      "cell_type": "code",
      "execution_count": null,
      "id": "caaef609-a438-4974-8a70-6a4aa3f1eaf2",
      "metadata": {
        "id": "caaef609-a438-4974-8a70-6a4aa3f1eaf2",
        "outputId": "3c19a148-aeca-48db-d97a-4d1414a15c07"
      },
      "outputs": [
        {
          "name": "stdout",
          "output_type": "stream",
          "text": [
            "[0.0, 0.0, 0.0, 1.0, 0.0, 0.0, 0.0, 0.0, 0.0, 0.0, 0.0, 0.0, 0.0, 0.0, 0.0, 0.0, 0.0, 0.0, 0.0, 0.0, 0.0, 0.0, 0.0, 0.0, 0.0, 0.0, 0.0, 0.0, 0.0, 0.0, 0.0, 0.0, 0.0, 0.0, 0.0, 0.0, 0.0, 0.0, 0.0, 0.0, 0.0, 0.0, 0.0, 0.0, 0.0, 0.0]\n",
            "Class of each sample: 46\n"
          ]
        }
      ],
      "source": [
        "# using keras built-in function\n",
        "from tensorflow.keras.utils import to_categorical\n",
        "y_train = to_categorical(train_labels)\n",
        "y_test = to_categorical(test_labels)\n",
        "\n",
        "print([i for i in y_train[0]])\n",
        "print(f'Class of each sample: {len(y_train[0])}')"
      ]
    },
    {
      "cell_type": "markdown",
      "id": "d60f9c2e-f34b-43d3-b661-cd66cfd21ff6",
      "metadata": {
        "id": "d60f9c2e-f34b-43d3-b661-cd66cfd21ff6"
      },
      "source": [
        "#### Build model"
      ]
    },
    {
      "cell_type": "code",
      "execution_count": null,
      "id": "c5a5b94c-a2a9-469d-8494-b1254125edfd",
      "metadata": {
        "id": "c5a5b94c-a2a9-469d-8494-b1254125edfd"
      },
      "outputs": [],
      "source": [
        "model = keras.Sequential([\n",
        "    Dense(128, activation='relu'),\n",
        "    Dense(64, activation='relu'),\n",
        "    Dense(46, activation='softmax'),\n",
        "])"
      ]
    },
    {
      "cell_type": "markdown",
      "id": "030652d3-7d85-4690-acf2-9a35bf147af5",
      "metadata": {
        "id": "030652d3-7d85-4690-acf2-9a35bf147af5"
      },
      "source": [
        "Similar of the previous model activation, a plain network is counstruct by using `Dense` layer. The different is we use `softmax` activation function in the last layer.\\ The reason we use 46 units is because of each of the training example have different 46 class.\n",
        "**Softmax** activation function return a probabilities distribution of each class as an output.\n"
      ]
    },
    {
      "cell_type": "markdown",
      "id": "975aa68b-fa41-40cd-a524-8aa5d29fc6ed",
      "metadata": {
        "id": "975aa68b-fa41-40cd-a524-8aa5d29fc6ed"
      },
      "source": [
        "#### Compile and Train"
      ]
    },
    {
      "cell_type": "code",
      "execution_count": null,
      "id": "e00725bc-0ecc-4c5e-83d8-1189c95b0549",
      "metadata": {
        "id": "e00725bc-0ecc-4c5e-83d8-1189c95b0549"
      },
      "outputs": [],
      "source": [
        "# compile the model\n",
        "model.compile(\n",
        "    optimizer=\"rmsprop\",\n",
        "     loss=\"categorical_crossentropy\",\n",
        "     metrics=[\"accuracy\"])"
      ]
    },
    {
      "cell_type": "code",
      "execution_count": null,
      "id": "b91da7d4-1a8b-4680-8a59-edd1454d3d27",
      "metadata": {
        "id": "b91da7d4-1a8b-4680-8a59-edd1454d3d27"
      },
      "outputs": [],
      "source": [
        "# split train and dev set\n",
        "# validation set\n",
        "val_train = X_train[:1000]\n",
        "val_labels = y_train[:1000]\n",
        "\n",
        "# train set\n",
        "partial_X_train = X_train[1000:]\n",
        "partial_y_train = y_train[1000:]"
      ]
    },
    {
      "cell_type": "code",
      "execution_count": null,
      "id": "f8d36c15-ff5c-46d7-b6a5-428d246d42c5",
      "metadata": {
        "id": "f8d36c15-ff5c-46d7-b6a5-428d246d42c5",
        "outputId": "5dbd690b-b31f-4910-e8a3-d26b8671a653"
      },
      "outputs": [
        {
          "name": "stdout",
          "output_type": "stream",
          "text": [
            "Epoch 1/20\n",
            " 1/16 [>.............................] - ETA: 6s - loss: 3.8505 - accuracy: 0.0078"
          ]
        },
        {
          "name": "stderr",
          "output_type": "stream",
          "text": [
            "2022-02-15 11:43:18.638968: I tensorflow/core/grappler/optimizers/custom_graph_optimizer_registry.cc:112] Plugin optimizer for device_type GPU is enabled.\n"
          ]
        },
        {
          "name": "stdout",
          "output_type": "stream",
          "text": [
            "16/16 [==============================] - 1s 24ms/step - loss: 2.3988 - accuracy: 0.5646 - val_loss: 1.4983 - val_accuracy: 0.6860\n",
            "Epoch 2/20\n",
            "10/16 [=================>............] - ETA: 0s - loss: 1.2580 - accuracy: 0.7328"
          ]
        },
        {
          "name": "stderr",
          "output_type": "stream",
          "text": [
            "2022-02-15 11:43:19.110356: I tensorflow/core/grappler/optimizers/custom_graph_optimizer_registry.cc:112] Plugin optimizer for device_type GPU is enabled.\n"
          ]
        },
        {
          "name": "stdout",
          "output_type": "stream",
          "text": [
            "16/16 [==============================] - 0s 14ms/step - loss: 1.2067 - accuracy: 0.7432 - val_loss: 1.1666 - val_accuracy: 0.7560\n",
            "Epoch 3/20\n",
            "16/16 [==============================] - 0s 14ms/step - loss: 0.8515 - accuracy: 0.8211 - val_loss: 1.0147 - val_accuracy: 0.7960\n",
            "Epoch 4/20\n",
            "16/16 [==============================] - 0s 14ms/step - loss: 0.6342 - accuracy: 0.8697 - val_loss: 0.9524 - val_accuracy: 0.7900\n",
            "Epoch 5/20\n",
            "16/16 [==============================] - 0s 15ms/step - loss: 0.4780 - accuracy: 0.8996 - val_loss: 0.9055 - val_accuracy: 0.8190\n",
            "Epoch 6/20\n",
            "16/16 [==============================] - 0s 15ms/step - loss: 0.3630 - accuracy: 0.9266 - val_loss: 0.8922 - val_accuracy: 0.8090\n",
            "Epoch 7/20\n",
            "16/16 [==============================] - 0s 15ms/step - loss: 0.2845 - accuracy: 0.9375 - val_loss: 0.9049 - val_accuracy: 0.8170\n",
            "Epoch 8/20\n",
            "16/16 [==============================] - 0s 14ms/step - loss: 0.2311 - accuracy: 0.9458 - val_loss: 0.9633 - val_accuracy: 0.8020\n",
            "Epoch 9/20\n",
            "16/16 [==============================] - 0s 15ms/step - loss: 0.2006 - accuracy: 0.9496 - val_loss: 0.9442 - val_accuracy: 0.8070\n",
            "Epoch 10/20\n",
            "16/16 [==============================] - 0s 15ms/step - loss: 0.1750 - accuracy: 0.9520 - val_loss: 0.9069 - val_accuracy: 0.8130\n",
            "Epoch 11/20\n",
            "16/16 [==============================] - 0s 15ms/step - loss: 0.1594 - accuracy: 0.9554 - val_loss: 0.9691 - val_accuracy: 0.8030\n",
            "Epoch 12/20\n",
            "16/16 [==============================] - 0s 15ms/step - loss: 0.1420 - accuracy: 0.9557 - val_loss: 0.9673 - val_accuracy: 0.8160\n",
            "Epoch 13/20\n",
            "16/16 [==============================] - 0s 14ms/step - loss: 0.1345 - accuracy: 0.9569 - val_loss: 0.9947 - val_accuracy: 0.8170\n",
            "Epoch 14/20\n",
            "16/16 [==============================] - 0s 15ms/step - loss: 0.1304 - accuracy: 0.9557 - val_loss: 0.9682 - val_accuracy: 0.8230\n",
            "Epoch 15/20\n",
            "16/16 [==============================] - 0s 15ms/step - loss: 0.1259 - accuracy: 0.9565 - val_loss: 1.0437 - val_accuracy: 0.8080\n",
            "Epoch 16/20\n",
            "16/16 [==============================] - 0s 15ms/step - loss: 0.1175 - accuracy: 0.9572 - val_loss: 1.0737 - val_accuracy: 0.8020\n",
            "Epoch 17/20\n",
            "16/16 [==============================] - 0s 15ms/step - loss: 0.1171 - accuracy: 0.9570 - val_loss: 1.0467 - val_accuracy: 0.8080\n",
            "Epoch 18/20\n",
            "16/16 [==============================] - 0s 14ms/step - loss: 0.1123 - accuracy: 0.9572 - val_loss: 1.1042 - val_accuracy: 0.8010\n",
            "Epoch 19/20\n",
            "16/16 [==============================] - 0s 15ms/step - loss: 0.1090 - accuracy: 0.9575 - val_loss: 1.1280 - val_accuracy: 0.7970\n",
            "Epoch 20/20\n",
            "16/16 [==============================] - 0s 15ms/step - loss: 0.1085 - accuracy: 0.9577 - val_loss: 1.0907 - val_accuracy: 0.8140\n"
          ]
        }
      ],
      "source": [
        "# train model\n",
        "history = model.fit(\n",
        "            partial_X_train,\n",
        "            partial_y_train,\n",
        "            epochs= 20,\n",
        "            batch_size=512,\n",
        "            validation_data=(val_train, val_labels)\n",
        ")"
      ]
    },
    {
      "cell_type": "code",
      "execution_count": null,
      "id": "94cc5757-b821-4675-af61-08961aae113d",
      "metadata": {
        "id": "94cc5757-b821-4675-af61-08961aae113d",
        "outputId": "22ebd3f6-f685-4030-fd8e-d137449433cf"
      },
      "outputs": [
        {
          "name": "stdout",
          "output_type": "stream",
          "text": [
            "dict_keys(['loss', 'accuracy', 'val_loss', 'val_accuracy'])\n",
            "0.40399202294647696 1.026764026284218\n"
          ]
        },
        {
          "data": {
            "image/png": "iVBORw0KGgoAAAANSUhEUgAAAYIAAAEWCAYAAABrDZDcAAAAOXRFWHRTb2Z0d2FyZQBNYXRwbG90bGliIHZlcnNpb24zLjUuMSwgaHR0cHM6Ly9tYXRwbG90bGliLm9yZy/YYfK9AAAACXBIWXMAAAsTAAALEwEAmpwYAAAsFklEQVR4nO3dd5xU1f3/8deHBUGkSBOUsoCiqHQWUBFFMUTRCBhLyBpFYoHEEpMoRohiDCnGJMYSDWqChV8QoxILfi0RAsYKiAiCYGEBRQVUiohSPr8/zh12WLaye2dmd97Px2Mec+e2+czd2fOZc+6555q7IyIi2atWugMQEZH0UiIQEclySgQiIllOiUBEJMspEYiIZDklAhGRLKdEIFXKzJ42s/Oret10MrMVZnZSDPudZWYXRtP5ZvZsedbdi/dpZ2abzSxnb2MtZd9uZodU9X4ltZQIhKiQSDx2mtlXSa/zK7Ivdz/F3e+r6nUzkZldY2azi5nf3My+MbMu5d2Xu09x98FVFNduicvdV7p7A3ffURX7l5pHiUCICokG7t4AWAl8J2nelMR6ZlY7fVFmpAeBY8ysQ5H53wPecvdFaYhJpMKUCKREZjbQzFab2Vgz+xj4h5k1MbMnzWytmX0eTbdJ2ia5uWOkmb1oZjdH635gZqfs5bodzGy2mW0ys+fN7A4ze7CEuMsT441m9r9of8+aWfOk5T8wswIzW29m40o6Pu6+GngB+EGRRecB95cVR5GYR5rZi0mvv2VmS81sg5ndDljSsoPN7IUovnVmNsXM9o+WPQC0A56IanRXm1n7qAmndrTOQWb2uJl9ZmbvmtlFSfueYGbTzOz+6NgsNrO8ko5Bkc/QONpubXT8xptZrWjZIWb23+jzrDOzh6L5ZmZ/NrNPzWyjmb1VkZqUVA0lAilLK6ApkAtcTPjO/CN63Q74Cri9lO37Ae8AzYGbgHvNzPZi3f8HvAY0AyawZ+GbrDwxfh+4ADgA2Af4OYCZHQHcGe3/oOj9ii28I/clx2JmhwE9ongreqwS+2gOPAqMJxyL94D+yasAv43iOxxoSzgmuPsP2L1Wd1MxbzEVWB1tfybwGzM7MWn56dE6+wOPlyfmyG1AY6AjcDwhIV4QLbsReBZoQjiet0XzBwPHAYdG254NrC/n+0lVcXc99Nj1AFYAJ0XTA4FvgHqlrN8D+Dzp9Szgwmh6JPBu0rL6gAOtKrIuoRDdDtRPWv4g8GA5P1NxMY5Pev0j4P+i6euAqUnL9ouOwUkl7Ls+sBE4Jno9Efj3Xh6rF6Pp84BXktYzQsF9YQn7HQa8UdzfMHrdPjqWtQlJYwfQMGn5b4HJ0fQE4PmkZUcAX5VybB04BMiJjtMRScsuAWZF0/cDk4A2RbY/EVgGHAXUSvf3P1sfqhFIWda6+9bECzOrb2Z/i6r+G4HZwP5Wco+UjxMT7r4lmmxQwXUPAj5LmgewqqSAyxnjx0nTW5JiOih53+7+JaX8Qo1iehg4L6q95BMKvb05VglFY/Dk12bW0symmtmH0X4fJNQcyiNxLDclzSsAWie9Lnps6lnZ54eaA3WifRW336sJCe21qLlpVPTZXiDUOO4APjWzSWbWqJyfRaqIEoGUpejwtD8DDgP6uXsjQrUektqwY7AGaGpm9ZPmtS1l/crEuCZ539F7Nitjm/sITRrfAhoCT1QyjqIxGLt/3t8Q/i5do/2eW2SfpQ0p/BHhWDZMmtcO+LCMmMqyDthGaAbbY7/u/rG7X+TuBxFqCn+1qNupu9/q7r0JtY9DgasqGYtUkBKBVFRDQlv3F2bWFLg+7jd09wJgLjDBzPYxs6OB78QU47+A08zsWDPbB/gVZf+fzAG+IDR9THX3byoZx1PAkWZ2RvRL/HJCE1lCQ2AzsMHMWrNnwfkJoZ1+D+6+CngJ+K2Z1TOzbsAPCbWKveaha+o0YKKZNTSzXOCnif2a2VlJJ8o/JySrnWbWx8z6mVkd4EtgK7CzMrFIxSkRSEXdAuxL+AX4CvB/KXrffOBoQjPNr4GHgK9LWPcW9jJGd18M/JhwsncNodBaXcY2TmgOyo2eKxWHu68DzgJ+R/i8nYD/Ja1yA9AL2EBIGo8W2cVvgfFm9oWZ/byYtxhBOG/wEfAYcL27P1+e2MpwGaEwfx94kXAM/x4t6wO8amabCSegr3D394FGwN2E41xA+Lx/qIJYpAIsOmEjUq1E3Q+XunvsNRKRmk41AqkWoiaEg82slpmdDAwFpqc5LJEaQVeKSnXRitAE0ozQVDPG3d9Ib0giNUNsTUNm1pbQXtqScGJokrv/pcg6A4F/Ax9Esx5191/FEpCIiBQrzhrBduBn7j4/6qo2z8yec/e3i6w3x91PizEOEREpRWyJwN3XEHpd4O6bzGwJ4eKSoomgQpo3b+7t27evfIAiIllk3rx569y9RXHLUnKOwMzaAz2BV4tZfLSZvUnoyvbzqPteidq3b8/cuXOrPkgRkRrMzApKWhZ7IjCzBsAjwE/cfWORxfOBXHffbGZDCL1AOhWzj4sJA57Rrl27eAMWEckysXYfja4WfASY4u5FL3rB3Te6++ZoegZQx5KGA05ab5K757l7XosWxdZsRERkL8WWCKLxUe4Flrj7n0pYp1VimGEz6xvFoyFoRURSKM6mof6EcdrfMrMF0bxrCQNR4e53EcZCH2Nm2wljsnzPdamzSMbbtm0bq1evZuvWrWWvLClVr1492rRpQ506dcq9TZy9hl6kjFEW3f12yn/TCxHJEKtXr6Zhw4a0b9+eku8zJKnm7qxfv57Vq1fToUPRO6iWLCuGmJgyBdq3h1q1wvOUKWVtISKl2bp1K82aNVMSyDBmRrNmzSpcU6vxQ0xMmQIXXwxboluaFBSE1wD5+emLS6S6UxLITHvzd6nxNYJx4wqTQMKWLWG+iIhkQSJYubJi80Uk861fv54ePXrQo0cPWrVqRevWrXe9/uabb0rddu7cuVx++eVlvscxxxxTJbHOmjWL007L7FF0anwiKOn6M12XJpI6VX2erlmzZixYsIAFCxYwevRorrzyyl2v99lnH7Zv317itnl5edx6661lvsdLL71UuSCrkRqfCCZOhPr1d59Xv36YLyLxS5ynKygA98LzdFXdaWPkyJGMHj2afv36cfXVV/Paa69x9NFH07NnT4455hjeeecdYPdf6BMmTGDUqFEMHDiQjh077pYgGjRosGv9gQMHcuaZZ9K5c2fy8/NJ9HKfMWMGnTt3pnfv3lx++eVl/vL/7LPPGDZsGN26deOoo45i4cKFAPz3v//dVaPp2bMnmzZtYs2aNRx33HH06NGDLl26MGfOnKo9YElq/MnixAnhceNCc1C7diEJ6ESxSGqUdp6uqv8PV69ezUsvvUROTg4bN25kzpw51K5dm+eff55rr72WRx55ZI9tli5dysyZM9m0aROHHXYYY8aM2aMP/htvvMHixYs56KCD6N+/P//73//Iy8vjkksuYfbs2XTo0IERI0aUGd/1119Pz549mT59Oi+88ALnnXceCxYs4Oabb+aOO+6gf//+bN68mXr16jFp0iS+/e1vM27cOHbs2MGWogexCtX4RADhy6aCXyQ9Unme7qyzziInJweADRs2cP7557N8+XLMjG3bthW7zamnnkrdunWpW7cuBxxwAJ988glt2rTZbZ2+ffvumtejRw9WrFhBgwYN6Nix467++iNGjGDSpEmlxvfiiy/uSkYnnngi69evZ+PGjfTv35+f/vSn5Ofnc8YZZ9CmTRv69OnDqFGj2LZtG8OGDaNHjx6VOTSlqvFNQyKSXqk8T7fffvvtmv7lL3/JCSecwKJFi3jiiSdK7Ftft27dXdM5OTnFnl8ozzqVcc0113DPPffw1Vdf0b9/f5YuXcpxxx3H7Nmzad26NSNHjuT++++v0vdMpkQgIrFK13m6DRs20Lp1awAmT55c5fs/7LDDeP/991mxYgUADz30UJnbDBgwgCnRyZFZs2bRvHlzGjVqxHvvvUfXrl0ZO3Ysffr0YenSpRQUFNCyZUsuuugiLrzwQubPn1/lnyFBiUBEYpWfD5MmQW4umIXnSZPib669+uqr+cUvfkHPnj2r/Bc8wL777stf//pXTj75ZHr37k3Dhg1p3LhxqdtMmDCBefPm0a1bN6655hruu+8+AG655Ra6dOlCt27dqFOnDqeccgqzZs2ie/fu9OzZk4ceeogrrriiyj9DQmz3LI5LXl6e68Y0Ium1ZMkSDj/88HSHkXabN2+mQYMGuDs//vGP6dSpE1deeWW6wyr272Nm89w9r7j1VSMQEdlLd999Nz169ODII49kw4YNXHLJJekOaa9kRa8hEZE4XHnllRlRA6gs1QhERLKcEoGISJZTIhARyXJKBCIiWU6JQESqnRNOOIFnnnlmt3m33HILY8aMKXGbgQMHkuh6PmTIEL744os91pkwYQI333xzqe991113VclVvitWrKBLly6V3k9VUK8hEal2RowYwdSpU/n2t7+9a97UqVO56aabyrX9jBkz9vq9R48evdfbZirVCESk2jnzzDN56qmndt2EZsWKFXz00UcMGDCAMWPGkJeXx5FHHsn1119f7Pbt27dn3bp1AEycOJFDDz2UY489dtdQ1RCuEejTpw/du3fnu9/97q7RP5NrDQsWLOCoo46iW7duDB8+nM8//xwItY+xY8fSt29fDj300DKHkN66dSsXXHABXbt2pWfPnsycOROAxYsX07dvX3r06EG3bt1Yvnw5X375Jaeeeirdu3enS5cu5RraoiyqEYhI5fzkJ7BgQdXus0cPuOWWEhc3bdqUvn378vTTTzN06FCmTp3K2WefjZkxceJEmjZtyo4dOxg0aBALFy6kW7duxe5n3rx5TJ06lQULFrB9+3Z69epF7969ATjjjDO46KKLABg/fjz33nsvl1122W7bn3feedx2220cf/zxXHfdddxwww3cEsW9fft2XnvtNWbMmMENN9zA888/X+LnueOOOzAz3nrrLZYuXcrgwYNZtmwZd911F1dccQX5+fl888037NixgxkzZnDQQQfx1FNPAWFMpcpSjUBEqqVE8xCEZqHE/QCmTZtGr1696NmzJ4sXL+btt98ucR9z5sxh+PDh1K9fn0aNGnH66afvWrZo0SIGDBhA165dmTJlCosXL95t2w0bNvDFF19w/PHHA3D++ecze/bsXcvPOOMMAHr37r1rYLqSvPjii5x77rkAdO7cmdzcXJYtW8bRRx/Nb37zG37/+99TUFDAvvvuS9euXXnuuecYO3Ysc+bMKXN8o/JQjUBEKqeUX+5xGjp0KFdeeSXz589ny5Yt9O7dmw8++ICbb76Z119/nSZNmjBy5MgSh58uy8iRI5k+fTrdu3dn8uTJzJo1q0LbJ4aursyw1d///vfp168fTz31FEOGDOFvf/sbJ554IvPnz2fGjBmMHz+eQYMGcd111+3V/hNUIxCRaqlBgwaccMIJjBo1aldtYOPGjey33340btyYTz75hKeffrrUfRx33HFMnz6dr776ik2bNvHEE0/sWrZp0yYOPPBAtm3btmvo6GSNGzemSZMmu9r/H3jggV21g4pKHp562bJlrFy5ctcw1x07duTyyy9n6NChLFy4kI8++oj69etz7rnnctVVV1XJ8NSqEYhItTVixAiGDx++q4koMWxz586dadu2Lf379y91+169enHOOefQvXt3DjjgAPr06bNr2Y033ki/fv1o0aIF/fr1Y9OmTXtsf9999zF69Gi2bNlCx44d+cc//rFXn+NHP/oRY8aMoWvXrtSuXZvJkydTt25dpk2bxgMPPECdOnVo1aoV1157La+//jpXXXUVtWrVok6dOtx555179Z7JNAy1iFSYhqHObBqGWkREKkSJQEQkyykRiMheqW7Nytlib/4uSgQiUmH16tVj/fr1SgYZxt1Zv3499erVq9B26jUkIhXWpk0bVq9ezdq1a9MdihRRr1492rRpU6FtlAhEpMLq1KlDhw4d0h2GVBE1DYmIZDklAhGRLBdbIjCztmY208zeNrPFZnZFMeuYmd1qZu+a2UIz6xVXPCIiUrw4zxFsB37m7vPNrCEwz8yec/fkoQBPATpFj37AndGziIikSGw1Andf4+7zo+lNwBKgdZHVhgL3e/AKsL+ZHRhXTCIisqeUnCMws/ZAT+DVIotaA6uSXq9mz2SBmV1sZnPNbK66q4mIVK3YE4GZNQAeAX7i7hv3Zh/uPsnd89w9r0WLFlUboIhIlos1EZhZHUISmOLujxazyodA26TXbaJ5IiKSInH2GjLgXmCJu/+phNUeB86Leg8dBWxw9zVxxSQiInuKs9dQf+AHwFtmtiCady3QDsDd7wJmAEOAd4EtwAUxxiMiIsWILRG4+4uAlbGOAz+OKwYRESmbriwWEclySgQiIllOiUBEJMspEYiIZDklAhGRLKdEICKS5ZQIRESynBKBiEiWUyIQEclySgQiIllOiUBEJMspEYiIZDklAhGRLKdEICKS5ZQIRESynBKBiEiWUyIQEclySgQiIllOiUBEJMspEYiIZDklAhGRLKdEICKS5ZQIRESynBKBiEiWUyIQEclySgQiIllOiUBEJMspEYiIZDklAhGRLKdEICKS5ZQIRESynBKBiEiWUyIQEclySgQiIlkutkRgZn83s0/NbFEJywea2QYzWxA9rosrFhERKVntGPc9GbgduL+Udea4+2kxxrC7nTuhlipBIiLJYisV3X028Flc+6+w556DI4+EtWvTHYmISEZJ98/jo83sTTN72syOLGklM7vYzOaa2dy1e1uQt2kDy5fDDTfsbawiIjVSOhPBfCDX3bsDtwHTS1rR3Se5e56757Vo0WLv3u3ww+GSS+Cuu2Dp0r3bh4hIDZS2RODuG919czQ9A6hjZs1jfdMJE2C//eCqq2J9GxGR6iRticDMWpmZRdN9o1jWx/qmLVrAtdfCk0/CCy/E+lYiItVFnN1H/wm8DBxmZqvN7IdmNtrMRkernAksMrM3gVuB77m7xxXPLldcAbm58LOfwY4dsb+diEimi637qLuPKGP57YTupalVrx787ncwYgQ88ACMHJnyEEREMkm6ew2lxznnQL9+oZnoyy/THY2ISFplZyIwgz/9CdasgZtvTnc0IiJplZ2JAOCYY+DMM+Gmm+Cjj9IdjYhI2mRvIoBwrmD7dhg/Pt2RiIikTXYngoMPhssug8mTYcGCdEcjIpIW2Z0IAMaNgyZN4Oc/hxT0XhURyTRKBE2awPXXw3/+AzNmpDsaEZGUK1ciMLP9zKxWNH2omZ1uZnXiDS2FRo+GTp1CrWDbtnRHIyKSUuWtEcwG6plZa+BZ4AeE+w3UDPvsA3/4QxiM7u670x2NiEhKlTcRmLtvAc4A/uruZwElDhtdLZ1+Ohx/fGgm2rAh3dGIiKRMuROBmR0N5ANPRfNy4gkpTczgj3+Edevgt79NdzQiIilT3kTwE+AXwGPuvtjMOgIzY4sqXXr3hh/8AP78Z1ixIt3RiIikRLkSgbv/191Pd/ffRyeN17n75THHlh4TJ0JODvziF+mOREQkJcrba+j/mVkjM9sPWAS8bWY18+4ubduGIaqnToVXX013NCIisStv09AR7r4RGAY8DXQg9Byqma6+Glq2hJ/+VBeZiUiNV95EUCe6bmAY8Li7bwNqbgnZsCHceCO89BL861/pjkZEJFblTQR/A1YA+wGzzSwX2BhXUBlh1Cjo0gXGjuWfk7+mfXuoVQvat4cpU9IdnIhI1SnvyeJb3b21uw/xoAA4IebY0isnJ3Qn/eADFl58OwUFoZWooAAuvljJQERqjvKeLG5sZn8ys7nR44+E2kHNNngws+qdzNhtN9KMdbtmb9kSxqoTEakJyts09HdgE3B29NgI/COuoDLJpVtvpiGbuI5f7TZ/5co0BSQiUsXKmwgOdvfr3f396HED0DHOwDLF5twjuYcLGcOddGLZrvnt2qUxKBGRKlTeRPCVmR2beGFm/YGv4gkps0ycCL/b91dspR43cTUA9euH+SIiNUHtcq43GrjfzBpHrz8Hzo8npMySnw/Qkjsv/QVXfzGOWxuNp+ntvyI/X7dyEJGaoVyJwN3fBLqbWaPo9UYz+wmwMMbYMkZ+PnD2VTDmfS67dyI8sgiGPRCuNxARqeYq9LPW3TdGVxgD/DSGeDJXnTrhXgW33gpPPglHHw3vv5/uqEREKq28TUPFsSqLorowCze7P/xwOPts6NMHHn4YTjwx3ZGJSKb46qswevGKFfDBB4WPlSvhwAPDKMd5eeG5Zct0RwtULhHU3CEmynLSSfDaazB0KAweDH/5C/zoRyFRiEjNtm0brFq1eyGfXOh//PHu69etG4YkaNsWli2DJ54oHMOsTZuQEJKTwwEHpPoTlZ4IzGwTxRf4BuwbS0TVxSGHwMsvhxMIl14Kb74Jt98ebnspIjXHypXw73/DU0/BkiWwejXs3Fm4PCcnFPIdOsCQIeG5Q4dQ+HfoAK1ahfFpEjZtgjfegHnzYO7c8Pzvfxcub9t298TQuze0aBHrRzSvZqNr5uXl+dy5c9MdRqEdO+CXvwx3NTv2WHjkkbRkdBGpIu6wcCFMnx4K6DfeCPM7dw6Fc6KATzzatIHalWlcATZu3DM5LCu8bol27UJCOPdcOOOMvXoLM5vn7nnFLatk9EJODvzmN9C1axiork+f8OXp0SPdkYnUHO6wZg3sv3+4kKeqbd8Oc+YUFv4FBaGp9+ij4aabQjPwoYdW/fsmNGoU7pl+/PGF8zZsKD05VCHVCKrS3LkwbBh8/jlMngxnnZXuiESql+3bQ2+8t98OzTBLloTppUvhyy/DOq1bh0K5U6fwSEx37Bja48tr82Z45plQ8D/5ZPi/rVsXvvWt8H982mkZczJ3F/e9PhdZWo1AiaCqffxxqLq9/HJoMpowYff2QRGBrVvhnXcKC/tEgb98OXzzTeF6bdqEXnqHHx4K/M8/D7+Kly8Pj/XrC9etVQtyc/dMEJ06heac2rXD/+cTT4TC//nn4euvoWnTUOgPGxY6f+xXM8fTVNNQKrVqBTNnwujR4eY2b70FDzwADRqkOzKR9Fm+PPwfLFgQCvwPPig84VqrVvg1f/jhoUBOFPydO4cmk9J89llhUli+vDBJvPJKaHdPqF07JJXEePIdOsCYMaHw79+/8m381ZxqBHFxD91Kf/YzOPLI8AukQ4d0RyWSOtu2hV/fd94Zfn3n5IQC/ogjCgv7xC/9evWq9r3dYe3a3WsPH3wQ3nvYsHDTqSzr7p2WpiEz+ztwGvCpu3cpZrkBfwGGAFuAke4+v6z9VptEkPDss3DOOeGf4OGH4YSafT8fEVatClfh33NPOMHbtm24m9OoUXDQQemOLmuVlgjibLyeDJxcyvJTgE7R42LgzhhjSZ/Bg8PFZy1ahAvRBg2Cu+6CTz9Nd2QiVWfnTnj66dC7pn17+PWvoWdPePzxcPJ3/HglgQwWWyJw99nAZ6WsMhS4P7r15SvA/mZ2YFzxpFWnTqHNcvx4+PDD0DZ54IEhMUyaFKqwInH5+utwMnbGDHj99XDCtap88gn87ndw8MHhYqpXXoGxY0Ph/9RT8J3vZH37e3UQ6zkCM2sPPFlC09CTwO/c/cXo9X+Ase6+R7uPmV1MqDXQrl273gUFBbHFHDv3cAL54YfhoYdC22VOThiv6OyzYfhwaNYs3VFKdbNjR7gCdtmywnbxxHRBwe5XwkL4jh1ySGGvmsT0IYdAkyalv5c7zJ4d2v4ffTScCzjhhNBBYtgwXV2fodLWfbSqEkGyaneOoDSJKxinTQuPd98NSWHQoJAUhg1TUqhJ1q8P3SZzckJPmZKeE9Nmu5/QdA/dH5ML+USh/+67u3e7bNiwsPvkoYeGR4cOofaZWD/xvGpV4dg3EL5zRZNDp06hR9yjj4amzaVLw8VdI0fCJZeEHj6S0TI1EfwNmOXu/4xevwMMdPc1pe2zRiWCZO6ha10iKbz/fqhSn3RSYVIo65daTfXll+HCn5kzQwHXunVob048t2wZhgnPRCtXwr/+Ff6mr75a8e2TE4P77oX9PvuEQjpR0CcX/C1blr9XzNat4fuW6F1TWpIA6NcvNG+efTbsm91DjlUnmZoITgUuJfQa6gfc6u59y9pnjU0Eydxh/vzQfDRtWuj2VqdOqCkMHhyq4d261ewL1datC10Pp08PPa+2bg0X+nz9dbj6NJlZKPiSk0PydOK5WbPUdBlctaqw8H/llTCvV69woWGLFqGZZseO8Jw8Xdaze+iBkyj027YNCSJOyUmioAAGDAgngaXaSVf30X8CA4HmwCfA9UAdAHe/K+o+ejuhZ9EW4IKymoUgSxJBMvcwxsi0afDYY+FXGoTawfHHh6RwwgnhWoXqnhgKCkLB/9hjYdyXnTvDYFvDhoXHgAHhM65dG066f/RReCSmk+cVdwK+Xr3QfzwxqmNeXjhuVVGbWL06FP4PPwwvvRTm9ewZfjWfdVY4mSqSRhpioiZZtQpmzQqPmTNDbQGgefPCxDBwYLhwJtMvmHGHRYtCwT99euEoj126hIJ/+PBQmO7N5/j669CenpwcCgpC89u8eWFALwhjy3Tvvvuwv0ccUb7k8OGHYbTZadPgf/8L87p3Lyz8O3WqeNwiMVEiqMkKCgqTwsyZoU0awlDYAwcWJobDDsuMxLBjRxiHafr08HjvvcJRHocPDwngkEPijWHnzvC+yaM6zp9fOCRBvXrFJ4fatUNCeeSR8Mv/xRdDMuvWLRT8Z50VjrNIBlIiyBbu4U5JiaQwc2b41QrhuoUBA0J7edOm4dGs2Z7PDRrsfcL4+uvQR/2zzwqfk6dXrQp92T/9NJzoHDQoFPynnx56pKTTzp2h2S05OcybF0aohHBStEOH0B/fPdRaEr/81WNGqgElgmzlHn75zpwZag0vvxzazhOFW3Fq1y45STRqFO6uVFJBv2VLyfs1C/sYNCj88j/llLIHFEu3nTvDSdJEYliyBI46KhT+RxyR7uhEKkSJQHaX+OW+fn1hYZ6YLm3eli3hl3GTJoW1isR0WfMaNYq/h4uIlEjDUKfZlCkwblxovm/XDiZODLc6Tpu6dUNTTEWbY7Zv13ABIjWQ/qtjNmVKGHgx0WpSUBBeQ5qTwd5QEhCpkap5x/PMN27cnk3nW7aE+SIimUCJIGaJ3pzlnS8ikmpKBDFr165i80VEUk2JIGYTJ0L9+rvPq18/zBcRyQRKBDHLzw/3nsnNDV3pc3PD62p3olhEaix1A0mB/HwV/CKSuVQjEBHJckoEIiJZTolARCTLKRGIiGQ5JQIRkSynRCAikuWUCEREspwSgYhIllMiEBHJckoEIiJZTolARCTLKRFUA1OmQPv2UKtWeJ4yJd0RiUhNokHnMlyNutWliGQk1QgynG51KSJxUyLIcLrVpYjETYkgw+lWlyISNyWCDKdbXYpI3JQIMpxudSkicVOvoWpAt7oUkTipRiAikuWUCEREspwSgYhIlos1EZjZyWb2jpm9a2bXFLN8pJmtNbMF0ePCOOMREZE9xXay2MxygDuAbwGrgdfN7HF3f7vIqg+5+6VxxSEiIqWLs0bQF3jX3d9392+AqcDQGN9PSqBB60SkNHEmgtbAqqTXq6N5RX3XzBaa2b/MrG1xOzKzi81srpnNXbt2bRyx1liJQesKCsC9cNA6JQMRSUj3yeIngPbu3g14DrivuJXcfZK757l7XosWLVIaYHWnQetEpCxxJoIPgeRf+G2iebu4+3p3/zp6eQ/QO8Z4spIGrRORssSZCF4HOplZBzPbB/ge8HjyCmZ2YNLL04ElMcaTlTRonYiUJbZE4O7bgUuBZwgF/DR3X2xmvzKz06PVLjezxWb2JnA5MDKueLKVBq0TkbKYu6c7hgrJy8vzuXPnpjuMamXKlHBOYOXKUBOYOFFjF4lkGzOb5+55xS3ToHNZQIPWiUhp0t1rSERE0kyJQEQkyykRSLno6mSRmkvnCKRMiauTExemJa5OBp17EKkJVCOQMunqZJGaTYlAyqSrk0VqNiUCKZOuThap2ZQIpEy6OlmkZlMikDLl58OkSZCbC2bhedIknSgWqSmUCKRc8vNhxQrYuTM8VzQJqPupSOZS91GJnbqfimQ21Qgkdup+KpLZlAgkdup+KpLZlAgkdlXR/VTnGETio0Qgsats99PEOYaCAnAvPMegZCBSNZQIJHaV7X6qcwwi8VIikJSoTPfTqjjHoKYlkZIpEUjGq+w5BjUtiZROiUAyXmXPMVRF05JqFFKTKRFIxqvsOYbKNi2pRiE1nRKBVAuVOcdQ2aYl1SikplMikBqvsk1LmVCjUCKROCkRSI1X2aaldNcoMiGRpHt7iZm7V6tH7969XSSVHnzQvX5991AMh0f9+mF+eZjtvm3iYVa+7XNzi98+Nzc18ad7+8Q+cnPDMcvNrdi2VbF9TQDM9RLK1bQX7BV9KBFIOlSmIKlsQZ7uRJLu7ZWIqiaRKRGIpFFlC6J0J5J0b5/tiagqEpm7EoFI2lXmF126E0m6t8/2RFTZ7ROUCESquXQmknRvn+6CNN2JqLLbJygRiGS5dLdRV+dElu5EpBqBEoGIeHYnIp0jUCIQkQxQnWtUCaUlAgvLq4+8vDyfO3duusMQEalWzGyeu+cVt0xXFouIZLlYE4GZnWxm75jZu2Z2TTHL65rZQ9HyV82sfZzxiIjInmJLBGaWA9wBnAIcAYwwsyOKrPZD4HN3PwT4M/D7uOIREZHixVkj6Au86+7vu/s3wFRgaJF1hgL3RdP/AgaZmcUYk4iIFBFnImgNrEp6vTqaV+w67r4d2AA0K7ojM7vYzOaa2dy1a9fGFK6ISHaqne4AysPdJwGTAMxsrZkVpDmkkjQH1qU7iFJkenyQ+TEqvspRfJVTmfhyS1oQZyL4EGib9LpNNK+4dVabWW2gMbC+tJ26e4uqDLIqmdnckrpnZYJMjw8yP0bFVzmKr3Liii/OpqHXgU5m1sHM9gG+BzxeZJ3HgfOj6TOBF7y6XdggIlLNxVYjcPftZnYp8AyQA/zd3Reb2a8IV7g9DtwLPGBm7wKfEZKFiIikUKznCNx9BjCjyLzrkqa3AmfFGUOKTUp3AGXI9Pgg82NUfJWj+Conlviq3RATIiJStTTEhIhIllMiEBHJckoEFWRmbc1sppm9bWaLzeyKYtYZaGYbzGxB9LiuuH3FGOMKM3sreu89hmq14NZojKeFZtYrhbEdlnRcFpjZRjP7SZF1Un78zOzvZvapmS1KmtfUzJ4zs+XRc5MStj0/Wme5mZ1f3DoxxfcHM1sa/Q0fM7P9S9i21O9DjPFNMLMPk/6OQ0rYttQxyWKM76Gk2FaY2YISto31+JVUpqT0+1fS+NR6lHADBzgQ6BVNNwSWAUcUWWcg8GQaY1wBNC9l+RDgacCAo4BX0xRnDvAxkJvu4wccB/QCFiXNuwm4Jpq+Bvh9Mds1Bd6PnptE001SFN9goHY0/fvi4ivP9yHG+CYAPy/Hd+A9oCOwD/Bm0f+nuOIrsvyPwHXpOH4llSmp/P6pRlBB7r7G3edH05uAJew5dEamGwrc78ErwP5mdmAa4hgEvOfuab9S3N1nE7owJ0seC+s+YFgxm34beM7dP3P3z4HngJNTEZ+7P+thaBaAVwgXbaZFCcevPMozJlmllRZfNL7Z2cA/q/p9y6OUMiVl3z8lgkqIhs3uCbxazOKjzexNM3vazI5MbWQ48KyZzTOzi4tZXp5xoFLhe5T8z5fO45fQ0t3XRNMfAy2LWSdTjuUoQi2vOGV9H+J0adR09fcSmjYy4fgNAD5x9+UlLE/Z8StSpqTs+6dEsJfMrAHwCPATd99YZPF8QnNHd+A2YHqKwzvW3XsRhgD/sZkdl+L3L1N0tfnpwMPFLE738duDh3p4Rva1NrNxwHZgSgmrpOv7cCdwMNADWENofslEIyi9NpCS41damRL390+JYC+YWR3CH2yKuz9adLm7b3T3zdH0DKCOmTVPVXzu/mH0/CnwGKH6naw840DF7RRgvrt/UnRBuo9fkk8STWbR86fFrJPWY2lmI4HTgPyosNhDOb4PsXD3T9x9h7vvBO4u4X3TffxqA2cAD5W0TiqOXwllSsq+f0oEFRS1J94LLHH3P5WwTqtoPcysL+E4lzqYXhXGt5+ZNUxME04oLiqy2uPAeRYcBWxIqoKmSom/wtJ5/IpIHgvrfODfxazzDDDYzJpETR+Do3mxM7OTgauB0919SwnrlOf7EFd8yeedhpfwvuUZkyxOJwFL3X11cQtTcfxKKVNS9/2L60x4TX0AxxKqaAuBBdFjCDAaGB2tcymwmNAD4hXgmBTG1zF63zejGMZF85PjM8Ld494D3gLyUnwM9yMU7I2T5qX1+BGS0hpgG6Gd9YeEe2P8B1gOPA80jdbNA+5J2nYU8G70uCCF8b1LaB9OfA/vitY9CJhR2vchRfE9EH2/FhIKtQOLxhe9HkLoKfNeKuOL5k9OfO+S1k3p8SulTEnZ909DTIiIZDk1DYmIZDklAhGRLKdEICKS5ZQIRESynBKBiEiWUyIQiZjZDtt9ZNQqGwnTzNonj3wpkklivVWlSDXzlbv3SHcQIqmmGoFIGaLx6G+KxqR/zcwOiea3N7MXokHV/mNm7aL5LS3cH+DN6HFMtKscM7s7GnP+WTPbN1r/8mgs+oVmNjVNH1OymBKBSKF9izQNnZO0bIO7dwVuB26J5t0G3Ofu3QgDvt0azb8V+K+HQfN6Ea5IBegE3OHuRwJfAN+N5l8D9Iz2MzqejyZSMl1ZLBIxs83u3qCY+SuAE939/WhwsI/dvZmZrSMMm7Atmr/G3Zub2Vqgjbt/nbSP9oRx4ztFr8cCddz912b2f8Bmwiir0z0acE8kVVQjECkfL2G6Ir5Omt5B4Tm6UwljP/UCXo9GxBRJGSUCkfI5J+n55Wj6JcJomQD5wJxo+j/AGAAzyzGzxiXt1MxqAW3dfSYwFmgM7FErEYmTfnmIFNrXdr+B+f+5e6ILaRMzW0j4VT8imncZ8A8zuwpYC1wQzb8CmGRmPyT88h9DGPmyODnAg1GyMOBWd/+iij6PSLnoHIFIGaJzBHnuvi7dsYjEQU1DIiJZTjUCEZEspxqBiEiWUyIQEclySgQiIllOiUBEJMspEYiIZLn/D9tz7ss8r82+AAAAAElFTkSuQmCC\n",
            "text/plain": [
              "<Figure size 432x288 with 1 Axes>"
            ]
          },
          "metadata": {
            "needs_background": "light"
          },
          "output_type": "display_data"
        },
        {
          "name": "stdout",
          "output_type": "stream",
          "text": [
            "0.9088198870420456 0.7992000371217728\n"
          ]
        },
        {
          "data": {
            "image/png": "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\n",
            "text/plain": [
              "<Figure size 432x288 with 1 Axes>"
            ]
          },
          "metadata": {
            "needs_background": "light"
          },
          "output_type": "display_data"
        }
      ],
      "source": [
        "history_dict = history.history\n",
        "print(history_dict.keys())\n",
        "\n",
        "loss_plot()\n",
        "acc_plot()"
      ]
    },
    {
      "cell_type": "markdown",
      "id": "f9f46284-bf54-4e36-963a-e80cc93b24bd",
      "metadata": {
        "id": "f9f46284-bf54-4e36-963a-e80cc93b24bd"
      },
      "source": [
        "#### Retrian the model"
      ]
    },
    {
      "cell_type": "code",
      "execution_count": null,
      "id": "9600fb75-318e-4ddb-a076-8bca1f0160ca",
      "metadata": {
        "id": "9600fb75-318e-4ddb-a076-8bca1f0160ca",
        "outputId": "09a698b5-b175-4c7f-8dd5-8623a666c5d0"
      },
      "outputs": [
        {
          "name": "stdout",
          "output_type": "stream",
          "text": [
            "Epoch 1/10\n"
          ]
        },
        {
          "name": "stderr",
          "output_type": "stream",
          "text": [
            "2022-02-15 11:43:24.216865: I tensorflow/core/grappler/optimizers/custom_graph_optimizer_registry.cc:112] Plugin optimizer for device_type GPU is enabled.\n"
          ]
        },
        {
          "name": "stdout",
          "output_type": "stream",
          "text": [
            "16/16 [==============================] - 1s 25ms/step - loss: 2.4809 - accuracy: 0.5306 - val_loss: 1.5493 - val_accuracy: 0.6790\n",
            "Epoch 2/10\n",
            " 5/16 [========>.....................] - ETA: 0s - loss: 1.3817 - accuracy: 0.7004"
          ]
        },
        {
          "name": "stderr",
          "output_type": "stream",
          "text": [
            "2022-02-15 11:43:24.765708: I tensorflow/core/grappler/optimizers/custom_graph_optimizer_registry.cc:112] Plugin optimizer for device_type GPU is enabled.\n"
          ]
        },
        {
          "name": "stdout",
          "output_type": "stream",
          "text": [
            "16/16 [==============================] - 0s 17ms/step - loss: 1.3039 - accuracy: 0.7199 - val_loss: 1.2418 - val_accuracy: 0.7360\n",
            "Epoch 3/10\n",
            "16/16 [==============================] - 0s 16ms/step - loss: 0.9753 - accuracy: 0.7863 - val_loss: 1.1178 - val_accuracy: 0.7570\n",
            "Epoch 4/10\n",
            "16/16 [==============================] - 0s 16ms/step - loss: 0.7404 - accuracy: 0.8351 - val_loss: 1.0833 - val_accuracy: 0.7530\n",
            "Epoch 5/10\n",
            "16/16 [==============================] - 0s 16ms/step - loss: 0.5790 - accuracy: 0.8726 - val_loss: 0.9687 - val_accuracy: 0.7930\n",
            "Epoch 6/10\n",
            "16/16 [==============================] - 0s 16ms/step - loss: 0.4278 - accuracy: 0.9090 - val_loss: 1.0146 - val_accuracy: 0.7890\n",
            "Epoch 7/10\n",
            "16/16 [==============================] - 0s 16ms/step - loss: 0.3487 - accuracy: 0.9247 - val_loss: 0.9423 - val_accuracy: 0.8070\n",
            "Epoch 8/10\n",
            "16/16 [==============================] - 0s 16ms/step - loss: 0.2674 - accuracy: 0.9409 - val_loss: 1.0132 - val_accuracy: 0.8050\n",
            "Epoch 9/10\n",
            "16/16 [==============================] - 0s 16ms/step - loss: 0.2338 - accuracy: 0.9466 - val_loss: 1.1059 - val_accuracy: 0.7950\n",
            "Epoch 10/10\n",
            "16/16 [==============================] - 0s 16ms/step - loss: 0.1904 - accuracy: 0.9508 - val_loss: 1.0072 - val_accuracy: 0.8100\n",
            "71/71 [==============================] - 1s 9ms/step - loss: 1.1264 - accuracy: 0.7867\n"
          ]
        }
      ],
      "source": [
        "model = keras.Sequential([\n",
        "    Dense(128, activation='relu'),\n",
        "    Dense(64, activation='relu'),\n",
        "    Dense(64, activation='relu'),\n",
        "    Dense(46, activation='softmax'),\n",
        "])\n",
        "\n",
        "model.compile(\n",
        "    optimizer=\"rmsprop\",\n",
        "     loss=\"categorical_crossentropy\",\n",
        "     metrics=[\"accuracy\"])\n",
        "\n",
        "# train model\n",
        "history = model.fit(\n",
        "            partial_X_train,\n",
        "            partial_y_train,\n",
        "            epochs= 10,\n",
        "            batch_size=512,\n",
        "            validation_data=(val_train, val_labels)\n",
        ")\n",
        "\n",
        "result = model.evaluate(X_test, y_test)"
      ]
    },
    {
      "cell_type": "code",
      "execution_count": null,
      "id": "90d04dfe-3b85-4722-8fa9-05c246a400e2",
      "metadata": {
        "id": "90d04dfe-3b85-4722-8fa9-05c246a400e2",
        "outputId": "03d24068-99ad-4cc1-8831-1a3c905e84a5"
      },
      "outputs": [
        {
          "name": "stdout",
          "output_type": "stream",
          "text": [
            "dict_keys(['loss', 'accuracy', 'val_loss', 'val_accuracy'])\n",
            "0.7547584384679794 1.104403704404831\n"
          ]
        },
        {
          "data": {
            "image/png": "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\n",
            "text/plain": [
              "<Figure size 432x288 with 1 Axes>"
            ]
          },
          "metadata": {
            "needs_background": "light"
          },
          "output_type": "display_data"
        },
        {
          "name": "stdout",
          "output_type": "stream",
          "text": [
            "0.8416437447071076 0.772400039434433\n"
          ]
        },
        {
          "data": {
            "image/png": "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\n",
            "text/plain": [
              "<Figure size 432x288 with 1 Axes>"
            ]
          },
          "metadata": {
            "needs_background": "light"
          },
          "output_type": "display_data"
        }
      ],
      "source": [
        "history_dict = history.history\n",
        "print(history_dict.keys())\n",
        "\n",
        "loss_plot()\n",
        "acc_plot()"
      ]
    },
    {
      "cell_type": "markdown",
      "id": "ddcffbac-1275-4f0e-bbb6-754da1b1c194",
      "metadata": {
        "id": "ddcffbac-1275-4f0e-bbb6-754da1b1c194"
      },
      "source": [
        "#### Predicting the test data"
      ]
    },
    {
      "cell_type": "code",
      "execution_count": null,
      "id": "b2ddf0a3-2552-4d77-800a-1fae6fe9f571",
      "metadata": {
        "id": "b2ddf0a3-2552-4d77-800a-1fae6fe9f571",
        "outputId": "714146c4-3291-43cb-d7c5-7e2a3a586ef2"
      },
      "outputs": [
        {
          "name": "stderr",
          "output_type": "stream",
          "text": [
            "2022-02-15 11:43:28.106734: I tensorflow/core/grappler/optimizers/custom_graph_optimizer_registry.cc:112] Plugin optimizer for device_type GPU is enabled.\n"
          ]
        }
      ],
      "source": [
        "predictions = model.predict(X_test)\n",
        "def check_prediction(index):\n",
        "    print(f'Ground truth of sample {index} : {np.argmax(y_test[index])} ,\\\n",
        "    Prediction of sample {index} : {np.argmax(predictions[index])}')"
      ]
    },
    {
      "cell_type": "code",
      "execution_count": null,
      "id": "b6450b4f-c034-469c-9dc8-4ffab72da8cb",
      "metadata": {
        "id": "b6450b4f-c034-469c-9dc8-4ffab72da8cb",
        "outputId": "4df995e0-b427-40e2-ef64-0288fec65f5c"
      },
      "outputs": [
        {
          "name": "stdout",
          "output_type": "stream",
          "text": [
            "Ground truth of sample 19 : 3 ,    Prediction of sample 19 : 3\n"
          ]
        }
      ],
      "source": [
        "check_prediction(19)"
      ]
    },
    {
      "cell_type": "markdown",
      "id": "85254de7-26ea-4ac2-900e-744bc0694105",
      "metadata": {
        "id": "85254de7-26ea-4ac2-900e-744bc0694105"
      },
      "source": [
        "#### Different way to handle the labels and the loss\n",
        "We also can use a sparse categorial as a labels"
      ]
    },
    {
      "cell_type": "code",
      "execution_count": null,
      "id": "c6ba10af-8d4d-4d27-a525-25d76a08ad6b",
      "metadata": {
        "id": "c6ba10af-8d4d-4d27-a525-25d76a08ad6b",
        "outputId": "8c677579-d59e-4334-b5bb-9e1ce9d7499e"
      },
      "outputs": [
        {
          "data": {
            "text/plain": [
              "'\\nmodel.compile(\\n    optimizer=\\'rmsprop\\',\\n    loss=\"sparse_categorical_crossentropy\",\\n    metrics=[\"accuracy\"]\\n)\\n'"
            ]
          },
          "execution_count": 32,
          "metadata": {},
          "output_type": "execute_result"
        }
      ],
      "source": [
        "sparse_y_train = np.array(y_train)\n",
        "sparse_y_test = np.array(y_test)\n",
        "\n",
        "\"\"\"\n",
        "model.compile(\n",
        "    optimizer='rmsprop',\n",
        "    loss=\"sparse_categorical_crossentropy\",\n",
        "    metrics=[\"accuracy\"]\n",
        ")\n",
        "\"\"\""
      ]
    },
    {
      "cell_type": "markdown",
      "id": "f48ef7db-396d-4dc7-a5de-ea0e5941f94d",
      "metadata": {
        "id": "f48ef7db-396d-4dc7-a5de-ea0e5941f94d"
      },
      "source": [
        "#### The bottleneck architecture\n",
        "While try to compress the units so much it's may drop the performance dramatically. So we should avoid intermediate layers"
      ]
    },
    {
      "cell_type": "code",
      "execution_count": null,
      "id": "f4ed4403-62b0-4dc4-907f-dc952a7aa996",
      "metadata": {
        "id": "f4ed4403-62b0-4dc4-907f-dc952a7aa996",
        "outputId": "c5999ac0-7333-4dce-9880-02cdd309881b"
      },
      "outputs": [
        {
          "name": "stdout",
          "output_type": "stream",
          "text": [
            "Epoch 1/20\n"
          ]
        },
        {
          "name": "stderr",
          "output_type": "stream",
          "text": [
            "2022-02-15 11:43:28.997711: I tensorflow/core/grappler/optimizers/custom_graph_optimizer_registry.cc:112] Plugin optimizer for device_type GPU is enabled.\n"
          ]
        },
        {
          "name": "stdout",
          "output_type": "stream",
          "text": [
            "63/63 [==============================] - 2s 16ms/step - loss: 1.9043 - accuracy: 0.5953 - val_loss: 1.3493 - val_accuracy: 0.6940\n",
            "Epoch 2/20\n",
            " 5/63 [=>............................] - ETA: 0s - loss: 1.2475 - accuracy: 0.7047"
          ]
        },
        {
          "name": "stderr",
          "output_type": "stream",
          "text": [
            "2022-02-15 11:43:30.124402: I tensorflow/core/grappler/optimizers/custom_graph_optimizer_registry.cc:112] Plugin optimizer for device_type GPU is enabled.\n"
          ]
        },
        {
          "name": "stdout",
          "output_type": "stream",
          "text": [
            "63/63 [==============================] - 1s 13ms/step - loss: 1.0617 - accuracy: 0.7456 - val_loss: 1.0737 - val_accuracy: 0.7500\n",
            "Epoch 3/20\n",
            "63/63 [==============================] - 1s 14ms/step - loss: 0.7496 - accuracy: 0.8256 - val_loss: 1.0022 - val_accuracy: 0.7740\n",
            "Epoch 4/20\n",
            "63/63 [==============================] - 1s 14ms/step - loss: 0.5307 - accuracy: 0.8766 - val_loss: 0.9786 - val_accuracy: 0.7960\n",
            "Epoch 5/20\n",
            "63/63 [==============================] - 1s 14ms/step - loss: 0.3778 - accuracy: 0.9151 - val_loss: 1.0578 - val_accuracy: 0.7920\n",
            "Epoch 6/20\n",
            "63/63 [==============================] - 1s 14ms/step - loss: 0.2943 - accuracy: 0.9344 - val_loss: 1.1197 - val_accuracy: 0.7830\n",
            "Epoch 7/20\n",
            "63/63 [==============================] - 1s 14ms/step - loss: 0.2333 - accuracy: 0.9455 - val_loss: 1.1777 - val_accuracy: 0.7790\n",
            "Epoch 8/20\n",
            "63/63 [==============================] - 1s 14ms/step - loss: 0.2020 - accuracy: 0.9500 - val_loss: 1.1890 - val_accuracy: 0.7790\n",
            "Epoch 9/20\n",
            "63/63 [==============================] - 1s 14ms/step - loss: 0.1719 - accuracy: 0.9526 - val_loss: 1.3491 - val_accuracy: 0.7640\n",
            "Epoch 10/20\n",
            "63/63 [==============================] - 1s 14ms/step - loss: 0.1640 - accuracy: 0.9529 - val_loss: 1.1703 - val_accuracy: 0.7920\n",
            "Epoch 11/20\n",
            "63/63 [==============================] - 1s 14ms/step - loss: 0.1501 - accuracy: 0.9557 - val_loss: 1.2392 - val_accuracy: 0.7940\n",
            "Epoch 12/20\n",
            "63/63 [==============================] - 1s 14ms/step - loss: 0.1437 - accuracy: 0.9549 - val_loss: 1.2396 - val_accuracy: 0.8000\n",
            "Epoch 13/20\n",
            "63/63 [==============================] - 1s 14ms/step - loss: 0.1339 - accuracy: 0.9536 - val_loss: 1.2141 - val_accuracy: 0.7870\n",
            "Epoch 14/20\n",
            "63/63 [==============================] - 1s 14ms/step - loss: 0.1246 - accuracy: 0.9557 - val_loss: 1.3211 - val_accuracy: 0.7900\n",
            "Epoch 15/20\n",
            "63/63 [==============================] - 1s 14ms/step - loss: 0.1215 - accuracy: 0.9540 - val_loss: 1.3187 - val_accuracy: 0.7980\n",
            "Epoch 16/20\n",
            "63/63 [==============================] - 1s 14ms/step - loss: 0.1156 - accuracy: 0.9579 - val_loss: 1.4574 - val_accuracy: 0.7760\n",
            "Epoch 17/20\n",
            "63/63 [==============================] - 1s 14ms/step - loss: 0.1114 - accuracy: 0.9572 - val_loss: 1.4423 - val_accuracy: 0.7740\n",
            "Epoch 18/20\n",
            "63/63 [==============================] - 1s 14ms/step - loss: 0.1088 - accuracy: 0.9582 - val_loss: 1.5323 - val_accuracy: 0.7860\n",
            "Epoch 19/20\n",
            "63/63 [==============================] - 1s 14ms/step - loss: 0.1078 - accuracy: 0.9577 - val_loss: 1.5145 - val_accuracy: 0.7690\n",
            "Epoch 20/20\n",
            "63/63 [==============================] - 1s 14ms/step - loss: 0.1019 - accuracy: 0.9572 - val_loss: 1.6333 - val_accuracy: 0.7900\n"
          ]
        },
        {
          "data": {
            "text/plain": [
              "<keras.callbacks.History at 0x13cf7f4f0>"
            ]
          },
          "execution_count": 33,
          "metadata": {},
          "output_type": "execute_result"
        }
      ],
      "source": [
        "model = keras.Sequential([\n",
        " Dense(64, activation=\"relu\"),\n",
        " Dense(128, activation=\"relu\"),\n",
        " Dense(32, activation=\"relu\"),\n",
        " Dense(46, activation=\"softmax\")\n",
        "])\n",
        "\n",
        "model.compile(\n",
        "     optimizer=\"rmsprop\",\n",
        "     loss=\"categorical_crossentropy\",\n",
        "     metrics=[\"accuracy\"])\n",
        "\n",
        "model.fit(\n",
        "     partial_X_train,\n",
        "     partial_y_train,\n",
        "     epochs=20,\n",
        "     batch_size=128,\n",
        "     validation_data=(val_train, val_labels))"
      ]
    },
    {
      "cell_type": "code",
      "execution_count": null,
      "id": "505309eb-4f4a-42da-8762-1d254073bb67",
      "metadata": {
        "id": "505309eb-4f4a-42da-8762-1d254073bb67",
        "outputId": "98044cd1-7c8c-4864-b88e-6213eda61eb8"
      },
      "outputs": [
        {
          "name": "stdout",
          "output_type": "stream",
          "text": [
            "dict_keys(['loss', 'accuracy', 'val_loss', 'val_accuracy'])\n",
            "0.7547584384679794 1.104403704404831\n"
          ]
        },
        {
          "data": {
            "image/png": "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\n",
            "text/plain": [
              "<Figure size 432x288 with 1 Axes>"
            ]
          },
          "metadata": {
            "needs_background": "light"
          },
          "output_type": "display_data"
        },
        {
          "name": "stdout",
          "output_type": "stream",
          "text": [
            "0.8416437447071076 0.772400039434433\n"
          ]
        },
        {
          "data": {
            "image/png": "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\n",
            "text/plain": [
              "<Figure size 432x288 with 1 Axes>"
            ]
          },
          "metadata": {
            "needs_background": "light"
          },
          "output_type": "display_data"
        }
      ],
      "source": [
        "history_dict = history.history\n",
        "print(history_dict.keys())\n",
        "\n",
        "loss_plot()\n",
        "acc_plot()"
      ]
    },
    {
      "cell_type": "markdown",
      "id": "6e09ed04-b58a-4844-9c15-923b28a439fb",
      "metadata": {
        "id": "6e09ed04-b58a-4844-9c15-923b28a439fb"
      },
      "source": [
        "### The Boston housing price dataset\n",
        "Predict the median price of homes in given Boston suburb in the mid 1970."
      ]
    },
    {
      "cell_type": "code",
      "execution_count": null,
      "id": "17c86606-5cec-43a0-ae22-eb0038fb11ac",
      "metadata": {
        "id": "17c86606-5cec-43a0-ae22-eb0038fb11ac"
      },
      "outputs": [],
      "source": [
        "from keras.datasets import boston_housing\n",
        "(train_data, train_labels), (test_data, test_labels) = boston_housing.load_data()"
      ]
    },
    {
      "cell_type": "code",
      "execution_count": null,
      "id": "54e65e2f-94fb-4da3-8ab0-b287691122c7",
      "metadata": {
        "id": "54e65e2f-94fb-4da3-8ab0-b287691122c7",
        "outputId": "7ee92c23-bda6-4b78-b4d6-ad64aa9e80a0"
      },
      "outputs": [
        {
          "name": "stdout",
          "output_type": "stream",
          "text": [
            "(404, 13)\n",
            "(102, 13)\n"
          ]
        }
      ],
      "source": [
        "# preview train shape\n",
        "print(train_data.shape)\n",
        "\n",
        "# preview test shape\n",
        "print(test_data.shape)"
      ]
    },
    {
      "cell_type": "code",
      "execution_count": null,
      "id": "73b557cf-47f4-4fd9-9ead-d2dbb452496e",
      "metadata": {
        "id": "73b557cf-47f4-4fd9-9ead-d2dbb452496e",
        "outputId": "26ff384c-cc2f-4071-bcc5-4b425535f06e"
      },
      "outputs": [
        {
          "name": "stdout",
          "output_type": "stream",
          "text": [
            "[15.2 42.3 50.  21.1 17.7]\n"
          ]
        }
      ],
      "source": [
        "# print train labels\n",
        "print(train_labels[:5])"
      ]
    },
    {
      "cell_type": "markdown",
      "id": "9f1c5ac0-3b34-4ab4-80cc-e833311dab9b",
      "metadata": {
        "id": "9f1c5ac0-3b34-4ab4-80cc-e833311dab9b"
      },
      "source": [
        "Boston house price range from 10,000 and 50,000\n",
        "#### Prepare data "
      ]
    },
    {
      "cell_type": "code",
      "execution_count": null,
      "id": "ee8c1f94-2993-49d8-bae4-8cbccd283941",
      "metadata": {
        "id": "ee8c1f94-2993-49d8-bae4-8cbccd283941"
      },
      "outputs": [],
      "source": [
        "# normalizing the data\n",
        "train_data_copy = train_data.copy()\n",
        "test_data_copy = test_data.copy()\n",
        "\n",
        "# norm train data\n",
        "mean = np.mean(train_data, axis=0)\n",
        "train_data_copy -= mean\n",
        "std = train_data_copy.std(axis=0)\n",
        "train_data_copy /= std\n",
        "\n",
        "# norm train data\n",
        "test_data_copy -= mean\n",
        "test_data_copy /= std"
      ]
    },
    {
      "cell_type": "markdown",
      "id": "b3cffb8b-ec22-4f16-ae63-40be02547db7",
      "metadata": {
        "id": "b3cffb8b-ec22-4f16-ae63-40be02547db7"
      },
      "source": [
        "#### Build a model"
      ]
    },
    {
      "cell_type": "code",
      "execution_count": null,
      "id": "7d1d15df-09fa-4258-b893-744821be5a10",
      "metadata": {
        "id": "7d1d15df-09fa-4258-b893-744821be5a10"
      },
      "outputs": [],
      "source": [
        "from keras import Sequential "
      ]
    },
    {
      "cell_type": "code",
      "execution_count": null,
      "id": "530e3a31-8c0d-42f3-91cd-29f3f58511de",
      "metadata": {
        "id": "530e3a31-8c0d-42f3-91cd-29f3f58511de"
      },
      "outputs": [],
      "source": [
        "# sequential model\n",
        "def build_model():\n",
        "        # build a sequential model\n",
        "    model = Sequential([\n",
        "        Dense(64, activation='relu'),\n",
        "        Dense(32, activation='relu'),\n",
        "        Dense(1)\n",
        "        ])\n",
        "    \n",
        "        # compile choose optimizer, loss function, metrics\n",
        "    model.compile(\n",
        "        optimizer=\"rmsprop\",\n",
        "        loss=\"mse\",\n",
        "        metrics=[\"mae\"]\n",
        "    )\n",
        "    return model"
      ]
    },
    {
      "cell_type": "markdown",
      "id": "6d0b77b7-f860-4035-8466-b45088b54e17",
      "metadata": {
        "id": "6d0b77b7-f860-4035-8466-b45088b54e17"
      },
      "source": [
        "When try to predict a continuous value (Regression problem), the model ends with one single layer with no activation function.\\\n",
        "\n",
        "- *loss function* **MSE** : (mean square error) the square of different between the target (ground-truth) and the prediction.\n",
        "- *metric* **MAE** : (mean absolute error) it's the absolute value of the different between the target and the prediction."
      ]
    },
    {
      "cell_type": "code",
      "execution_count": null,
      "id": "c2dbc798-c671-43e5-a077-9a8d1933e231",
      "metadata": {
        "id": "c2dbc798-c671-43e5-a077-9a8d1933e231",
        "outputId": "505b53cc-6326-465d-f227-219c061d8737"
      },
      "outputs": [
        {
          "name": "stdout",
          "output_type": "stream",
          "text": [
            "Processing fold #0\n"
          ]
        },
        {
          "name": "stderr",
          "output_type": "stream",
          "text": [
            "2022-02-15 11:44:44.728898: I tensorflow/core/grappler/optimizers/custom_graph_optimizer_registry.cc:112] Plugin optimizer for device_type GPU is enabled.\n",
            "2022-02-15 11:45:36.784258: I tensorflow/core/grappler/optimizers/custom_graph_optimizer_registry.cc:112] Plugin optimizer for device_type GPU is enabled.\n"
          ]
        },
        {
          "name": "stdout",
          "output_type": "stream",
          "text": [
            "Validation MSE: 13.571942329406738, Validation MAE: 2.3943347930908203\n",
            "-------------------------------\n",
            "Processing fold #1\n"
          ]
        },
        {
          "name": "stderr",
          "output_type": "stream",
          "text": [
            "2022-02-15 11:45:37.085649: I tensorflow/core/grappler/optimizers/custom_graph_optimizer_registry.cc:112] Plugin optimizer for device_type GPU is enabled.\n",
            "2022-02-15 11:46:27.464231: I tensorflow/core/grappler/optimizers/custom_graph_optimizer_registry.cc:112] Plugin optimizer for device_type GPU is enabled.\n"
          ]
        },
        {
          "name": "stdout",
          "output_type": "stream",
          "text": [
            "Validation MSE: 15.278533935546875, Validation MAE: 2.67110538482666\n",
            "-------------------------------\n",
            "Processing fold #2\n"
          ]
        },
        {
          "name": "stderr",
          "output_type": "stream",
          "text": [
            "2022-02-15 11:46:27.992628: I tensorflow/core/grappler/optimizers/custom_graph_optimizer_registry.cc:112] Plugin optimizer for device_type GPU is enabled.\n",
            "2022-02-15 11:47:17.636790: I tensorflow/core/grappler/optimizers/custom_graph_optimizer_registry.cc:112] Plugin optimizer for device_type GPU is enabled.\n"
          ]
        },
        {
          "name": "stdout",
          "output_type": "stream",
          "text": [
            "Validation MSE: 13.443778991699219, Validation MAE: 2.5260138511657715\n",
            "-------------------------------\n",
            "Processing fold #3\n"
          ]
        },
        {
          "name": "stderr",
          "output_type": "stream",
          "text": [
            "2022-02-15 11:47:17.936131: I tensorflow/core/grappler/optimizers/custom_graph_optimizer_registry.cc:112] Plugin optimizer for device_type GPU is enabled.\n"
          ]
        },
        {
          "name": "stdout",
          "output_type": "stream",
          "text": [
            "Validation MSE: 10.519596099853516, Validation MAE: 2.357546091079712\n",
            "-------------------------------\n",
            "2.487250030040741\n"
          ]
        },
        {
          "name": "stderr",
          "output_type": "stream",
          "text": [
            "2022-02-15 11:48:07.685178: I tensorflow/core/grappler/optimizers/custom_graph_optimizer_registry.cc:112] Plugin optimizer for device_type GPU is enabled.\n"
          ]
        }
      ],
      "source": [
        "# Validating your approach using K-fold validation\n",
        "K = 4\n",
        "EPOCHS = 500\n",
        "BATCH_SIZE = 16\n",
        "num_val_samples = len(train_data_copy) // K # how many validation sample\n",
        "\n",
        "all_scores = []\n",
        "for i in range(K):\n",
        "    print(f'Processing fold #{i}')\n",
        "    # set validation fold\n",
        "    val_train = train_data_copy[i * num_val_samples : (i+1) * num_val_samples]\n",
        "    val_labels = train_labels[i * num_val_samples : (i+1) * num_val_samples]\n",
        "    \n",
        "    # set trian fold\n",
        "    X_train = np.concatenate([\n",
        "        train_data_copy[: i*num_val_samples], \n",
        "        train_data_copy[(i+1) * num_val_samples : ]\n",
        "    ])\n",
        "    y_train = np.concatenate([\n",
        "        train_labels[: i*num_val_samples], \n",
        "        train_labels[(i+1) * num_val_samples : ]\n",
        "    ])\n",
        "    model = build_model()\n",
        "    history = model.fit(\n",
        "                X_train,\n",
        "                y_train,\n",
        "                epochs = EPOCHS,\n",
        "                batch_size = BATCH_SIZE,\n",
        "                verbose=0\n",
        "            )\n",
        "    \n",
        "    val_mse, val_mae = model.evaluate(val_train, val_labels, verbose=0)\n",
        "    print(f'Validation MSE: {val_mse}, Validation MAE: {val_mae}')\n",
        "    print(\"-------------------------------\")\n",
        "    all_scores.append(val_mae)\n",
        "\n",
        "print(np.mean(all_scores))"
      ]
    },
    {
      "cell_type": "code",
      "execution_count": null,
      "id": "16f750e7-c73e-485a-9167-43c62ae25056",
      "metadata": {
        "id": "16f750e7-c73e-485a-9167-43c62ae25056",
        "outputId": "074e5f6a-c27a-491e-d9a9-97861ee5109c"
      },
      "outputs": [
        {
          "data": {
            "image/png": "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\n",
            "text/plain": [
              "<Figure size 432x288 with 1 Axes>"
            ]
          },
          "metadata": {
            "needs_background": "light"
          },
          "output_type": "display_data"
        }
      ],
      "source": [
        "loss = hist_dict['loss']\n",
        "mae = hist_dict['mae']\n",
        "epochs = range(1, len(loss)+1)\n",
        "\n",
        "plt.plot(epochs, loss, 'b', label=\"Train Loss\")\n",
        "plt.plot(epochs, mae, 'r', label=\"MAE\")\n",
        "plt.title(\"Training Loss and MAE values\")\n",
        "plt.xlabel(\"Epochs\")\n",
        "plt.ylabel(\"Training\")\n",
        "plt.legend()\n",
        "plt.show()"
      ]
    },
    {
      "cell_type": "code",
      "execution_count": null,
      "id": "ebd46580-70bd-408c-a770-ebfebeb12b6a",
      "metadata": {
        "id": "ebd46580-70bd-408c-a770-ebfebeb12b6a",
        "outputId": "b701b3b8-4512-4f4e-ee6f-77fb235edfe0"
      },
      "outputs": [
        {
          "name": "stdout",
          "output_type": "stream",
          "text": [
            "Processing fold #0\n"
          ]
        },
        {
          "name": "stderr",
          "output_type": "stream",
          "text": [
            "2022-02-15 12:14:43.616348: I tensorflow/core/grappler/optimizers/custom_graph_optimizer_registry.cc:112] Plugin optimizer for device_type GPU is enabled.\n",
            "2022-02-15 12:14:44.005537: I tensorflow/core/grappler/optimizers/custom_graph_optimizer_registry.cc:112] Plugin optimizer for device_type GPU is enabled.\n"
          ]
        },
        {
          "name": "stdout",
          "output_type": "stream",
          "text": [
            "-------------------------------\n",
            "Processing fold #1\n"
          ]
        },
        {
          "name": "stderr",
          "output_type": "stream",
          "text": [
            "2022-02-15 12:15:49.862684: I tensorflow/core/grappler/optimizers/custom_graph_optimizer_registry.cc:112] Plugin optimizer for device_type GPU is enabled.\n",
            "2022-02-15 12:15:50.250432: I tensorflow/core/grappler/optimizers/custom_graph_optimizer_registry.cc:112] Plugin optimizer for device_type GPU is enabled.\n"
          ]
        },
        {
          "name": "stdout",
          "output_type": "stream",
          "text": [
            "-------------------------------\n",
            "Processing fold #2\n"
          ]
        },
        {
          "name": "stderr",
          "output_type": "stream",
          "text": [
            "2022-02-15 12:16:55.740908: I tensorflow/core/grappler/optimizers/custom_graph_optimizer_registry.cc:112] Plugin optimizer for device_type GPU is enabled.\n",
            "2022-02-15 12:16:56.125757: I tensorflow/core/grappler/optimizers/custom_graph_optimizer_registry.cc:112] Plugin optimizer for device_type GPU is enabled.\n"
          ]
        },
        {
          "name": "stdout",
          "output_type": "stream",
          "text": [
            "-------------------------------\n",
            "Processing fold #3\n"
          ]
        },
        {
          "name": "stderr",
          "output_type": "stream",
          "text": [
            "2022-02-15 12:18:01.439828: I tensorflow/core/grappler/optimizers/custom_graph_optimizer_registry.cc:112] Plugin optimizer for device_type GPU is enabled.\n",
            "2022-02-15 12:18:01.844862: I tensorflow/core/grappler/optimizers/custom_graph_optimizer_registry.cc:112] Plugin optimizer for device_type GPU is enabled.\n"
          ]
        },
        {
          "name": "stdout",
          "output_type": "stream",
          "text": [
            "-------------------------------\n"
          ]
        }
      ],
      "source": [
        "all_mae_hist = []\n",
        "for i in range(K):\n",
        "    print(f'Processing fold #{i}')\n",
        "    # set validation fold\n",
        "    val_train = train_data_copy[i * num_val_samples : (i+1) * num_val_samples]\n",
        "    val_labels = train_labels[i * num_val_samples : (i+1) * num_val_samples]\n",
        "    \n",
        "    # set trian fold\n",
        "    X_train = np.concatenate([\n",
        "        train_data_copy[: i*num_val_samples], \n",
        "        train_data_copy[(i+1) * num_val_samples : ]\n",
        "    ])\n",
        "    y_train = np.concatenate([\n",
        "        train_labels[: i*num_val_samples], \n",
        "        train_labels[(i+1) * num_val_samples : ]\n",
        "    ])\n",
        "    model = build_model()\n",
        "    history = model.fit(\n",
        "                X_train,\n",
        "                y_train,\n",
        "                epochs = EPOCHS,\n",
        "                batch_size = BATCH_SIZE,\n",
        "                validation_data=(val_train, val_labels),\n",
        "                verbose=0\n",
        "            )\n",
        "    \n",
        "    mae_hist = history.history['val_mae']\n",
        "    all_mae_hist.append(mae_hist)\n",
        "    print(\"-------------------------------\")\n"
      ]
    },
    {
      "cell_type": "code",
      "execution_count": null,
      "id": "9f6d8d69-2025-4bad-bc4a-b6f98c1b2230",
      "metadata": {
        "id": "9f6d8d69-2025-4bad-bc4a-b6f98c1b2230",
        "outputId": "ab73c582-a172-45c5-8447-2d036fa81eb9"
      },
      "outputs": [
        {
          "data": {
            "text/plain": [
              "4"
            ]
          },
          "execution_count": 65,
          "metadata": {},
          "output_type": "execute_result"
        }
      ],
      "source": [
        ""
      ]
    },
    {
      "cell_type": "code",
      "execution_count": null,
      "id": "a6ef3e52-767c-4f4d-8157-57c9849d4575",
      "metadata": {
        "id": "a6ef3e52-767c-4f4d-8157-57c9849d4575"
      },
      "outputs": [],
      "source": [
        "average_mae_history = [\n",
        " np.mean([x[i] for x in all_mae_hist]) for i in range(EPOCHS)]"
      ]
    },
    {
      "cell_type": "code",
      "execution_count": null,
      "id": "e6b5218b-9b38-4939-8280-2114d8f960d1",
      "metadata": {
        "id": "e6b5218b-9b38-4939-8280-2114d8f960d1",
        "outputId": "13118840-e4ca-48f9-eb66-8f72df6b49a8"
      },
      "outputs": [
        {
          "data": {
            "image/png": "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\n",
            "text/plain": [
              "<Figure size 432x288 with 1 Axes>"
            ]
          },
          "metadata": {
            "needs_background": "light"
          },
          "output_type": "display_data"
        }
      ],
      "source": [
        "plt.plot(range(1, len(average_mae_history) + 1), average_mae_history)\n",
        "plt.xlabel(\"Epochs\")\n",
        "plt.ylabel(\"Validation MAE\")\n",
        "plt.show()"
      ]
    },
    {
      "cell_type": "code",
      "execution_count": null,
      "id": "ac20ac69-02fe-431c-8f11-ce9f669cc009",
      "metadata": {
        "id": "ac20ac69-02fe-431c-8f11-ce9f669cc009",
        "outputId": "f23aac60-e533-4b99-94f6-572f9b8e745e"
      },
      "outputs": [
        {
          "data": {
            "image/png": "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\n",
            "text/plain": [
              "<Figure size 432x288 with 1 Axes>"
            ]
          },
          "metadata": {
            "needs_background": "light"
          },
          "output_type": "display_data"
        }
      ],
      "source": [
        "truncated_mae_history = average_mae_history[20:]\n",
        "plt.plot(range(1, len(truncated_mae_history) + 1), truncated_mae_history,)\n",
        "plt.xlabel(\"Epochs\")\n",
        "plt.ylabel(\"Validation MAE\")\n",
        "plt.show()"
      ]
    },
    {
      "cell_type": "code",
      "execution_count": null,
      "id": "7754d3b5-a1ee-4fa6-995b-f4de0b73e56c",
      "metadata": {
        "id": "7754d3b5-a1ee-4fa6-995b-f4de0b73e56c",
        "outputId": "f1614d4c-5044-4dff-f986-eb0db074ba26"
      },
      "outputs": [
        {
          "name": "stderr",
          "output_type": "stream",
          "text": [
            "2022-02-15 12:29:17.750050: I tensorflow/core/grappler/optimizers/custom_graph_optimizer_registry.cc:112] Plugin optimizer for device_type GPU is enabled.\n"
          ]
        },
        {
          "name": "stdout",
          "output_type": "stream",
          "text": [
            "4/4 [==============================] - 0s 36ms/step - loss: 20.2793 - mae: 2.8412\n"
          ]
        },
        {
          "name": "stderr",
          "output_type": "stream",
          "text": [
            "2022-02-15 12:29:36.341429: I tensorflow/core/grappler/optimizers/custom_graph_optimizer_registry.cc:112] Plugin optimizer for device_type GPU is enabled.\n"
          ]
        }
      ],
      "source": [
        "model = build_model()\n",
        "model.fit(\n",
        "    X_train, \n",
        "    y_train,\n",
        "    epochs=180, \n",
        "    batch_size=16, \n",
        "    verbose=0)\n",
        "test_mse_score, test_mae_score = model.evaluate(test_data_copy, test_labels)"
      ]
    },
    {
      "cell_type": "code",
      "execution_count": null,
      "id": "03473df3-fc3f-4f0b-9a04-693176dd30b7",
      "metadata": {
        "id": "03473df3-fc3f-4f0b-9a04-693176dd30b7",
        "outputId": "24b9c941-7111-4355-96b4-4f8e19458a60"
      },
      "outputs": [
        {
          "name": "stderr",
          "output_type": "stream",
          "text": [
            "2022-02-15 12:30:16.922254: I tensorflow/core/grappler/optimizers/custom_graph_optimizer_registry.cc:112] Plugin optimizer for device_type GPU is enabled.\n"
          ]
        }
      ],
      "source": [
        "prediction = model.predict(test_data_copy)"
      ]
    },
    {
      "cell_type": "code",
      "execution_count": null,
      "id": "03bb60f8-01a4-4874-b7e5-b28c68f94f53",
      "metadata": {
        "id": "03bb60f8-01a4-4874-b7e5-b28c68f94f53",
        "outputId": "a83fda15-30e6-4e42-8c93-b87feec0a12d"
      },
      "outputs": [
        {
          "name": "stdout",
          "output_type": "stream",
          "text": [
            "Prediction of Unseen data [10.167908], actual Value 7.2,loss 2.9679079055786133\n"
          ]
        }
      ],
      "source": [
        "print(f'Prediction of Unseen data {prediction[0]}, actual Value {test_labels[0]},loss {float(np.abs(prediction[0] - test_labels[0]))}' )\n"
      ]
>>>>>>> 23ec9815ad8c0b69ab774cc0b0d5e3aa8fc1cd93
    }
  ],
  "metadata": {
    "kernelspec": {
      "display_name": "one4all",
      "language": "python",
      "name": "one4all"
    },
    "language_info": {
      "codemirror_mode": {
        "name": "ipython",
        "version": 3
      },
      "file_extension": ".py",
      "mimetype": "text/x-python",
      "name": "python",
      "nbconvert_exporter": "python",
      "pygments_lexer": "ipython3",
      "version": "3.8.12"
    },
    "colab": {
      "name": "chapter04_dl4python.ipynb",
      "provenance": [],
      "include_colab_link": true
    }
  },
  "nbformat": 4,
  "nbformat_minor": 5
}