{
 "cells": [
  {
   "cell_type": "markdown",
   "id": "b833c034-e4fc-4e17-be06-dd43dd147f65",
   "metadata": {},
   "source": [
    "# Getting started with neural networks:\n",
    "## Classification and regression\n",
    "\n",
    "### Glossary\n",
    "**Sample** or **input** -- A training example that we fit into the network\\\n",
    "**Prediction** or **output** -- A result that we get from the networks\\\n",
    "**Target** -- The objection that we try to predict.\\\n",
    "**Classes** -- \\\n",
    "**Label** --\\\n",
    "**Binary classification**\\\n",
    "**Multiclass classification**\\\n",
    "**Scalar regression**\\\n",
    "**Mini batch**"
   ]
  },
  {
   "cell_type": "markdown",
   "id": "1b12dc69-de3a-4ef7-8910-a0ac60a19023",
   "metadata": {},
   "source": [
    "### Binary classification\n",
    "#### Dataset"
   ]
  },
  {
   "cell_type": "code",
   "execution_count": 5,
   "id": "44387538-a694-409a-b154-966f453a9e49",
   "metadata": {},
   "outputs": [
    {
     "data": {
      "text/plain": [
       "['__builtins__',\n",
       " '__cached__',\n",
       " '__doc__',\n",
       " '__file__',\n",
       " '__loader__',\n",
       " '__name__',\n",
       " '__package__',\n",
       " '__path__',\n",
       " '__spec__',\n",
       " '_sys',\n",
       " 'boston_housing',\n",
       " 'cifar10',\n",
       " 'cifar100',\n",
       " 'fashion_mnist',\n",
       " 'imdb',\n",
       " 'mnist',\n",
       " 'reuters']"
      ]
     },
     "execution_count": 5,
     "metadata": {},
     "output_type": "execute_result"
    }
   ],
   "source": [
    "# all tensorflow keras buildin datasets\n",
    "import tensorflow \n",
    "dir(tensorflow.keras.datasets)"
   ]
  },
  {
   "cell_type": "code",
   "execution_count": 13,
   "id": "c2f6ab2e-ab39-4b49-affd-d8ae8de0762f",
   "metadata": {},
   "outputs": [],
   "source": [
    "# load dataset\n",
    "from tensorflow.keras.datasets import imdb\n",
    "(X_train, y_train), (X_test, y_test) = imdb.load_data(num_words=10000)"
   ]
  },
  {
   "cell_type": "markdown",
   "id": "0d5dc6fc-c8d1-4b1a-886b-d6fec4c7c75b",
   "metadata": {},
   "source": [
    "*num_word=10000* only keep the top 10000 most frequently appear in training samples"
   ]
  },
  {
   "cell_type": "code",
   "execution_count": 18,
   "id": "99a16653-3099-43c0-afef-72cb7c418749",
   "metadata": {},
   "outputs": [],
   "source": [
    "# decoding review back to text\n",
    "word_idx = imdb.get_word_index()\n",
    "reverse_word_idx = dict(\n",
    "    [(value, key) for (key, value) in word_idx.items()])\n",
    "decoded_review = ''.join(\n",
    "    [reverse_word_idx.get(i - 3, '?') for i in X_train[0]])"
   ]
  },
  {
   "cell_type": "markdown",
   "id": "b0245804-b50a-417b-8385-5af177ac3d84",
   "metadata": {},
   "source": [
    "#### Preparing the data"
   ]
  },
  {
   "cell_type": "code",
   "execution_count": 24,
   "id": "12069064-978f-4747-b890-9ce03915f89e",
   "metadata": {},
   "outputs": [
    {
     "data": {
      "text/plain": [
       "array([list([1, 14, 22, 16, 43, 530, 973, 1622, 1385, 65, 458, 4468, 66, 3941, 4, 173, 36, 256, 5, 25, 100, 43, 838, 112, 50, 670, 2, 9, 35, 480, 284, 5, 150, 4, 172, 112, 167, 2, 336, 385, 39, 4, 172, 4536, 1111, 17, 546, 38, 13, 447, 4, 192, 50, 16, 6, 147, 2025, 19, 14, 22, 4, 1920, 4613, 469, 4, 22, 71, 87, 12, 16, 43, 530, 38, 76, 15, 13, 1247, 4, 22, 17, 515, 17, 12, 16, 626, 18, 2, 5, 62, 386, 12, 8, 316, 8, 106, 5, 4, 2223, 5244, 16, 480, 66, 3785, 33, 4, 130, 12, 16, 38, 619, 5, 25, 124, 51, 36, 135, 48, 25, 1415, 33, 6, 22, 12, 215, 28, 77, 52, 5, 14, 407, 16, 82, 2, 8, 4, 107, 117, 5952, 15, 256, 4, 2, 7, 3766, 5, 723, 36, 71, 43, 530, 476, 26, 400, 317, 46, 7, 4, 2, 1029, 13, 104, 88, 4, 381, 15, 297, 98, 32, 2071, 56, 26, 141, 6, 194, 7486, 18, 4, 226, 22, 21, 134, 476, 26, 480, 5, 144, 30, 5535, 18, 51, 36, 28, 224, 92, 25, 104, 4, 226, 65, 16, 38, 1334, 88, 12, 16, 283, 5, 16, 4472, 113, 103, 32, 15, 16, 5345, 19, 178, 32]),\n",
       "       list([1, 194, 1153, 194, 8255, 78, 228, 5, 6, 1463, 4369, 5012, 134, 26, 4, 715, 8, 118, 1634, 14, 394, 20, 13, 119, 954, 189, 102, 5, 207, 110, 3103, 21, 14, 69, 188, 8, 30, 23, 7, 4, 249, 126, 93, 4, 114, 9, 2300, 1523, 5, 647, 4, 116, 9, 35, 8163, 4, 229, 9, 340, 1322, 4, 118, 9, 4, 130, 4901, 19, 4, 1002, 5, 89, 29, 952, 46, 37, 4, 455, 9, 45, 43, 38, 1543, 1905, 398, 4, 1649, 26, 6853, 5, 163, 11, 3215, 2, 4, 1153, 9, 194, 775, 7, 8255, 2, 349, 2637, 148, 605, 2, 8003, 15, 123, 125, 68, 2, 6853, 15, 349, 165, 4362, 98, 5, 4, 228, 9, 43, 2, 1157, 15, 299, 120, 5, 120, 174, 11, 220, 175, 136, 50, 9, 4373, 228, 8255, 5, 2, 656, 245, 2350, 5, 4, 9837, 131, 152, 491, 18, 2, 32, 7464, 1212, 14, 9, 6, 371, 78, 22, 625, 64, 1382, 9, 8, 168, 145, 23, 4, 1690, 15, 16, 4, 1355, 5, 28, 6, 52, 154, 462, 33, 89, 78, 285, 16, 145, 95])],\n",
       "      dtype=object)"
      ]
     },
     "execution_count": 24,
     "metadata": {},
     "output_type": "execute_result"
    }
   ],
   "source": [
    "# we can't fit a list to neural network because of the length different\n",
    "# so we have to convert a list to a tensor\n",
    "X_train[:2]"
   ]
  },
  {
   "cell_type": "markdown",
   "id": "841fe955-de13-47b9-8c54-496bf31ab0f3",
   "metadata": {},
   "source": [
    "Encoding the int sequences via multi-hot encoding. **Multi hot encoding** is one of such popular encoding technique in order to successfully convert categorical variables into numerical variables.\n"
   ]
  },
  {
   "cell_type": "code",
   "execution_count": 54,
   "id": "aae98908-344e-4e6e-9d28-9db0eb5b9fdd",
   "metadata": {},
   "outputs": [
    {
     "name": "stdout",
     "output_type": "stream",
     "text": [
      "(25000, 10000)\n",
      "(25000,)\n"
     ]
    }
   ],
   "source": [
    "import numpy as np\n",
    "def vec_seq(sequences, dimension=10000):\n",
    "    # creates an all-zero matrices\n",
    "    results = np.zeros((len(sequences), dimension))\n",
    "    for i, sequence in enumerate(sequences):\n",
    "        for j in sequence:\n",
    "            results[i,j] = 1\n",
    "            \n",
    "    return results\n",
    "\n",
    "# vectorize sequences (train data)\n",
    "X_train_vec = vec_seq(X_train)\n",
    "X_test_vec = vec_seq(X_test)\n",
    "\n",
    "# vectorize sequences (labels data)\n",
    "y_train_vec = np.asarray(y_train).astype('float32')\n",
    "y_test_vec = np.asarray(y_test).astype('float32')\n",
    "\n",
    "print(X_train_vec.shape)\n",
    "print(y_test_vec.shape)"
   ]
  },
  {
   "cell_type": "markdown",
   "id": "6758ba38-f06c-4df0-9695-1afc85b851b1",
   "metadata": {},
   "source": [
    "### Build model\n",
    "**Dense layers** or **Fully connected layers** -- A plain layer stack of nuerons (units)\n",
    "- How many layers to use\n",
    "- How many units to choose for each layers\n"
   ]
  },
  {
   "cell_type": "markdown",
   "id": "4e886ff8-b9a1-4f57-83a3-16271654aeae",
   "metadata": {},
   "source": [
    "#### Model definition"
   ]
  },
  {
   "cell_type": "code",
   "execution_count": 60,
   "id": "37ac5f0a-0613-4f1a-8d05-fb7c2888f455",
   "metadata": {},
   "outputs": [
    {
     "name": "stdout",
     "output_type": "stream",
     "text": [
      "Metal device set to: Apple M1 Pro\n"
     ]
    },
    {
     "name": "stderr",
     "output_type": "stream",
     "text": [
      "2022-02-09 15:59:28.265990: I tensorflow/core/common_runtime/pluggable_device/pluggable_device_factory.cc:305] Could not identify NUMA node of platform GPU ID 0, defaulting to 0. Your kernel may not have been built with NUMA support.\n",
      "2022-02-09 15:59:28.266913: I tensorflow/core/common_runtime/pluggable_device/pluggable_device_factory.cc:271] Created TensorFlow device (/job:localhost/replica:0/task:0/device:GPU:0 with 0 MB memory) -> physical PluggableDevice (device: 0, name: METAL, pci bus id: <undefined>)\n"
     ]
    }
   ],
   "source": [
    "# import library\n",
    "from tensorflow import keras\n",
    "from tensorflow.keras.layers import Dense\n",
    "\n",
    "model = keras.Sequential([\n",
    "    Dense(16, activation='relu'),\n",
    "    Dense(16, activation='relu'),\n",
    "    Dense(1, activation='sigmoid'),\n",
    "])"
   ]
  },
  {
   "cell_type": "markdown",
   "id": "3f64f9ef-4074-4548-a8c2-f1fb21c195c6",
   "metadata": {},
   "source": [
    "*16* mean this particular layers have 16 units stack on top of each other `(input_dimension, 16)` \\\n",
    "*activation='relu'* mean we use relu as the activation function : `relu(dot(Inputs, W) + b)`"
   ]
  },
  {
   "cell_type": "markdown",
   "id": "a8afe5c8-e000-467c-b9fe-6ec63d1a0157",
   "metadata": {},
   "source": [
    "#### Compile model\n",
    "In compil, we need to choose an **optimizer**(what algorithms we use to optimize our model), **loss function**(fucntion that we use to calculate the loss, different between the predictions and the ground-truth, **metrics**(what are the metrice we use for measure how good our model is) for our neural network."
   ]
  },
  {
   "cell_type": "code",
   "execution_count": 62,
   "id": "096f71c6-e776-46f3-bb70-db7351ff158e",
   "metadata": {},
   "outputs": [],
   "source": [
    "model.compile(\n",
    "    optimizer = 'rmsprop',\n",
    "    loss='binary_crossentropy',\n",
    "    metrics=['accuracy']\n",
    ")"
   ]
  },
  {
   "cell_type": "markdown",
   "id": "1c58f5a7-f5e6-4674-9f55-22edfd15c33a",
   "metadata": {},
   "source": [
    "#### Validating\n",
    "Split the datasets to Training set and Dev set to prevent **overfitting**(not generalize)"
   ]
  },
  {
   "cell_type": "code",
   "execution_count": 64,
   "id": "6f58b977-1e47-42e2-b6e5-a8218003b4d7",
   "metadata": {},
   "outputs": [],
   "source": [
    "# setting aside a dev set (validation set)\n",
    "X_dev = X_train_vec[:10000]\n",
    "partial_X_train = X_train_vec[10000:]\n",
    "\n",
    "y_dev = y_train_vec[:10000]\n",
    "partial_y_train = y_train_vec[10000:]"
   ]
  },
  {
   "cell_type": "markdown",
   "id": "2d963b5e-0c30-47c0-947f-254dc1c56f9b",
   "metadata": {},
   "source": [
    "#### Training the model\n",
    "In order to train the model we use `keras.Sequential()` method `fit()`\\\n",
    "*epochs=20* means we train the model for 20 iterations over all samples in training example in mini-batches of *512*"
   ]
  },
  {
   "cell_type": "code",
   "execution_count": 67,
   "id": "7b163fd6-9245-4fa6-9ed2-ebdaa060128f",
   "metadata": {},
   "outputs": [
    {
     "name": "stderr",
     "output_type": "stream",
     "text": [
      "2022-02-09 16:21:32.937876: W tensorflow/core/platform/profile_utils/cpu_utils.cc:128] Failed to get CPU frequency: 0 Hz\n"
     ]
    },
    {
     "name": "stdout",
     "output_type": "stream",
     "text": [
      "Epoch 1/20\n"
     ]
    },
    {
     "name": "stderr",
     "output_type": "stream",
     "text": [
      "2022-02-09 16:21:33.515744: I tensorflow/core/grappler/optimizers/custom_graph_optimizer_registry.cc:112] Plugin optimizer for device_type GPU is enabled.\n"
     ]
    },
    {
     "name": "stdout",
     "output_type": "stream",
     "text": [
      "30/30 [==============================] - 3s 49ms/step - loss: 0.5615 - accuracy: 0.7513 - val_loss: 0.4218 - val_accuracy: 0.8635\n"
     ]
    },
    {
     "name": "stderr",
     "output_type": "stream",
     "text": [
      "2022-02-09 16:21:36.240675: I tensorflow/core/grappler/optimizers/custom_graph_optimizer_registry.cc:112] Plugin optimizer for device_type GPU is enabled.\n"
     ]
    },
    {
     "name": "stdout",
     "output_type": "stream",
     "text": [
      "Epoch 2/20\n",
      "30/30 [==============================] - 1s 18ms/step - loss: 0.3369 - accuracy: 0.8927 - val_loss: 0.3169 - val_accuracy: 0.8860\n",
      "Epoch 3/20\n",
      "30/30 [==============================] - 1s 18ms/step - loss: 0.2419 - accuracy: 0.9231 - val_loss: 0.2883 - val_accuracy: 0.8881\n",
      "Epoch 4/20\n",
      "30/30 [==============================] - 1s 19ms/step - loss: 0.1921 - accuracy: 0.9388 - val_loss: 0.2771 - val_accuracy: 0.8894\n",
      "Epoch 5/20\n",
      "30/30 [==============================] - 1s 20ms/step - loss: 0.1569 - accuracy: 0.9505 - val_loss: 0.2921 - val_accuracy: 0.8847\n",
      "Epoch 6/20\n",
      "30/30 [==============================] - 1s 19ms/step - loss: 0.1306 - accuracy: 0.9602 - val_loss: 0.2819 - val_accuracy: 0.8878\n",
      "Epoch 7/20\n",
      "30/30 [==============================] - 1s 19ms/step - loss: 0.1093 - accuracy: 0.9676 - val_loss: 0.3029 - val_accuracy: 0.8828\n",
      "Epoch 8/20\n",
      "30/30 [==============================] - 1s 18ms/step - loss: 0.0927 - accuracy: 0.9748 - val_loss: 0.3095 - val_accuracy: 0.8843\n",
      "Epoch 9/20\n",
      "30/30 [==============================] - 1s 18ms/step - loss: 0.0772 - accuracy: 0.9801 - val_loss: 0.3587 - val_accuracy: 0.8720\n",
      "Epoch 10/20\n",
      "30/30 [==============================] - 1s 18ms/step - loss: 0.0650 - accuracy: 0.9843 - val_loss: 0.3493 - val_accuracy: 0.8792\n",
      "Epoch 11/20\n",
      "30/30 [==============================] - 1s 18ms/step - loss: 0.0536 - accuracy: 0.9882 - val_loss: 0.3977 - val_accuracy: 0.8689\n",
      "Epoch 12/20\n",
      "30/30 [==============================] - 1s 18ms/step - loss: 0.0468 - accuracy: 0.9907 - val_loss: 0.3965 - val_accuracy: 0.8802\n",
      "Epoch 13/20\n",
      "30/30 [==============================] - 1s 18ms/step - loss: 0.0364 - accuracy: 0.9925 - val_loss: 0.4177 - val_accuracy: 0.8768\n",
      "Epoch 14/20\n",
      "30/30 [==============================] - 1s 18ms/step - loss: 0.0307 - accuracy: 0.9944 - val_loss: 0.4408 - val_accuracy: 0.8748\n",
      "Epoch 15/20\n",
      "30/30 [==============================] - 1s 18ms/step - loss: 0.0245 - accuracy: 0.9959 - val_loss: 0.4722 - val_accuracy: 0.8732\n",
      "Epoch 16/20\n",
      "30/30 [==============================] - 1s 18ms/step - loss: 0.0192 - accuracy: 0.9973 - val_loss: 0.5028 - val_accuracy: 0.8718\n",
      "Epoch 17/20\n",
      "30/30 [==============================] - 1s 19ms/step - loss: 0.0156 - accuracy: 0.9979 - val_loss: 0.5381 - val_accuracy: 0.8685\n",
      "Epoch 18/20\n",
      "30/30 [==============================] - 1s 19ms/step - loss: 0.0097 - accuracy: 0.9991 - val_loss: 0.5656 - val_accuracy: 0.8679\n",
      "Epoch 19/20\n",
      "30/30 [==============================] - 1s 18ms/step - loss: 0.0101 - accuracy: 0.9988 - val_loss: 0.5989 - val_accuracy: 0.8677\n",
      "Epoch 20/20\n",
      "30/30 [==============================] - 1s 18ms/step - loss: 0.0055 - accuracy: 0.9995 - val_loss: 0.6881 - val_accuracy: 0.8600\n"
     ]
    }
   ],
   "source": [
    "history = model.fit(\n",
    "    partial_X_train,\n",
    "    partial_y_train,\n",
    "    epochs=20,\n",
    "    batch_size=512,\n",
    "    validation_data=(X_dev, y_dev)\n",
    ")"
   ]
  },
  {
   "cell_type": "code",
   "execution_count": 68,
   "id": "f85a00da-80b0-4f23-b7d4-aa288828c786",
   "metadata": {},
   "outputs": [
    {
     "name": "stdout",
     "output_type": "stream",
     "text": [
      "dict_keys(['loss', 'accuracy', 'val_loss', 'val_accuracy'])\n"
     ]
    }
   ],
   "source": [
    "history_dict = history.history\n",
    "print(history_dict.keys())"
   ]
  },
  {
   "cell_type": "markdown",
   "id": "1e8fca2a-9fb0-4ca8-a873-dc36eda1d51a",
   "metadata": {},
   "source": [
    "#### Plotting the result"
   ]
  },
  {
   "cell_type": "code",
   "execution_count": 70,
   "id": "9b4d0c6a-9c7f-4284-b3e0-be4ec3e28bdf",
   "metadata": {},
   "outputs": [],
   "source": [
    "# import library\n",
    "import matplotlib.pyplot as plt"
   ]
  },
  {
   "cell_type": "code",
   "execution_count": 90,
   "id": "d7ddd0cc-efe8-491e-8a9a-926ec7281f17",
   "metadata": {},
   "outputs": [
    {
     "name": "stdout",
     "output_type": "stream",
     "text": [
      "0.11081330755259841 0.4108383968472481\n"
     ]
    },
    {
     "data": {
      "image/png": "[encoded data removed]",
      "text/plain": [
       "<Figure size 432x288 with 1 Axes>"
      ]
     },
     "metadata": {
      "needs_background": "light"
     },
     "output_type": "display_data"
    },
    {
     "name": "stdout",
     "output_type": "stream",
     "text": [
      "0.9638700127601624 0.8763800442218781\n"
     ]
    },
    {
     "data": {
      "image/png": "[encoded data removed]",
      "text/plain": [
       "<Figure size 432x288 with 1 Axes>"
      ]
     },
     "metadata": {
      "needs_background": "light"
     },
     "output_type": "display_data"
    }
   ],
   "source": [
    "# training and validation loss\n",
    "def loss_plot():\n",
    "    loss_vals = history_dict['loss']\n",
    "    dev_loss_vals = history_dict['val_loss']\n",
    "    epochs = range(1, len(loss_vals)+1)\n",
    "    print(np.mean(loss_vals), np.mean(dev_loss_vals))\n",
    "    # plot\n",
    "    plt.plot(epochs, loss_vals, 'bo', label='Training loss')\n",
    "    plt.plot(epochs, dev_loss_vals, 'r', label='Validaion loss')\n",
    "    plt.title(\"Training and Validation loss\")\n",
    "    plt.xlabel(\"Epochs\")\n",
    "    plt.ylabel(\"Loss\")\n",
    "    plt.legend()\n",
    "    plt.show()\n",
    "\n",
    "def acc_plot():\n",
    "    acc_vals = history_dict['accuracy']\n",
    "    dev_acc_vals = history_dict['val_accuracy']\n",
    "    epochs = range(1, len(loss_vals)+1)\n",
    "    print(np.mean(acc_vals), np.mean(dev_acc_vals))\n",
    "\n",
    "    # plot\n",
    "    plt.plot(epochs, acc_vals, 'bo', label='Training accuracy')\n",
    "    plt.plot(epochs, dev_acc_vals, 'r', label='Validaion accuracy')\n",
    "    plt.title(\"Training and Validation accuracy\")\n",
    "    plt.xlabel(\"Epochs\")\n",
    "    plt.ylabel(\"Accuracy\")\n",
    "    plt.legend()\n",
    "    plt.show()\n",
    "    \n",
    "loss_plot()\n",
    "acc_plot()"
   ]
  },
  {
   "cell_type": "code",
   "execution_count": 81,
   "id": "3cc5a1d9-fb96-4407-b3ed-fdd56bc60c1f",
   "metadata": {},
   "outputs": [
    {
     "name": "stdout",
     "output_type": "stream",
     "text": [
      "0.9638700127601624 0.8763800442218781\n"
     ]
    },
    {
     "data": {
      "image/png": "[encoded data removed]",
      "text/plain": [
       "<Figure size 432x288 with 1 Axes>"
      ]
     },
     "metadata": {
      "needs_background": "light"
     },
     "output_type": "display_data"
    }
   ],
   "source": [
    "# training and validation accuracy\n",
    "acc_vals = history_dict['accuracy']\n",
    "dev_acc_vals = history_dict['val_accuracy']\n",
    "epochs = range(1, len(loss_vals)+1)\n",
    "print(np.mean(acc_vals), np.mean(dev_acc_vals))\n",
    "\n",
    "# plot\n",
    "plt.plot(epochs, acc_vals, 'bo', label='Training accuracy')\n",
    "plt.plot(epochs, dev_acc_vals, 'r', label='Validaion accuracy')\n",
    "plt.title(\"Training and Validation accuracy\")\n",
    "plt.xlabel(\"Epochs\")\n",
    "plt.ylabel(\"Accuracy\")\n",
    "plt.legend()\n",
    "plt.show()"
   ]
  },
  {
   "cell_type": "markdown",
   "id": "c61c324b-9568-4405-81a6-06105a8e9a8c",
   "metadata": {},
   "source": [
    "#### Full process"
   ]
  },
  {
   "cell_type": "code",
   "execution_count": 86,
   "id": "ef0c2518-da2f-4e5a-95a3-4ead817ce183",
   "metadata": {},
   "outputs": [
    {
     "name": "stdout",
     "output_type": "stream",
     "text": [
      "Epoch 1/5\n"
     ]
    },
    {
     "name": "stderr",
     "output_type": "stream",
     "text": [
      "2022-02-09 16:46:36.538730: I tensorflow/core/grappler/optimizers/custom_graph_optimizer_registry.cc:112] Plugin optimizer for device_type GPU is enabled.\n"
     ]
    },
    {
     "name": "stdout",
     "output_type": "stream",
     "text": [
      "30/30 [==============================] - 2s 31ms/step - loss: 0.1634 - accuracy: 0.7571 - val_loss: 0.1088 - val_accuracy: 0.8567\n"
     ]
    },
    {
     "name": "stderr",
     "output_type": "stream",
     "text": [
      "2022-02-09 16:46:37.858027: I tensorflow/core/grappler/optimizers/custom_graph_optimizer_registry.cc:112] Plugin optimizer for device_type GPU is enabled.\n"
     ]
    },
    {
     "name": "stdout",
     "output_type": "stream",
     "text": [
      "Epoch 2/5\n",
      "30/30 [==============================] - 0s 17ms/step - loss: 0.0743 - accuracy: 0.9080 - val_loss: 0.0930 - val_accuracy: 0.8749\n",
      "Epoch 3/5\n",
      "30/30 [==============================] - 1s 17ms/step - loss: 0.0536 - accuracy: 0.9347 - val_loss: 0.0855 - val_accuracy: 0.8849\n",
      "Epoch 4/5\n",
      "30/30 [==============================] - 1s 17ms/step - loss: 0.0400 - accuracy: 0.9509 - val_loss: 0.0955 - val_accuracy: 0.8733\n",
      "Epoch 5/5\n",
      "30/30 [==============================] - 0s 17ms/step - loss: 0.0282 - accuracy: 0.9670 - val_loss: 0.0876 - val_accuracy: 0.8829\n"
     ]
    },
    {
     "data": {
      "text/plain": [
       "<keras.callbacks.History at 0x2a75b25e0>"
      ]
     },
     "execution_count": 86,
     "metadata": {},
     "output_type": "execute_result"
    }
   ],
   "source": [
    "# create model\n",
    "model = keras.Sequential([\n",
    "    Dense(64, activation='relu'),\n",
    "    Dense(32, activation='tanh'),\n",
    "    Dense(16, activation='relu'),\n",
    "    Dense(1, activation='sigmoid')\n",
    "])\n",
    "# compile\n",
    "model.compile(\n",
    "    optimizer='rmsprop',\n",
    "    loss='mse',\n",
    "    metrics=['accuracy']\n",
    ")\n",
    "# fit and train\n",
    "model.fit(\n",
    "    partial_X_train,\n",
    "    partial_y_train,\n",
    "    epochs=5,\n",
    "    batch_size=512,\n",
    "    validation_data=(X_dev, y_dev)\n",
    ")"
   ]
  },
  {
   "cell_type": "code",
   "execution_count": 87,
   "id": "a08703df-d2fd-40f8-b565-94b369871049",
   "metadata": {},
   "outputs": [
    {
     "name": "stdout",
     "output_type": "stream",
     "text": [
      "dict_keys(['loss', 'accuracy', 'val_loss', 'val_accuracy'])\n",
      "0.11081330755259841 0.4108383968472481\n"
     ]
    },
    {
     "data": {
      "image/png": "[encoded data removed]",
      "text/plain": [
       "<Figure size 432x288 with 1 Axes>"
      ]
     },
     "metadata": {
      "needs_background": "light"
     },
     "output_type": "display_data"
    },
    {
     "name": "stdout",
     "output_type": "stream",
     "text": [
      "0.9638700127601624 0.8763800442218781\n"
     ]
    },
    {
     "data": {
      "image/png": "[encoded data removed]",
      "text/plain": [
       "<Figure size 432x288 with 1 Axes>"
      ]
     },
     "metadata": {
      "needs_background": "light"
     },
     "output_type": "display_data"
    }
   ],
   "source": [
    "history_dict = history.history\n",
    "print(history_dict.keys())\n",
    "\n",
    "loss pl"
   ]
  },
  {
   "cell_type": "code",
   "execution_count": null,
   "id": "8e1162ae-db93-4e63-b087-5871129b580d",
   "metadata": {},
   "outputs": [],
   "source": []
  }
 ],
 "metadata": {
  "kernelspec": {
   "display_name": "one4all",
   "language": "python",
   "name": "one4all"
  },
  "language_info": {
   "codemirror_mode": {
    "name": "ipython",
    "version": 3
   },
   "file_extension": ".py",
   "mimetype": "text/x-python",
   "name": "python",
   "nbconvert_exporter": "python",
   "pygments_lexer": "ipython3",
   "version": "3.8.12"
  }
 },
 "nbformat": 4,
 "nbformat_minor": 5
}
