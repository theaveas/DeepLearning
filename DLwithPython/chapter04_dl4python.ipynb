{
 "cells": [
  {
   "cell_type": "markdown",
   "id": "b833c034-e4fc-4e17-be06-dd43dd147f65",
   "metadata": {},
   "source": [
    "# Getting started with neural networks:\n",
    "## Classification and regression\n",
    "\n",
    "### Glossary\n",
    "**Sample** or **input** -- A training example that we fit into the network\\\n",
    "**Prediction** or **output** -- A result that we get from the networks\\\n",
    "**Target** -- The objection that we try to predict.\\\n",
    "**Classes** -- \\\n",
    "**Label** --\\\n",
    "**Binary classification**\\\n",
    "**Multiclass classification**\\\n",
    "**Scalar regression**\\\n",
    "**Mini batch**"
   ]
  },
  {
   "cell_type": "markdown",
   "id": "1b12dc69-de3a-4ef7-8910-a0ac60a19023",
   "metadata": {},
   "source": [
    "### Binary classification\n",
    "#### Dataset"
   ]
  },
  {
   "cell_type": "code",
   "execution_count": 1,
   "id": "44387538-a694-409a-b154-966f453a9e49",
   "metadata": {},
   "outputs": [
    {
     "data": {
      "text/plain": [
       "['__builtins__',\n",
       " '__cached__',\n",
       " '__doc__',\n",
       " '__file__',\n",
       " '__loader__',\n",
       " '__name__',\n",
       " '__package__',\n",
       " '__path__',\n",
       " '__spec__',\n",
       " '_sys',\n",
       " 'boston_housing',\n",
       " 'cifar10',\n",
       " 'cifar100',\n",
       " 'fashion_mnist',\n",
       " 'imdb',\n",
       " 'mnist',\n",
       " 'reuters']"
      ]
     },
     "execution_count": 1,
     "metadata": {},
     "output_type": "execute_result"
    }
   ],
   "source": [
    "# all tensorflow keras buildin datasets\n",
    "import tensorflow \n",
    "dir(tensorflow.keras.datasets)"
   ]
  },
  {
   "cell_type": "code",
   "execution_count": 2,
   "id": "c2f6ab2e-ab39-4b49-affd-d8ae8de0762f",
   "metadata": {},
   "outputs": [],
   "source": [
    "# load dataset\n",
    "from tensorflow.keras.datasets import imdb\n",
    "(X_train, y_train), (X_test, y_test) = imdb.load_data(num_words=10000)"
   ]
  },
  {
   "cell_type": "markdown",
   "id": "0d5dc6fc-c8d1-4b1a-886b-d6fec4c7c75b",
   "metadata": {},
   "source": [
    "*num_word=10000* only keep the top 10000 most frequently appear in training samples"
   ]
  },
  {
   "cell_type": "code",
   "execution_count": 3,
   "id": "99a16653-3099-43c0-afef-72cb7c418749",
   "metadata": {},
   "outputs": [],
   "source": [
    "# decoding review back to text\n",
    "word_idx = imdb.get_word_index()\n",
    "reverse_word_idx = dict(\n",
    "    [(value, key) for (key, value) in word_idx.items()])\n",
    "decoded_review = ''.join(\n",
    "    [reverse_word_idx.get(i - 3, '?') for i in X_train[0]])"
   ]
  },
  {
   "cell_type": "markdown",
   "id": "b0245804-b50a-417b-8385-5af177ac3d84",
   "metadata": {},
   "source": [
    "#### Preparing the data"
   ]
  },
  {
   "cell_type": "code",
   "execution_count": 4,
   "id": "12069064-978f-4747-b890-9ce03915f89e",
   "metadata": {},
   "outputs": [
    {
     "data": {
      "text/plain": [
       "array([list([1, 14, 22, 16, 43, 530, 973, 1622, 1385, 65, 458, 4468, 66, 3941, 4, 173, 36, 256, 5, 25, 100, 43, 838, 112, 50, 670, 2, 9, 35, 480, 284, 5, 150, 4, 172, 112, 167, 2, 336, 385, 39, 4, 172, 4536, 1111, 17, 546, 38, 13, 447, 4, 192, 50, 16, 6, 147, 2025, 19, 14, 22, 4, 1920, 4613, 469, 4, 22, 71, 87, 12, 16, 43, 530, 38, 76, 15, 13, 1247, 4, 22, 17, 515, 17, 12, 16, 626, 18, 2, 5, 62, 386, 12, 8, 316, 8, 106, 5, 4, 2223, 5244, 16, 480, 66, 3785, 33, 4, 130, 12, 16, 38, 619, 5, 25, 124, 51, 36, 135, 48, 25, 1415, 33, 6, 22, 12, 215, 28, 77, 52, 5, 14, 407, 16, 82, 2, 8, 4, 107, 117, 5952, 15, 256, 4, 2, 7, 3766, 5, 723, 36, 71, 43, 530, 476, 26, 400, 317, 46, 7, 4, 2, 1029, 13, 104, 88, 4, 381, 15, 297, 98, 32, 2071, 56, 26, 141, 6, 194, 7486, 18, 4, 226, 22, 21, 134, 476, 26, 480, 5, 144, 30, 5535, 18, 51, 36, 28, 224, 92, 25, 104, 4, 226, 65, 16, 38, 1334, 88, 12, 16, 283, 5, 16, 4472, 113, 103, 32, 15, 16, 5345, 19, 178, 32]),\n",
       "       list([1, 194, 1153, 194, 8255, 78, 228, 5, 6, 1463, 4369, 5012, 134, 26, 4, 715, 8, 118, 1634, 14, 394, 20, 13, 119, 954, 189, 102, 5, 207, 110, 3103, 21, 14, 69, 188, 8, 30, 23, 7, 4, 249, 126, 93, 4, 114, 9, 2300, 1523, 5, 647, 4, 116, 9, 35, 8163, 4, 229, 9, 340, 1322, 4, 118, 9, 4, 130, 4901, 19, 4, 1002, 5, 89, 29, 952, 46, 37, 4, 455, 9, 45, 43, 38, 1543, 1905, 398, 4, 1649, 26, 6853, 5, 163, 11, 3215, 2, 4, 1153, 9, 194, 775, 7, 8255, 2, 349, 2637, 148, 605, 2, 8003, 15, 123, 125, 68, 2, 6853, 15, 349, 165, 4362, 98, 5, 4, 228, 9, 43, 2, 1157, 15, 299, 120, 5, 120, 174, 11, 220, 175, 136, 50, 9, 4373, 228, 8255, 5, 2, 656, 245, 2350, 5, 4, 9837, 131, 152, 491, 18, 2, 32, 7464, 1212, 14, 9, 6, 371, 78, 22, 625, 64, 1382, 9, 8, 168, 145, 23, 4, 1690, 15, 16, 4, 1355, 5, 28, 6, 52, 154, 462, 33, 89, 78, 285, 16, 145, 95])],\n",
       "      dtype=object)"
      ]
     },
     "execution_count": 4,
     "metadata": {},
     "output_type": "execute_result"
    }
   ],
   "source": [
    "# we can't fit a list to neural network because of the length different\n",
    "# so we have to convert a list to a tensor\n",
    "X_train[:2]"
   ]
  },
  {
   "cell_type": "markdown",
   "id": "841fe955-de13-47b9-8c54-496bf31ab0f3",
   "metadata": {},
   "source": [
    "Encoding the int sequences via multi-hot encoding. **Multi hot encoding** is one of such popular encoding technique in order to successfully convert categorical variables into numerical variables.\n"
   ]
  },
  {
   "cell_type": "code",
   "execution_count": 5,
   "id": "aae98908-344e-4e6e-9d28-9db0eb5b9fdd",
   "metadata": {},
   "outputs": [
    {
     "name": "stdout",
     "output_type": "stream",
     "text": [
      "(25000, 10000)\n",
      "(25000,)\n"
     ]
    }
   ],
   "source": [
    "import numpy as np\n",
    "def vec_seq(sequences, dimension=10000):\n",
    "    # creates an all-zero matrices\n",
    "    results = np.zeros((len(sequences), dimension))\n",
    "    for i, sequence in enumerate(sequences):\n",
    "        for j in sequence:\n",
    "            results[i,j] = 1\n",
    "            \n",
    "    return results\n",
    "\n",
    "# vectorize sequences (train data)\n",
    "X_train_vec = vec_seq(X_train)\n",
    "X_test_vec = vec_seq(X_test)\n",
    "\n",
    "# vectorize sequences (labels data)\n",
    "y_train_vec = np.asarray(y_train).astype('float32')\n",
    "y_test_vec = np.asarray(y_test).astype('float32')\n",
    "\n",
    "print(X_train_vec.shape)\n",
    "print(y_test_vec.shape)"
   ]
  },
  {
   "cell_type": "markdown",
   "id": "6758ba38-f06c-4df0-9695-1afc85b851b1",
   "metadata": {},
   "source": [
    "### Build model\n",
    "**Dense layers** or **Fully connected layers** -- A plain layer stack of nuerons (units)\n",
    "- How many layers to use\n",
    "- How many units to choose for each layers\n"
   ]
  },
  {
   "cell_type": "markdown",
   "id": "4e886ff8-b9a1-4f57-83a3-16271654aeae",
   "metadata": {},
   "source": [
    "#### Model definition"
   ]
  },
  {
   "cell_type": "code",
   "execution_count": 6,
   "id": "37ac5f0a-0613-4f1a-8d05-fb7c2888f455",
   "metadata": {},
   "outputs": [
    {
     "name": "stdout",
     "output_type": "stream",
     "text": [
      "Metal device set to: Apple M1 Pro\n"
     ]
    },
    {
     "name": "stderr",
     "output_type": "stream",
     "text": [
      "2022-02-10 11:26:03.486832: I tensorflow/core/common_runtime/pluggable_device/pluggable_device_factory.cc:305] Could not identify NUMA node of platform GPU ID 0, defaulting to 0. Your kernel may not have been built with NUMA support.\n",
      "2022-02-10 11:26:03.487020: I tensorflow/core/common_runtime/pluggable_device/pluggable_device_factory.cc:271] Created TensorFlow device (/job:localhost/replica:0/task:0/device:GPU:0 with 0 MB memory) -> physical PluggableDevice (device: 0, name: METAL, pci bus id: <undefined>)\n"
     ]
    }
   ],
   "source": [
    "# import library\n",
    "from tensorflow import keras\n",
    "from tensorflow.keras.layers import Dense\n",
    "\n",
    "model = keras.Sequential([\n",
    "    Dense(16, activation='relu'),\n",
    "    Dense(16, activation='relu'),\n",
    "    Dense(1, activation='sigmoid'),\n",
    "])"
   ]
  },
  {
   "cell_type": "markdown",
   "id": "3f64f9ef-4074-4548-a8c2-f1fb21c195c6",
   "metadata": {},
   "source": [
    "*16* mean this particular layers have 16 units stack on top of each other `(input_dimension, 16)` \\\n",
    "*activation='relu'* mean we use relu as the activation function : `relu(dot(Inputs, W) + b)`"
   ]
  },
  {
   "cell_type": "markdown",
   "id": "a8afe5c8-e000-467c-b9fe-6ec63d1a0157",
   "metadata": {},
   "source": [
    "#### Compile model\n",
    "In compil, we need to choose an **optimizer**(what algorithms we use to optimize our model), **loss function**(fucntion that we use to calculate the loss, different between the predictions and the ground-truth, **metrics**(what are the metrice we use for measure how good our model is) for our neural network."
   ]
  },
  {
   "cell_type": "code",
   "execution_count": 7,
   "id": "096f71c6-e776-46f3-bb70-db7351ff158e",
   "metadata": {},
   "outputs": [],
   "source": [
    "model.compile(\n",
    "    optimizer = 'rmsprop',\n",
    "    loss='binary_crossentropy',\n",
    "    metrics=['accuracy']\n",
    ")"
   ]
  },
  {
   "cell_type": "markdown",
   "id": "1c58f5a7-f5e6-4674-9f55-22edfd15c33a",
   "metadata": {},
   "source": [
    "#### Validating\n",
    "Split the datasets to Training set and Dev set to prevent **overfitting**(not generalize)"
   ]
  },
  {
   "cell_type": "code",
   "execution_count": 8,
   "id": "6f58b977-1e47-42e2-b6e5-a8218003b4d7",
   "metadata": {},
   "outputs": [],
   "source": [
    "# setting aside a dev set (validation set)\n",
    "X_dev = X_train_vec[:10000]\n",
    "partial_X_train = X_train_vec[10000:]\n",
    "\n",
    "y_dev = y_train_vec[:10000]\n",
    "partial_y_train = y_train_vec[10000:]"
   ]
  },
  {
   "cell_type": "markdown",
   "id": "2d963b5e-0c30-47c0-947f-254dc1c56f9b",
   "metadata": {},
   "source": [
    "#### Training the model\n",
    "In order to train the model we use `keras.Sequential()` method `fit()`\\\n",
    "*epochs=20* means we train the model for 20 iterations over all samples in training example in mini-batches of *512*"
   ]
  },
  {
   "cell_type": "code",
   "execution_count": 9,
   "id": "7b163fd6-9245-4fa6-9ed2-ebdaa060128f",
   "metadata": {},
   "outputs": [
    {
     "name": "stderr",
     "output_type": "stream",
     "text": [
      "2022-02-10 11:26:08.273154: W tensorflow/core/platform/profile_utils/cpu_utils.cc:128] Failed to get CPU frequency: 0 Hz\n"
     ]
    },
    {
     "name": "stdout",
     "output_type": "stream",
     "text": [
      "Epoch 1/20\n",
      " 1/30 [>.............................] - ETA: 13s - loss: 0.6919 - accuracy: 0.5176"
     ]
    },
    {
     "name": "stderr",
     "output_type": "stream",
     "text": [
      "2022-02-10 11:26:08.549559: I tensorflow/core/grappler/optimizers/custom_graph_optimizer_registry.cc:112] Plugin optimizer for device_type GPU is enabled.\n"
     ]
    },
    {
     "name": "stdout",
     "output_type": "stream",
     "text": [
      "30/30 [==============================] - 1s 30ms/step - loss: 0.5274 - accuracy: 0.7795 - val_loss: 0.4035 - val_accuracy: 0.8734\n",
      "Epoch 2/20\n",
      " 1/30 [>.............................] - ETA: 0s - loss: 0.3629 - accuracy: 0.9062"
     ]
    },
    {
     "name": "stderr",
     "output_type": "stream",
     "text": [
      "2022-02-10 11:26:09.426817: I tensorflow/core/grappler/optimizers/custom_graph_optimizer_registry.cc:112] Plugin optimizer for device_type GPU is enabled.\n"
     ]
    },
    {
     "name": "stdout",
     "output_type": "stream",
     "text": [
      "30/30 [==============================] - 0s 14ms/step - loss: 0.3166 - accuracy: 0.9039 - val_loss: 0.3256 - val_accuracy: 0.8753\n",
      "Epoch 3/20\n",
      "30/30 [==============================] - 0s 14ms/step - loss: 0.2307 - accuracy: 0.9285 - val_loss: 0.2827 - val_accuracy: 0.8914\n",
      "Epoch 4/20\n",
      "30/30 [==============================] - 0s 14ms/step - loss: 0.1811 - accuracy: 0.9423 - val_loss: 0.3069 - val_accuracy: 0.8743\n",
      "Epoch 5/20\n",
      "30/30 [==============================] - 0s 13ms/step - loss: 0.1473 - accuracy: 0.9533 - val_loss: 0.3107 - val_accuracy: 0.8744\n",
      "Epoch 6/20\n",
      "30/30 [==============================] - 0s 14ms/step - loss: 0.1199 - accuracy: 0.9647 - val_loss: 0.3278 - val_accuracy: 0.8714\n",
      "Epoch 7/20\n",
      "30/30 [==============================] - 0s 14ms/step - loss: 0.1025 - accuracy: 0.9693 - val_loss: 0.3043 - val_accuracy: 0.8846\n",
      "Epoch 8/20\n",
      "30/30 [==============================] - 0s 14ms/step - loss: 0.0835 - accuracy: 0.9767 - val_loss: 0.3318 - val_accuracy: 0.8837\n",
      "Epoch 9/20\n",
      "30/30 [==============================] - 0s 13ms/step - loss: 0.0695 - accuracy: 0.9811 - val_loss: 0.3489 - val_accuracy: 0.8823\n",
      "Epoch 10/20\n",
      "30/30 [==============================] - 0s 13ms/step - loss: 0.0582 - accuracy: 0.9861 - val_loss: 0.3730 - val_accuracy: 0.8816\n",
      "Epoch 11/20\n",
      "30/30 [==============================] - 0s 14ms/step - loss: 0.0454 - accuracy: 0.9905 - val_loss: 0.4070 - val_accuracy: 0.8697\n",
      "Epoch 12/20\n",
      "30/30 [==============================] - 0s 13ms/step - loss: 0.0375 - accuracy: 0.9913 - val_loss: 0.4417 - val_accuracy: 0.8677\n",
      "Epoch 13/20\n",
      "30/30 [==============================] - 0s 13ms/step - loss: 0.0316 - accuracy: 0.9936 - val_loss: 0.5321 - val_accuracy: 0.8529\n",
      "Epoch 14/20\n",
      "30/30 [==============================] - 0s 13ms/step - loss: 0.0231 - accuracy: 0.9964 - val_loss: 0.4835 - val_accuracy: 0.8722\n",
      "Epoch 15/20\n",
      "30/30 [==============================] - 0s 13ms/step - loss: 0.0177 - accuracy: 0.9973 - val_loss: 0.5190 - val_accuracy: 0.8711\n",
      "Epoch 16/20\n",
      "30/30 [==============================] - 0s 13ms/step - loss: 0.0152 - accuracy: 0.9978 - val_loss: 0.5522 - val_accuracy: 0.8729\n",
      "Epoch 17/20\n",
      "30/30 [==============================] - 0s 13ms/step - loss: 0.0105 - accuracy: 0.9991 - val_loss: 0.5871 - val_accuracy: 0.8703\n",
      "Epoch 18/20\n",
      "30/30 [==============================] - 0s 13ms/step - loss: 0.0095 - accuracy: 0.9988 - val_loss: 0.6239 - val_accuracy: 0.8686\n",
      "Epoch 19/20\n",
      "30/30 [==============================] - 0s 13ms/step - loss: 0.0048 - accuracy: 0.9998 - val_loss: 0.7114 - val_accuracy: 0.8638\n",
      "Epoch 20/20\n",
      "30/30 [==============================] - 0s 13ms/step - loss: 0.0051 - accuracy: 0.9997 - val_loss: 0.7279 - val_accuracy: 0.8652\n"
     ]
    }
   ],
   "source": [
    "history = model.fit(\n",
    "    partial_X_train,\n",
    "    partial_y_train,\n",
    "    epochs=20,\n",
    "    batch_size=512,\n",
    "    validation_data=(X_dev, y_dev)\n",
    ")"
   ]
  },
  {
   "cell_type": "code",
   "execution_count": 10,
   "id": "f85a00da-80b0-4f23-b7d4-aa288828c786",
   "metadata": {},
   "outputs": [
    {
     "name": "stdout",
     "output_type": "stream",
     "text": [
      "dict_keys(['loss', 'accuracy', 'val_loss', 'val_accuracy'])\n"
     ]
    }
   ],
   "source": [
    "history_dict = history.history\n",
    "print(history_dict.keys())"
   ]
  },
  {
   "cell_type": "markdown",
   "id": "1e8fca2a-9fb0-4ca8-a873-dc36eda1d51a",
   "metadata": {},
   "source": [
    "#### Plotting the result"
   ]
  },
  {
   "cell_type": "code",
   "execution_count": 11,
   "id": "9b4d0c6a-9c7f-4284-b3e0-be4ec3e28bdf",
   "metadata": {},
   "outputs": [],
   "source": [
    "# import library\n",
    "import matplotlib.pyplot as plt"
   ]
  },
  {
   "cell_type": "code",
   "execution_count": 12,
   "id": "d7ddd0cc-efe8-491e-8a9a-926ec7281f17",
   "metadata": {},
   "outputs": [
    {
     "name": "stdout",
     "output_type": "stream",
     "text": [
      "0.10186191264074296 0.4450590699911118\n"
     ]
    },
    {
     "data": {
      "image/png": "[encoded data removed]",
      "text/plain": [
       "<Figure size 432x288 with 1 Axes>"
      ]
     },
     "metadata": {
      "needs_background": "light"
     },
     "output_type": "display_data"
    },
    {
     "name": "stdout",
     "output_type": "stream",
     "text": [
      "0.967480006814003 0.8733400404453278\n"
     ]
    },
    {
     "data": {
      "image/png": "[encoded data removed]",
      "text/plain": [
       "<Figure size 432x288 with 1 Axes>"
      ]
     },
     "metadata": {
      "needs_background": "light"
     },
     "output_type": "display_data"
    }
   ],
   "source": [
    "# training and validation loss\n",
    "def loss_plot():\n",
    "    loss_vals = history_dict['loss']\n",
    "    dev_loss_vals = history_dict['val_loss']\n",
    "    epochs = range(1, len(loss_vals)+1)\n",
    "    print(np.mean(loss_vals), np.mean(dev_loss_vals))\n",
    "    # plot\n",
    "    plt.plot(epochs, loss_vals, 'bo', label='Training loss')\n",
    "    plt.plot(epochs, dev_loss_vals, 'r', label='Validaion loss')\n",
    "    plt.title(\"Training and Validation loss\")\n",
    "    plt.xlabel(\"Epochs\")\n",
    "    plt.ylabel(\"Loss\")\n",
    "    plt.legend()\n",
    "    plt.show()\n",
    "\n",
    "def acc_plot():\n",
    "    acc_vals = history_dict['accuracy']\n",
    "    dev_acc_vals = history_dict['val_accuracy']\n",
    "    epochs = range(1, len(acc_vals)+1)\n",
    "    print(np.mean(acc_vals), np.mean(dev_acc_vals))\n",
    "\n",
    "    # plot\n",
    "    plt.plot(epochs, acc_vals, 'bo', label='Training accuracy')\n",
    "    plt.plot(epochs, dev_acc_vals, 'r', label='Validaion accuracy')\n",
    "    plt.title(\"Training and Validation accuracy\")\n",
    "    plt.xlabel(\"Epochs\")\n",
    "    plt.ylabel(\"Accuracy\")\n",
    "    plt.legend()\n",
    "    plt.show()\n",
    "    \n",
    "loss_plot()\n",
    "acc_plot()"
   ]
  },
  {
   "cell_type": "markdown",
   "id": "c61c324b-9568-4405-81a6-06105a8e9a8c",
   "metadata": {},
   "source": [
    "#### Full process"
   ]
  },
  {
   "cell_type": "code",
   "execution_count": 13,
   "id": "ef0c2518-da2f-4e5a-95a3-4ead817ce183",
   "metadata": {},
   "outputs": [
    {
     "name": "stdout",
     "output_type": "stream",
     "text": [
      "Epoch 1/10\n",
      " 1/30 [>.............................] - ETA: 12s - loss: 0.2510 - accuracy: 0.5059"
     ]
    },
    {
     "name": "stderr",
     "output_type": "stream",
     "text": [
      "2022-02-10 11:26:18.477873: I tensorflow/core/grappler/optimizers/custom_graph_optimizer_registry.cc:112] Plugin optimizer for device_type GPU is enabled.\n"
     ]
    },
    {
     "name": "stdout",
     "output_type": "stream",
     "text": [
      "30/30 [==============================] - 1s 28ms/step - loss: 0.1581 - accuracy: 0.7759 - val_loss: 0.0996 - val_accuracy: 0.8745\n",
      "Epoch 2/10\n",
      " 1/30 [>.............................] - ETA: 0s - loss: 0.0747 - accuracy: 0.9277"
     ]
    },
    {
     "name": "stderr",
     "output_type": "stream",
     "text": [
      "2022-02-10 11:26:19.337639: I tensorflow/core/grappler/optimizers/custom_graph_optimizer_registry.cc:112] Plugin optimizer for device_type GPU is enabled.\n"
     ]
    },
    {
     "name": "stdout",
     "output_type": "stream",
     "text": [
      "30/30 [==============================] - 0s 14ms/step - loss: 0.0778 - accuracy: 0.9031 - val_loss: 0.0872 - val_accuracy: 0.8826\n",
      "Epoch 3/10\n",
      "30/30 [==============================] - 0s 15ms/step - loss: 0.0533 - accuracy: 0.9347 - val_loss: 0.0919 - val_accuracy: 0.8775\n",
      "Epoch 4/10\n",
      "30/30 [==============================] - 0s 14ms/step - loss: 0.0420 - accuracy: 0.9489 - val_loss: 0.0915 - val_accuracy: 0.8763\n",
      "Epoch 5/10\n",
      "30/30 [==============================] - 0s 14ms/step - loss: 0.0336 - accuracy: 0.9590 - val_loss: 0.1067 - val_accuracy: 0.8608\n",
      "Epoch 6/10\n",
      "30/30 [==============================] - 0s 14ms/step - loss: 0.0285 - accuracy: 0.9649 - val_loss: 0.0954 - val_accuracy: 0.8777\n",
      "Epoch 7/10\n",
      "30/30 [==============================] - 0s 14ms/step - loss: 0.0230 - accuracy: 0.9729 - val_loss: 0.0992 - val_accuracy: 0.8751\n",
      "Epoch 8/10\n",
      "30/30 [==============================] - 0s 14ms/step - loss: 0.0194 - accuracy: 0.9782 - val_loss: 0.1050 - val_accuracy: 0.8724\n",
      "Epoch 9/10\n",
      "30/30 [==============================] - 0s 14ms/step - loss: 0.0181 - accuracy: 0.9789 - val_loss: 0.1062 - val_accuracy: 0.8706\n",
      "Epoch 10/10\n",
      "30/30 [==============================] - 0s 14ms/step - loss: 0.0161 - accuracy: 0.9813 - val_loss: 0.1052 - val_accuracy: 0.8733\n"
     ]
    },
    {
     "data": {
      "text/plain": [
       "<keras.callbacks.History at 0x29ba3de80>"
      ]
     },
     "execution_count": 13,
     "metadata": {},
     "output_type": "execute_result"
    }
   ],
   "source": [
    "# create model\n",
    "model = keras.Sequential([\n",
    "    Dense(64, activation='tanh'),\n",
    "    Dense(32, activation='tanh'),\n",
    "    Dense(16, activation='relu'),\n",
    "    Dense(1, activation='sigmoid')\n",
    "])\n",
    "# compile\n",
    "model.compile(\n",
    "    optimizer='rmsprop',\n",
    "    loss='mse',\n",
    "    metrics=['accuracy']\n",
    ")\n",
    "# fit and train\n",
    "model.fit(\n",
    "    partial_X_train,\n",
    "    partial_y_train,\n",
    "    epochs=10,\n",
    "    batch_size=512,\n",
    "    validation_data=(X_dev, y_dev)\n",
    ")"
   ]
  },
  {
   "cell_type": "code",
   "execution_count": 14,
   "id": "a08703df-d2fd-40f8-b565-94b369871049",
   "metadata": {},
   "outputs": [
    {
     "name": "stdout",
     "output_type": "stream",
     "text": [
      "dict_keys(['loss', 'accuracy', 'val_loss', 'val_accuracy'])\n",
      "0.10186191264074296 0.4450590699911118\n"
     ]
    },
    {
     "data": {
      "image/png": "[encoded data removed]",
      "text/plain": [
       "<Figure size 432x288 with 1 Axes>"
      ]
     },
     "metadata": {
      "needs_background": "light"
     },
     "output_type": "display_data"
    },
    {
     "name": "stdout",
     "output_type": "stream",
     "text": [
      "0.967480006814003 0.8733400404453278\n"
     ]
    },
    {
     "data": {
      "image/png": "[encoded data removed]",
      "text/plain": [
       "<Figure size 432x288 with 1 Axes>"
      ]
     },
     "metadata": {
      "needs_background": "light"
     },
     "output_type": "display_data"
    }
   ],
   "source": [
    "history_dict = history.history\n",
    "print(history_dict.keys())\n",
    "\n",
    "loss_plot()\n",
    "acc_plot()"
   ]
  },
  {
   "cell_type": "markdown",
   "id": "773a9b27-8355-4a5f-929d-b38fd5494044",
   "metadata": {},
   "source": [
    "### Multiclasss classification\n",
    "#### The reuters datasets\n",
    "A set of short newswires and their topics, published by Reuters in 1986."
   ]
  },
  {
   "cell_type": "code",
   "execution_count": 15,
   "id": "458155ac-c39a-49db-b0bb-354516d058df",
   "metadata": {},
   "outputs": [],
   "source": [
    "# import dataset\n",
    "from tensorflow.keras.datasets import reuters\n",
    "\n",
    "# load dataset\n",
    "(train_data, train_labels), (test_data, test_labels) = reuters.load_data(num_words=10000)"
   ]
  },
  {
   "cell_type": "code",
   "execution_count": 16,
   "id": "8c879b50-23ba-401f-84ff-3e7103e23e17",
   "metadata": {},
   "outputs": [
    {
     "name": "stdout",
     "output_type": "stream",
     "text": [
      "Train size: 8982\n",
      "Train shape: (8982,)\n"
     ]
    }
   ],
   "source": [
    "print(f'Train size: {len(train_data)}')\n",
    "print(f'Train shape: {train_data.shape}')"
   ]
  },
  {
   "cell_type": "code",
   "execution_count": 17,
   "id": "760a24a7-82cf-4139-b663-f0b20a63a517",
   "metadata": {},
   "outputs": [
    {
     "name": "stdout",
     "output_type": "stream",
     "text": [
      "[1, 2, 2, 8, 43, 10, 447, 5, 25, 207, 270, 5, 3095, 111, 16, 369, 186, 90, 67, 7, 89, 5, 19, 102, 6, 19, 124, 15, 90, 67, 84, 22, 482, 26, 7, 48, 4, 49, 8, 864, 39, 209, 154, 6, 151, 6, 83, 11, 15, 22, 155, 11, 15, 7, 48, 9, 4579, 1005, 504, 6, 258, 6, 272, 11, 15, 22, 134, 44, 11, 15, 16, 8, 197, 1245, 90, 67, 52, 29, 209, 30, 32, 132, 6, 109, 15, 17, 12]\n"
     ]
    }
   ],
   "source": [
    "print(train_data[0])"
   ]
  },
  {
   "cell_type": "code",
   "execution_count": 18,
   "id": "56143667-f208-44a3-bf2a-90c5fa70d02c",
   "metadata": {},
   "outputs": [],
   "source": [
    "# decode back to text \n",
    "word_index = reuters.get_word_index()\n",
    "reverse_word_index = dict(\n",
    "    [(value, key) for (key, value) in word_index.items()]\n",
    ")\n",
    "\n",
    "decoded_newswire = ' '.join(\n",
    "    [reverse_word_index.get(i - 3, '?') for i in X_train[0]]\n",
    ")"
   ]
  },
  {
   "cell_type": "code",
   "execution_count": 19,
   "id": "fb606933-e83c-4209-b18d-8abc361698e4",
   "metadata": {},
   "outputs": [
    {
     "data": {
      "text/plain": [
       "'? vs from it as must exporters ability whole oil support slash trade 920 the officials he policy of its other as slightly against which continued ? and billion following 28 of dlr the into against stg ? results sold net the into becomes view reuter 38 s for result the west which it to 25 atlantic 1 vs from the differentials slack services the from inc prices 3 it as must s market dlrs for versus the from reuter completed reuter 3 it l 000 ? of were budget 3 said terms said government of the ensure besides it following trade 292 will the japan 3 it s special of its 30 but he total 1986 its stood will to from 3 analysts at they this of vs days it tonnes ? said the if over pulp dlrs policy the ? in aires of bills he inc as must them cts development crude loss in the ? rubber for february sales the held dlrs who quarter 2 duties lt cts international to any forthcoming 000 the further from on 12 them cts following of there be 005 000 but he at since after its february the further oil it s stable sales 3 it sugar of it stepped dollar group 2 dlrs it 542 1 oper 2'"
      ]
     },
     "execution_count": 19,
     "metadata": {},
     "output_type": "execute_result"
    }
   ],
   "source": [
    "decoded_newswire"
   ]
  },
  {
   "cell_type": "code",
   "execution_count": 20,
   "id": "f1d7881f-d447-4aac-b7ed-19a742beef72",
   "metadata": {},
   "outputs": [],
   "source": [
    "# prepare the data (vectorize the data)\n",
    "X_train = vec_seq(train_data)\n",
    "X_test = vec_seq(test_data)"
   ]
  },
  {
   "cell_type": "code",
   "execution_count": 21,
   "id": "a2555b0e-9c1c-4167-89eb-0be75e00c252",
   "metadata": {},
   "outputs": [],
   "source": [
    "# encoding labels to one hot encoder\n",
    "def to_one_hot(labels, dimension=46):\n",
    "    results = np.zeros((len(labels), dimension))\n",
    "    \n",
    "    for i, label in enumerate(labels):\n",
    "        results[i, label] = 1\n",
    "        \n",
    "    return results\n",
    "\n",
    "y_train = to_one_hot(train_labels)\n",
    "y_test = to_one_hot(test_labels)"
   ]
  },
  {
   "cell_type": "code",
   "execution_count": 22,
   "id": "caaef609-a438-4974-8a70-6a4aa3f1eaf2",
   "metadata": {},
   "outputs": [
    {
     "name": "stdout",
     "output_type": "stream",
     "text": [
      "[0.0, 0.0, 0.0, 1.0, 0.0, 0.0, 0.0, 0.0, 0.0, 0.0, 0.0, 0.0, 0.0, 0.0, 0.0, 0.0, 0.0, 0.0, 0.0, 0.0, 0.0, 0.0, 0.0, 0.0, 0.0, 0.0, 0.0, 0.0, 0.0, 0.0, 0.0, 0.0, 0.0, 0.0, 0.0, 0.0, 0.0, 0.0, 0.0, 0.0, 0.0, 0.0, 0.0, 0.0, 0.0, 0.0]\n",
      "Class of each sample: 46\n"
     ]
    }
   ],
   "source": [
    "# using keras built-in function\n",
    "from tensorflow.keras.utils import to_categorical\n",
    "y_train = to_categorical(train_labels)\n",
    "y_test = to_categorical(test_labels)\n",
    "\n",
    "print([i for i in y_train[0]])\n",
    "print(f'Class of each sample: {len(y_train[0])}')"
   ]
  },
  {
   "cell_type": "markdown",
   "id": "d60f9c2e-f34b-43d3-b661-cd66cfd21ff6",
   "metadata": {},
   "source": [
    "#### Build model"
   ]
  },
  {
   "cell_type": "code",
   "execution_count": 33,
   "id": "c5a5b94c-a2a9-469d-8494-b1254125edfd",
   "metadata": {},
   "outputs": [],
   "source": [
    "model = keras.Sequential([\n",
    "    Dense(128, activation='relu'),\n",
    "    Dense(64, activation='relu'),\n",
    "    Dense(46, activation='softmax'),\n",
    "])"
   ]
  },
  {
   "cell_type": "markdown",
   "id": "030652d3-7d85-4690-acf2-9a35bf147af5",
   "metadata": {},
   "source": [
    "Similar of the previous model activation, a plain network is counstruct by using `Dense` layer. The different is we use `softmax` activation function in the last layer.\\ The reason we use 46 units is because of each of the training example have different 46 class.\n",
    "**Softmax** activation function return a probabilities distribution of each class as an output.\n"
   ]
  },
  {
   "cell_type": "markdown",
   "id": "975aa68b-fa41-40cd-a524-8aa5d29fc6ed",
   "metadata": {},
   "source": [
    "#### Compile and Train"
   ]
  },
  {
   "cell_type": "code",
   "execution_count": 34,
   "id": "e00725bc-0ecc-4c5e-83d8-1189c95b0549",
   "metadata": {},
   "outputs": [],
   "source": [
    "# compile the model\n",
    "model.compile(\n",
    "    optimizer=\"rmsprop\",\n",
    "     loss=\"categorical_crossentropy\",\n",
    "     metrics=[\"accuracy\"])"
   ]
  },
  {
   "cell_type": "code",
   "execution_count": 35,
   "id": "b91da7d4-1a8b-4680-8a59-edd1454d3d27",
   "metadata": {},
   "outputs": [],
   "source": [
    "# split train and dev set\n",
    "# validation set\n",
    "val_train = X_train[:1000]\n",
    "val_labels = y_train[:1000]\n",
    "\n",
    "# train set\n",
    "partial_X_train = X_train[1000:]\n",
    "partial_y_train = y_train[1000:]"
   ]
  },
  {
   "cell_type": "code",
   "execution_count": 36,
   "id": "f8d36c15-ff5c-46d7-b6a5-428d246d42c5",
   "metadata": {},
   "outputs": [
    {
     "name": "stdout",
     "output_type": "stream",
     "text": [
      "Epoch 1/20\n"
     ]
    },
    {
     "name": "stderr",
     "output_type": "stream",
     "text": [
      "2022-02-10 11:29:08.180152: I tensorflow/core/grappler/optimizers/custom_graph_optimizer_registry.cc:112] Plugin optimizer for device_type GPU is enabled.\n"
     ]
    },
    {
     "name": "stdout",
     "output_type": "stream",
     "text": [
      "16/16 [==============================] - 1s 30ms/step - loss: 2.3282 - accuracy: 0.5750 - val_loss: 1.4729 - val_accuracy: 0.6910\n",
      "Epoch 2/20\n",
      " 1/16 [>.............................] - ETA: 0s - loss: 1.3579 - accuracy: 0.7207"
     ]
    },
    {
     "name": "stderr",
     "output_type": "stream",
     "text": [
      "2022-02-10 11:29:08.815226: I tensorflow/core/grappler/optimizers/custom_graph_optimizer_registry.cc:112] Plugin optimizer for device_type GPU is enabled.\n"
     ]
    },
    {
     "name": "stdout",
     "output_type": "stream",
     "text": [
      "16/16 [==============================] - 0s 15ms/step - loss: 1.1625 - accuracy: 0.7502 - val_loss: 1.1301 - val_accuracy: 0.7670\n",
      "Epoch 3/20\n",
      "16/16 [==============================] - 0s 14ms/step - loss: 0.8262 - accuracy: 0.8221 - val_loss: 1.0019 - val_accuracy: 0.7960\n",
      "Epoch 4/20\n",
      "16/16 [==============================] - 0s 14ms/step - loss: 0.6179 - accuracy: 0.8747 - val_loss: 0.9312 - val_accuracy: 0.8070\n",
      "Epoch 5/20\n",
      "16/16 [==============================] - 0s 14ms/step - loss: 0.4663 - accuracy: 0.9045 - val_loss: 0.9119 - val_accuracy: 0.8150\n",
      "Epoch 6/20\n",
      "16/16 [==============================] - 0s 14ms/step - loss: 0.3585 - accuracy: 0.9232 - val_loss: 0.9923 - val_accuracy: 0.7820\n",
      "Epoch 7/20\n",
      "16/16 [==============================] - 0s 14ms/step - loss: 0.2848 - accuracy: 0.9361 - val_loss: 0.8837 - val_accuracy: 0.8260\n",
      "Epoch 8/20\n",
      "16/16 [==============================] - 0s 14ms/step - loss: 0.2350 - accuracy: 0.9446 - val_loss: 0.9031 - val_accuracy: 0.8260\n",
      "Epoch 9/20\n",
      "16/16 [==============================] - 0s 14ms/step - loss: 0.1942 - accuracy: 0.9509 - val_loss: 0.9233 - val_accuracy: 0.8240\n",
      "Epoch 10/20\n",
      "16/16 [==============================] - 0s 14ms/step - loss: 0.1758 - accuracy: 0.9524 - val_loss: 1.0090 - val_accuracy: 0.8090\n",
      "Epoch 11/20\n",
      "16/16 [==============================] - 0s 15ms/step - loss: 0.1578 - accuracy: 0.9540 - val_loss: 0.9557 - val_accuracy: 0.8210\n",
      "Epoch 12/20\n",
      "16/16 [==============================] - 0s 14ms/step - loss: 0.1430 - accuracy: 0.9550 - val_loss: 0.9720 - val_accuracy: 0.8100\n",
      "Epoch 13/20\n",
      "16/16 [==============================] - 0s 14ms/step - loss: 0.1379 - accuracy: 0.9564 - val_loss: 1.1049 - val_accuracy: 0.7940\n",
      "Epoch 14/20\n",
      "16/16 [==============================] - 0s 14ms/step - loss: 0.1337 - accuracy: 0.9557 - val_loss: 1.0045 - val_accuracy: 0.8090\n",
      "Epoch 15/20\n",
      "16/16 [==============================] - 0s 14ms/step - loss: 0.1257 - accuracy: 0.9588 - val_loss: 1.0374 - val_accuracy: 0.8110\n",
      "Epoch 16/20\n",
      "16/16 [==============================] - 0s 14ms/step - loss: 0.1171 - accuracy: 0.9574 - val_loss: 1.0692 - val_accuracy: 0.8080\n",
      "Epoch 17/20\n",
      "16/16 [==============================] - 0s 14ms/step - loss: 0.1195 - accuracy: 0.9568 - val_loss: 1.0987 - val_accuracy: 0.7990\n",
      "Epoch 18/20\n",
      "16/16 [==============================] - 0s 14ms/step - loss: 0.1154 - accuracy: 0.9558 - val_loss: 1.1068 - val_accuracy: 0.8030\n",
      "Epoch 19/20\n",
      "16/16 [==============================] - 0s 14ms/step - loss: 0.1118 - accuracy: 0.9572 - val_loss: 1.1078 - val_accuracy: 0.8050\n",
      "Epoch 20/20\n",
      "16/16 [==============================] - 0s 14ms/step - loss: 0.1080 - accuracy: 0.9587 - val_loss: 1.2010 - val_accuracy: 0.7860\n"
     ]
    }
   ],
   "source": [
    "# train model\n",
    "history = model.fit(\n",
    "            partial_X_train,\n",
    "            partial_y_train,\n",
    "            epochs= 20,\n",
    "            batch_size=512,\n",
    "            validation_data=(val_train, val_labels)\n",
    ")"
   ]
  },
  {
   "cell_type": "code",
   "execution_count": 37,
   "id": "94cc5757-b821-4675-af61-08961aae113d",
   "metadata": {},
   "outputs": [
    {
     "name": "stdout",
     "output_type": "stream",
     "text": [
      "dict_keys(['loss', 'accuracy', 'val_loss', 'val_accuracy'])\n",
      "0.39596235901117327 1.0408688336610794\n"
     ]
    },
    {
     "data": {
      "image/png": "[encoded data removed]",
      "text/plain": [
       "<Figure size 432x288 with 1 Axes>"
      ]
     },
     "metadata": {
      "needs_background": "light"
     },
     "output_type": "display_data"
    },
    {
     "name": "stdout",
     "output_type": "stream",
     "text": [
      "0.909972482919693 0.7994500398635864\n"
     ]
    },
    {
     "data": {
      "image/png": "[encoded data removed]",
      "text/plain": [
       "<Figure size 432x288 with 1 Axes>"
      ]
     },
     "metadata": {
      "needs_background": "light"
     },
     "output_type": "display_data"
    }
   ],
   "source": [
    "history_dict = history.history\n",
    "print(history_dict.keys())\n",
    "\n",
    "loss_plot()\n",
    "acc_plot()"
   ]
  },
  {
   "cell_type": "markdown",
   "id": "f9f46284-bf54-4e36-963a-e80cc93b24bd",
   "metadata": {},
   "source": [
    "#### Retrian the model"
   ]
  },
  {
   "cell_type": "code",
   "execution_count": 43,
   "id": "9600fb75-318e-4ddb-a076-8bca1f0160ca",
   "metadata": {},
   "outputs": [
    {
     "name": "stdout",
     "output_type": "stream",
     "text": [
      "Epoch 1/10\n"
     ]
    },
    {
     "name": "stderr",
     "output_type": "stream",
     "text": [
      "2022-02-10 11:34:32.838540: I tensorflow/core/grappler/optimizers/custom_graph_optimizer_registry.cc:112] Plugin optimizer for device_type GPU is enabled.\n"
     ]
    },
    {
     "name": "stdout",
     "output_type": "stream",
     "text": [
      "16/16 [==============================] - 1s 26ms/step - loss: 2.4039 - accuracy: 0.5428 - val_loss: 1.5049 - val_accuracy: 0.6550\n",
      "Epoch 2/10\n",
      " 9/16 [===============>..............] - ETA: 0s - loss: 1.2923 - accuracy: 0.7094"
     ]
    },
    {
     "name": "stderr",
     "output_type": "stream",
     "text": [
      "2022-02-10 11:34:33.408646: I tensorflow/core/grappler/optimizers/custom_graph_optimizer_registry.cc:112] Plugin optimizer for device_type GPU is enabled.\n"
     ]
    },
    {
     "name": "stdout",
     "output_type": "stream",
     "text": [
      "16/16 [==============================] - 0s 15ms/step - loss: 1.2583 - accuracy: 0.7139 - val_loss: 1.2654 - val_accuracy: 0.7320\n",
      "Epoch 3/10\n",
      "16/16 [==============================] - 0s 15ms/step - loss: 0.9126 - accuracy: 0.7959 - val_loss: 1.0669 - val_accuracy: 0.7650\n",
      "Epoch 4/10\n",
      "16/16 [==============================] - 0s 15ms/step - loss: 0.7010 - accuracy: 0.8429 - val_loss: 0.9876 - val_accuracy: 0.7880\n",
      "Epoch 5/10\n",
      "16/16 [==============================] - 0s 17ms/step - loss: 0.5255 - accuracy: 0.8875 - val_loss: 0.9644 - val_accuracy: 0.8050\n",
      "Epoch 6/10\n",
      "16/16 [==============================] - 0s 16ms/step - loss: 0.4044 - accuracy: 0.9164 - val_loss: 0.9874 - val_accuracy: 0.7960\n",
      "Epoch 7/10\n",
      "16/16 [==============================] - 0s 15ms/step - loss: 0.3137 - accuracy: 0.9305 - val_loss: 0.9963 - val_accuracy: 0.8030\n",
      "Epoch 8/10\n",
      "16/16 [==============================] - 0s 15ms/step - loss: 0.2666 - accuracy: 0.9405 - val_loss: 0.9913 - val_accuracy: 0.8110\n",
      "Epoch 9/10\n",
      "16/16 [==============================] - 0s 15ms/step - loss: 0.2083 - accuracy: 0.9508 - val_loss: 1.0282 - val_accuracy: 0.8100\n",
      "Epoch 10/10\n",
      "16/16 [==============================] - 0s 16ms/step - loss: 0.1932 - accuracy: 0.9514 - val_loss: 1.0057 - val_accuracy: 0.8080\n",
      "71/71 [==============================] - 1s 8ms/step - loss: 1.1199 - accuracy: 0.7836\n"
     ]
    }
   ],
   "source": [
    "model = keras.Sequential([\n",
    "    Dense(128, activation='relu'),\n",
    "    Dense(64, activation='relu'),\n",
    "    Dense(64, activation='relu'),\n",
    "    Dense(46, activation='softmax'),\n",
    "])\n",
    "\n",
    "model.compile(\n",
    "    optimizer=\"rmsprop\",\n",
    "     loss=\"categorical_crossentropy\",\n",
    "     metrics=[\"accuracy\"])\n",
    "\n",
    "# train model\n",
    "history = model.fit(\n",
    "            partial_X_train,\n",
    "            partial_y_train,\n",
    "            epochs= 10,\n",
    "            batch_size=512,\n",
    "            validation_data=(val_train, val_labels)\n",
    ")\n",
    "\n",
    "result = model.evaluate(X_test, y_test)"
   ]
  },
  {
   "cell_type": "code",
   "execution_count": 44,
   "id": "90d04dfe-3b85-4722-8fa9-05c246a400e2",
   "metadata": {},
   "outputs": [
    {
     "name": "stdout",
     "output_type": "stream",
     "text": [
      "dict_keys(['loss', 'accuracy', 'val_loss', 'val_accuracy'])\n",
      "0.7187372341752052 1.0798295080661773\n"
     ]
    },
    {
     "data": {
      "image/png": "[encoded data removed]",
      "text/plain": [
       "<Figure size 432x288 with 1 Axes>"
      ]
     },
     "metadata": {
      "needs_background": "light"
     },
     "output_type": "display_data"
    },
    {
     "name": "stdout",
     "output_type": "stream",
     "text": [
      "0.8472563743591308 0.7773000478744507\n"
     ]
    },
    {
     "data": {
      "image/png": "[encoded data removed]",
      "text/plain": [
       "<Figure size 432x288 with 1 Axes>"
      ]
     },
     "metadata": {
      "needs_background": "light"
     },
     "output_type": "display_data"
    }
   ],
   "source": [
    "history_dict = history.history\n",
    "print(history_dict.keys())\n",
    "\n",
    "loss_plot()\n",
    "acc_plot()"
   ]
  },
  {
   "cell_type": "markdown",
   "id": "ddcffbac-1275-4f0e-bbb6-754da1b1c194",
   "metadata": {},
   "source": [
    "#### Predicting the test data"
   ]
  },
  {
   "cell_type": "code",
   "execution_count": 58,
   "id": "b2ddf0a3-2552-4d77-800a-1fae6fe9f571",
   "metadata": {},
   "outputs": [],
   "source": [
    "predictions = model.predict(X_test)\n",
    "def check_prediction(index):\n",
    "    print(f'Ground truth of sample {index} : {np.argmax(y_test[index])} ,\\\n",
    "    Prediction of sample {index} : {np.argmax(predictions[index])}')"
   ]
  },
  {
   "cell_type": "code",
   "execution_count": 61,
   "id": "b6450b4f-c034-469c-9dc8-4ffab72da8cb",
   "metadata": {},
   "outputs": [
    {
     "name": "stdout",
     "output_type": "stream",
     "text": [
      "Ground truth of sample 19 : 3 ,    Prediction of sample 19 : 3\n"
     ]
    }
   ],
   "source": [
    "check_prediction(19)"
   ]
  },
  {
   "cell_type": "markdown",
   "id": "85254de7-26ea-4ac2-900e-744bc0694105",
   "metadata": {},
   "source": [
    "#### Different way to handle the labels and the loss\n",
    "We also can use a sparse categorial as a labels"
   ]
  },
  {
   "cell_type": "code",
   "execution_count": 63,
   "id": "c6ba10af-8d4d-4d27-a525-25d76a08ad6b",
   "metadata": {},
   "outputs": [
    {
     "data": {
      "text/plain": [
       "'\\nmodel.compile(\\n    optimizer=\\'rmsprop\\',\\n    loss=\"sparse_categorical_crossentropy\",\\n    metrics=[\"accuracy\"]\\n)\\n'"
      ]
     },
     "execution_count": 63,
     "metadata": {},
     "output_type": "execute_result"
    }
   ],
   "source": [
    "sparse_y_train = np.array(y_train)\n",
    "sparse_y_test = np.array(y_test)\n",
    "\n",
    "\"\"\"\n",
    "model.compile(\n",
    "    optimizer='rmsprop',\n",
    "    loss=\"sparse_categorical_crossentropy\",\n",
    "    metrics=[\"accuracy\"]\n",
    ")\n",
    "\"\"\""
   ]
  },
  {
   "cell_type": "markdown",
   "id": "f48ef7db-396d-4dc7-a5de-ea0e5941f94d",
   "metadata": {},
   "source": [
    "#### The bottleneck architecture\n",
    "While try to compress the units so much it's may drop the performance dramatically. So we should avoid intermediate layers"
   ]
  },
  {
   "cell_type": "code",
   "execution_count": 66,
   "id": "f4ed4403-62b0-4dc4-907f-dc952a7aa996",
   "metadata": {},
   "outputs": [
    {
     "name": "stdout",
     "output_type": "stream",
     "text": [
      "Epoch 1/20\n"
     ]
    },
    {
     "name": "stderr",
     "output_type": "stream",
     "text": [
      "2022-02-10 11:51:57.661825: I tensorflow/core/grappler/optimizers/custom_graph_optimizer_registry.cc:112] Plugin optimizer for device_type GPU is enabled.\n"
     ]
    },
    {
     "name": "stdout",
     "output_type": "stream",
     "text": [
      "63/63 [==============================] - 2s 16ms/step - loss: 1.8968 - accuracy: 0.5877 - val_loss: 1.3027 - val_accuracy: 0.7040\n",
      "Epoch 2/20\n",
      " 1/63 [..............................] - ETA: 0s - loss: 1.4339 - accuracy: 0.6953"
     ]
    },
    {
     "name": "stderr",
     "output_type": "stream",
     "text": [
      "2022-02-10 11:51:58.778883: I tensorflow/core/grappler/optimizers/custom_graph_optimizer_registry.cc:112] Plugin optimizer for device_type GPU is enabled.\n"
     ]
    },
    {
     "name": "stdout",
     "output_type": "stream",
     "text": [
      "63/63 [==============================] - 1s 13ms/step - loss: 1.0469 - accuracy: 0.7610 - val_loss: 1.1205 - val_accuracy: 0.7450\n",
      "Epoch 3/20\n",
      "63/63 [==============================] - 1s 13ms/step - loss: 0.7304 - accuracy: 0.8366 - val_loss: 0.9864 - val_accuracy: 0.7950\n",
      "Epoch 4/20\n",
      "63/63 [==============================] - 1s 13ms/step - loss: 0.5136 - accuracy: 0.8855 - val_loss: 1.0000 - val_accuracy: 0.8120\n",
      "Epoch 5/20\n",
      "63/63 [==============================] - 1s 13ms/step - loss: 0.3739 - accuracy: 0.9144 - val_loss: 1.0429 - val_accuracy: 0.7990\n",
      "Epoch 6/20\n",
      "63/63 [==============================] - 1s 13ms/step - loss: 0.2928 - accuracy: 0.9361 - val_loss: 1.0536 - val_accuracy: 0.8030\n",
      "Epoch 7/20\n",
      "63/63 [==============================] - 1s 13ms/step - loss: 0.2359 - accuracy: 0.9449 - val_loss: 1.1323 - val_accuracy: 0.8000\n",
      "Epoch 8/20\n",
      "63/63 [==============================] - 1s 13ms/step - loss: 0.2029 - accuracy: 0.9483 - val_loss: 1.1437 - val_accuracy: 0.7880\n",
      "Epoch 9/20\n",
      "63/63 [==============================] - 1s 14ms/step - loss: 0.1801 - accuracy: 0.9515 - val_loss: 1.3474 - val_accuracy: 0.7710\n",
      "Epoch 10/20\n",
      "63/63 [==============================] - 1s 14ms/step - loss: 0.1640 - accuracy: 0.9545 - val_loss: 1.3052 - val_accuracy: 0.7790\n",
      "Epoch 11/20\n",
      "63/63 [==============================] - 1s 13ms/step - loss: 0.1580 - accuracy: 0.9553 - val_loss: 1.1863 - val_accuracy: 0.7900\n",
      "Epoch 12/20\n",
      "63/63 [==============================] - 1s 13ms/step - loss: 0.1446 - accuracy: 0.9557 - val_loss: 1.3785 - val_accuracy: 0.7870\n",
      "Epoch 13/20\n",
      "63/63 [==============================] - 1s 13ms/step - loss: 0.1411 - accuracy: 0.9551 - val_loss: 1.3383 - val_accuracy: 0.7760\n",
      "Epoch 14/20\n",
      "63/63 [==============================] - 1s 13ms/step - loss: 0.1332 - accuracy: 0.9558 - val_loss: 1.2888 - val_accuracy: 0.7970\n",
      "Epoch 15/20\n",
      "63/63 [==============================] - 1s 13ms/step - loss: 0.1233 - accuracy: 0.9560 - val_loss: 1.3259 - val_accuracy: 0.7910\n",
      "Epoch 16/20\n",
      "63/63 [==============================] - 1s 13ms/step - loss: 0.1194 - accuracy: 0.9573 - val_loss: 1.3677 - val_accuracy: 0.7870\n",
      "Epoch 17/20\n",
      "63/63 [==============================] - 1s 13ms/step - loss: 0.1182 - accuracy: 0.9570 - val_loss: 1.4371 - val_accuracy: 0.7870\n",
      "Epoch 18/20\n",
      "63/63 [==============================] - 1s 13ms/step - loss: 0.1123 - accuracy: 0.9565 - val_loss: 1.4568 - val_accuracy: 0.7810\n",
      "Epoch 19/20\n",
      "63/63 [==============================] - 1s 13ms/step - loss: 0.1108 - accuracy: 0.9545 - val_loss: 1.4186 - val_accuracy: 0.7900\n",
      "Epoch 20/20\n",
      "63/63 [==============================] - 1s 13ms/step - loss: 0.1058 - accuracy: 0.9578 - val_loss: 1.5220 - val_accuracy: 0.7830\n"
     ]
    },
    {
     "data": {
      "text/plain": [
       "<keras.callbacks.History at 0x2aacd2eb0>"
      ]
     },
     "execution_count": 66,
     "metadata": {},
     "output_type": "execute_result"
    }
   ],
   "source": [
    "model = keras.Sequential([\n",
    " Dense(64, activation=\"relu\"),\n",
    " Dense(128, activation=\"relu\"),\n",
    " Dense(32, activation=\"relu\"),\n",
    " Dense(46, activation=\"softmax\")\n",
    "])\n",
    "\n",
    "model.compile(\n",
    "     optimizer=\"rmsprop\",\n",
    "     loss=\"categorical_crossentropy\",\n",
    "     metrics=[\"accuracy\"])\n",
    "\n",
    "model.fit(\n",
    "     partial_X_train,\n",
    "     partial_y_train,\n",
    "     epochs=20,\n",
    "     batch_size=128,\n",
    "     validation_data=(val_train, val_labels))"
   ]
  },
  {
   "cell_type": "code",
   "execution_count": null,
   "id": "f99824cf-29d7-40d1-bfe8-4ba66b54cc27",
   "metadata": {},
   "outputs": [],
   "source": []
  }
 ],
 "metadata": {
  "kernelspec": {
   "display_name": "one4all",
   "language": "python",
   "name": "one4all"
  },
  "language_info": {
   "codemirror_mode": {
    "name": "ipython",
    "version": 3
   },
   "file_extension": ".py",
   "mimetype": "text/x-python",
   "name": "python",
   "nbconvert_exporter": "python",
   "pygments_lexer": "ipython3",
   "version": "3.8.12"
  }
 },
 "nbformat": 4,
 "nbformat_minor": 5
}
