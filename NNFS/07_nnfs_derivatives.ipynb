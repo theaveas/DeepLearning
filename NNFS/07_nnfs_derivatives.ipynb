{
  "cells": [
    {
      "cell_type": "markdown",
      "metadata": {
        "id": "view-in-github",
        "colab_type": "text"
      },
      "source": [
        "<a href=\"https://colab.research.google.com/github/theaveas/DeepLearning/blob/main/NNFS/07_nnfs_derivatives.ipynb\" target=\"_parent\"><img src=\"https://colab.research.google.com/assets/colab-badge.svg\" alt=\"Open In Colab\"/></a>"
      ]
    },
    {
      "cell_type": "markdown",
      "id": "9c927d65-9642-4a5e-bf92-988eac5d5dfa",
      "metadata": {
        "id": "9c927d65-9642-4a5e-bf92-988eac5d5dfa"
      },
      "source": [
        "# Derivatives\n",
        "## The impact of a Parameter on the Output"
      ]
    },
    {
      "cell_type": "code",
      "execution_count": 1,
      "id": "de464442-b140-49fa-a7be-a52ab430dd8c",
      "metadata": {
        "id": "de464442-b140-49fa-a7be-a52ab430dd8c",
        "outputId": "b2cbdea2-03cd-4e57-9e2f-d1688934d9d1",
        "colab": {
          "base_uri": "https://localhost:8080/"
        }
      },
      "outputs": [
        {
          "output_type": "stream",
          "name": "stdout",
          "text": [
            "3.7.12\n",
            "1.19.5\n",
            "3.2.2\n"
          ]
        }
      ],
      "source": [
        "import platform\n",
        "import numpy as np\n",
        "import matplotlib\n",
        "import matplotlib.pyplot as plt\n",
        "\n",
        "print(platform.python_version())\n",
        "print(np.__version__)\n",
        "print(matplotlib. __version__)\n",
        "\n",
        "#python version 3.9.7\n",
        "#numpy version 1.21.2\n",
        "#matplotlib version 3.5.0"
      ]
    },
    {
      "cell_type": "code",
      "execution_count": 2,
      "id": "8f5f14f4-801a-4af6-a2b0-c250ca692003",
      "metadata": {
        "id": "8f5f14f4-801a-4af6-a2b0-c250ca692003",
        "outputId": "8b45c686-4499-430a-f100-41db9e13b84a",
        "colab": {
          "base_uri": "https://localhost:8080/",
          "height": 300
        }
      },
      "outputs": [
        {
          "output_type": "stream",
          "name": "stdout",
          "text": [
            "[0 1 2 3 4]\n",
            "[0 2 4 6 8]\n"
          ]
        },
        {
          "output_type": "display_data",
          "data": {
            "image/png": "[encoded data removed]",
            "text/plain": [
              "<Figure size 432x288 with 1 Axes>"
            ]
          },
          "metadata": {
            "needs_background": "light"
          }
        }
      ],
      "source": [
        "# linear function\n",
        "def f(x):\n",
        "    return 2 * x\n",
        "\n",
        "x = np.array(range(5))\n",
        "y = f(x)\n",
        "\n",
        "print(x)\n",
        "print(y)\n",
        "\n",
        "plt.plot(x, y)\n",
        "plt.show()"
      ]
    },
    {
      "cell_type": "markdown",
      "id": "eaa98fff-6be2-4e17-94a7-b6f2240edf3c",
      "metadata": {
        "id": "eaa98fff-6be2-4e17-94a7-b6f2240edf3c"
      },
      "source": [
        "## The Slope\n",
        "From the function above, some will say, `y is double x` Another way to describe the impact of a linear function such as this comes from algebra: the **slope**\\\n",
        "`change in y` / `change in x` = `dy`/`dx`\\\n",
        "If is change in **y** divideed by change in **x**, to calculate the slope\n",
        "1. take any two points lying on the function's graph \n",
        "2. subtract them to calculating the change\n",
        "3. subtracting the points means to subtract their x and y dimensions respectively"
      ]
    },
    {
      "cell_type": "code",
      "execution_count": 3,
      "id": "add91f57-cda3-4730-ade0-b6b166e6ef78",
      "metadata": {
        "id": "add91f57-cda3-4730-ade0-b6b166e6ef78",
        "outputId": "b99ea9d5-4d9f-4d79-8f67-9effbcff07c6",
        "colab": {
          "base_uri": "https://localhost:8080/"
        }
      },
      "outputs": [
        {
          "output_type": "stream",
          "name": "stdout",
          "text": [
            "2.0\n"
          ]
        }
      ],
      "source": [
        "# note y = f(x) where x = 2\n",
        "print((y[1]-y[0])/(x[1] - x[0]))"
      ]
    },
    {
      "cell_type": "code",
      "execution_count": 4,
      "id": "b343d9a7-3edd-4620-983b-1baa47af9c84",
      "metadata": {
        "id": "b343d9a7-3edd-4620-983b-1baa47af9c84",
        "outputId": "a99351b9-cfd9-4e00-ee3d-e7af44b5d97e",
        "colab": {
          "base_uri": "https://localhost:8080/",
          "height": 300
        }
      },
      "outputs": [
        {
          "output_type": "stream",
          "name": "stdout",
          "text": [
            "[0 1 2 3 4]\n",
            "[ 0  2  8 18 32]\n"
          ]
        },
        {
          "output_type": "display_data",
          "data": {
            "image/png": "[encoded data removed]",
            "text/plain": [
              "<Figure size 432x288 with 1 Axes>"
            ]
          },
          "metadata": {
            "needs_background": "light"
          }
        }
      ],
      "source": [
        "# nonlinear function (parabolic)\n",
        "def f(x):\n",
        "    return 2 * x**2\n",
        "\n",
        "x = np.array(range(5))\n",
        "y = f(x)\n",
        "\n",
        "print(x)\n",
        "print(y)\n",
        "\n",
        "plt.plot(x, y)\n",
        "plt.show()"
      ]
    },
    {
      "cell_type": "markdown",
      "id": "fb6e994c-829a-42c5-87ac-3c425afa6008",
      "metadata": {
        "id": "fb6e994c-829a-42c5-87ac-3c425afa6008"
      },
      "source": [
        "How might we measure the impact theat x has on y in *nonlinear* function? **Calculus** proposes that we measure the slope of the **tangent line**, giving us the **instantaneous slope**, which is the **deravative**(slope).\\\n",
        "The **tangent line** is created by drawing a line between two points that are `infinitely close` on a curve, but this curve has to be differentiable at the derivation point."
      ]
    },
    {
      "cell_type": "markdown",
      "id": "3a5e043a-3e16-42c2-bf68-660bf061336d",
      "metadata": {
        "id": "3a5e043a-3e16-42c2-bf68-660bf061336d"
      },
      "source": [
        "## The Numerical Derivative\n",
        "Calculating the slope of the tangent line using two infinitely close points, or calculating the slope of a tengent line made from two points that were `sufficiently close`. "
      ]
    },
    {
      "cell_type": "code",
      "execution_count": 5,
      "id": "67d96fb8-62b9-48a0-8b6a-30d0bcd89a12",
      "metadata": {
        "id": "67d96fb8-62b9-48a0-8b6a-30d0bcd89a12",
        "outputId": "1977e723-d484-404a-d223-630ae3fff261",
        "colab": {
          "base_uri": "https://localhost:8080/",
          "height": 282
        }
      },
      "outputs": [
        {
          "output_type": "execute_result",
          "data": {
            "text/plain": [
              "[<matplotlib.lines.Line2D at 0x7f570784f310>]"
            ]
          },
          "metadata": {},
          "execution_count": 5
        },
        {
          "output_type": "display_data",
          "data": {
            "image/png": "[encoded data removed]",
            "text/plain": [
              "<Figure size 432x288 with 1 Axes>"
            ]
          },
          "metadata": {
            "needs_background": "light"
          }
        }
      ],
      "source": [
        "def f(x):\n",
        "    return 2*x**2\n",
        "\n",
        "# np.arange(start, stop, step) to give us smoother line\n",
        "x = np.arange(0, 5, 0.001)\n",
        "y = f(x)\n",
        "\n",
        "plt.plot(x, y)"
      ]
    },
    {
      "cell_type": "code",
      "execution_count": 6,
      "id": "a35614b9-9470-42dd-a364-c3e43afabb19",
      "metadata": {
        "id": "a35614b9-9470-42dd-a364-c3e43afabb19",
        "outputId": "31fba78e-f995-43de-d664-55f898b9248e",
        "colab": {
          "base_uri": "https://localhost:8080/"
        }
      },
      "outputs": [
        {
          "output_type": "stream",
          "name": "stdout",
          "text": [
            "(2, 8) (2.0001, 8.000800020000002)\n",
            "8.000199999998785\n"
          ]
        }
      ],
      "source": [
        "# the point and the close enough point\n",
        "p2_delta = 0.0001\n",
        "x1 = 2\n",
        "x2 = 2 + p2_delta\n",
        "\n",
        "y1 = f(x1)\n",
        "y2 = f(x2)\n",
        "\n",
        "print((x1, y1,), (x2, y2))\n",
        "\n",
        "# deraviative approx and y-intercept for the tengent line\n",
        "dapprox = (y2-y1) / (x2-x1)\n",
        "b = y2 - dapprox*x2\n",
        "print(dapprox)"
      ]
    },
    {
      "cell_type": "code",
      "execution_count": 7,
      "id": "92940b33-c7b5-42e5-9b29-2398684e8bde",
      "metadata": {
        "id": "92940b33-c7b5-42e5-9b29-2398684e8bde",
        "outputId": "643f2ac7-ca6c-462b-ac69-e03405d0c9cc",
        "colab": {
          "base_uri": "https://localhost:8080/",
          "height": 282
        }
      },
      "outputs": [
        {
          "output_type": "stream",
          "name": "stdout",
          "text": [
            "Approximate derivative for f(x) where x = 2 is 8.000199999998785\n"
          ]
        },
        {
          "output_type": "display_data",
          "data": {
            "image/png": "[encoded data removed]",
            "text/plain": [
              "<Figure size 432x288 with 1 Axes>"
            ]
          },
          "metadata": {
            "needs_background": "light"
          }
        }
      ],
      "source": [
        "# tengent_line function\n",
        "def tangent_line(x):\n",
        "    return dapprox * x + b\n",
        "\n",
        "# plotting the tengent line\n",
        "to_plot = [x1-0.9, x1+0.9]\n",
        "plt.plot(x, y)\n",
        "plt.plot(to_plot, [tangent_line(i) for i in to_plot])\n",
        "\n",
        "print('Approximate derivative for f(x)', \n",
        "      f'where x = {x1} is {dapprox}')\n",
        "plt.show()"
      ]
    },
    {
      "cell_type": "markdown",
      "id": "b3bbf8bb-e766-4060-9476-a3e21351339f",
      "metadata": {
        "id": "b3bbf8bb-e766-4060-9476-a3e21351339f"
      },
      "source": [
        "## Summary\n",
        "The derivative of a constant equals 0 (m is a constant in this case, as it's not a prameter that we are deriving with repect to , which is x in this example): `dm` / `dx` = `0`\\\n",
        "\\\n",
        "The derivative of x equal 1: `dx` / `dx` = `1`\\\n",
        "\\\n",
        "The derivative of a linear function equals its slope: `dmx + b` / `dx` = `m`\\\n",
        "\\\n",
        "The derivative of a constant multiple of the function equals the constant multiple of the function's derivative: `d[k * f(x)]` / `dx` = `k * df(x)` / `dx`\\\n",
        "\\\n",
        "The derivative of a sum of functions equals the sum of theor derivatives: `d[f(x) + g(x)]` / `dx` = `df(x)` / `dx`  + `d(gx)` / `dx`\\\n",
        "\\\n",
        "The derivative of an exponentiation: `dx**n` / `dx` = `n` * `x**n-1`"
      ]
    },
    {
      "cell_type": "markdown",
      "id": "0ec10450-165e-451e-9999-0220c5982020",
      "metadata": {
        "id": "0ec10450-165e-451e-9999-0220c5982020"
      },
      "source": [
        "[**Learn more about Calculus**](https://www.youtube.com/playlist?list=PLZHQObOWTQDMsr9K-rj53DwVRMYO3t5Yr) A Youtube playlist by **3blue1brown**"
      ]
    }
  ],
  "metadata": {
    "kernelspec": {
      "display_name": "torch110",
      "language": "python",
      "name": "torch110"
    },
    "language_info": {
      "codemirror_mode": {
        "name": "ipython",
        "version": 3
      },
      "file_extension": ".py",
      "mimetype": "text/x-python",
      "name": "python",
      "nbconvert_exporter": "python",
      "pygments_lexer": "ipython3",
      "version": "3.9.7"
    },
    "colab": {
      "name": "07_nnfs_derivatives.ipynb",
      "provenance": [],
      "include_colab_link": true
    }
  },
  "nbformat": 4,
  "nbformat_minor": 5
}