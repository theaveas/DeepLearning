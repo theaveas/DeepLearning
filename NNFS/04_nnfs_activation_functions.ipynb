{
  "cells": [
    {
      "cell_type": "markdown",
      "source": [
        "[![Open in Colab](https://img.shields.io/static/v1?label=&message=Open%20in%20Colab&labelColor=grey&color=blue&logo=google-colab)](https://colab.research.google.com/github/theaveas/DeepLearning/blob/main/NNFS/04_nnfs_activation_functions.ipynb#scrollTo=x96Asv5243q4)"
      ],
      "metadata": {
        "id": "x96Asv5243q4"
      },
      "id": "x96Asv5243q4"
    },
    {
      "cell_type": "markdown",
      "id": "9830cb44-2dd8-4fb6-a0cb-f238849efdfa",
      "metadata": {
        "id": "9830cb44-2dd8-4fb6-a0cb-f238849efdfa"
      },
      "source": [
        "# Activation Functions\n",
        "The activation function is applied to the output of a neuron (or layer of neurons), which modifies output. We use activation functions because if the activation function itself is nonlinear, it allows for neural netowrks with usually two or more hidden layers map nonlinear functions.\\\n",
        "\\\n",
        "There are two types of activation functions:\n",
        "   - activation functions used in hidden layers\n",
        "   - activation functions used in output layers"
      ]
    },
    {
      "cell_type": "code",
      "execution_count": null,
      "id": "6c078c01-7559-4f67-b1b4-ed117e76a0b8",
      "metadata": {
        "id": "6c078c01-7559-4f67-b1b4-ed117e76a0b8",
        "outputId": "5607aa2e-635f-4d67-db47-da3892f05fd2"
      },
      "outputs": [
        {
          "name": "stdout",
          "output_type": "stream",
          "text": [
            "3.9.7\n",
            "1.21.2\n",
            "3.5.0\n"
          ]
        }
      ],
      "source": [
        "import platform\n",
        "import numpy as np\n",
        "import matplotlib\n",
        "import matplotlib.pyplot as plt\n",
        "\n",
        "print(platform.python_version())\n",
        "print(np.__version__)\n",
        "print(matplotlib. __version__)\n",
        "\n",
        "#python version 3.9.7\n",
        "#numpy version 1.21.2\n",
        "#matplotlib version 3.5.0"
      ]
    },
    {
      "cell_type": "markdown",
      "id": "1f85f2f6-b79e-4d4b-82b2-75101a8dabe0",
      "metadata": {
        "id": "1f85f2f6-b79e-4d4b-82b2-75101a8dabe0"
      },
      "source": [
        "## The Step Activation Function\n",
        "Simple activation function that try to mimic a neuron `fire` or `not firing` based on input information."
      ]
    },
    {
      "cell_type": "code",
      "execution_count": null,
      "id": "99690444-5ea1-43fc-8667-4f4e525c75f7",
      "metadata": {
        "id": "99690444-5ea1-43fc-8667-4f4e525c75f7",
        "outputId": "f12c68a6-0d0f-4924-dcf2-c846876ee10f"
      },
      "outputs": [
        {
          "name": "stdout",
          "output_type": "stream",
          "text": [
            "1 0\n"
          ]
        }
      ],
      "source": [
        "# step activation function\n",
        "def activation_step(x):\n",
        "    if x > 0:\n",
        "        y = 1\n",
        "    else:\n",
        "        y = 0\n",
        "    \n",
        "    return y\n",
        "    \n",
        "y1 = activation_step(3)\n",
        "y2 = activation_step(-4)\n",
        "print(y1, y2)"
      ]
    },
    {
      "cell_type": "markdown",
      "id": "43c74b49-7f35-4249-9a59-751e39ea962c",
      "metadata": {
        "id": "43c74b49-7f35-4249-9a59-751e39ea962c"
      },
      "source": [
        "## The Linear Activation Function\n",
        "Is simply the equation of a line `y = wx + b`\\\n",
        "This activation function is usually applied to the last layer's ouput in the case of a regression model."
      ]
    },
    {
      "cell_type": "code",
      "execution_count": null,
      "id": "348ea3ce-bd17-41cf-a176-219e75b5f2fb",
      "metadata": {
        "id": "348ea3ce-bd17-41cf-a176-219e75b5f2fb",
        "outputId": "84073e65-8fd8-4e70-d126-c91e1d92f330"
      },
      "outputs": [
        {
          "name": "stdout",
          "output_type": "stream",
          "text": [
            "7\n"
          ]
        }
      ],
      "source": [
        "# linear activation function\n",
        "def activation_linear(x, w, b):\n",
        "    return w * x + b\n",
        "\n",
        "y1 = activation_linear(3, 2, 1)\n",
        "print(y1)"
      ]
    },
    {
      "cell_type": "markdown",
      "id": "80a60c72-b37c-40ed-96e9-930dd8355895",
      "metadata": {
        "id": "80a60c72-b37c-40ed-96e9-930dd8355895"
      },
      "source": [
        "## The Sigmoid Activation Function\n",
        "The original, more granular, than the step activation function `y = 1 / (1 + e^^-x)`\\\n",
        "This function return a value in the range of 0 for negative infinity, through 0.5 for the input of 0, and to 1 for positive infinity."
      ]
    },
    {
      "cell_type": "code",
      "execution_count": null,
      "id": "e3b7080d-0e9f-4f60-9c64-c19cc134b738",
      "metadata": {
        "id": "e3b7080d-0e9f-4f60-9c64-c19cc134b738",
        "outputId": "440aef2a-90ae-4ce8-d1b4-aacfab7adce5"
      },
      "outputs": [
        {
          "name": "stdout",
          "output_type": "stream",
          "text": [
            "0.9820137900379085\n"
          ]
        }
      ],
      "source": [
        "# sigmoid activation function\n",
        "def activation_sigmoid(x):\n",
        "    s = 1 / (1 + np.exp(-x))\n",
        "    \n",
        "    return s\n",
        "\n",
        "y1 = activation_sigmoid(4)\n",
        "print(y1)"
      ]
    },
    {
      "cell_type": "markdown",
      "id": "eae14421-e703-460a-a78d-776cb37f4e43",
      "metadata": {
        "id": "eae14421-e703-460a-a78d-776cb37f4e43"
      },
      "source": [
        "## The Rectified Linear Activation Function\n",
        "The `ReLU` activation function is simpler than the sigmoid, It's quite literally `y = x`, clipped at `0` from the negative side. `y = x if x > 0 else y = 0`"
      ]
    },
    {
      "cell_type": "code",
      "execution_count": null,
      "id": "2c565c93-056b-4923-934e-b6e76221c304",
      "metadata": {
        "id": "2c565c93-056b-4923-934e-b6e76221c304",
        "outputId": "0a87a4f5-a4ba-4814-c489-ff1362989eef"
      },
      "outputs": [
        {
          "name": "stdout",
          "output_type": "stream",
          "text": [
            "3.4 0\n"
          ]
        }
      ],
      "source": [
        "# relu activation function\n",
        "def activation_relu(x):\n",
        "    if x > 0:\n",
        "        y = x\n",
        "    elif x < 0:\n",
        "        y = 0\n",
        "    \n",
        "    return y\n",
        "\n",
        "y1 = activation_relu(3.4)\n",
        "y2 = activation_relu(-3)\n",
        "print(y1, y2)"
      ]
    },
    {
      "cell_type": "code",
      "execution_count": null,
      "id": "e5b2dafa-1ced-4585-8689-4325465521ea",
      "metadata": {
        "id": "e5b2dafa-1ced-4585-8689-4325465521ea",
        "outputId": "ff0c064e-0a80-480e-eb6c-d0f2c61ca5b6"
      },
      "outputs": [
        {
          "name": "stdout",
          "output_type": "stream",
          "text": [
            "[0, 2, 0, 3.3, 0, 1.1, 2.2, 0]\n"
          ]
        }
      ],
      "source": [
        "inputs = [0, 2, -1, 3.3, -2.7, 1.1, 2.2, -100]\n",
        "\n",
        "output = []\n",
        "for i in inputs:\n",
        "    output.append(max(0, i))\n",
        "\n",
        "print(output)"
      ]
    },
    {
      "cell_type": "markdown",
      "id": "5ebd2610-1f1a-4a27-9faf-dd9a804a54bb",
      "metadata": {
        "id": "5ebd2610-1f1a-4a27-9faf-dd9a804a54bb"
      },
      "source": [
        "## The Softmax Activation Function\n",
        "The softmax activation function is return confidence scores for each class and will add up to 1. `Sij = ezi,j / sum(ezi,j)`"
      ]
    },
    {
      "cell_type": "code",
      "execution_count": null,
      "id": "ebb36de3-1372-4bad-ad1f-7281d7460371",
      "metadata": {
        "id": "ebb36de3-1372-4bad-ad1f-7281d7460371",
        "outputId": "e4892ef2-d19c-46a4-fa8b-31faaf965726"
      },
      "outputs": [
        {
          "name": "stdout",
          "output_type": "stream",
          "text": [
            "[121.51041752   3.35348465  10.85906266]\n"
          ]
        }
      ],
      "source": [
        "# exponentiate the output, we do this with Euler's number \"e\"\n",
        "E = 2.71828182846     # E = math.e\n",
        "\n",
        "# values from the previous output\n",
        "layer_outputs = [4.8, 1.21, 2.385]\n",
        "\n",
        "# for each value in a vector, calc the exponential value\n",
        "exp_values = np.exp(layer_outputs)\n",
        "print(exp_values)"
      ]
    },
    {
      "cell_type": "markdown",
      "id": "f2344b2c-66f9-4c37-8746-9d7b49d68947",
      "metadata": {
        "id": "f2344b2c-66f9-4c37-8746-9d7b49d68947"
      },
      "source": [
        "The purpose of this exponentiatioin is to Get the probabilities of this outputs"
      ]
    },
    {
      "cell_type": "code",
      "execution_count": null,
      "id": "092dab19-db9f-491e-9581-3cdac1dc801d",
      "metadata": {
        "id": "092dab19-db9f-491e-9581-3cdac1dc801d",
        "outputId": "ff634df6-c1b1-4b50-d825-980fac7f0ab5"
      },
      "outputs": [
        {
          "name": "stdout",
          "output_type": "stream",
          "text": [
            "Normalized exponentiated values:  [0.89528266 0.02470831 0.08000903]\n"
          ]
        }
      ],
      "source": [
        "# calculate the norm probabilities \n",
        "# first normalize values\n",
        "norm_base = sum(exp_values)\n",
        "\n",
        "norm_values = exp_values / np.sum(exp_values)\n",
        "print('Normalized exponentiated values: ', norm_values)"
      ]
    },
    {
      "cell_type": "code",
      "execution_count": null,
      "id": "1c9f2099-451c-47b1-b8db-d9388ad68663",
      "metadata": {
        "id": "1c9f2099-451c-47b1-b8db-d9388ad68663",
        "outputId": "e1fb88d2-e834-40a3-fabd-0a1768328dd9"
      },
      "outputs": [
        {
          "name": "stdout",
          "output_type": "stream",
          "text": [
            "Note\n",
            "18.172\n",
            "We only need to add up the rows axis and keepdims\n",
            "[[8.395]\n",
            " [7.29 ]\n",
            " [2.487]]\n"
          ]
        }
      ],
      "source": [
        "layer_outputs = np.array([[4.8, 1.21, 2.385], \n",
        "                          [8.9, -1.81, 0.2], \n",
        "                          [1.41, 1.051, 0.026]])\n",
        "print('Note')\n",
        "print(np.sum(layer_outputs))\n",
        "\n",
        "print('We only need to add up the rows axis and keepdims')\n",
        "print(np.sum(layer_outputs, axis=1, keepdims=True))"
      ]
    },
    {
      "cell_type": "code",
      "execution_count": null,
      "id": "3f89e948-c691-482a-959a-ca7e9ea61973",
      "metadata": {
        "id": "3f89e948-c691-482a-959a-ca7e9ea61973",
        "outputId": "821bdb9a-35fa-46fe-fd28-e04bd9734434"
      },
      "outputs": [
        {
          "name": "stdout",
          "output_type": "stream",
          "text": [
            "[[8.95282664e-01 2.47083068e-02 8.00090293e-02]\n",
            " [9.99811129e-01 2.23163963e-05 1.66554348e-04]\n",
            " [5.13097164e-01 3.58333899e-01 1.28568936e-01]]\n"
          ]
        }
      ],
      "source": [
        "# get normalize probabilities\n",
        "probabilities = np.exp(layer_outputs)/np.sum(np.exp(layer_outputs), axis=1, keepdims=True)\n",
        "\n",
        "print(probabilities)"
      ]
    },
    {
      "cell_type": "markdown",
      "id": "6e3d6c24-e334-4026-bb94-4b15325824c4",
      "metadata": {
        "id": "6e3d6c24-e334-4026-bb94-4b15325824c4"
      },
      "source": [
        "## Why Use Activation Functions?\n",
        "In real world and real problems, there are a number of factors that come into play, that lead to make our model nonlinear.\\\n",
        "So use linear activation is just not going to work."
      ]
    },
    {
      "cell_type": "markdown",
      "id": "1ae8c4c6-254c-4565-ad8b-ad5a290a8dc7",
      "metadata": {
        "tags": [],
        "id": "1ae8c4c6-254c-4565-ad8b-ad5a290a8dc7"
      },
      "source": [
        "---\n",
        "## Our code so far"
      ]
    },
    {
      "cell_type": "code",
      "execution_count": null,
      "id": "8038def3-2641-418f-b1a3-1deee9846f8d",
      "metadata": {
        "id": "8038def3-2641-418f-b1a3-1deee9846f8d"
      },
      "outputs": [],
      "source": [
        "# import dataset \n",
        "import nnfs\n",
        "from nnfs.datasets import spiral_data\n",
        "\n",
        "# set random seed to 0, create float32 dtype, overrides the original dot product from Numpy\n",
        "nnfs.init()"
      ]
    },
    {
      "cell_type": "code",
      "execution_count": null,
      "id": "cd589ffb-e306-45df-a02b-8fbdf5d1b321",
      "metadata": {
        "id": "cd589ffb-e306-45df-a02b-8fbdf5d1b321"
      },
      "outputs": [],
      "source": [
        "class Dense:\n",
        "    def __init__(self, n_inputs, n_neurons):\n",
        "        \"\"\" Initialize the weights and biases of each neurons\n",
        "        n_inputs = number of input features\n",
        "        n_neurons = number of desired neurons\n",
        "        \"\"\"\n",
        "        # using np.random.randn and * 0.01 is to break the symetry of the neurons\n",
        "        self.weights = np.random.randn(n_inputs, n_neurons) * 0.01\n",
        "        # biases can be initialize as zeros\n",
        "        self.biases = np.zeros((1, n_neurons))\n",
        "    \n",
        "    def forward(self, inputs):\n",
        "        \"\"\" Calculate the output layer using The Dot product of input feature and weight plus bias\n",
        "        Input:\n",
        "        inputs = Training examples\n",
        "        \n",
        "        Output:\n",
        "        output = Output of the training example\n",
        "        \"\"\"\n",
        "        # calculate the output layer\n",
        "        output = np.dot(inputs, self.weights) + self.biases\n",
        "        \n",
        "        return output"
      ]
    },
    {
      "cell_type": "code",
      "execution_count": null,
      "id": "98b85654-e53f-4111-aa62-b0b8382cefc3",
      "metadata": {
        "id": "98b85654-e53f-4111-aa62-b0b8382cefc3"
      },
      "outputs": [],
      "source": [
        "# ReLU activation\n",
        "class Activation_ReLU:\n",
        "    def forward(self, inputs):\n",
        "        output = np.maximum(0, inputs)\n",
        "        \n",
        "        return output"
      ]
    },
    {
      "cell_type": "code",
      "execution_count": null,
      "id": "a9aeaec7-ec6b-45dd-95cf-0c437a9be431",
      "metadata": {
        "id": "a9aeaec7-ec6b-45dd-95cf-0c437a9be431"
      },
      "outputs": [],
      "source": [
        "# Sotfmax activation\n",
        "class Activation_Softmax:\n",
        "    def forward(self, inputs):\n",
        "        # input - np.max to prevent the exponential function from overflowing\n",
        "        exp_values = np.exp(inputs - np.max(inputs, axis=1, keepdims=True))\n",
        "        \n",
        "        softmax = exp_values / np.sum(exp_values, axis=1, keepdims=True)\n",
        "        return softmax"
      ]
    },
    {
      "cell_type": "code",
      "execution_count": null,
      "id": "88032b5e-a7e9-4143-9292-e82348476a83",
      "metadata": {
        "id": "88032b5e-a7e9-4143-9292-e82348476a83",
        "outputId": "71ddf607-9291-4f8d-c03a-23471aa66a9a"
      },
      "outputs": [
        {
          "name": "stdout",
          "output_type": "stream",
          "text": [
            "[[0.33333334 0.33333334 0.33333334]\n",
            " [0.3333426  0.3333311  0.3333263 ]\n",
            " [0.3333312  0.33334652 0.33332232]\n",
            " [0.3333701  0.33331457 0.33331534]\n",
            " [0.33336332 0.3333325  0.3333042 ]\n",
            " [0.33332846 0.3333662  0.3333054 ]\n",
            " [0.3333161  0.33336788 0.3333161 ]\n",
            " [0.33330995 0.33338007 0.33330995]\n",
            " [0.33344346 0.33326137 0.3332952 ]\n",
            " [0.33337983 0.3333532  0.33326694]]\n"
          ]
        }
      ],
      "source": [
        "# create dataset\n",
        "X, y = spiral_data(samples=100, classes=3)\n",
        "\n",
        "# create dense layer with 2 input features and 3 output values\n",
        "l1 = Dense(2, 3)\n",
        "a1 = Activation_ReLU()\n",
        "\n",
        "# create dense layer with 3 input features and 3 output values\n",
        "l2 = Dense(3, 3)\n",
        "a2 = Activation_Softmax()\n",
        "\n",
        "# forward pass through activation func\n",
        "yhat1 = a1.forward(l1.forward(X))\n",
        "yhat2 = a2.forward(yhat1)\n",
        "\n",
        "print(yhat2[:10])"
      ]
    }
  ],
  "metadata": {
    "kernelspec": {
      "display_name": "torch110",
      "language": "python",
      "name": "torch110"
    },
    "language_info": {
      "codemirror_mode": {
        "name": "ipython",
        "version": 3
      },
      "file_extension": ".py",
      "mimetype": "text/x-python",
      "name": "python",
      "nbconvert_exporter": "python",
      "pygments_lexer": "ipython3",
      "version": "3.9.7"
    },
    "colab": {
      "name": "04_nnfs_activation_functions.ipynb",
      "provenance": []
    }
  },
  "nbformat": 4,
  "nbformat_minor": 5
}