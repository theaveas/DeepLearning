{
 "cells": [
  {
   "cell_type": "markdown",
   "id": "a518c55d-a8a9-4c2a-a4f4-baed2744f1f5",
   "metadata": {},
   "source": [
    "# Introducing Neural Networks\n",
    "\n"
   ]
  },
  {
   "cell_type": "markdown",
   "id": "1000743f-7d2f-4835-9caa-5e9de477666b",
   "metadata": {},
   "source": [
    "- Different between **Supervised** and **Unsupervised** machine learning?\n",
    "    - **Supervised** machine learning is used when you have pre-established and labeled data that can be used for training.\n",
    "    - **Unsupervised** machine learning is a type of algorithm that learns patterns from untagged data.\n",
    "  \n",
    "\n",
    "- What is `features` and `labels`\"?\n",
    "    - **features:** a group of features makes up a feature set (represented as vectors/arrays), and the values of a feature set can be reffed to as a `sample` (training example)\n",
    "    - **labels:** also see these referred to as `targets` or `ground-truths`, simply put is a goal or a target we try to predict.\n"
   ]
  },
  {
   "cell_type": "markdown",
   "id": "5a242ce8-abc2-454e-87c6-486947b8e038",
   "metadata": {},
   "source": [
    "## What is Neural Network?\n",
    "- `Artificial` neural networks are inspired by the organic brain, translated to the computer. There are neurons, activations, and lots of interconnectivity, enven if the underlying processes are quite different.\n",
    "- Artificial neural networks **ANN** are a type of machine learning often conflated(combine) with deep learning. \n",
    "\n",
    "- It might seem rather complicated when you hear at this way. Let's break it down into three part `input layers` `hidden layers` and `output layers`\n",
    "    - `input layers` is the sample of features we input into the algorithm them\n",
    "    - `hidden layers` neurons that connected to each other that try to produces relationships and results that we desire\n",
    "    - `output layers` prediction output we try to predict\n",
    "    \n",
    "- When we input all the feature into neurons there are to factor we need to aware of:\n",
    "    - **weight:** use to control the slop of the line\n",
    "    - **bias:** use to offset the line\n",
    "    \n",
    "    We compare this two parameter just like a knob that we need to tweak in order to get the best outcome.\n",
    "    \n",
    "- So how `output layers` is calculated?\n",
    "    - yhat (our prediction value) = **weight * inputs_feature + bias** (linear activation)\n",
    "    \n",
    "- What is **Activation Function**?\n",
    "    - Back to our brain, how do we aware the things infront of us? There must be a neurons fire and light up and send the information from our eyes to our brain after processing send it back and tell us that was a cat.\n",
    "    - Same things as an activation function. It mimic a neuron in the brainm either firing or not -- like an on-off switch.\n",
    "\n",
    "- After we calculate our output from each layer.\n",
    "    - `output` = sum(**weight * inputs_feature + bias**) # why use sum? Because we input into multiple neurouns\n",
    "    - We usually apply an activation function to this output\n",
    "    - output = activation(`output`)\n",
    "    \n",
    "- So after we know which neurouns go through which is not how do we know how bad or good our model is. That when `Loss function` come in handy.\n",
    "    - There are a lot of loss function we can use but in this particular example we use `log loss function`\n",
    "\n",
    "- So far this process we call it **Forward Pass** or **Forward Propogation**\n",
    "- After that we need to find a way to optimize our loss, To do That we use the method call **Back Propogation**\n",
    "- And the process go-on until we reach a local minimum loss\n",
    "    "
   ]
  },
  {
   "cell_type": "markdown",
   "id": "877874ff-8567-48db-8874-30969cb4e3ae",
   "metadata": {},
   "source": [
    "### Conclusion\n",
    "This are a highly overview of neural networks. We will go through each process more detail in the next notebook."
   ]
  }
 ],
 "metadata": {
  "kernelspec": {
   "display_name": "torch110",
   "language": "python",
   "name": "torch110"
  },
  "language_info": {
   "codemirror_mode": {
    "name": "ipython",
    "version": 3
   },
   "file_extension": ".py",
   "mimetype": "text/x-python",
   "name": "python",
   "nbconvert_exporter": "python",
   "pygments_lexer": "ipython3",
   "version": "3.9.7"
  }
 },
 "nbformat": 4,
 "nbformat_minor": 5
}
