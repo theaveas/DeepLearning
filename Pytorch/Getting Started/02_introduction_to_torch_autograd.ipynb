{
 "cells": [
  {
   "cell_type": "markdown",
   "id": "7e701acc-41d8-4039-8300-29255879fa5e",
   "metadata": {},
   "source": [
    "# Introduction to `TORCH.AUTOGRAD`\n",
    "`torch.autograd` is pytorch's automatic differntiation engine that powes neural network training."
   ]
  },
  {
   "cell_type": "markdown",
   "id": "a3b34df2-5c91-4579-aa06-df0c1b426d79",
   "metadata": {
    "tags": []
   },
   "source": [
    "## Background\n",
    "Neural networks (NNs) are a collention of nested functions that are executed on some input data. These functions are defined by parameters (consisting of `weights` and `biases`)\\\n",
    "Training a NN happens in two steps:\\\n",
    "\\\n",
    "**Forward Propagation** In foward prop, the NN makes its best guess about the correct output. It runs the input data through each of its function to make the guess\\\n",
    "\\\n",
    "**Backward Propagation** In back prop, the NN adjusts it parameters propotionate to the erro in its guess. It does this by traversing backwards from the output, collecting the derivatives of the error with respect to the parameters of the function, and optimizing the parameters using `gradient descent`."
   ]
  },
  {
   "cell_type": "code",
   "execution_count": 5,
   "id": "83c68c18-9665-4db5-b1df-89c87e8212d4",
   "metadata": {},
   "outputs": [
    {
     "name": "stderr",
     "output_type": "stream",
     "text": [
      "Downloading: \"https://download.pytorch.org/models/resnet18-f37072fd.pth\" to /Users/theaveasso/.cache/torch/hub/checkpoints/resnet18-f37072fd.pth\n",
      "52.5%IOPub message rate exceeded.\n",
      "The Jupyter server will temporarily stop sending output\n",
      "to the client in order to avoid crashing it.\n",
      "To change this limit, set the config variable\n",
      "`--ServerApp.iopub_msg_rate_limit`.\n",
      "\n",
      "Current values:\n",
      "ServerApp.iopub_msg_rate_limit=1000.0 (msgs/sec)\n",
      "ServerApp.rate_limit_window=3.0 (secs)\n",
      "\n",
      "100.0%\n"
     ]
    }
   ],
   "source": [
    "import torch, torchvision\n",
    "model = torchvision.models.resnet18(pretrained=True)\n",
    "data = torch.rand(1, 3, 64, 64)\n",
    "labels = torch.rand(1, 1000)"
   ]
  },
  {
   "cell_type": "code",
   "execution_count": 15,
   "id": "b858ba99-6ea3-4c10-8741-1e703d861555",
   "metadata": {},
   "outputs": [],
   "source": [
    "# run the input data through the model through each of its layer to make prediction\n",
    "prediction = model(data)"
   ]
  },
  {
   "cell_type": "code",
   "execution_count": 16,
   "id": "60c09b72-fbcf-4e59-b44b-599776759e9a",
   "metadata": {},
   "outputs": [
    {
     "name": "stdout",
     "output_type": "stream",
     "text": [
      "tensor(-495.9272, grad_fn=<SumBackward0>)\n"
     ]
    }
   ],
   "source": [
    "# use model's prediction and the corresponding label to calc error.\n",
    "loss = (prediction - labels).sum()\n",
    "print(loss)\n",
    "\n",
    "# back prop this loss through the network\n",
    "# autograd then calculates and stores the gradient for each model parameters (wandb)\n",
    "loss.backward()"
   ]
  },
  {
   "cell_type": "code",
   "execution_count": 17,
   "id": "a9cb4eb9-c79b-45e4-a959-f1a55304dacb",
   "metadata": {},
   "outputs": [
    {
     "name": "stdout",
     "output_type": "stream",
     "text": [
      "SGD (\n",
      "Parameter Group 0\n",
      "    dampening: 0\n",
      "    lr: 0.1\n",
      "    momentum: 0.9\n",
      "    nesterov: False\n",
      "    weight_decay: 0\n",
      ")\n"
     ]
    }
   ],
   "source": [
    "# load an SGD optimizer, \n",
    "optim = torch.optim.SGD(model.parameters(), lr=0.1, momentum=0.9)\n",
    "print(optim)"
   ]
  },
  {
   "cell_type": "code",
   "execution_count": 21,
   "id": "6c6ba3df-a8b9-4436-b8b3-6b07cf6c59fa",
   "metadata": {},
   "outputs": [],
   "source": [
    "# step() initiate gradient descent\n",
    "optim.step()"
   ]
  }
 ],
 "metadata": {
  "kernelspec": {
   "display_name": "torch110",
   "language": "python",
   "name": "torch110"
  },
  "language_info": {
   "codemirror_mode": {
    "name": "ipython",
    "version": 3
   },
   "file_extension": ".py",
   "mimetype": "text/x-python",
   "name": "python",
   "nbconvert_exporter": "python",
   "pygments_lexer": "ipython3",
   "version": "3.9.7"
  }
 },
 "nbformat": 4,
 "nbformat_minor": 5
}
