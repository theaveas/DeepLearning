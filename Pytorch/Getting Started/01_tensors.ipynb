{
 "cells": [
  {
   "cell_type": "markdown",
   "id": "95e1280d-8ec9-4a8e-92d8-8b328c4f6e1f",
   "metadata": {},
   "source": [
    "# Tensors\n",
    "Tensors are a specialized data structure that are very similar to arrays and matrices."
   ]
  },
  {
   "cell_type": "code",
   "execution_count": 2,
   "id": "97547cf5-997d-4649-a8c1-db926b45969f",
   "metadata": {},
   "outputs": [],
   "source": [
    "# import libraries\n",
    "import torch\n",
    "import numpy as np"
   ]
  },
  {
   "cell_type": "markdown",
   "id": "13f0d499-5bd5-4b6c-bffc-e0a81544edd7",
   "metadata": {},
   "source": [
    "## Tensor initialization\n",
    "How to initialized tensor"
   ]
  },
  {
   "cell_type": "code",
   "execution_count": 6,
   "id": "6bbd9680-257d-4074-b67c-a81949e21250",
   "metadata": {},
   "outputs": [
    {
     "name": "stdout",
     "output_type": "stream",
     "text": [
      "tensor([[1, 2],\n",
      "        [3, 4]]) <class 'torch.Tensor'>\n"
     ]
    }
   ],
   "source": [
    "# directly from data\n",
    "data = [[1,2], [3,4]]\n",
    "x_data = torch.tensor(data)\n",
    "\n",
    "print(x_data, type(x_data))"
   ]
  },
  {
   "cell_type": "code",
   "execution_count": 7,
   "id": "f000a637-323b-471e-bc11-d9a9431772cd",
   "metadata": {},
   "outputs": [
    {
     "name": "stdout",
     "output_type": "stream",
     "text": [
      "tensor([[1, 2],\n",
      "        [3, 4]]) <class 'torch.Tensor'>\n"
     ]
    }
   ],
   "source": [
    "# from a numpy array\n",
    "np_array = np.array(data)\n",
    "x_np = torch.tensor(np_array)\n",
    "\n",
    "print(x_data, type(x_data))"
   ]
  },
  {
   "cell_type": "code",
   "execution_count": 11,
   "id": "d8d03bb5-6772-4e55-87e7-dc33a78dda8d",
   "metadata": {},
   "outputs": [
    {
     "name": "stdout",
     "output_type": "stream",
     "text": [
      "Zeros Tensor: \n",
      " tensor([[0, 0],\n",
      "        [0, 0]])\n",
      "Random Tensor: \n",
      " tensor([[0.1483, 0.4599],\n",
      "        [0.1456, 0.2741]])\n"
     ]
    }
   ],
   "source": [
    "# from another tensor\n",
    "x_ones = torch.zeros_like(x_data) # retains the properties of x_data\n",
    "print(f\"Zeros Tensor: \\n {x_ones}\")\n",
    "\n",
    "x_rand = torch.rand_like(x_data, dtype=torch.float) # overrides the datatypes of x_data\n",
    "print(f\"Random Tensor: \\n {x_rand}\")"
   ]
  },
  {
   "cell_type": "code",
   "execution_count": 17,
   "id": "e3691f3c-c2d9-49e7-92e3-3ea34bfbcb22",
   "metadata": {},
   "outputs": [
    {
     "name": "stdout",
     "output_type": "stream",
     "text": [
      "Random Tensor: \n",
      " tensor([[0.9689, 0.8185, 0.5480, 0.0340],\n",
      "        [0.1292, 0.2438, 0.2219, 0.3153],\n",
      "        [0.3384, 0.8916, 0.3431, 0.6742]]) \n",
      "\n",
      "Ones Tensor: \n",
      " tensor([[1., 1., 1., 1.],\n",
      "        [1., 1., 1., 1.],\n",
      "        [1., 1., 1., 1.]]) \n",
      "\n",
      "Zeros Tensor: \n",
      " tensor([[0., 0., 0., 0.],\n",
      "        [0., 0., 0., 0.],\n",
      "        [0., 0., 0., 0.]])\n"
     ]
    }
   ],
   "source": [
    "# with random or constant values\n",
    "shape = (3, 4)\n",
    "rand_tensor = torch.rand(shape)\n",
    "ones_tensor = torch.ones(shape)\n",
    "zeros_tensor = torch.zeros((3, 4))\n",
    "\n",
    "print(f\"Random Tensor: \\n {rand_tensor} \\n\")\n",
    "print(f\"Ones Tensor: \\n {ones_tensor} \\n\")\n",
    "print(f\"Zeros Tensor: \\n {zeros_tensor}\")"
   ]
  },
  {
   "cell_type": "markdown",
   "id": "39def827-6937-43ed-9365-dd6acaadd282",
   "metadata": {},
   "source": [
    "## Tensor Attributes\n",
    "Tensor attributes describe their shape, datatype, and the device on which they are stored"
   ]
  },
  {
   "cell_type": "code",
   "execution_count": 22,
   "id": "607c5a9e-215d-4909-bd1e-fb14003d3d34",
   "metadata": {},
   "outputs": [
    {
     "name": "stdout",
     "output_type": "stream",
     "text": [
      "Shape of tensor: torch.Size([2, 3])\n",
      "Datatype of tensor: torch.float32\n",
      "Device tensor is stored on: cpu\n"
     ]
    }
   ],
   "source": [
    "tensor = torch.zeros((2, 3,))\n",
    "\n",
    "print(f\"Shape of tensor: {tensor.shape}\")\n",
    "print(f\"Datatype of tensor: {tensor.dtype}\")\n",
    "print(f\"Device tensor is stored on: {tensor.device}\")"
   ]
  },
  {
   "cell_type": "markdown",
   "id": "289e4660-7430-41bc-b87b-5a5aeec193de",
   "metadata": {},
   "source": [
    "## Tensor Operations\n"
   ]
  },
  {
   "cell_type": "code",
   "execution_count": 84,
   "id": "46382bba-d25b-4a50-8afb-ded0912a6400",
   "metadata": {},
   "outputs": [
    {
     "name": "stdout",
     "output_type": "stream",
     "text": [
      "tensor([[1., 0., 0., 1.],\n",
      "        [1., 0., 0., 1.],\n",
      "        [1., 0., 0., 1.],\n",
      "        [1., 0., 0., 1.]])\n"
     ]
    }
   ],
   "source": [
    "# standard numpy-like indexing and slicing\n",
    "tensor = torch.ones(4, 4)\n",
    "tensor[:, [1, 2]] = 0\n",
    "\n",
    "print(tensor)"
   ]
  },
  {
   "cell_type": "code",
   "execution_count": 85,
   "id": "948f66b5-3108-4fbe-a664-67f6fd763266",
   "metadata": {},
   "outputs": [
    {
     "name": "stdout",
     "output_type": "stream",
     "text": [
      "tensor([[1., 0., 0., 1.],\n",
      "        [1., 0., 0., 1.],\n",
      "        [1., 0., 0., 1.],\n",
      "        [1., 0., 0., 1.],\n",
      "        [1., 0., 0., 1.],\n",
      "        [1., 0., 0., 1.],\n",
      "        [1., 0., 0., 1.],\n",
      "        [1., 0., 0., 1.]])\n"
     ]
    }
   ],
   "source": [
    "# joining tensors\n",
    "t1 = torch.cat([tensor, tensor], dim=0) # dim=0 joining rows, dim=1 joining columns\n",
    "print(t1)"
   ]
  },
  {
   "cell_type": "code",
   "execution_count": 86,
   "id": "38e461af-2366-40f8-97d5-a440434e2c2e",
   "metadata": {},
   "outputs": [
    {
     "name": "stdout",
     "output_type": "stream",
     "text": [
      "tensor.mul(tensor) \n",
      " tensor([[1., 0., 0., 1.],\n",
      "        [1., 0., 0., 1.],\n",
      "        [1., 0., 0., 1.],\n",
      "        [1., 0., 0., 1.]])\n"
     ]
    }
   ],
   "source": [
    "# multiplying tensors (element-wise product)\n",
    "print(f\"tensor.mul(tensor) \\n {tensor.mul(tensor)}\")"
   ]
  },
  {
   "cell_type": "code",
   "execution_count": 87,
   "id": "c9ad8610-3550-4231-843c-edeadf629e81",
   "metadata": {},
   "outputs": [
    {
     "name": "stdout",
     "output_type": "stream",
     "text": [
      "tensor.mul(tensor) \n",
      " tensor([[2., 2., 2., 2.],\n",
      "        [2., 2., 2., 2.],\n",
      "        [2., 2., 2., 2.],\n",
      "        [2., 2., 2., 2.]])\n",
      "tensor @ tensor.T \n",
      " tensor([[2., 2., 2., 2.],\n",
      "        [2., 2., 2., 2.],\n",
      "        [2., 2., 2., 2.],\n",
      "        [2., 2., 2., 2.]])\n"
     ]
    }
   ],
   "source": [
    "# matrix multiplication\n",
    "print(f\"tensor.mul(tensor) \\n {tensor.matmul(tensor.T)}\")\n",
    "\n",
    "# Alternative syntax:\n",
    "print(f\"tensor @ tensor.T \\n {tensor @ tensor.T}\")"
   ]
  },
  {
   "cell_type": "code",
   "execution_count": 88,
   "id": "60fe0ff2-6f03-4809-abc9-25a57bb5624b",
   "metadata": {},
   "outputs": [
    {
     "name": "stdout",
     "output_type": "stream",
     "text": [
      "tensor([[3., 2., 2., 3.],\n",
      "        [3., 2., 2., 3.],\n",
      "        [3., 2., 2., 3.],\n",
      "        [3., 2., 2., 3.]])\n"
     ]
    }
   ],
   "source": [
    "# in-place operations \n",
    "tensor.add_(2)\n",
    "print(tensor)"
   ]
  },
  {
   "cell_type": "markdown",
   "id": "9877db24-8516-4bbe-8fb9-ff323b193413",
   "metadata": {},
   "source": [
    "## Bridge with Numpy"
   ]
  },
  {
   "cell_type": "code",
   "execution_count": 91,
   "id": "da99bfc5-d7c6-4cc6-ae79-4c41d0123265",
   "metadata": {},
   "outputs": [
    {
     "name": "stdout",
     "output_type": "stream",
     "text": [
      "tensor([0., 0., 0., 0., 0.]) <class 'torch.Tensor'>\n",
      "[0. 0. 0. 0. 0.] <class 'numpy.ndarray'>\n"
     ]
    }
   ],
   "source": [
    "# tensor to numpy array\n",
    "t = torch.zeros(5,)\n",
    "print(t, type(t))\n",
    "n = t.numpy()\n",
    "print(n, type(n))"
   ]
  },
  {
   "cell_type": "code",
   "execution_count": 92,
   "id": "db600c93-5b22-415a-8919-2ac31f0ed5b2",
   "metadata": {},
   "outputs": [
    {
     "name": "stdout",
     "output_type": "stream",
     "text": [
      "[1. 1. 1. 1.] <class 'numpy.ndarray'>\n",
      "tensor([1., 1., 1., 1.], dtype=torch.float64)\n"
     ]
    }
   ],
   "source": [
    "# numpy array to tensor\n",
    "n = np.ones(4,)\n",
    "print(n, type(n))\n",
    "t = torch.from_numpy(n)\n",
    "print(t)"
   ]
  },
  {
   "cell_type": "code",
   "execution_count": 93,
   "id": "2036f8fe-38e1-446a-9682-3a1231d23b32",
   "metadata": {},
   "outputs": [
    {
     "name": "stdout",
     "output_type": "stream",
     "text": [
      "[3. 3. 3. 3.]\n",
      "tensor([3., 3., 3., 3.], dtype=torch.float64)\n"
     ]
    }
   ],
   "source": [
    "# change numpy array reflects in the tensor\n",
    "np.add(n, 2, out=n)\n",
    "print(n)\n",
    "print(t)"
   ]
  }
 ],
 "metadata": {
  "kernelspec": {
   "display_name": "torch110",
   "language": "python",
   "name": "torch110"
  },
  "language_info": {
   "codemirror_mode": {
    "name": "ipython",
    "version": 3
   },
   "file_extension": ".py",
   "mimetype": "text/x-python",
   "name": "python",
   "nbconvert_exporter": "python",
   "pygments_lexer": "ipython3",
   "version": "3.9.7"
  }
 },
 "nbformat": 4,
 "nbformat_minor": 5
}
