{
 "cells": [
  {
   "cell_type": "markdown",
   "id": "e48d2008-ec4c-4ee7-b6bf-325c27773698",
   "metadata": {},
   "source": [
    "# Music Generation with RNNs"
   ]
  },
  {
   "cell_type": "code",
   "execution_count": null,
   "id": "caf08854-2be1-43ac-8a67-06e61075d2d7",
   "metadata": {},
   "outputs": [],
   "source": []
  }
 ],
 "metadata": {
  "kernelspec": {
   "display_name": "one4all",
   "language": "python",
   "name": "one4all"
  },
  "language_info": {
   "codemirror_mode": {
    "name": "ipython",
    "version": 3
   },
   "file_extension": ".py",
   "mimetype": "text/x-python",
   "name": "python",
   "nbconvert_exporter": "python",
   "pygments_lexer": "ipython3",
   "version": "3.8.12"
  }
 },
 "nbformat": 4,
 "nbformat_minor": 5
}
