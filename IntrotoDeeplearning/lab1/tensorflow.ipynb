{
 "cells": [
  {
   "cell_type": "markdown",
   "id": "be60cb5f-d3d4-41e0-889f-1104e89f04f5",
   "metadata": {},
   "source": [
    "# Tensorflow"
   ]
  },
  {
   "cell_type": "code",
   "execution_count": 3,
   "id": "e76e13e0-ac3f-4060-a35a-ff82f9ce4b14",
   "metadata": {},
   "outputs": [],
   "source": [
    "# import\n",
    "import numpy as np\n",
    "import tensorflow as tf"
   ]
  },
  {
   "cell_type": "markdown",
   "id": "d6a3b292-b0ae-40b5-98b3-967cea367b18",
   "metadata": {},
   "source": [
    "0-d Tensors:"
   ]
  },
  {
   "cell_type": "code",
   "execution_count": 4,
   "id": "047fdb8e-241d-44ac-81b8-c758c0d487a1",
   "metadata": {},
   "outputs": [],
   "source": [
    "sport = tf.constant('Tennis', tf.string)\n",
    "pi = tf.constant(3.141592, tf.float64)"
   ]
  },
  {
   "cell_type": "code",
   "execution_count": 5,
   "id": "119360b0-7cca-4fd5-ae8e-e341d62f4b56",
   "metadata": {},
   "outputs": [
    {
     "name": "stdout",
     "output_type": "stream",
     "text": [
      "sport is a 0\n",
      "pi is a 0\n"
     ]
    }
   ],
   "source": [
    "print(f'sport is a {tf.rank(sport).numpy()}')\n",
    "print(f'pi is a {tf.rank(pi).numpy()}')"
   ]
  },
  {
   "cell_type": "markdown",
   "id": "eda49fd5-0687-4dd8-bf4c-d759839980f2",
   "metadata": {},
   "source": [
    "1-d Tensors:"
   ]
  },
  {
   "cell_type": "code",
   "execution_count": 6,
   "id": "05cbc192-db0d-45d9-9eca-d6007d28fc5d",
   "metadata": {},
   "outputs": [],
   "source": [
    "sports = tf.constant(['Tennis', 'Basketball'], tf.string)\n",
    "numbers = tf.constant([3.141592, 1.414213, 2.71821], tf.float64)"
   ]
  },
  {
   "cell_type": "code",
   "execution_count": 15,
   "id": "79844d1d-7bef-413c-b585-451d1746a65c",
   "metadata": {},
   "outputs": [
    {
     "name": "stdout",
     "output_type": "stream",
     "text": [
      "sport is a 1\n",
      "pi is a 1\n"
     ]
    }
   ],
   "source": [
    "print(f'sport is a {tf.rank(sports).numpy()}')\n",
    "print(f'pi is a {tf.rank(numbers).numpy()}')"
   ]
  },
  {
   "cell_type": "markdown",
   "id": "4bd3b177-7b68-4233-826e-a370bcaccb3a",
   "metadata": {},
   "source": [
    "## Computations on Tensors"
   ]
  },
  {
   "cell_type": "code",
   "execution_count": 16,
   "id": "e0470d5f-096d-4e24-883b-0c63ff1ae3a0",
   "metadata": {},
   "outputs": [],
   "source": [
    "a = tf.constant(27)\n",
    "b = tf.constant(32)"
   ]
  },
  {
   "cell_type": "markdown",
   "id": "455c0201-f447-42aa-9730-83e70bc7d785",
   "metadata": {},
   "source": [
    "Add"
   ]
  },
  {
   "cell_type": "code",
   "execution_count": 18,
   "id": "31a2248a-e3f2-47d6-adbb-31eb30fdb1b6",
   "metadata": {},
   "outputs": [
    {
     "name": "stdout",
     "output_type": "stream",
     "text": [
      "tf.Tensor(59, shape=(), dtype=int32)\n"
     ]
    }
   ],
   "source": [
    "c1 = tf.add(a, b)\n",
    "print(c1)"
   ]
  },
  {
   "cell_type": "code",
   "execution_count": 19,
   "id": "5dcf1681-a275-4d18-b593-fe8c07108d3a",
   "metadata": {},
   "outputs": [
    {
     "name": "stdout",
     "output_type": "stream",
     "text": [
      "tf.Tensor(59, shape=(), dtype=int32)\n"
     ]
    }
   ],
   "source": [
    "c2 = a + b\n",
    "print(c2)"
   ]
  },
  {
   "cell_type": "markdown",
   "id": "0fb1ee4a-29e1-4431-a914-d46e950143f2",
   "metadata": {},
   "source": [
    "Tensor computation"
   ]
  },
  {
   "cell_type": "code",
   "execution_count": 20,
   "id": "48c1bad6-a978-49e8-9b59-578094e10d7a",
   "metadata": {},
   "outputs": [],
   "source": [
    "def func(a, b):\n",
    "    return (a + b) * (b - 1)"
   ]
  },
  {
   "cell_type": "code",
   "execution_count": 21,
   "id": "70545a0a-956f-4ada-bb9b-1cd4255d467a",
   "metadata": {},
   "outputs": [
    {
     "name": "stdout",
     "output_type": "stream",
     "text": [
      "6.0\n"
     ]
    }
   ],
   "source": [
    "a, b = 1.5, 2.5\n",
    "c1 = func(a, b)\n",
    "print(c1)"
   ]
  },
  {
   "cell_type": "markdown",
   "id": "a8bf23c4-d72f-498c-ad52-0d4d74302de2",
   "metadata": {},
   "source": [
    "## Neural networks in TensorFlow"
   ]
  },
  {
   "cell_type": "code",
   "execution_count": 24,
   "id": "b422801f-c9c8-4521-a096-4739c94dc95e",
   "metadata": {},
   "outputs": [],
   "source": [
    "class Dense(tf.keras.layers.Layer):\n",
    "    def __init__(self, n_output_nodes):\n",
    "        super(Dense, self).__init__()\n",
    "        self.n_output_nodes = n_output_nodes\n",
    "        \n",
    "    def build(self, input_shape):\n",
    "        d = int(input_shape[-1])\n",
    "        # initialize parameters (weights and biases)\n",
    "        self.W = self.add_weight('weights', shape=[d, self.n_output_nodes])\n",
    "        self.b = self.add_weight('biases', shape=[1, self.n_output_nodes])\n",
    "        \n",
    "    def call(self, x):\n",
    "        z = tf.matmul(x, self.W) + b\n",
    "        \n",
    "        a = tf.sigmoid(z)\n",
    "        \n",
    "        return a"
   ]
  },
  {
   "cell_type": "code",
   "execution_count": 28,
   "id": "72f81b16-0d7c-42fa-a0ae-6d942abf4102",
   "metadata": {},
   "outputs": [
    {
     "name": "stdout",
     "output_type": "stream",
     "text": [
      "[[0.14959235 0.28079373]]\n"
     ]
    }
   ],
   "source": [
    "layer = Dense(2)\n",
    "layer.build((1, 3))\n",
    "x_input = tf.constant([[1., 2., 3.]], shape=(1, 3))\n",
    "y = layer.call(x_input)\n",
    "\n",
    "print(y.numpy())"
   ]
  },
  {
   "cell_type": "markdown",
   "id": "a0901d24-41d4-487c-98a8-cceddf8c3645",
   "metadata": {},
   "source": [
    "### Keras API"
   ]
  },
  {
   "cell_type": "code",
   "execution_count": 30,
   "id": "de2573db-13b7-4aa1-a973-6193e15323df",
   "metadata": {},
   "outputs": [],
   "source": [
    "# import\n",
    "from tensorflow.keras import Sequential\n",
    "from tensorflow.keras.layers import Dense"
   ]
  },
  {
   "cell_type": "markdown",
   "id": "aef93421-952a-499d-a783-251d4c8253e0",
   "metadata": {},
   "source": [
    "Sequential Model"
   ]
  },
  {
   "cell_type": "code",
   "execution_count": null,
   "id": "aef1d668-c78e-4c81-9cfe-97905f0de4a3",
   "metadata": {},
   "outputs": [],
   "source": [
    "# build model\n",
    "model = Sequential()\n",
    "model.add(Dense(units=3, activation='sigmoid'))"
   ]
  },
  {
   "cell_type": "code",
   "execution_count": 32,
   "id": "7af781f1-d4b3-45d2-990a-653e686900fb",
   "metadata": {},
   "outputs": [
    {
     "data": {
      "text/plain": [
       "<tf.Tensor: shape=(1, 3), dtype=float32, numpy=array([[0.4231848 , 0.20146888, 0.00948974]], dtype=float32)>"
      ]
     },
     "execution_count": 32,
     "metadata": {},
     "output_type": "execute_result"
    }
   ],
   "source": [
    "# predict\n",
    "model.call(x_input)"
   ]
  },
  {
   "cell_type": "markdown",
   "id": "b151f783-5e91-4dd7-b84d-ae1c89af10b1",
   "metadata": {},
   "source": [
    "Subclassing Model"
   ]
  },
  {
   "cell_type": "code",
   "execution_count": 35,
   "id": "d89b28ad-80c2-49fe-9552-4290aa2b0d7d",
   "metadata": {},
   "outputs": [],
   "source": [
    "class Model(tf.keras.Model):\n",
    "    def __init__(self, n_output_layers):\n",
    "        super(Model, self).__init__()\n",
    "        self.dense_layer = Dense(units=n_output_layers, activation='sigmoid')\n",
    "        \n",
    "    def call(self, inputs):\n",
    "        return self.dense_layer(inputs)"
   ]
  },
  {
   "cell_type": "code",
   "execution_count": 36,
   "id": "d80915e0-2d5f-44c5-abac-917a99c9352e",
   "metadata": {},
   "outputs": [
    {
     "data": {
      "text/plain": [
       "<tf.Tensor: shape=(1, 3), dtype=float32, numpy=array([[0.4231848 , 0.20146888, 0.00948974]], dtype=float32)>"
      ]
     },
     "execution_count": 36,
     "metadata": {},
     "output_type": "execute_result"
    }
   ],
   "source": [
    "# num of output layers\n",
    "n = 3\n",
    "model = Model(n)\n",
    "model.call(x_input)"
   ]
  },
  {
   "cell_type": "markdown",
   "id": "34cfcb39-976d-42c8-a6bc-0f3be552fb58",
   "metadata": {},
   "source": [
    "## Automatic differentiation in Tensorflow"
   ]
  },
  {
   "cell_type": "code",
   "execution_count": 39,
   "id": "6261b5f3-44ed-4c4a-87db-108d1c4941a7",
   "metadata": {},
   "outputs": [
    {
     "name": "stdout",
     "output_type": "stream",
     "text": [
      "tf.Tensor(8.0, shape=(), dtype=float32)\n"
     ]
    }
   ],
   "source": [
    "# y = x^2\n",
    "x = tf.Variable(4.0)\n",
    "\n",
    "with tf.GradientTape() as tape:\n",
    "    y = x * x\n",
    "\n",
    "dy_dx = tape.gradient(y, x)\n",
    "print(dy_dx)"
   ]
  },
  {
   "cell_type": "markdown",
   "id": "a04f3a24-9f28-47d3-b395-0e1b86621744",
   "metadata": {},
   "source": [
    "More about GradientTape"
   ]
  },
  {
   "cell_type": "code",
   "execution_count": 44,
   "id": "249b6a95-67e5-4221-9b9a-3aa5f7a0f047",
   "metadata": {},
   "outputs": [
    {
     "name": "stdout",
     "output_type": "stream",
     "text": [
      "Initializing x=[[-0.883817]]\n"
     ]
    }
   ],
   "source": [
    "x = tf.Variable([tf.random.normal([1])])\n",
    "print(\"Initializing x={}\".format(x.numpy()))\n",
    "\n",
    "# learning rate\n",
    "lr = 1e-2\n",
    "hist = []\n",
    "\n",
    "# target value\n",
    "x_f = 5\n",
    "\n",
    "# run SGD for a number of itr\n",
    "# compute the derivative of the loss with respect to x and perform the sgd update\n",
    "for i in range(500):\n",
    "    with tf.GradientTape() as tape:\n",
    "        loss = (x - x_f) * (x - x_f)\n",
    "        \n",
    "    grad = tape.gradient(loss, x)  # compute the derivative of the loss respect to x\n",
    "    new_x = x - lr * grad          # update \n",
    "    x.assign(new_x)\n",
    "    hist.append(x.numpy()[0])"
   ]
  },
  {
   "cell_type": "markdown",
   "id": "43e9f142-da53-4816-8d55-f20a12e7cb71",
   "metadata": {},
   "source": [
    "Visualize"
   ]
  },
  {
   "cell_type": "code",
   "execution_count": 45,
   "id": "14065a07-f5d5-4b66-a982-4f9719ee528a",
   "metadata": {},
   "outputs": [
    {
     "data": {
      "text/plain": [
       "Text(0, 0.5, 'x value')"
      ]
     },
     "execution_count": 45,
     "metadata": {},
     "output_type": "execute_result"
    },
    {
     "data": {
      "image/png": "[encoded data removed]",
      "text/plain": [
       "<Figure size 432x288 with 1 Axes>"
      ]
     },
     "metadata": {
      "needs_background": "light"
     },
     "output_type": "display_data"
    }
   ],
   "source": [
    "import matplotlib.pyplot as plt\n",
    "\n",
    "plt.plot(hist)\n",
    "plt.plot([0, 500], [x_f, x_f])\n",
    "plt.legend(('Predicted', 'True'))\n",
    "plt.xlabel('Iteration')\n",
    "plt.ylabel('x value')"
   ]
  },
  {
   "cell_type": "markdown",
   "id": "0cefc28f-dbe4-4151-919c-dbac9a86550f",
   "metadata": {},
   "source": [
    "Source: https://github.com/aamini/introtodeeplearning/"
   ]
  }
 ],
 "metadata": {
  "kernelspec": {
   "display_name": "one4all",
   "language": "python",
   "name": "one4all"
  },
  "language_info": {
   "codemirror_mode": {
    "name": "ipython",
    "version": 3
   },
   "file_extension": ".py",
   "mimetype": "text/x-python",
   "name": "python",
   "nbconvert_exporter": "python",
   "pygments_lexer": "ipython3",
   "version": "3.8.12"
  }
 },
 "nbformat": 4,
 "nbformat_minor": 5
}
